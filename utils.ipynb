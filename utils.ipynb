{
 "cells": [
  {
   "cell_type": "code",
   "metadata": {
    "tags": [],
    "cell_id": "ab4b4f97-619e-4fae-b910-8593c4c0a930",
    "deepnote_cell_type": "code",
    "deepnote_cell_height": 66
   },
   "source": "",
   "execution_count": null,
   "outputs": []
  },
  {
   "cell_type": "markdown",
   "source": "# Load and preprocess data(Feature Engineering using RF.ipynb)",
   "metadata": {
    "cell_id": "9839d7a1-3c11-4f95-bef0-6156585692a8",
    "tags": [],
    "deepnote_cell_type": "markdown",
    "deepnote_cell_height": 134
   }
  },
  {
   "cell_type": "code",
   "metadata": {
    "cell_id": "72b52d85-d3a5-49ba-857b-7b00e3f96a82",
    "tags": [],
    "deepnote_to_be_reexecuted": false,
    "source_hash": "e47315bf",
    "execution_start": 1643732433132,
    "execution_millis": 0,
    "deepnote_cell_type": "code",
    "deepnote_cell_height": 81
   },
   "source": "",
   "execution_count": null,
   "outputs": []
  },
  {
   "cell_type": "code",
   "metadata": {
    "cell_id": "389fa4fb-7490-47fd-a765-252b9ded3c55",
    "tags": [],
    "deepnote_to_be_reexecuted": false,
    "source_hash": "1521e817",
    "execution_start": 1643732981556,
    "execution_millis": 841,
    "deepnote_cell_type": "code",
    "deepnote_cell_height": 613.59375
   },
   "source": "",
   "execution_count": null,
   "outputs": [
    {
     "output_type": "execute_result",
     "execution_count": 30,
     "data": {
      "application/vnd.deepnote.dataframe.v3+json": {
       "column_count": 72,
       "row_count": 23856,
       "columns": [
        {
         "name": "Monthly rent payment",
         "dtype": "float64",
         "stats": {
          "unique_count": 248,
          "nan_count": 17403,
          "min": "-1.5167201507306425",
          "max": "25.793602062241305",
          "histogram": [
           {
            "bin_start": -1.5167201507306425,
            "bin_end": 1.2143120705665522,
            "count": 5418
           },
           {
            "bin_start": 1.2143120705665522,
            "bin_end": 3.945344291863747,
            "count": 890
           },
           {
            "bin_start": 3.945344291863747,
            "bin_end": 6.676376513160942,
            "count": 98
           },
           {
            "bin_start": 6.676376513160942,
            "bin_end": 9.407408734458137,
            "count": 40
           },
           {
            "bin_start": 9.407408734458137,
            "bin_end": 12.138440955755332,
            "count": 4
           },
           {
            "bin_start": 12.138440955755332,
            "bin_end": 14.869473177052527,
            "count": 0
           },
           {
            "bin_start": 14.869473177052527,
            "bin_end": 17.60050539834972,
            "count": 0
           },
           {
            "bin_start": 17.60050539834972,
            "bin_end": 20.331537619646916,
            "count": 0
           },
           {
            "bin_start": 20.331537619646916,
            "bin_end": 23.06256984094411,
            "count": 0
           },
           {
            "bin_start": 23.06256984094411,
            "bin_end": 25.793602062241305,
            "count": 3
           }
          ]
         }
        },
        {
         "name": "=1 Overcrowding by bedrooms",
         "dtype": "float64",
         "stats": {
          "unique_count": 2,
          "nan_count": 0,
          "min": "0.0",
          "max": "1.0",
          "histogram": [
           {
            "bin_start": 0,
            "bin_end": 0.1,
            "count": 22647
           },
           {
            "bin_start": 0.1,
            "bin_end": 0.2,
            "count": 0
           },
           {
            "bin_start": 0.2,
            "bin_end": 0.30000000000000004,
            "count": 0
           },
           {
            "bin_start": 0.30000000000000004,
            "bin_end": 0.4,
            "count": 0
           },
           {
            "bin_start": 0.4,
            "bin_end": 0.5,
            "count": 0
           },
           {
            "bin_start": 0.5,
            "bin_end": 0.6000000000000001,
            "count": 0
           },
           {
            "bin_start": 0.6000000000000001,
            "bin_end": 0.7000000000000001,
            "count": 0
           },
           {
            "bin_start": 0.7000000000000001,
            "bin_end": 0.8,
            "count": 0
           },
           {
            "bin_start": 0.8,
            "bin_end": 0.9,
            "count": 0
           },
           {
            "bin_start": 0.9,
            "bin_end": 1,
            "count": 1209
           }
          ]
         }
        },
        {
         "name": " number of all rooms in the house",
         "dtype": "float64",
         "stats": {
          "unique_count": 15,
          "nan_count": 0,
          "min": "0.0",
          "max": "1.4",
          "histogram": [
           {
            "bin_start": 0,
            "bin_end": 0.13999999999999999,
            "count": 794
           },
           {
            "bin_start": 0.13999999999999999,
            "bin_end": 0.27999999999999997,
            "count": 2313
           },
           {
            "bin_start": 0.27999999999999997,
            "bin_end": 0.41999999999999993,
            "count": 13654
           },
           {
            "bin_start": 0.41999999999999993,
            "bin_end": 0.5599999999999999,
            "count": 4015
           },
           {
            "bin_start": 0.5599999999999999,
            "bin_end": 0.7,
            "count": 1770
           },
           {
            "bin_start": 0.7,
            "bin_end": 0.8399999999999999,
            "count": 1065
           },
           {
            "bin_start": 0.8399999999999999,
            "bin_end": 0.9799999999999999,
            "count": 141
           },
           {
            "bin_start": 0.9799999999999999,
            "bin_end": 1.1199999999999999,
            "count": 74
           },
           {
            "bin_start": 1.1199999999999999,
            "bin_end": 1.2599999999999998,
            "count": 12
           },
           {
            "bin_start": 1.2599999999999998,
            "bin_end": 1.4,
            "count": 18
           }
          ]
         }
        },
        {
         "name": "=1 Overcrowding by rooms",
         "dtype": "float64",
         "stats": {
          "unique_count": 2,
          "nan_count": 0,
          "min": "0.0",
          "max": "1.0",
          "histogram": [
           {
            "bin_start": 0,
            "bin_end": 0.1,
            "count": 23178
           },
           {
            "bin_start": 0.1,
            "bin_end": 0.2,
            "count": 0
           },
           {
            "bin_start": 0.2,
            "bin_end": 0.30000000000000004,
            "count": 0
           },
           {
            "bin_start": 0.30000000000000004,
            "bin_end": 0.4,
            "count": 0
           },
           {
            "bin_start": 0.4,
            "bin_end": 0.5,
            "count": 0
           },
           {
            "bin_start": 0.5,
            "bin_end": 0.6000000000000001,
            "count": 0
           },
           {
            "bin_start": 0.6000000000000001,
            "bin_end": 0.7000000000000001,
            "count": 0
           },
           {
            "bin_start": 0.7000000000000001,
            "bin_end": 0.8,
            "count": 0
           },
           {
            "bin_start": 0.8,
            "bin_end": 0.9,
            "count": 0
           },
           {
            "bin_start": 0.9,
            "bin_end": 1,
            "count": 678
           }
          ]
         }
        },
        {
         "name": "=1 has toilet in the household",
         "dtype": "float64"
        },
        {
         "name": "=1 if the household has refrigerator",
         "dtype": "float64"
        },
        {
         "name": "owns a tablet",
         "dtype": "float64"
        },
        {
         "name": "number of tablets household owns",
         "dtype": "float64"
        },
        {
         "name": "Males younger than 12 years of age",
         "dtype": "float64"
        },
        {
         "name": "Males 12 years of age and older",
         "dtype": "float64"
        },
        {
         "name": "Total males in the household",
         "dtype": "float64"
        },
        {
         "name": "Females younger than 12 years of age",
         "dtype": "float64"
        },
        {
         "name": "Females 12 years of age and older",
         "dtype": "float64"
        },
        {
         "name": "Total females in the household",
         "dtype": "float64"
        },
        {
         "name": "persons younger than 12 years of age",
         "dtype": "float64"
        },
        {
         "name": "persons 12 years of age and older",
         "dtype": "float64"
        },
        {
         "name": "TamViv",
         "dtype": "float64"
        },
        {
         "name": "years of schooling",
         "dtype": "float64"
        },
        {
         "name": "Years behind in school",
         "dtype": "float64"
        },
        {
         "name": "household size",
         "dtype": "float64"
        },
        {
         "name": "=1 if disable person",
         "dtype": "float64"
        },
        {
         "name": "=1 if male",
         "dtype": "float64"
        },
        {
         "name": "=1 if female",
         "dtype": "float64"
        },
        {
         "name": "=1 if less than 10 years old",
         "dtype": "float64"
        },
        {
         "name": "=1 if free or coupled uunion",
         "dtype": "float64"
        },
        {
         "name": "=1 if married",
         "dtype": "float64"
        },
        {
         "name": "=1 if divorced",
         "dtype": "float64"
        },
        {
         "name": "=1 if separated",
         "dtype": "float64"
        },
        {
         "name": "=1 if widow/er",
         "dtype": "float64"
        },
        {
         "name": "=1 if single",
         "dtype": "float64"
        },
        {
         "name": "=1 if household head",
         "dtype": "float64"
        },
        {
         "name": "=1 if spouse/partner",
         "dtype": "float64"
        },
        {
         "name": "=1 if son/doughter",
         "dtype": "float64"
        },
        {
         "name": "=1 if stepson/doughter",
         "dtype": "float64"
        },
        {
         "name": "=1 if son/doughter in law",
         "dtype": "float64"
        },
        {
         "name": "=1 if grandson/doughter",
         "dtype": "float64"
        },
        {
         "name": "=1 if mother/father",
         "dtype": "float64"
        },
        {
         "name": "=1 if father/mother in law",
         "dtype": "float64"
        },
        {
         "name": "=1 if brother/sister",
         "dtype": "float64"
        },
        {
         "name": "=1 if brother/sister in law",
         "dtype": "float64"
        },
        {
         "name": "=1 if other family member",
         "dtype": "float64"
        },
        {
         "name": "=1 if other non family member",
         "dtype": "float64"
        },
        {
         "name": "Number of children 0 to 19 in household",
         "dtype": "float64"
        },
        {
         "name": "Number of adults in household",
         "dtype": "float64"
        },
        {
         "name": "# of individuals 65+ in the household",
         "dtype": "float64"
        },
        {
         "name": "Dependency rate",
         "dtype": "float64"
        },
        {
         "name": "years of education of male head of household",
         "dtype": "float64"
        },
        {
         "name": "years of education of female head of household",
         "dtype": "float64"
        },
        {
         "name": "average years of education for adults (18+)",
         "dtype": "float64"
        },
        {
         "name": "number of bedrooms",
         "dtype": "float64"
        },
        {
         "name": "# persons per room",
         "dtype": "float64"
        },
        {
         "name": "=1 other(assigned, borrowed)",
         "dtype": "float64"
        },
        {
         "name": "=1 if the household has notebook or desktop computer",
         "dtype": "float64"
        },
        {
         "name": "=1 if the household has TV",
         "dtype": "float64"
        },
        {
         "name": "=1 if mobile phone",
         "dtype": "float64"
        },
        {
         "name": "# of mobile phones",
         "dtype": "float64"
        },
        {
         "name": "=1 zona urbana",
         "dtype": "float64"
        },
        {
         "name": "Age in years",
         "dtype": "float64"
        },
        {
         "name": "walls",
         "dtype": "int64"
        },
        {
         "name": "roof",
         "dtype": "int64"
        },
        {
         "name": "floor",
         "dtype": "int64"
        },
        {
         "name": "Education level",
         "dtype": "int64"
        },
        {
         "name": "House Ownership",
         "dtype": "int64"
        },
        {
         "name": "Region ",
         "dtype": "int64"
        },
        {
         "name": "Rubbish Disposal",
         "dtype": "int64"
        },
        {
         "name": "Energy Usage",
         "dtype": "int64"
        },
        {
         "name": "Toilet Pipeline",
         "dtype": "int64"
        },
        {
         "name": "Outside Wall Material",
         "dtype": "int64"
        },
        {
         "name": "Floor Material",
         "dtype": "int64"
        },
        {
         "name": "Roof Material",
         "dtype": "int64"
        },
        {
         "name": "Water Provision",
         "dtype": "int64"
        },
        {
         "name": "Electricity Provision",
         "dtype": "int64"
        },
        {
         "name": "_deepnote_index_column",
         "dtype": "int64"
        }
       ],
       "rows": [
        {
         "Monthly rent payment": "nan",
         "=1 Overcrowding by bedrooms": 0,
         " number of all rooms in the house": 0.4,
         "=1 Overcrowding by rooms": 0,
         "=1 has toilet in the household": 1,
         "=1 if the household has refrigerator": 1,
         "owns a tablet": 0,
         "number of tablets household owns": "nan",
         "Males younger than 12 years of age": 0.2,
         "Males 12 years of age and older": 0.125,
         "Total males in the household": 0.25,
         "Females younger than 12 years of age": 0,
         "Females 12 years of age and older": 0.1666666666666666,
         "Total females in the household": 0.125,
         "persons younger than 12 years of age": 0.1428571428571428,
         "persons 12 years of age and older": 0.1,
         "TamViv": 0.1428571428571428,
         "years of schooling": 0,
         "Years behind in school": "nan",
         "household size": 0.1666666666666666,
         "=1 if disable person": 0,
         "=1 if male": 1,
         "=1 if female": 0,
         "=1 if less than 10 years old": 1,
         "=1 if free or coupled uunion": 0,
         "=1 if married": 0,
         "=1 if divorced": 0,
         "=1 if separated": 0,
         "=1 if widow/er": 0,
         "=1 if single": 0,
         "=1 if household head": 0,
         "=1 if spouse/partner": 0,
         "=1 if son/doughter": 1,
         "=1 if stepson/doughter": 0,
         "=1 if son/doughter in law": 0,
         "=1 if grandson/doughter": 0,
         "=1 if mother/father": 0,
         "=1 if father/mother in law": 0,
         "=1 if brother/sister": 0,
         "=1 if brother/sister in law": 0,
         "=1 if other family member": 0,
         "=1 if other non family member": 0,
         "Number of children 0 to 19 in household": 0.1111111111111111,
         "Number of adults in household": 0.2222222222222222,
         "# of individuals 65+ in the household": 0,
         "Dependency rate": 0.5,
         "years of education of male head of household": 0,
         "years of education of female head of household": 17,
         "average years of education for adults (18+)": 0.4459459459459459,
         "number of bedrooms": 0.1428571428571428,
         "# persons per room": 0.2241379310344827,
         "=1 other(assigned, borrowed)": 0,
         "=1 if the household has notebook or desktop computer": 1,
         "=1 if the household has TV": 0,
         "=1 if mobile phone": 1,
         "# of mobile phones": 0.2,
         "=1 zona urbana": 1,
         "Age in years": 0.0412371134020618,
         "walls": 2,
         "roof": 2,
         "floor": 2,
         "Education level": 0,
         "House Ownership": 0,
         "Region ": 0,
         "Rubbish Disposal": 0,
         "Energy Usage": 2,
         "Toilet Pipeline": 1,
         "Outside Wall Material": 0,
         "Floor Material": 0,
         "Roof Material": 0,
         "Water Provision": 0,
         "Electricity Provision": 0,
         "_deepnote_index_column": 0
        },
        {
         "Monthly rent payment": "nan",
         "=1 Overcrowding by bedrooms": 0,
         " number of all rooms in the house": 0.4,
         "=1 Overcrowding by rooms": 0,
         "=1 has toilet in the household": 1,
         "=1 if the household has refrigerator": 1,
         "owns a tablet": 0,
         "number of tablets household owns": "nan",
         "Males younger than 12 years of age": 0.2,
         "Males 12 years of age and older": 0.125,
         "Total males in the household": 0.25,
         "Females younger than 12 years of age": 0,
         "Females 12 years of age and older": 0.1666666666666666,
         "Total females in the household": 0.125,
         "persons younger than 12 years of age": 0.1428571428571428,
         "persons 12 years of age and older": 0.1,
         "TamViv": 0.1428571428571428,
         "years of schooling": 0.7619047619047619,
         "Years behind in school": "nan",
         "household size": 0.1666666666666666,
         "=1 if disable person": 0,
         "=1 if male": 1,
         "=1 if female": 0,
         "=1 if less than 10 years old": 0,
         "=1 if free or coupled uunion": 0,
         "=1 if married": 1,
         "=1 if divorced": 0,
         "=1 if separated": 0,
         "=1 if widow/er": 0,
         "=1 if single": 0,
         "=1 if household head": 0,
         "=1 if spouse/partner": 1,
         "=1 if son/doughter": 0,
         "=1 if stepson/doughter": 0,
         "=1 if son/doughter in law": 0,
         "=1 if grandson/doughter": 0,
         "=1 if mother/father": 0,
         "=1 if father/mother in law": 0,
         "=1 if brother/sister": 0,
         "=1 if brother/sister in law": 0,
         "=1 if other family member": 0,
         "=1 if other non family member": 0,
         "Number of children 0 to 19 in household": 0.1111111111111111,
         "Number of adults in household": 0.2222222222222222,
         "# of individuals 65+ in the household": 0,
         "Dependency rate": 0.5,
         "years of education of male head of household": 0,
         "years of education of female head of household": 17,
         "average years of education for adults (18+)": 0.4459459459459459,
         "number of bedrooms": 0.1428571428571428,
         "# persons per room": 0.2241379310344827,
         "=1 other(assigned, borrowed)": 0,
         "=1 if the household has notebook or desktop computer": 1,
         "=1 if the household has TV": 0,
         "=1 if mobile phone": 1,
         "# of mobile phones": 0.2,
         "=1 zona urbana": 1,
         "Age in years": 0.422680412371134,
         "walls": 2,
         "roof": 2,
         "floor": 2,
         "Education level": 7,
         "House Ownership": 0,
         "Region ": 0,
         "Rubbish Disposal": 0,
         "Energy Usage": 2,
         "Toilet Pipeline": 1,
         "Outside Wall Material": 0,
         "Floor Material": 0,
         "Roof Material": 0,
         "Water Provision": 0,
         "Electricity Provision": 0,
         "_deepnote_index_column": 1
        },
        {
         "Monthly rent payment": "nan",
         "=1 Overcrowding by bedrooms": 0,
         " number of all rooms in the house": 0.4,
         "=1 Overcrowding by rooms": 0,
         "=1 has toilet in the household": 1,
         "=1 if the household has refrigerator": 1,
         "owns a tablet": 0,
         "number of tablets household owns": "nan",
         "Males younger than 12 years of age": 0.2,
         "Males 12 years of age and older": 0.125,
         "Total males in the household": 0.25,
         "Females younger than 12 years of age": 0,
         "Females 12 years of age and older": 0.1666666666666666,
         "Total females in the household": 0.125,
         "persons younger than 12 years of age": 0.1428571428571428,
         "persons 12 years of age and older": 0.1,
         "TamViv": 0.1428571428571428,
         "years of schooling": 0.8095238095238095,
         "Years behind in school": "nan",
         "household size": 0.1666666666666666,
         "=1 if disable person": 0,
         "=1 if male": 0,
         "=1 if female": 1,
         "=1 if less than 10 years old": 0,
         "=1 if free or coupled uunion": 0,
         "=1 if married": 1,
         "=1 if divorced": 0,
         "=1 if separated": 0,
         "=1 if widow/er": 0,
         "=1 if single": 0,
         "=1 if household head": 1,
         "=1 if spouse/partner": 0,
         "=1 if son/doughter": 0,
         "=1 if stepson/doughter": 0,
         "=1 if son/doughter in law": 0,
         "=1 if grandson/doughter": 0,
         "=1 if mother/father": 0,
         "=1 if father/mother in law": 0,
         "=1 if brother/sister": 0,
         "=1 if brother/sister in law": 0,
         "=1 if other family member": 0,
         "=1 if other non family member": 0,
         "Number of children 0 to 19 in household": 0.1111111111111111,
         "Number of adults in household": 0.2222222222222222,
         "# of individuals 65+ in the household": 0,
         "Dependency rate": 0.5,
         "years of education of male head of household": 0,
         "years of education of female head of household": 17,
         "average years of education for adults (18+)": 0.4459459459459459,
         "number of bedrooms": 0.1428571428571428,
         "# persons per room": 0.2241379310344827,
         "=1 other(assigned, borrowed)": 0,
         "=1 if the household has notebook or desktop computer": 1,
         "=1 if the household has TV": 0,
         "=1 if mobile phone": 1,
         "# of mobile phones": 0.2,
         "=1 zona urbana": 1,
         "Age in years": 0.422680412371134,
         "walls": 2,
         "roof": 2,
         "floor": 2,
         "Education level": 8,
         "House Ownership": 0,
         "Region ": 0,
         "Rubbish Disposal": 0,
         "Energy Usage": 2,
         "Toilet Pipeline": 1,
         "Outside Wall Material": 0,
         "Floor Material": 0,
         "Roof Material": 0,
         "Water Provision": 0,
         "Electricity Provision": 0,
         "_deepnote_index_column": 2
        },
        {
         "Monthly rent payment": "nan",
         "=1 Overcrowding by bedrooms": 0,
         " number of all rooms in the house": 1.3,
         "=1 Overcrowding by rooms": 0,
         "=1 has toilet in the household": 1,
         "=1 if the household has refrigerator": 1,
         "owns a tablet": 1,
         "number of tablets household owns": 0,
         "Males younger than 12 years of age": 0,
         "Males 12 years of age and older": 0.125,
         "Total males in the household": 0.125,
         "Females younger than 12 years of age": 0,
         "Females 12 years of age and older": 0,
         "Total females in the household": 0,
         "persons younger than 12 years of age": 0,
         "persons 12 years of age and older": 0,
         "TamViv": 0,
         "years of schooling": 0.7619047619047619,
         "Years behind in school": "nan",
         "household size": 0,
         "=1 if disable person": 0,
         "=1 if male": 1,
         "=1 if female": 0,
         "=1 if less than 10 years old": 0,
         "=1 if free or coupled uunion": 0,
         "=1 if married": 0,
         "=1 if divorced": 0,
         "=1 if separated": 1,
         "=1 if widow/er": 0,
         "=1 if single": 0,
         "=1 if household head": 1,
         "=1 if spouse/partner": 0,
         "=1 if son/doughter": 0,
         "=1 if stepson/doughter": 0,
         "=1 if son/doughter in law": 0,
         "=1 if grandson/doughter": 0,
         "=1 if mother/father": 0,
         "=1 if father/mother in law": 0,
         "=1 if brother/sister": 0,
         "=1 if brother/sister in law": 0,
         "=1 if other family member": 0,
         "=1 if other non family member": 0,
         "Number of children 0 to 19 in household": 0,
         "Number of adults in household": 0.1111111111111111,
         "# of individuals 65+ in the household": 0,
         "Dependency rate": 0,
         "years of education of male head of household": 16,
         "years of education of female head of household": 0,
         "average years of education for adults (18+)": 0.4324324324324324,
         "number of bedrooms": 0,
         "# persons per room": 0.1379310344827586,
         "=1 other(assigned, borrowed)": 0,
         "=1 if the household has notebook or desktop computer": 1,
         "=1 if the household has TV": 0,
         "=1 if mobile phone": 1,
         "# of mobile phones": 0.2,
         "=1 zona urbana": 1,
         "Age in years": 0.6082474226804123,
         "walls": 2,
         "roof": 2,
         "floor": 2,
         "Education level": 7,
         "House Ownership": 0,
         "Region ": 0,
         "Rubbish Disposal": 0,
         "Energy Usage": 1,
         "Toilet Pipeline": 1,
         "Outside Wall Material": 0,
         "Floor Material": 0,
         "Roof Material": 0,
         "Water Provision": 0,
         "Electricity Provision": 0,
         "_deepnote_index_column": 3
        },
        {
         "Monthly rent payment": 0.1586422733833865,
         "=1 Overcrowding by bedrooms": 0,
         " number of all rooms in the house": 0.3,
         "=1 Overcrowding by rooms": 0,
         "=1 has toilet in the household": 1,
         "=1 if the household has refrigerator": 1,
         "owns a tablet": 1,
         "number of tablets household owns": 0,
         "Males younger than 12 years of age": 0,
         "Males 12 years of age and older": 0,
         "Total males in the household": 0,
         "Females younger than 12 years of age": 0,
         "Females 12 years of age and older": 0.1666666666666666,
         "Total females in the household": 0.125,
         "persons younger than 12 years of age": 0,
         "persons 12 years of age and older": 0,
         "TamViv": 0,
         "years of schooling": 0.5238095238095237,
         "Years behind in school": "nan",
         "household size": 0,
         "=1 if disable person": 0,
         "=1 if male": 0,
         "=1 if female": 1,
         "=1 if less than 10 years old": 0,
         "=1 if free or coupled uunion": 0,
         "=1 if married": 0,
         "=1 if divorced": 0,
         "=1 if separated": 0,
         "=1 if widow/er": 0,
         "=1 if single": 1,
         "=1 if household head": 1,
         "=1 if spouse/partner": 0,
         "=1 if son/doughter": 0,
         "=1 if stepson/doughter": 0,
         "=1 if son/doughter in law": 0,
         "=1 if grandson/doughter": 0,
         "=1 if mother/father": 0,
         "=1 if father/mother in law": 0,
         "=1 if brother/sister": 0,
         "=1 if brother/sister in law": 0,
         "=1 if other family member": 0,
         "=1 if other non family member": 0,
         "Number of children 0 to 19 in household": 0.1111111111111111,
         "Number of adults in household": 0,
         "# of individuals 65+ in the household": 0,
         "Dependency rate": 8,
         "years of education of male head of household": 0,
         "years of education of female head of household": 11,
         "average years of education for adults (18+)": "nan",
         "number of bedrooms": 0.1428571428571428,
         "# persons per room": 0.0517241379310344,
         "=1 other(assigned, borrowed)": 0,
         "=1 if the household has notebook or desktop computer": 0,
         "=1 if the household has TV": 0,
         "=1 if mobile phone": 1,
         "# of mobile phones": 0.1,
         "=1 zona urbana": 1,
         "Age in years": 0.1855670103092783,
         "walls": 1,
         "roof": 2,
         "floor": 2,
         "Education level": 4,
         "House Ownership": 2,
         "Region ": 0,
         "Rubbish Disposal": 0,
         "Energy Usage": 1,
         "Toilet Pipeline": 1,
         "Outside Wall Material": 0,
         "Floor Material": 0,
         "Roof Material": 0,
         "Water Provision": 0,
         "Electricity Provision": 0,
         "_deepnote_index_column": 4
        },
        {
         "Monthly rent payment": 2.3126796758157093,
         "=1 Overcrowding by bedrooms": 0,
         " number of all rooms in the house": 0.2,
         "=1 Overcrowding by rooms": 0,
         "=1 has toilet in the household": 1,
         "=1 if the household has refrigerator": 1,
         "owns a tablet": 1,
         "number of tablets household owns": 0,
         "Males younger than 12 years of age": 0,
         "Males 12 years of age and older": 0,
         "Total males in the household": 0,
         "Females younger than 12 years of age": 0,
         "Females 12 years of age and older": 0.3333333333333333,
         "Total females in the household": 0.25,
         "persons younger than 12 years of age": 0,
         "persons 12 years of age and older": 0.1,
         "TamViv": 0.0714285714285714,
         "years of schooling": 0.7619047619047619,
         "Years behind in school": "nan",
         "household size": 0.0833333333333333,
         "=1 if disable person": 0,
         "=1 if male": 0,
         "=1 if female": 1,
         "=1 if less than 10 years old": 0,
         "=1 if free or coupled uunion": 0,
         "=1 if married": 0,
         "=1 if divorced": 0,
         "=1 if separated": 0,
         "=1 if widow/er": 0,
         "=1 if single": 1,
         "=1 if household head": 0,
         "=1 if spouse/partner": 0,
         "=1 if son/doughter": 0,
         "=1 if stepson/doughter": 0,
         "=1 if son/doughter in law": 0,
         "=1 if grandson/doughter": 0,
         "=1 if mother/father": 0,
         "=1 if father/mother in law": 0,
         "=1 if brother/sister": 0,
         "=1 if brother/sister in law": 0,
         "=1 if other family member": 0,
         "=1 if other non family member": 1,
         "Number of children 0 to 19 in household": 0,
         "Number of adults in household": 0.2222222222222222,
         "# of individuals 65+ in the household": 0,
         "Dependency rate": 0,
         "years of education of male head of household": 0,
         "years of education of female head of household": 11,
         "average years of education for adults (18+)": 0.3648648648648649,
         "number of bedrooms": 0.1428571428571428,
         "# persons per room": 0.1379310344827586,
         "=1 other(assigned, borrowed)": 0,
         "=1 if the household has notebook or desktop computer": 1,
         "=1 if the household has TV": 0,
         "=1 if mobile phone": 1,
         "# of mobile phones": 0.1,
         "=1 zona urbana": 1,
         "Age in years": 0.3917525773195876,
         "walls": 1,
         "roof": 1,
         "floor": 2,
         "Education level": 7,
         "House Ownership": 1,
         "Region ": 0,
         "Rubbish Disposal": 0,
         "Energy Usage": 1,
         "Toilet Pipeline": 1,
         "Outside Wall Material": 0,
         "Floor Material": 5,
         "Roof Material": 0,
         "Water Provision": 0,
         "Electricity Provision": 0,
         "_deepnote_index_column": 5
        },
        {
         "Monthly rent payment": 2.3126796758157093,
         "=1 Overcrowding by bedrooms": 0,
         " number of all rooms in the house": 0.2,
         "=1 Overcrowding by rooms": 0,
         "=1 has toilet in the household": 1,
         "=1 if the household has refrigerator": 1,
         "owns a tablet": 1,
         "number of tablets household owns": 0,
         "Males younger than 12 years of age": 0,
         "Males 12 years of age and older": 0,
         "Total males in the household": 0,
         "Females younger than 12 years of age": 0,
         "Females 12 years of age and older": 0.3333333333333333,
         "Total females in the household": 0.25,
         "persons younger than 12 years of age": 0,
         "persons 12 years of age and older": 0.1,
         "TamViv": 0.0714285714285714,
         "years of schooling": 0.5238095238095237,
         "Years behind in school": "nan",
         "household size": 0.0833333333333333,
         "=1 if disable person": 0,
         "=1 if male": 0,
         "=1 if female": 1,
         "=1 if less than 10 years old": 0,
         "=1 if free or coupled uunion": 0,
         "=1 if married": 0,
         "=1 if divorced": 0,
         "=1 if separated": 0,
         "=1 if widow/er": 0,
         "=1 if single": 1,
         "=1 if household head": 1,
         "=1 if spouse/partner": 0,
         "=1 if son/doughter": 0,
         "=1 if stepson/doughter": 0,
         "=1 if son/doughter in law": 0,
         "=1 if grandson/doughter": 0,
         "=1 if mother/father": 0,
         "=1 if father/mother in law": 0,
         "=1 if brother/sister": 0,
         "=1 if brother/sister in law": 0,
         "=1 if other family member": 0,
         "=1 if other non family member": 0,
         "Number of children 0 to 19 in household": 0,
         "Number of adults in household": 0.2222222222222222,
         "# of individuals 65+ in the household": 0,
         "Dependency rate": 0,
         "years of education of male head of household": 0,
         "years of education of female head of household": 11,
         "average years of education for adults (18+)": 0.3648648648648649,
         "number of bedrooms": 0.1428571428571428,
         "# persons per room": 0.1379310344827586,
         "=1 other(assigned, borrowed)": 0,
         "=1 if the household has notebook or desktop computer": 1,
         "=1 if the household has TV": 0,
         "=1 if mobile phone": 1,
         "# of mobile phones": 0.1,
         "=1 zona urbana": 1,
         "Age in years": 0.4329896907216495,
         "walls": 1,
         "roof": 1,
         "floor": 2,
         "Education level": 4,
         "House Ownership": 1,
         "Region ": 0,
         "Rubbish Disposal": 0,
         "Energy Usage": 1,
         "Toilet Pipeline": 1,
         "Outside Wall Material": 0,
         "Floor Material": 5,
         "Roof Material": 0,
         "Water Provision": 0,
         "Electricity Provision": 0,
         "_deepnote_index_column": 6
        },
        {
         "Monthly rent payment": 1.3553297191791216,
         "=1 Overcrowding by bedrooms": 0,
         " number of all rooms in the house": 0.5000000000000001,
         "=1 Overcrowding by rooms": 0,
         "=1 has toilet in the household": 1,
         "=1 if the household has refrigerator": 1,
         "owns a tablet": 1,
         "number of tablets household owns": 0,
         "Males younger than 12 years of age": 0,
         "Males 12 years of age and older": 0,
         "Total males in the household": 0,
         "Females younger than 12 years of age": 0,
         "Females 12 years of age and older": 0.3333333333333333,
         "Total females in the household": 0.25,
         "persons younger than 12 years of age": 0,
         "persons 12 years of age and older": 0.1,
         "TamViv": 0.0714285714285714,
         "years of schooling": 0.6666666666666666,
         "Years behind in school": "nan",
         "household size": 0.0833333333333333,
         "=1 if disable person": 0,
         "=1 if male": 0,
         "=1 if female": 1,
         "=1 if less than 10 years old": 0,
         "=1 if free or coupled uunion": 0,
         "=1 if married": 0,
         "=1 if divorced": 0,
         "=1 if separated": 0,
         "=1 if widow/er": 0,
         "=1 if single": 1,
         "=1 if household head": 0,
         "=1 if spouse/partner": 0,
         "=1 if son/doughter": 0,
         "=1 if stepson/doughter": 0,
         "=1 if son/doughter in law": 0,
         "=1 if grandson/doughter": 0,
         "=1 if mother/father": 0,
         "=1 if father/mother in law": 0,
         "=1 if brother/sister": 0,
         "=1 if brother/sister in law": 0,
         "=1 if other family member": 1,
         "=1 if other non family member": 0,
         "Number of children 0 to 19 in household": 0,
         "Number of adults in household": 0.2222222222222222,
         "# of individuals 65+ in the household": 0,
         "Dependency rate": 0,
         "years of education of male head of household": 0,
         "years of education of female head of household": 14,
         "average years of education for adults (18+)": 0.3783783783783784,
         "number of bedrooms": 0.4285714285714285,
         "# persons per room": 0.0517241379310344,
         "=1 other(assigned, borrowed)": 0,
         "=1 if the household has notebook or desktop computer": 0,
         "=1 if the household has TV": 0,
         "=1 if mobile phone": 1,
         "# of mobile phones": 0.2,
         "=1 zona urbana": 1,
         "Age in years": 0.2164948453608247,
         "walls": 2,
         "roof": 2,
         "floor": 2,
         "Education level": 7,
         "House Ownership": 2,
         "Region ": 0,
         "Rubbish Disposal": 0,
         "Energy Usage": 2,
         "Toilet Pipeline": 2,
         "Outside Wall Material": 0,
         "Floor Material": 0,
         "Roof Material": 1,
         "Water Provision": 0,
         "Electricity Provision": 0,
         "_deepnote_index_column": 7
        },
        {
         "Monthly rent payment": 1.3553297191791216,
         "=1 Overcrowding by bedrooms": 0,
         " number of all rooms in the house": 0.5000000000000001,
         "=1 Overcrowding by rooms": 0,
         "=1 has toilet in the household": 1,
         "=1 if the household has refrigerator": 1,
         "owns a tablet": 1,
         "number of tablets household owns": 0,
         "Males younger than 12 years of age": 0,
         "Males 12 years of age and older": 0,
         "Total males in the household": 0,
         "Females younger than 12 years of age": 0,
         "Females 12 years of age and older": 0.3333333333333333,
         "Total females in the household": 0.25,
         "persons younger than 12 years of age": 0,
         "persons 12 years of age and older": 0.1,
         "TamViv": 0.0714285714285714,
         "years of schooling": 0.6666666666666666,
         "Years behind in school": "nan",
         "household size": 0.0833333333333333,
         "=1 if disable person": 0,
         "=1 if male": 0,
         "=1 if female": 1,
         "=1 if less than 10 years old": 0,
         "=1 if free or coupled uunion": 0,
         "=1 if married": 0,
         "=1 if divorced": 0,
         "=1 if separated": 0,
         "=1 if widow/er": 0,
         "=1 if single": 1,
         "=1 if household head": 1,
         "=1 if spouse/partner": 0,
         "=1 if son/doughter": 0,
         "=1 if stepson/doughter": 0,
         "=1 if son/doughter in law": 0,
         "=1 if grandson/doughter": 0,
         "=1 if mother/father": 0,
         "=1 if father/mother in law": 0,
         "=1 if brother/sister": 0,
         "=1 if brother/sister in law": 0,
         "=1 if other family member": 0,
         "=1 if other non family member": 0,
         "Number of children 0 to 19 in household": 0,
         "Number of adults in household": 0.2222222222222222,
         "# of individuals 65+ in the household": 0,
         "Dependency rate": 0,
         "years of education of male head of household": 0,
         "years of education of female head of household": 14,
         "average years of education for adults (18+)": 0.3783783783783784,
         "number of bedrooms": 0.4285714285714285,
         "# persons per room": 0.0517241379310344,
         "=1 other(assigned, borrowed)": 0,
         "=1 if the household has notebook or desktop computer": 0,
         "=1 if the household has TV": 0,
         "=1 if mobile phone": 1,
         "# of mobile phones": 0.2,
         "=1 zona urbana": 1,
         "Age in years": 0.2268041237113402,
         "walls": 2,
         "roof": 2,
         "floor": 2,
         "Education level": 7,
         "House Ownership": 2,
         "Region ": 0,
         "Rubbish Disposal": 0,
         "Energy Usage": 2,
         "Toilet Pipeline": 2,
         "Outside Wall Material": 0,
         "Floor Material": 0,
         "Roof Material": 1,
         "Water Provision": 0,
         "Electricity Provision": 0,
         "_deepnote_index_column": 8
        },
        {
         "Monthly rent payment": "nan",
         "=1 Overcrowding by bedrooms": 0,
         " number of all rooms in the house": 0.5000000000000001,
         "=1 Overcrowding by rooms": 0,
         "=1 has toilet in the household": 1,
         "=1 if the household has refrigerator": 1,
         "owns a tablet": 0,
         "number of tablets household owns": "nan",
         "Males younger than 12 years of age": 0,
         "Males 12 years of age and older": 0,
         "Total males in the household": 0,
         "Females younger than 12 years of age": 0,
         "Females 12 years of age and older": 0.1666666666666666,
         "Total females in the household": 0.125,
         "persons younger than 12 years of age": 0,
         "persons 12 years of age and older": 0,
         "TamViv": 0,
         "years of schooling": 0.4761904761904761,
         "Years behind in school": "nan",
         "household size": 0,
         "=1 if disable person": 0,
         "=1 if male": 0,
         "=1 if female": 1,
         "=1 if less than 10 years old": 0,
         "=1 if free or coupled uunion": 0,
         "=1 if married": 0,
         "=1 if divorced": 0,
         "=1 if separated": 0,
         "=1 if widow/er": 1,
         "=1 if single": 0,
         "=1 if household head": 1,
         "=1 if spouse/partner": 0,
         "=1 if son/doughter": 0,
         "=1 if stepson/doughter": 0,
         "=1 if son/doughter in law": 0,
         "=1 if grandson/doughter": 0,
         "=1 if mother/father": 0,
         "=1 if father/mother in law": 0,
         "=1 if brother/sister": 0,
         "=1 if brother/sister in law": 0,
         "=1 if other family member": 0,
         "=1 if other non family member": 0,
         "Number of children 0 to 19 in household": 0,
         "Number of adults in household": 0.1111111111111111,
         "# of individuals 65+ in the household": 0.3333333333333333,
         "Dependency rate": 8,
         "years of education of male head of household": 0,
         "years of education of female head of household": 10,
         "average years of education for adults (18+)": 0.2702702702702703,
         "number of bedrooms": 0.2857142857142857,
         "# persons per room": 0.0229885068965517,
         "=1 other(assigned, borrowed)": 0,
         "=1 if the household has notebook or desktop computer": 0,
         "=1 if the household has TV": 1,
         "=1 if mobile phone": 1,
         "# of mobile phones": 0.1,
         "=1 zona urbana": 1,
         "Age in years": 0.7216494845360825,
         "walls": 2,
         "roof": 2,
         "floor": 2,
         "Education level": 3,
         "House Ownership": 0,
         "Region ": 0,
         "Rubbish Disposal": 0,
         "Energy Usage": 1,
         "Toilet Pipeline": 1,
         "Outside Wall Material": 0,
         "Floor Material": 0,
         "Roof Material": 0,
         "Water Provision": 0,
         "Electricity Provision": 0,
         "_deepnote_index_column": 9
        }
       ]
      },
      "text/plain": "       Monthly rent payment  =1 Overcrowding by bedrooms  \\\n0                       NaN                          0.0   \n1                       NaN                          0.0   \n2                       NaN                          0.0   \n3                       NaN                          0.0   \n4                  0.158642                          0.0   \n...                     ...                          ...   \n23851                   NaN                          1.0   \n23852                   NaN                          0.0   \n23853                   NaN                          0.0   \n23854                   NaN                          0.0   \n23855                   NaN                          0.0   \n\n        number of all rooms in the house  =1 Overcrowding by rooms  \\\n0                                    0.4                       0.0   \n1                                    0.4                       0.0   \n2                                    0.4                       0.0   \n3                                    1.3                       0.0   \n4                                    0.3                       0.0   \n...                                  ...                       ...   \n23851                                0.1                       1.0   \n23852                                0.2                       0.0   \n23853                                0.2                       0.0   \n23854                                0.2                       0.0   \n23855                                0.2                       0.0   \n\n       =1 has toilet in the household  =1 if the household has refrigerator  \\\n0                                 1.0                                   1.0   \n1                                 1.0                                   1.0   \n2                                 1.0                                   1.0   \n3                                 1.0                                   1.0   \n4                                 1.0                                   1.0   \n...                               ...                                   ...   \n23851                             1.0                                   1.0   \n23852                             1.0                                   1.0   \n23853                             1.0                                   1.0   \n23854                             1.0                                   1.0   \n23855                             1.0                                   1.0   \n\n       owns a tablet  number of tablets household owns  \\\n0                0.0                               NaN   \n1                0.0                               NaN   \n2                0.0                               NaN   \n3                1.0                               0.0   \n4                1.0                               0.0   \n...              ...                               ...   \n23851            0.0                               NaN   \n23852            0.0                               NaN   \n23853            0.0                               NaN   \n23854            0.0                               NaN   \n23855            0.0                               NaN   \n\n       Males younger than 12 years of age  Males 12 years of age and older  \\\n0                                     0.2                            0.125   \n1                                     0.2                            0.125   \n2                                     0.2                            0.125   \n3                                     0.0                            0.125   \n4                                     0.0                            0.000   \n...                                   ...                              ...   \n23851                                 0.0                            0.250   \n23852                                 0.0                            0.125   \n23853                                 0.0                            0.125   \n23854                                 0.0                            0.125   \n23855                                 0.0                            0.125   \n\n       ...  House Ownership  Region   Rubbish Disposal  Energy Usage  \\\n0      ...                0        0                 0             2   \n1      ...                0        0                 0             2   \n2      ...                0        0                 0             2   \n3      ...                0        0                 0             1   \n4      ...                2        0                 0             1   \n...    ...              ...      ...               ...           ...   \n23851  ...                0        5                 2             1   \n23852  ...                0        5                 1             2   \n23853  ...                0        5                 1             2   \n23854  ...                0        5                 1             2   \n23855  ...                0        5                 1             2   \n\n       Toilet Pipeline  Outside Wall Material  Floor Material  Roof Material  \\\n0                    1                      0               0              0   \n1                    1                      0               0              0   \n2                    1                      0               0              0   \n3                    1                      0               0              0   \n4                    1                      0               0              0   \n...                ...                    ...             ...            ...   \n23851                2                      4               1              0   \n23852                2                      2               1              0   \n23853                2                      2               1              0   \n23854                2                      2               1              0   \n23855                2                      2               1              0   \n\n       Water Provision  Electricity Provision  \n0                    0                      0  \n1                    0                      0  \n2                    0                      0  \n3                    0                      0  \n4                    0                      0  \n...                ...                    ...  \n23851                0                      3  \n23852                0                      3  \n23853                0                      3  \n23854                0                      3  \n23855                0                      3  \n\n[23856 rows x 72 columns]",
      "text/html": "<div>\n<style scoped>\n    .dataframe tbody tr th:only-of-type {\n        vertical-align: middle;\n    }\n\n    .dataframe tbody tr th {\n        vertical-align: top;\n    }\n\n    .dataframe thead th {\n        text-align: right;\n    }\n</style>\n<table border=\"1\" class=\"dataframe\">\n  <thead>\n    <tr style=\"text-align: right;\">\n      <th></th>\n      <th>Monthly rent payment</th>\n      <th>=1 Overcrowding by bedrooms</th>\n      <th>number of all rooms in the house</th>\n      <th>=1 Overcrowding by rooms</th>\n      <th>=1 has toilet in the household</th>\n      <th>=1 if the household has refrigerator</th>\n      <th>owns a tablet</th>\n      <th>number of tablets household owns</th>\n      <th>Males younger than 12 years of age</th>\n      <th>Males 12 years of age and older</th>\n      <th>...</th>\n      <th>House Ownership</th>\n      <th>Region</th>\n      <th>Rubbish Disposal</th>\n      <th>Energy Usage</th>\n      <th>Toilet Pipeline</th>\n      <th>Outside Wall Material</th>\n      <th>Floor Material</th>\n      <th>Roof Material</th>\n      <th>Water Provision</th>\n      <th>Electricity Provision</th>\n    </tr>\n  </thead>\n  <tbody>\n    <tr>\n      <th>0</th>\n      <td>NaN</td>\n      <td>0.0</td>\n      <td>0.4</td>\n      <td>0.0</td>\n      <td>1.0</td>\n      <td>1.0</td>\n      <td>0.0</td>\n      <td>NaN</td>\n      <td>0.2</td>\n      <td>0.125</td>\n      <td>...</td>\n      <td>0</td>\n      <td>0</td>\n      <td>0</td>\n      <td>2</td>\n      <td>1</td>\n      <td>0</td>\n      <td>0</td>\n      <td>0</td>\n      <td>0</td>\n      <td>0</td>\n    </tr>\n    <tr>\n      <th>1</th>\n      <td>NaN</td>\n      <td>0.0</td>\n      <td>0.4</td>\n      <td>0.0</td>\n      <td>1.0</td>\n      <td>1.0</td>\n      <td>0.0</td>\n      <td>NaN</td>\n      <td>0.2</td>\n      <td>0.125</td>\n      <td>...</td>\n      <td>0</td>\n      <td>0</td>\n      <td>0</td>\n      <td>2</td>\n      <td>1</td>\n      <td>0</td>\n      <td>0</td>\n      <td>0</td>\n      <td>0</td>\n      <td>0</td>\n    </tr>\n    <tr>\n      <th>2</th>\n      <td>NaN</td>\n      <td>0.0</td>\n      <td>0.4</td>\n      <td>0.0</td>\n      <td>1.0</td>\n      <td>1.0</td>\n      <td>0.0</td>\n      <td>NaN</td>\n      <td>0.2</td>\n      <td>0.125</td>\n      <td>...</td>\n      <td>0</td>\n      <td>0</td>\n      <td>0</td>\n      <td>2</td>\n      <td>1</td>\n      <td>0</td>\n      <td>0</td>\n      <td>0</td>\n      <td>0</td>\n      <td>0</td>\n    </tr>\n    <tr>\n      <th>3</th>\n      <td>NaN</td>\n      <td>0.0</td>\n      <td>1.3</td>\n      <td>0.0</td>\n      <td>1.0</td>\n      <td>1.0</td>\n      <td>1.0</td>\n      <td>0.0</td>\n      <td>0.0</td>\n      <td>0.125</td>\n      <td>...</td>\n      <td>0</td>\n      <td>0</td>\n      <td>0</td>\n      <td>1</td>\n      <td>1</td>\n      <td>0</td>\n      <td>0</td>\n      <td>0</td>\n      <td>0</td>\n      <td>0</td>\n    </tr>\n    <tr>\n      <th>4</th>\n      <td>0.158642</td>\n      <td>0.0</td>\n      <td>0.3</td>\n      <td>0.0</td>\n      <td>1.0</td>\n      <td>1.0</td>\n      <td>1.0</td>\n      <td>0.0</td>\n      <td>0.0</td>\n      <td>0.000</td>\n      <td>...</td>\n      <td>2</td>\n      <td>0</td>\n      <td>0</td>\n      <td>1</td>\n      <td>1</td>\n      <td>0</td>\n      <td>0</td>\n      <td>0</td>\n      <td>0</td>\n      <td>0</td>\n    </tr>\n    <tr>\n      <th>...</th>\n      <td>...</td>\n      <td>...</td>\n      <td>...</td>\n      <td>...</td>\n      <td>...</td>\n      <td>...</td>\n      <td>...</td>\n      <td>...</td>\n      <td>...</td>\n      <td>...</td>\n      <td>...</td>\n      <td>...</td>\n      <td>...</td>\n      <td>...</td>\n      <td>...</td>\n      <td>...</td>\n      <td>...</td>\n      <td>...</td>\n      <td>...</td>\n      <td>...</td>\n      <td>...</td>\n    </tr>\n    <tr>\n      <th>23851</th>\n      <td>NaN</td>\n      <td>1.0</td>\n      <td>0.1</td>\n      <td>1.0</td>\n      <td>1.0</td>\n      <td>1.0</td>\n      <td>0.0</td>\n      <td>NaN</td>\n      <td>0.0</td>\n      <td>0.250</td>\n      <td>...</td>\n      <td>0</td>\n      <td>5</td>\n      <td>2</td>\n      <td>1</td>\n      <td>2</td>\n      <td>4</td>\n      <td>1</td>\n      <td>0</td>\n      <td>0</td>\n      <td>3</td>\n    </tr>\n    <tr>\n      <th>23852</th>\n      <td>NaN</td>\n      <td>0.0</td>\n      <td>0.2</td>\n      <td>0.0</td>\n      <td>1.0</td>\n      <td>1.0</td>\n      <td>0.0</td>\n      <td>NaN</td>\n      <td>0.0</td>\n      <td>0.125</td>\n      <td>...</td>\n      <td>0</td>\n      <td>5</td>\n      <td>1</td>\n      <td>2</td>\n      <td>2</td>\n      <td>2</td>\n      <td>1</td>\n      <td>0</td>\n      <td>0</td>\n      <td>3</td>\n    </tr>\n    <tr>\n      <th>23853</th>\n      <td>NaN</td>\n      <td>0.0</td>\n      <td>0.2</td>\n      <td>0.0</td>\n      <td>1.0</td>\n      <td>1.0</td>\n      <td>0.0</td>\n      <td>NaN</td>\n      <td>0.0</td>\n      <td>0.125</td>\n      <td>...</td>\n      <td>0</td>\n      <td>5</td>\n      <td>1</td>\n      <td>2</td>\n      <td>2</td>\n      <td>2</td>\n      <td>1</td>\n      <td>0</td>\n      <td>0</td>\n      <td>3</td>\n    </tr>\n    <tr>\n      <th>23854</th>\n      <td>NaN</td>\n      <td>0.0</td>\n      <td>0.2</td>\n      <td>0.0</td>\n      <td>1.0</td>\n      <td>1.0</td>\n      <td>0.0</td>\n      <td>NaN</td>\n      <td>0.0</td>\n      <td>0.125</td>\n      <td>...</td>\n      <td>0</td>\n      <td>5</td>\n      <td>1</td>\n      <td>2</td>\n      <td>2</td>\n      <td>2</td>\n      <td>1</td>\n      <td>0</td>\n      <td>0</td>\n      <td>3</td>\n    </tr>\n    <tr>\n      <th>23855</th>\n      <td>NaN</td>\n      <td>0.0</td>\n      <td>0.2</td>\n      <td>0.0</td>\n      <td>1.0</td>\n      <td>1.0</td>\n      <td>0.0</td>\n      <td>NaN</td>\n      <td>0.0</td>\n      <td>0.125</td>\n      <td>...</td>\n      <td>0</td>\n      <td>5</td>\n      <td>1</td>\n      <td>2</td>\n      <td>2</td>\n      <td>2</td>\n      <td>1</td>\n      <td>0</td>\n      <td>0</td>\n      <td>3</td>\n    </tr>\n  </tbody>\n</table>\n<p>23856 rows × 72 columns</p>\n</div>"
     },
     "metadata": {}
    }
   ]
  },
  {
   "cell_type": "code",
   "metadata": {
    "cell_id": "b254eb68-6989-4721-80e3-c77e2598e2b2",
    "tags": [],
    "deepnote_to_be_reexecuted": false,
    "source_hash": "613e8c23",
    "execution_start": 1643734210394,
    "execution_millis": 7274,
    "deepnote_table_state": {
     "pageSize": 10,
     "pageIndex": 8,
     "filters": [],
     "sortBy": []
    },
    "deepnote_table_loading": false,
    "owner_user_id": "1e899dee-29f9-4275-a6ea-e33c24f3b20c",
    "deepnote_cell_type": "code",
    "deepnote_cell_height": 552.1875,
    "deepnote_output_heights": [
     null,
     21.1875
    ]
   },
   "source": "with open(('LightGBM_data/LightGBM_model_0.85.pkl'), 'rb+') as f:\n    model = pickle.load(f)#load model\ndef generate_sumbit_csv(model,text=\"\"):\n    '''auto tranform label 0-3 to 1-4'''\n    test_processed_df=load_processed_csv(train=False)\n    X = test_processed_df\n    y_test_pred=model.predict(np.array(X)).argmax(axis=1)+1\n    test_df=pd.read_csv('data/test.csv')\n    test_df.insert(len(test_df.columns),'Target',y_test_pred)\n    submit_df=pd.concat([test_df['Id'],test_df['Target']],axis=1)\n    submit_df.to_csv(f'data/test_submit_{text}_{str(datetime.datetime.now())}.csv')\n    print('save to '+f'data/test_submit_{text}_{str(datetime.datetime.now())}.csv')\n    print('distribution:')\n    for i in range(1,5):\n        print(i,len(y_test_pred[y_test_pred==i]))\n    return True\ngenerate_sumbit_csv(model)",
   "execution_count": null,
   "outputs": [
    {
     "name": "stdout",
     "text": "save to data/test_submit__2022-02-01 16:50:17.644349.csv\ndistribution:\n1 23157\n2 0\n3 41\n4 658\n",
     "output_type": "stream"
    },
    {
     "output_type": "execute_result",
     "execution_count": 62,
     "data": {
      "text/plain": "True"
     },
     "metadata": {}
    }
   ]
  },
  {
   "cell_type": "code",
   "metadata": {
    "cell_id": "7a2f7185-6fb2-41e4-942a-0944c393c609",
    "tags": [],
    "deepnote_to_be_reexecuted": false,
    "source_hash": "d9ca93bc",
    "execution_start": 1643734174045,
    "execution_millis": 141,
    "deepnote_cell_type": "code",
    "deepnote_cell_height": 600
   },
   "source": "",
   "execution_count": null,
   "outputs": [
    {
     "output_type": "execute_result",
     "execution_count": 61,
     "data": {
      "application/vnd.deepnote.dataframe.v3+json": {
       "column_count": 2,
       "row_count": 23856,
       "columns": [
        {
         "name": "Id",
         "dtype": "object",
         "stats": {
          "unique_count": 23856,
          "nan_count": 0,
          "categories": [
           {
            "name": "ID_2f6873615",
            "count": 1
           },
           {
            "name": "ID_1c78846d2",
            "count": 1
           },
           {
            "name": "23854 others",
            "count": 23854
           }
          ]
         }
        },
        {
         "name": "Target",
         "dtype": "int64",
         "stats": {
          "unique_count": 3,
          "nan_count": 0,
          "min": "1",
          "max": "4",
          "histogram": [
           {
            "bin_start": 1,
            "bin_end": 1.3,
            "count": 23157
           },
           {
            "bin_start": 1.3,
            "bin_end": 1.6,
            "count": 0
           },
           {
            "bin_start": 1.6,
            "bin_end": 1.9,
            "count": 0
           },
           {
            "bin_start": 1.9,
            "bin_end": 2.2,
            "count": 0
           },
           {
            "bin_start": 2.2,
            "bin_end": 2.5,
            "count": 0
           },
           {
            "bin_start": 2.5,
            "bin_end": 2.8,
            "count": 0
           },
           {
            "bin_start": 2.8,
            "bin_end": 3.1,
            "count": 41
           },
           {
            "bin_start": 3.1,
            "bin_end": 3.4,
            "count": 0
           },
           {
            "bin_start": 3.4,
            "bin_end": 3.6999999999999997,
            "count": 0
           },
           {
            "bin_start": 3.6999999999999997,
            "bin_end": 4,
            "count": 658
           }
          ]
         }
        },
        {
         "name": "_deepnote_index_column",
         "dtype": "int64"
        }
       ],
       "rows": [
        {
         "Id": "ID_2f6873615",
         "Target": 1,
         "_deepnote_index_column": 0
        },
        {
         "Id": "ID_1c78846d2",
         "Target": 1,
         "_deepnote_index_column": 1
        },
        {
         "Id": "ID_e5442cf6a",
         "Target": 1,
         "_deepnote_index_column": 2
        },
        {
         "Id": "ID_a8db26a79",
         "Target": 1,
         "_deepnote_index_column": 3
        },
        {
         "Id": "ID_a62966799",
         "Target": 1,
         "_deepnote_index_column": 4
        },
        {
         "Id": "ID_e77d38d45",
         "Target": 1,
         "_deepnote_index_column": 5
        },
        {
         "Id": "ID_3c5f4bd51",
         "Target": 1,
         "_deepnote_index_column": 6
        },
        {
         "Id": "ID_a849c29bd",
         "Target": 1,
         "_deepnote_index_column": 7
        },
        {
         "Id": "ID_472fa82da",
         "Target": 1,
         "_deepnote_index_column": 8
        },
        {
         "Id": "ID_24864adcc",
         "Target": 1,
         "_deepnote_index_column": 9
        }
       ]
      },
      "text/plain": "                 Id  Target\n0      ID_2f6873615       1\n1      ID_1c78846d2       1\n2      ID_e5442cf6a       1\n3      ID_a8db26a79       1\n4      ID_a62966799       1\n...             ...     ...\n23851  ID_a065a7cad       1\n23852  ID_1a7c6953b       1\n23853  ID_07dbb4be2       1\n23854  ID_34d2ed046       1\n23855  ID_34754556f       1\n\n[23856 rows x 2 columns]",
      "text/html": "<div>\n<style scoped>\n    .dataframe tbody tr th:only-of-type {\n        vertical-align: middle;\n    }\n\n    .dataframe tbody tr th {\n        vertical-align: top;\n    }\n\n    .dataframe thead th {\n        text-align: right;\n    }\n</style>\n<table border=\"1\" class=\"dataframe\">\n  <thead>\n    <tr style=\"text-align: right;\">\n      <th></th>\n      <th>Id</th>\n      <th>Target</th>\n    </tr>\n  </thead>\n  <tbody>\n    <tr>\n      <th>0</th>\n      <td>ID_2f6873615</td>\n      <td>1</td>\n    </tr>\n    <tr>\n      <th>1</th>\n      <td>ID_1c78846d2</td>\n      <td>1</td>\n    </tr>\n    <tr>\n      <th>2</th>\n      <td>ID_e5442cf6a</td>\n      <td>1</td>\n    </tr>\n    <tr>\n      <th>3</th>\n      <td>ID_a8db26a79</td>\n      <td>1</td>\n    </tr>\n    <tr>\n      <th>4</th>\n      <td>ID_a62966799</td>\n      <td>1</td>\n    </tr>\n    <tr>\n      <th>...</th>\n      <td>...</td>\n      <td>...</td>\n    </tr>\n    <tr>\n      <th>23851</th>\n      <td>ID_a065a7cad</td>\n      <td>1</td>\n    </tr>\n    <tr>\n      <th>23852</th>\n      <td>ID_1a7c6953b</td>\n      <td>1</td>\n    </tr>\n    <tr>\n      <th>23853</th>\n      <td>ID_07dbb4be2</td>\n      <td>1</td>\n    </tr>\n    <tr>\n      <th>23854</th>\n      <td>ID_34d2ed046</td>\n      <td>1</td>\n    </tr>\n    <tr>\n      <th>23855</th>\n      <td>ID_34754556f</td>\n      <td>1</td>\n    </tr>\n  </tbody>\n</table>\n<p>23856 rows × 2 columns</p>\n</div>"
     },
     "metadata": {}
    }
   ]
  },
  {
   "cell_type": "code",
   "metadata": {
    "cell_id": "4a584a7d-2bed-4758-b18b-83c76bce6cb4",
    "tags": [],
    "deepnote_cell_type": "code",
    "deepnote_cell_height": 66
   },
   "source": "",
   "execution_count": null,
   "outputs": []
  },
  {
   "cell_type": "markdown",
   "source": "<a style='text-decoration:none;line-height:16px;display:flex;color:#5B5B62;padding:10px;justify-content:end;' href='https://deepnote.com?utm_source=created-in-deepnote-cell&projectId=f92fbbcf-fa92-4caa-ad57-5cd0b8c2766a' target=\"_blank\">\n<img alt='Created in deepnote.com' style='display:inline;max-height:16px;margin:0px;margin-right:7.5px;' src='data:image/svg+xml;base64,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' > </img>\nCreated in <span style='font-weight:600;margin-left:4px;'>Deepnote</span></a>",
   "metadata": {
    "tags": [],
    "created_in_deepnote_cell": true,
    "deepnote_cell_type": "markdown"
   }
  }
 ],
 "nbformat": 4,
 "nbformat_minor": 2,
 "metadata": {
  "orig_nbformat": 2,
  "deepnote": {
   "is_reactive": false
  },
  "deepnote_notebook_id": "f21dd340-162b-42cd-9305-f297c939b74b",
  "deepnote_execution_queue": []
 }
}