{
 "cells": [
  {
   "cell_type": "code",
   "metadata": {
    "cell_id": "7c3aea66-0464-4928-bb2c-9d63bc22347e",
    "tags": [],
    "deepnote_to_be_reexecuted": false,
    "source_hash": "a4efd0a0",
    "execution_start": 1650259514759,
    "execution_millis": 37258,
    "owner_user_id": "1e899dee-29f9-4275-a6ea-e33c24f3b20c",
    "deepnote_cell_type": "code"
   },
   "source": "!pip install xgboost\n!pip install imblearn\n!pip install wandb\n!pip install lightgbm",
   "execution_count": null,
   "outputs": [
    {
     "name": "stdout",
     "text": "Collecting xgboost\n  Downloading xgboost-1.6.0-py3-none-manylinux2014_x86_64.whl (193.7 MB)\n\u001b[K     |████████████████████████████████| 193.7 MB 53 kB/s \n\u001b[?25hRequirement already satisfied: scipy in /shared-libs/python3.7/py/lib/python3.7/site-packages (from xgboost) (1.7.3)\nRequirement already satisfied: numpy in /shared-libs/python3.7/py/lib/python3.7/site-packages (from xgboost) (1.21.5)\nInstalling collected packages: xgboost\nSuccessfully installed xgboost-1.6.0\n\u001b[33mWARNING: You are using pip version 20.1.1; however, version 22.0.4 is available.\nYou should consider upgrading via the '/root/venv/bin/python -m pip install --upgrade pip' command.\u001b[0m\nCollecting imblearn\n  Downloading imblearn-0.0-py2.py3-none-any.whl (1.9 kB)\nCollecting imbalanced-learn\n  Downloading imbalanced_learn-0.9.0-py3-none-any.whl (199 kB)\n\u001b[K     |████████████████████████████████| 199 kB 19.8 MB/s \n\u001b[?25hRequirement already satisfied: scikit-learn>=1.0.1 in /shared-libs/python3.7/py/lib/python3.7/site-packages (from imbalanced-learn->imblearn) (1.0.2)\nRequirement already satisfied: joblib>=0.11 in /shared-libs/python3.7/py/lib/python3.7/site-packages (from imbalanced-learn->imblearn) (1.1.0)\nRequirement already satisfied: numpy>=1.14.6 in /shared-libs/python3.7/py/lib/python3.7/site-packages (from imbalanced-learn->imblearn) (1.21.5)\nRequirement already satisfied: scipy>=1.1.0 in /shared-libs/python3.7/py/lib/python3.7/site-packages (from imbalanced-learn->imblearn) (1.7.3)\nRequirement already satisfied: threadpoolctl>=2.0.0 in /shared-libs/python3.7/py/lib/python3.7/site-packages (from imbalanced-learn->imblearn) (3.1.0)\nInstalling collected packages: imbalanced-learn, imblearn\nSuccessfully installed imbalanced-learn-0.9.0 imblearn-0.0\n\u001b[33mWARNING: You are using pip version 20.1.1; however, version 22.0.4 is available.\nYou should consider upgrading via the '/root/venv/bin/python -m pip install --upgrade pip' command.\u001b[0m\nCollecting wandb\n  Downloading wandb-0.12.14-py2.py3-none-any.whl (1.8 MB)\n\u001b[K     |████████████████████████████████| 1.8 MB 32.7 MB/s \n\u001b[?25hCollecting psutil>=5.0.0\n  Downloading psutil-5.9.0-cp37-cp37m-manylinux_2_12_x86_64.manylinux2010_x86_64.manylinux_2_17_x86_64.manylinux2014_x86_64.whl (280 kB)\n\u001b[K     |████████████████████████████████| 280 kB 75.8 MB/s \n\u001b[?25hCollecting promise<3,>=2.0\n  Downloading promise-2.3.tar.gz (19 kB)\nCollecting shortuuid>=0.5.0\n  Downloading shortuuid-1.0.8-py3-none-any.whl (9.5 kB)\nRequirement already satisfied: Click!=8.0.0,>=7.0 in /shared-libs/python3.7/py/lib/python3.7/site-packages (from wandb) (8.0.4)\nRequirement already satisfied: requests<3,>=2.0.0 in /shared-libs/python3.7/py/lib/python3.7/site-packages (from wandb) (2.27.1)\nRequirement already satisfied: PyYAML in /shared-libs/python3.7/py/lib/python3.7/site-packages (from wandb) (6.0)\nCollecting GitPython>=1.0.0\n  Downloading GitPython-3.1.27-py3-none-any.whl (181 kB)\n\u001b[K     |████████████████████████████████| 181 kB 75.7 MB/s \n\u001b[?25hCollecting docker-pycreds>=0.4.0\n  Downloading docker_pycreds-0.4.0-py2.py3-none-any.whl (9.0 kB)\nCollecting pathtools\n  Downloading pathtools-0.1.2.tar.gz (11 kB)\nRequirement already satisfied: protobuf>=3.12.0 in /shared-libs/python3.7/py/lib/python3.7/site-packages (from wandb) (3.19.4)\nCollecting setproctitle\n  Downloading setproctitle-1.2.3-cp37-cp37m-manylinux_2_5_x86_64.manylinux1_x86_64.manylinux_2_17_x86_64.manylinux2014_x86_64.whl (29 kB)\nCollecting sentry-sdk>=1.0.0\n  Downloading sentry_sdk-1.5.10-py2.py3-none-any.whl (144 kB)\n\u001b[K     |████████████████████████████████| 144 kB 57.2 MB/s \n\u001b[?25hRequirement already satisfied: python-dateutil>=2.6.1 in /shared-libs/python3.7/py-core/lib/python3.7/site-packages (from wandb) (2.8.2)\nRequirement already satisfied: six>=1.13.0 in /shared-libs/python3.7/py-core/lib/python3.7/site-packages (from wandb) (1.16.0)\nRequirement already satisfied: importlib-metadata; python_version < \"3.8\" in /shared-libs/python3.7/py-core/lib/python3.7/site-packages (from Click!=8.0.0,>=7.0->wandb) (4.11.3)\nRequirement already satisfied: urllib3<1.27,>=1.21.1 in /shared-libs/python3.7/py/lib/python3.7/site-packages (from requests<3,>=2.0.0->wandb) (1.26.9)\nRequirement already satisfied: charset-normalizer~=2.0.0; python_version >= \"3\" in /shared-libs/python3.7/py-core/lib/python3.7/site-packages (from requests<3,>=2.0.0->wandb) (2.0.12)\nRequirement already satisfied: idna<4,>=2.5; python_version >= \"3\" in /shared-libs/python3.7/py-core/lib/python3.7/site-packages (from requests<3,>=2.0.0->wandb) (3.3)\nRequirement already satisfied: certifi>=2017.4.17 in /shared-libs/python3.7/py/lib/python3.7/site-packages (from requests<3,>=2.0.0->wandb) (2021.10.8)\nRequirement already satisfied: typing-extensions>=3.7.4.3; python_version < \"3.8\" in /shared-libs/python3.7/py-core/lib/python3.7/site-packages (from GitPython>=1.0.0->wandb) (4.1.1)\nCollecting gitdb<5,>=4.0.1\n  Downloading gitdb-4.0.9-py3-none-any.whl (63 kB)\n\u001b[K     |████████████████████████████████| 63 kB 3.5 MB/s \n\u001b[?25hRequirement already satisfied: zipp>=0.5 in /shared-libs/python3.7/py-core/lib/python3.7/site-packages (from importlib-metadata; python_version < \"3.8\"->Click!=8.0.0,>=7.0->wandb) (3.7.0)\nCollecting smmap<6,>=3.0.1\n  Downloading smmap-5.0.0-py3-none-any.whl (24 kB)\nBuilding wheels for collected packages: promise, pathtools\n  Building wheel for promise (setup.py) ... \u001b[?25ldone\n\u001b[?25h  Created wheel for promise: filename=promise-2.3-py3-none-any.whl size=21493 sha256=51e6adc94f33cd7507326346e9c9f1f5d79ec9418654a400246bbf085a7dd704\n  Stored in directory: /root/.cache/pip/wheels/29/93/c6/762e359f8cb6a5b69c72235d798804cae523bbe41c2aa8333d\n  Building wheel for pathtools (setup.py) ... \u001b[?25ldone\n\u001b[?25h  Created wheel for pathtools: filename=pathtools-0.1.2-py3-none-any.whl size=8784 sha256=14ade8bb792873d88d413f5a52bdd4fdfc8f2d93035c530d69b96a874e2faaa8\n  Stored in directory: /root/.cache/pip/wheels/3e/31/09/fa59cef12cdcfecc627b3d24273699f390e71828921b2cbba2\nSuccessfully built promise pathtools\nInstalling collected packages: psutil, promise, shortuuid, smmap, gitdb, GitPython, docker-pycreds, pathtools, setproctitle, sentry-sdk, wandb\nSuccessfully installed GitPython-3.1.27 docker-pycreds-0.4.0 gitdb-4.0.9 pathtools-0.1.2 promise-2.3 psutil-5.9.0 sentry-sdk-1.5.10 setproctitle-1.2.3 shortuuid-1.0.8 smmap-5.0.0 wandb-0.12.14\n\u001b[33mWARNING: You are using pip version 20.1.1; however, version 22.0.4 is available.\nYou should consider upgrading via the '/root/venv/bin/python -m pip install --upgrade pip' command.\u001b[0m\nCollecting lightgbm\n  Downloading lightgbm-3.3.2-py3-none-manylinux1_x86_64.whl (2.0 MB)\n\u001b[K     |████████████████████████████████| 2.0 MB 27.8 MB/s \n\u001b[?25hRequirement already satisfied: scikit-learn!=0.22.0 in /shared-libs/python3.7/py/lib/python3.7/site-packages (from lightgbm) (1.0.2)\nRequirement already satisfied: scipy in /shared-libs/python3.7/py/lib/python3.7/site-packages (from lightgbm) (1.7.3)\nRequirement already satisfied: wheel in /usr/local/lib/python3.7/site-packages (from lightgbm) (0.37.0)\nRequirement already satisfied: numpy in /shared-libs/python3.7/py/lib/python3.7/site-packages (from lightgbm) (1.21.5)\nRequirement already satisfied: joblib>=0.11 in /shared-libs/python3.7/py/lib/python3.7/site-packages (from scikit-learn!=0.22.0->lightgbm) (1.1.0)\nRequirement already satisfied: threadpoolctl>=2.0.0 in /shared-libs/python3.7/py/lib/python3.7/site-packages (from scikit-learn!=0.22.0->lightgbm) (3.1.0)\nInstalling collected packages: lightgbm\nSuccessfully installed lightgbm-3.3.2\n\u001b[33mWARNING: You are using pip version 20.1.1; however, version 22.0.4 is available.\nYou should consider upgrading via the '/root/venv/bin/python -m pip install --upgrade pip' command.\u001b[0m\n",
     "output_type": "stream"
    }
   ]
  },
  {
   "cell_type": "code",
   "metadata": {
    "cell_id": "b8e70528-2b23-4c79-8490-e235241b9912",
    "tags": [],
    "deepnote_to_be_reexecuted": false,
    "source_hash": "c8361285",
    "execution_start": 1650259552028,
    "execution_millis": 1698,
    "deepnote_cell_type": "code"
   },
   "source": "import pandas as pd\n# import torch\n# from torch import nn\nimport datetime\nimport numpy as np\nfrom sklearn.preprocessing import label_binarize\nfrom sklearn.metrics import confusion_matrix\nfrom sklearn import metrics\nfrom sklearn.model_selection import RepeatedStratifiedKFold\nfrom sklearn.metrics import make_scorer, accuracy_score, precision_score, recall_score, f1_score, classification_report\nfrom sklearn.model_selection import cross_val_score, cross_validate, GridSearchCV , KFold, train_test_split\nfrom sklearn.model_selection import KFold\nimport seaborn as sb\nimport matplotlib.pyplot as plt\nfrom collections import Counter\nfrom imblearn.over_sampling import SMOTE\nimport wandb\nimport pickle\nfrom utils_v2 import *\nimport xgboost as xgb\nfrom xgboost.sklearn import XGBClassifier\nimport matplotlib.pylab as plt\n%matplotlib inline\nfrom matplotlib.pylab import rcParams\n\n\n",
   "execution_count": null,
   "outputs": []
  },
  {
   "cell_type": "markdown",
   "source": "# Load Preprocessed data from utils.py",
   "metadata": {
    "cell_id": "68ed423b-5fc1-47c1-b620-b36a954907fa",
    "tags": [],
    "is_collapsed": false,
    "deepnote_cell_type": "text-cell-h1"
   }
  },
  {
   "cell_type": "code",
   "metadata": {
    "cell_id": "19f8d863-fb7f-4a39-8897-fd896b52cdeb",
    "tags": [],
    "deepnote_to_be_reexecuted": false,
    "source_hash": "c0a4d37a",
    "execution_start": 1650252435982,
    "execution_millis": 462,
    "deepnote_cell_type": "code"
   },
   "source": "data_df=load_processed_csv(train=True)\ndata_df",
   "execution_count": null,
   "outputs": [
    {
     "output_type": "execute_result",
     "execution_count": 2,
     "data": {
      "application/vnd.deepnote.dataframe.v3+json": {
       "column_count": 73,
       "row_count": 9557,
       "columns": [
        {
         "name": "feature0",
         "dtype": "float64",
         "stats": {
          "unique_count": 166,
          "nan_count": 0,
          "min": "-1.5167201507306425",
          "max": "21.014290888221428",
          "histogram": [
           {
            "bin_start": -1.5167201507306425,
            "bin_end": 0.7363809531645646,
            "count": 8086
           },
           {
            "bin_start": 0.7363809531645646,
            "bin_end": 2.9894820570597718,
            "count": 1340
           },
           {
            "bin_start": 2.9894820570597718,
            "bin_end": 5.242583160954979,
            "count": 104
           },
           {
            "bin_start": 5.242583160954979,
            "bin_end": 7.495684264850186,
            "count": 18
           },
           {
            "bin_start": 7.495684264850186,
            "bin_end": 9.748785368745395,
            "count": 7
           },
           {
            "bin_start": 9.748785368745395,
            "bin_end": 12.0018864726406,
            "count": 0
           },
           {
            "bin_start": 12.0018864726406,
            "bin_end": 14.254987576535807,
            "count": 0
           },
           {
            "bin_start": 14.254987576535807,
            "bin_end": 16.508088680431015,
            "count": 0
           },
           {
            "bin_start": 16.508088680431015,
            "bin_end": 18.761189784326223,
            "count": 0
           },
           {
            "bin_start": 18.761189784326223,
            "bin_end": 21.014290888221428,
            "count": 2
           }
          ]
         }
        },
        {
         "name": "feature1",
         "dtype": "float64",
         "stats": {
          "unique_count": 2,
          "nan_count": 0,
          "min": "0.0",
          "max": "1.0",
          "histogram": [
           {
            "bin_start": 0,
            "bin_end": 0.1,
            "count": 9193
           },
           {
            "bin_start": 0.1,
            "bin_end": 0.2,
            "count": 0
           },
           {
            "bin_start": 0.2,
            "bin_end": 0.30000000000000004,
            "count": 0
           },
           {
            "bin_start": 0.30000000000000004,
            "bin_end": 0.4,
            "count": 0
           },
           {
            "bin_start": 0.4,
            "bin_end": 0.5,
            "count": 0
           },
           {
            "bin_start": 0.5,
            "bin_end": 0.6000000000000001,
            "count": 0
           },
           {
            "bin_start": 0.6000000000000001,
            "bin_end": 0.7000000000000001,
            "count": 0
           },
           {
            "bin_start": 0.7000000000000001,
            "bin_end": 0.8,
            "count": 0
           },
           {
            "bin_start": 0.8,
            "bin_end": 0.9,
            "count": 0
           },
           {
            "bin_start": 0.9,
            "bin_end": 1,
            "count": 364
           }
          ]
         }
        },
        {
         "name": "feature2",
         "dtype": "float64",
         "stats": {
          "unique_count": 11,
          "nan_count": 0,
          "min": "0.0",
          "max": "1.0",
          "histogram": [
           {
            "bin_start": 0,
            "bin_end": 0.1,
            "count": 97
           },
           {
            "bin_start": 0.1,
            "bin_end": 0.2,
            "count": 188
           },
           {
            "bin_start": 0.2,
            "bin_end": 0.30000000000000004,
            "count": 3477
           },
           {
            "bin_start": 0.30000000000000004,
            "bin_end": 0.4,
            "count": 0
           },
           {
            "bin_start": 0.4,
            "bin_end": 0.5,
            "count": 2940
           },
           {
            "bin_start": 0.5,
            "bin_end": 0.6000000000000001,
            "count": 1607
           },
           {
            "bin_start": 0.6000000000000001,
            "bin_end": 0.7000000000000001,
            "count": 732
           },
           {
            "bin_start": 0.7000000000000001,
            "bin_end": 0.8,
            "count": 298
           },
           {
            "bin_start": 0.8,
            "bin_end": 0.9,
            "count": 168
           },
           {
            "bin_start": 0.9,
            "bin_end": 1,
            "count": 50
           }
          ]
         }
        },
        {
         "name": "feature3",
         "dtype": "float64",
         "stats": {
          "unique_count": 2,
          "nan_count": 0,
          "min": "0.0",
          "max": "1.0",
          "histogram": [
           {
            "bin_start": 0,
            "bin_end": 0.1,
            "count": 9331
           },
           {
            "bin_start": 0.1,
            "bin_end": 0.2,
            "count": 0
           },
           {
            "bin_start": 0.2,
            "bin_end": 0.30000000000000004,
            "count": 0
           },
           {
            "bin_start": 0.30000000000000004,
            "bin_end": 0.4,
            "count": 0
           },
           {
            "bin_start": 0.4,
            "bin_end": 0.5,
            "count": 0
           },
           {
            "bin_start": 0.5,
            "bin_end": 0.6000000000000001,
            "count": 0
           },
           {
            "bin_start": 0.6000000000000001,
            "bin_end": 0.7000000000000001,
            "count": 0
           },
           {
            "bin_start": 0.7000000000000001,
            "bin_end": 0.8,
            "count": 0
           },
           {
            "bin_start": 0.8,
            "bin_end": 0.9,
            "count": 0
           },
           {
            "bin_start": 0.9,
            "bin_end": 1,
            "count": 226
           }
          ]
         }
        },
        {
         "name": "feature4",
         "dtype": "float64",
         "stats": {
          "unique_count": 2,
          "nan_count": 0,
          "min": "0.0",
          "max": "1.0",
          "histogram": [
           {
            "bin_start": 0,
            "bin_end": 0.1,
            "count": 50
           },
           {
            "bin_start": 0.1,
            "bin_end": 0.2,
            "count": 0
           },
           {
            "bin_start": 0.2,
            "bin_end": 0.30000000000000004,
            "count": 0
           },
           {
            "bin_start": 0.30000000000000004,
            "bin_end": 0.4,
            "count": 0
           },
           {
            "bin_start": 0.4,
            "bin_end": 0.5,
            "count": 0
           },
           {
            "bin_start": 0.5,
            "bin_end": 0.6000000000000001,
            "count": 0
           },
           {
            "bin_start": 0.6000000000000001,
            "bin_end": 0.7000000000000001,
            "count": 0
           },
           {
            "bin_start": 0.7000000000000001,
            "bin_end": 0.8,
            "count": 0
           },
           {
            "bin_start": 0.8,
            "bin_end": 0.9,
            "count": 0
           },
           {
            "bin_start": 0.9,
            "bin_end": 1,
            "count": 9507
           }
          ]
         }
        },
        {
         "name": "feature5",
         "dtype": "float64",
         "stats": {
          "unique_count": 2,
          "nan_count": 0,
          "min": "0.0",
          "max": "1.0",
          "histogram": [
           {
            "bin_start": 0,
            "bin_end": 0.1,
            "count": 405
           },
           {
            "bin_start": 0.1,
            "bin_end": 0.2,
            "count": 0
           },
           {
            "bin_start": 0.2,
            "bin_end": 0.30000000000000004,
            "count": 0
           },
           {
            "bin_start": 0.30000000000000004,
            "bin_end": 0.4,
            "count": 0
           },
           {
            "bin_start": 0.4,
            "bin_end": 0.5,
            "count": 0
           },
           {
            "bin_start": 0.5,
            "bin_end": 0.6000000000000001,
            "count": 0
           },
           {
            "bin_start": 0.6000000000000001,
            "bin_end": 0.7000000000000001,
            "count": 0
           },
           {
            "bin_start": 0.7000000000000001,
            "bin_end": 0.8,
            "count": 0
           },
           {
            "bin_start": 0.8,
            "bin_end": 0.9,
            "count": 0
           },
           {
            "bin_start": 0.9,
            "bin_end": 1,
            "count": 9152
           }
          ]
         }
        },
        {
         "name": "feature6",
         "dtype": "float64",
         "stats": {
          "unique_count": 2,
          "nan_count": 0,
          "min": "0.0",
          "max": "1.0",
          "histogram": [
           {
            "bin_start": 0,
            "bin_end": 0.1,
            "count": 7342
           },
           {
            "bin_start": 0.1,
            "bin_end": 0.2,
            "count": 0
           },
           {
            "bin_start": 0.2,
            "bin_end": 0.30000000000000004,
            "count": 0
           },
           {
            "bin_start": 0.30000000000000004,
            "bin_end": 0.4,
            "count": 0
           },
           {
            "bin_start": 0.4,
            "bin_end": 0.5,
            "count": 0
           },
           {
            "bin_start": 0.5,
            "bin_end": 0.6000000000000001,
            "count": 0
           },
           {
            "bin_start": 0.6000000000000001,
            "bin_end": 0.7000000000000001,
            "count": 0
           },
           {
            "bin_start": 0.7000000000000001,
            "bin_end": 0.8,
            "count": 0
           },
           {
            "bin_start": 0.8,
            "bin_end": 0.9,
            "count": 0
           },
           {
            "bin_start": 0.9,
            "bin_end": 1,
            "count": 2215
           }
          ]
         }
        },
        {
         "name": "feature7",
         "dtype": "float64",
         "stats": {
          "unique_count": 9,
          "nan_count": 0,
          "min": "0.0",
          "max": "1.0000000000000002",
          "histogram": [
           {
            "bin_start": 0,
            "bin_end": 0.10000000000000002,
            "count": 7186
           },
           {
            "bin_start": 0.10000000000000002,
            "bin_end": 0.20000000000000004,
            "count": 1125
           },
           {
            "bin_start": 0.20000000000000004,
            "bin_end": 0.30000000000000004,
            "count": 3
           },
           {
            "bin_start": 0.30000000000000004,
            "bin_end": 0.4000000000000001,
            "count": 0
           },
           {
            "bin_start": 0.4000000000000001,
            "bin_end": 0.5000000000000001,
            "count": 1070
           },
           {
            "bin_start": 0.5000000000000001,
            "bin_end": 0.6000000000000001,
            "count": 0
           },
           {
            "bin_start": 0.6000000000000001,
            "bin_end": 0.7000000000000002,
            "count": 135
           },
           {
            "bin_start": 0.7000000000000002,
            "bin_end": 0.8000000000000002,
            "count": 32
           },
           {
            "bin_start": 0.8000000000000002,
            "bin_end": 0.9000000000000001,
            "count": 0
           },
           {
            "bin_start": 0.9000000000000001,
            "bin_end": 1.0000000000000002,
            "count": 6
           }
          ]
         }
        },
        {
         "name": "feature8",
         "dtype": "float64",
         "stats": {
          "unique_count": 6,
          "nan_count": 0,
          "min": "0.0",
          "max": "1.0",
          "histogram": [
           {
            "bin_start": 0,
            "bin_end": 0.1,
            "count": 6718
           },
           {
            "bin_start": 0.1,
            "bin_end": 0.2,
            "count": 0
           },
           {
            "bin_start": 0.2,
            "bin_end": 0.30000000000000004,
            "count": 2141
           },
           {
            "bin_start": 0.30000000000000004,
            "bin_end": 0.4,
            "count": 0
           },
           {
            "bin_start": 0.4,
            "bin_end": 0.5,
            "count": 607
           },
           {
            "bin_start": 0.5,
            "bin_end": 0.6000000000000001,
            "count": 0
           },
           {
            "bin_start": 0.6000000000000001,
            "bin_end": 0.7000000000000001,
            "count": 53
           },
           {
            "bin_start": 0.7000000000000001,
            "bin_end": 0.8,
            "count": 0
           },
           {
            "bin_start": 0.8,
            "bin_end": 0.9,
            "count": 16
           },
           {
            "bin_start": 0.9,
            "bin_end": 1,
            "count": 22
           }
          ]
         }
        },
        {
         "name": "feature9",
         "dtype": "float64",
         "stats": {
          "unique_count": 9,
          "nan_count": 0,
          "min": "0.0",
          "max": "1.0",
          "histogram": [
           {
            "bin_start": 0,
            "bin_end": 0.1,
            "count": 954
           },
           {
            "bin_start": 0.1,
            "bin_end": 0.2,
            "count": 4370
           },
           {
            "bin_start": 0.2,
            "bin_end": 0.30000000000000004,
            "count": 2775
           },
           {
            "bin_start": 0.30000000000000004,
            "bin_end": 0.4,
            "count": 1057
           },
           {
            "bin_start": 0.4,
            "bin_end": 0.5,
            "count": 0
           },
           {
            "bin_start": 0.5,
            "bin_end": 0.6000000000000001,
            "count": 278
           },
           {
            "bin_start": 0.6000000000000001,
            "bin_end": 0.7000000000000001,
            "count": 71
           },
           {
            "bin_start": 0.7000000000000001,
            "bin_end": 0.8,
            "count": 31
           },
           {
            "bin_start": 0.8,
            "bin_end": 0.9,
            "count": 11
           },
           {
            "bin_start": 0.9,
            "bin_end": 1,
            "count": 10
           }
          ]
         }
        },
        {
         "name": "feature10",
         "dtype": "float64"
        },
        {
         "name": "feature11",
         "dtype": "float64"
        },
        {
         "name": "feature12",
         "dtype": "float64"
        },
        {
         "name": "feature13",
         "dtype": "float64"
        },
        {
         "name": "feature14",
         "dtype": "float64"
        },
        {
         "name": "feature15",
         "dtype": "float64"
        },
        {
         "name": "feature16",
         "dtype": "float64"
        },
        {
         "name": "feature17",
         "dtype": "float64"
        },
        {
         "name": "feature18",
         "dtype": "float64"
        },
        {
         "name": "feature19",
         "dtype": "float64"
        },
        {
         "name": "feature20",
         "dtype": "float64"
        },
        {
         "name": "feature21",
         "dtype": "float64"
        },
        {
         "name": "feature22",
         "dtype": "float64"
        },
        {
         "name": "feature23",
         "dtype": "float64"
        },
        {
         "name": "feature24",
         "dtype": "float64"
        },
        {
         "name": "feature25",
         "dtype": "float64"
        },
        {
         "name": "feature26",
         "dtype": "float64"
        },
        {
         "name": "feature27",
         "dtype": "float64"
        },
        {
         "name": "feature28",
         "dtype": "float64"
        },
        {
         "name": "feature29",
         "dtype": "float64"
        },
        {
         "name": "feature30",
         "dtype": "float64"
        },
        {
         "name": "feature31",
         "dtype": "float64"
        },
        {
         "name": "feature32",
         "dtype": "float64"
        },
        {
         "name": "feature33",
         "dtype": "float64"
        },
        {
         "name": "feature34",
         "dtype": "float64"
        },
        {
         "name": "feature35",
         "dtype": "float64"
        },
        {
         "name": "feature36",
         "dtype": "float64"
        },
        {
         "name": "feature37",
         "dtype": "float64"
        },
        {
         "name": "feature38",
         "dtype": "float64"
        },
        {
         "name": "feature39",
         "dtype": "float64"
        },
        {
         "name": "feature40",
         "dtype": "float64"
        },
        {
         "name": "feature41",
         "dtype": "float64"
        },
        {
         "name": "feature42",
         "dtype": "float64"
        },
        {
         "name": "feature43",
         "dtype": "float64"
        },
        {
         "name": "feature44",
         "dtype": "float64"
        },
        {
         "name": "feature45",
         "dtype": "float64"
        },
        {
         "name": "feature46",
         "dtype": "float64"
        },
        {
         "name": "feature47",
         "dtype": "float64"
        },
        {
         "name": "feature48",
         "dtype": "float64"
        },
        {
         "name": "feature49",
         "dtype": "float64"
        },
        {
         "name": "feature50",
         "dtype": "float64"
        },
        {
         "name": "feature51",
         "dtype": "float64"
        },
        {
         "name": "feature52",
         "dtype": "float64"
        },
        {
         "name": "feature53",
         "dtype": "float64"
        },
        {
         "name": "feature54",
         "dtype": "float64"
        },
        {
         "name": "feature55",
         "dtype": "float64"
        },
        {
         "name": "feature56",
         "dtype": "float64"
        },
        {
         "name": "feature57",
         "dtype": "float64"
        },
        {
         "name": "feature58",
         "dtype": "int64"
        },
        {
         "name": "feature59",
         "dtype": "int64"
        },
        {
         "name": "feature60",
         "dtype": "int64"
        },
        {
         "name": "feature61",
         "dtype": "int64"
        },
        {
         "name": "feature62",
         "dtype": "int64"
        },
        {
         "name": "feature63",
         "dtype": "int64"
        },
        {
         "name": "feature64",
         "dtype": "int64"
        },
        {
         "name": "feature65",
         "dtype": "int64"
        },
        {
         "name": "feature66",
         "dtype": "int64"
        },
        {
         "name": "feature67",
         "dtype": "int64"
        },
        {
         "name": "feature68",
         "dtype": "int64"
        },
        {
         "name": "feature69",
         "dtype": "int64"
        },
        {
         "name": "feature70",
         "dtype": "int64"
        },
        {
         "name": "feature71",
         "dtype": "int64"
        },
        {
         "name": "label",
         "dtype": "int64"
        },
        {
         "name": "_deepnote_index_column",
         "dtype": "int64"
        }
       ],
       "rows": [
        {
         "feature0": 0.3022447668788747,
         "feature1": 0,
         "feature2": 0.2,
         "feature3": 0,
         "feature4": 1,
         "feature5": 1,
         "feature6": 0,
         "feature7": 0,
         "feature8": 0,
         "feature9": 0.125,
         "feature10": 0.125,
         "feature11": 0,
         "feature12": 0,
         "feature13": 0,
         "feature14": 0,
         "feature15": 0,
         "feature16": 0,
         "feature17": 0.4761904761904761,
         "feature18": 0,
         "feature19": 0,
         "feature20": 0,
         "feature21": 1,
         "feature22": 0,
         "feature23": 0,
         "feature24": 0,
         "feature25": 0,
         "feature26": 1,
         "feature27": 0,
         "feature28": 0,
         "feature29": 0,
         "feature30": 1,
         "feature31": 0,
         "feature32": 0,
         "feature33": 0,
         "feature34": 0,
         "feature35": 0,
         "feature36": 0,
         "feature37": 0,
         "feature38": 0,
         "feature39": 0,
         "feature40": 0,
         "feature41": 0,
         "feature42": 0,
         "feature43": 0.1111111111111111,
         "feature44": 0,
         "feature45": 0,
         "feature46": 10,
         "feature47": 0,
         "feature48": 0.2702702702702703,
         "feature49": 0,
         "feature50": 0.1379310344827586,
         "feature51": 0,
         "feature52": 0,
         "feature53": 0,
         "feature54": 1,
         "feature55": 0.1,
         "feature56": 1,
         "feature57": 0.4432989690721649,
         "feature58": 1,
         "feature59": 0,
         "feature60": 0,
         "feature61": 3,
         "feature62": 2,
         "feature63": 0,
         "feature64": 0,
         "feature65": 2,
         "feature66": 1,
         "feature67": 0,
         "feature68": 0,
         "feature69": 1,
         "feature70": 0,
         "feature71": 0,
         "label": 3,
         "_deepnote_index_column": 0
        },
        {
         "feature0": -0.2242977092712486,
         "feature1": 0,
         "feature2": 0.3,
         "feature3": 0,
         "feature4": 1,
         "feature5": 1,
         "feature6": 1,
         "feature7": 0,
         "feature8": 0,
         "feature9": 0.125,
         "feature10": 0.125,
         "feature11": 0,
         "feature12": 0,
         "feature13": 0,
         "feature14": 0,
         "feature15": 0,
         "feature16": 0,
         "feature17": 0.5714285714285714,
         "feature18": 0.1,
         "feature19": 0,
         "feature20": 0,
         "feature21": 1,
         "feature22": 0,
         "feature23": 0,
         "feature24": 0,
         "feature25": 0,
         "feature26": 1,
         "feature27": 0,
         "feature28": 0,
         "feature29": 0,
         "feature30": 1,
         "feature31": 0,
         "feature32": 0,
         "feature33": 0,
         "feature34": 0,
         "feature35": 0,
         "feature36": 0,
         "feature37": 0,
         "feature38": 0,
         "feature39": 0,
         "feature40": 0,
         "feature41": 0,
         "feature42": 0,
         "feature43": 0.1111111111111111,
         "feature44": 0.3333333333333333,
         "feature45": 8,
         "feature46": 12,
         "feature47": 0,
         "feature48": 0.3243243243243243,
         "feature49": 0,
         "feature50": 0.1379310344827586,
         "feature51": 0,
         "feature52": 0,
         "feature53": 0,
         "feature54": 1,
         "feature55": 0.1,
         "feature56": 1,
         "feature57": 0.6907216494845361,
         "feature58": 1,
         "feature59": 1,
         "feature60": 1,
         "feature61": 7,
         "feature62": 2,
         "feature63": 0,
         "feature64": 0,
         "feature65": 1,
         "feature66": 1,
         "feature67": 4,
         "feature68": 5,
         "feature69": 0,
         "feature70": 0,
         "feature71": 0,
         "label": 3,
         "_deepnote_index_column": 1
        },
        {
         "feature0": 0.2065097712152159,
         "feature1": 0,
         "feature2": 0.7000000000000001,
         "feature3": 0,
         "feature4": 1,
         "feature5": 1,
         "feature6": 0,
         "feature7": 0,
         "feature8": 0,
         "feature9": 0,
         "feature10": 0,
         "feature11": 0,
         "feature12": 0.1666666666666666,
         "feature13": 0.125,
         "feature14": 0,
         "feature15": 0,
         "feature16": 0,
         "feature17": 0.5238095238095237,
         "feature18": 0.1,
         "feature19": 0,
         "feature20": 1,
         "feature21": 0,
         "feature22": 1,
         "feature23": 0,
         "feature24": 0,
         "feature25": 0,
         "feature26": 0,
         "feature27": 0,
         "feature28": 1,
         "feature29": 0,
         "feature30": 1,
         "feature31": 0,
         "feature32": 0,
         "feature33": 0,
         "feature34": 0,
         "feature35": 0,
         "feature36": 0,
         "feature37": 0,
         "feature38": 0,
         "feature39": 0,
         "feature40": 0,
         "feature41": 0,
         "feature42": 0,
         "feature43": 0.1111111111111111,
         "feature44": 0.3333333333333333,
         "feature45": 8,
         "feature46": 0,
         "feature47": 11,
         "feature48": 0.2972972972972973,
         "feature49": 0.1428571428571428,
         "feature50": 0.0517241379310344,
         "feature51": 0,
         "feature52": 0,
         "feature53": 0,
         "feature54": 0,
         "feature55": 0,
         "feature56": 1,
         "feature57": 0.9484536082474226,
         "feature58": 1,
         "feature59": 2,
         "feature60": 2,
         "feature61": 4,
         "feature62": 0,
         "feature63": 0,
         "feature64": 0,
         "feature65": 1,
         "feature66": 1,
         "feature67": 4,
         "feature68": 0,
         "feature69": 0,
         "feature70": 0,
         "feature71": 0,
         "label": 3,
         "_deepnote_index_column": 2
        },
        {
         "feature0": 0.2065097712152159,
         "feature1": 0,
         "feature2": 0.4,
         "feature3": 0,
         "feature4": 1,
         "feature5": 1,
         "feature6": 1,
         "feature7": 0,
         "feature8": 0,
         "feature9": 0.25,
         "feature10": 0.25,
         "feature11": 0.1666666666666666,
         "feature12": 0.1666666666666666,
         "feature13": 0.25,
         "feature14": 0.1428571428571428,
         "feature15": 0.2,
         "feature16": 0.2142857142857142,
         "feature17": 0.4285714285714285,
         "feature18": 0.2,
         "feature19": 0.25,
         "feature20": 0,
         "feature21": 1,
         "feature22": 0,
         "feature23": 0,
         "feature24": 0,
         "feature25": 0,
         "feature26": 0,
         "feature27": 0,
         "feature28": 0,
         "feature29": 1,
         "feature30": 0,
         "feature31": 0,
         "feature32": 1,
         "feature33": 0,
         "feature34": 0,
         "feature35": 0,
         "feature36": 0,
         "feature37": 0,
         "feature38": 0,
         "feature39": 0,
         "feature40": 0,
         "feature41": 0,
         "feature42": 0.2222222222222222,
         "feature43": 0.2222222222222222,
         "feature44": 0,
         "feature45": 1,
         "feature46": 11,
         "feature47": 0,
         "feature48": 0.2972972972972973,
         "feature49": 0.2857142857142857,
         "feature50": 0.1954023103448275,
         "feature51": 0,
         "feature52": 0,
         "feature53": 0,
         "feature54": 1,
         "feature55": 0.3,
         "feature56": 1,
         "feature57": 0.1752577319587628,
         "feature58": 2,
         "feature59": 2,
         "feature60": 2,
         "feature61": 3,
         "feature62": 2,
         "feature63": 0,
         "feature64": 0,
         "feature65": 1,
         "feature66": 1,
         "feature67": 0,
         "feature68": 0,
         "feature69": 0,
         "feature70": 0,
         "feature71": 0,
         "label": 3,
         "_deepnote_index_column": 3
        },
        {
         "feature0": 0.2065097712152159,
         "feature1": 0,
         "feature2": 0.4,
         "feature3": 0,
         "feature4": 1,
         "feature5": 1,
         "feature6": 1,
         "feature7": 0,
         "feature8": 0,
         "feature9": 0.25,
         "feature10": 0.25,
         "feature11": 0.1666666666666666,
         "feature12": 0.1666666666666666,
         "feature13": 0.25,
         "feature14": 0.1428571428571428,
         "feature15": 0.2,
         "feature16": 0.2142857142857142,
         "feature17": 0.5238095238095237,
         "feature18": 0.1,
         "feature19": 0.25,
         "feature20": 0,
         "feature21": 0,
         "feature22": 1,
         "feature23": 0,
         "feature24": 1,
         "feature25": 0,
         "feature26": 0,
         "feature27": 0,
         "feature28": 0,
         "feature29": 0,
         "feature30": 0,
         "feature31": 1,
         "feature32": 0,
         "feature33": 0,
         "feature34": 0,
         "feature35": 0,
         "feature36": 0,
         "feature37": 0,
         "feature38": 0,
         "feature39": 0,
         "feature40": 0,
         "feature41": 0,
         "feature42": 0.2222222222222222,
         "feature43": 0.2222222222222222,
         "feature44": 0,
         "feature45": 1,
         "feature46": 11,
         "feature47": 0,
         "feature48": 0.2972972972972973,
         "feature49": 0.2857142857142857,
         "feature50": 0.1954023103448275,
         "feature51": 0,
         "feature52": 0,
         "feature53": 0,
         "feature54": 1,
         "feature55": 0.3,
         "feature56": 1,
         "feature57": 0.3814432989690721,
         "feature58": 2,
         "feature59": 2,
         "feature60": 2,
         "feature61": 4,
         "feature62": 2,
         "feature63": 0,
         "feature64": 0,
         "feature65": 1,
         "feature66": 1,
         "feature67": 0,
         "feature68": 0,
         "feature69": 0,
         "feature70": 0,
         "feature71": 0,
         "label": 3,
         "_deepnote_index_column": 4
        },
        {
         "feature0": 0.2065097712152159,
         "feature1": 0,
         "feature2": 0.4,
         "feature3": 0,
         "feature4": 1,
         "feature5": 1,
         "feature6": 1,
         "feature7": 0,
         "feature8": 0,
         "feature9": 0.25,
         "feature10": 0.25,
         "feature11": 0.1666666666666666,
         "feature12": 0.1666666666666666,
         "feature13": 0.25,
         "feature14": 0.1428571428571428,
         "feature15": 0.2,
         "feature16": 0.2142857142857142,
         "feature17": 0.5238095238095237,
         "feature18": 0.1,
         "feature19": 0.25,
         "feature20": 0,
         "feature21": 1,
         "feature22": 0,
         "feature23": 0,
         "feature24": 1,
         "feature25": 0,
         "feature26": 0,
         "feature27": 0,
         "feature28": 0,
         "feature29": 0,
         "feature30": 1,
         "feature31": 0,
         "feature32": 0,
         "feature33": 0,
         "feature34": 0,
         "feature35": 0,
         "feature36": 0,
         "feature37": 0,
         "feature38": 0,
         "feature39": 0,
         "feature40": 0,
         "feature41": 0,
         "feature42": 0.2222222222222222,
         "feature43": 0.2222222222222222,
         "feature44": 0,
         "feature45": 1,
         "feature46": 11,
         "feature47": 0,
         "feature48": 0.2972972972972973,
         "feature49": 0.2857142857142857,
         "feature50": 0.1954023103448275,
         "feature51": 0,
         "feature52": 0,
         "feature53": 0,
         "feature54": 1,
         "feature55": 0.3,
         "feature56": 1,
         "feature57": 0.3917525773195876,
         "feature58": 2,
         "feature59": 2,
         "feature60": 2,
         "feature61": 4,
         "feature62": 2,
         "feature63": 0,
         "feature64": 0,
         "feature65": 1,
         "feature66": 1,
         "feature67": 0,
         "feature68": 0,
         "feature69": 0,
         "feature70": 0,
         "feature71": 0,
         "label": 3,
         "_deepnote_index_column": 5
        },
        {
         "feature0": 0.2065097712152159,
         "feature1": 0,
         "feature2": 0.4,
         "feature3": 0,
         "feature4": 1,
         "feature5": 1,
         "feature6": 1,
         "feature7": 0,
         "feature8": 0,
         "feature9": 0.25,
         "feature10": 0.25,
         "feature11": 0.1666666666666666,
         "feature12": 0.1666666666666666,
         "feature13": 0.25,
         "feature14": 0.1428571428571428,
         "feature15": 0.2,
         "feature16": 0.2142857142857142,
         "feature17": 0.0952380952380952,
         "feature18": 0,
         "feature19": 0.25,
         "feature20": 0,
         "feature21": 0,
         "feature22": 1,
         "feature23": 1,
         "feature24": 0,
         "feature25": 0,
         "feature26": 0,
         "feature27": 0,
         "feature28": 0,
         "feature29": 0,
         "feature30": 0,
         "feature31": 0,
         "feature32": 1,
         "feature33": 0,
         "feature34": 0,
         "feature35": 0,
         "feature36": 0,
         "feature37": 0,
         "feature38": 0,
         "feature39": 0,
         "feature40": 0,
         "feature41": 0,
         "feature42": 0.2222222222222222,
         "feature43": 0.2222222222222222,
         "feature44": 0,
         "feature45": 1,
         "feature46": 11,
         "feature47": 0,
         "feature48": 0.2972972972972973,
         "feature49": 0.2857142857142857,
         "feature50": 0.1954023103448275,
         "feature51": 0,
         "feature52": 0,
         "feature53": 0,
         "feature54": 1,
         "feature55": 0.3,
         "feature56": 1,
         "feature57": 0.0824742268041237,
         "feature58": 2,
         "feature59": 2,
         "feature60": 2,
         "feature61": 1,
         "feature62": 2,
         "feature63": 0,
         "feature64": 0,
         "feature65": 1,
         "feature66": 1,
         "feature67": 0,
         "feature68": 0,
         "feature69": 0,
         "feature70": 0,
         "feature71": 0,
         "label": 3,
         "_deepnote_index_column": 6
        },
        {
         "feature0": -0.272165207103078,
         "feature1": 1,
         "feature2": 0.1,
         "feature3": 0,
         "feature4": 1,
         "feature5": 1,
         "feature6": 0,
         "feature7": 0,
         "feature8": 0,
         "feature9": 0.125,
         "feature10": 0.125,
         "feature11": 0.3333333333333333,
         "feature12": 0.1666666666666666,
         "feature13": 0.375,
         "feature14": 0.2857142857142857,
         "feature15": 0.1,
         "feature16": 0.2142857142857142,
         "feature17": 0,
         "feature18": 0,
         "feature19": 0.25,
         "feature20": 0,
         "feature21": 0,
         "feature22": 1,
         "feature23": 1,
         "feature24": 0,
         "feature25": 0,
         "feature26": 0,
         "feature27": 0,
         "feature28": 0,
         "feature29": 0,
         "feature30": 0,
         "feature31": 0,
         "feature32": 1,
         "feature33": 0,
         "feature34": 0,
         "feature35": 0,
         "feature36": 0,
         "feature37": 0,
         "feature38": 0,
         "feature39": 0,
         "feature40": 0,
         "feature41": 0,
         "feature42": 0.2222222222222222,
         "feature43": 0.2222222222222222,
         "feature44": 0,
         "feature45": 1,
         "feature46": 9,
         "feature47": 0,
         "feature48": 0.2702702702702703,
         "feature49": 0,
         "feature50": 0.6551724137931035,
         "feature51": 0,
         "feature52": 0,
         "feature53": 0,
         "feature54": 1,
         "feature55": 0.1,
         "feature56": 1,
         "feature57": 0.0721649484536082,
         "feature58": 0,
         "feature59": 0,
         "feature60": 1,
         "feature61": 0,
         "feature62": 2,
         "feature63": 0,
         "feature64": 0,
         "feature65": 2,
         "feature66": 1,
         "feature67": 0,
         "feature68": 0,
         "feature69": 0,
         "feature70": 0,
         "feature71": 0,
         "label": 3,
         "_deepnote_index_column": 7
        },
        {
         "feature0": -0.272165207103078,
         "feature1": 1,
         "feature2": 0.1,
         "feature3": 0,
         "feature4": 1,
         "feature5": 1,
         "feature6": 0,
         "feature7": 0,
         "feature8": 0,
         "feature9": 0.125,
         "feature10": 0.125,
         "feature11": 0.3333333333333333,
         "feature12": 0.1666666666666666,
         "feature13": 0.375,
         "feature14": 0.2857142857142857,
         "feature15": 0.1,
         "feature16": 0.2142857142857142,
         "feature17": 0.4285714285714285,
         "feature18": 0.1,
         "feature19": 0.25,
         "feature20": 0,
         "feature21": 1,
         "feature22": 0,
         "feature23": 0,
         "feature24": 1,
         "feature25": 0,
         "feature26": 0,
         "feature27": 0,
         "feature28": 0,
         "feature29": 0,
         "feature30": 1,
         "feature31": 0,
         "feature32": 0,
         "feature33": 0,
         "feature34": 0,
         "feature35": 0,
         "feature36": 0,
         "feature37": 0,
         "feature38": 0,
         "feature39": 0,
         "feature40": 0,
         "feature41": 0,
         "feature42": 0.2222222222222222,
         "feature43": 0.2222222222222222,
         "feature44": 0,
         "feature45": 1,
         "feature46": 9,
         "feature47": 0,
         "feature48": 0.2702702702702703,
         "feature49": 0,
         "feature50": 0.6551724137931035,
         "feature51": 0,
         "feature52": 0,
         "feature53": 0,
         "feature54": 1,
         "feature55": 0.1,
         "feature56": 1,
         "feature57": 0.3092783505154639,
         "feature58": 0,
         "feature59": 0,
         "feature60": 1,
         "feature61": 3,
         "feature62": 2,
         "feature63": 0,
         "feature64": 0,
         "feature65": 2,
         "feature66": 1,
         "feature67": 0,
         "feature68": 0,
         "feature69": 0,
         "feature70": 0,
         "feature71": 0,
         "label": 3,
         "_deepnote_index_column": 8
        },
        {
         "feature0": -0.272165207103078,
         "feature1": 1,
         "feature2": 0.1,
         "feature3": 0,
         "feature4": 1,
         "feature5": 1,
         "feature6": 0,
         "feature7": 0,
         "feature8": 0,
         "feature9": 0.125,
         "feature10": 0.125,
         "feature11": 0.3333333333333333,
         "feature12": 0.1666666666666666,
         "feature13": 0.375,
         "feature14": 0.2857142857142857,
         "feature15": 0.1,
         "feature16": 0.2142857142857142,
         "feature17": 0.5238095238095237,
         "feature18": 0.1,
         "feature19": 0.25,
         "feature20": 0,
         "feature21": 0,
         "feature22": 1,
         "feature23": 0,
         "feature24": 1,
         "feature25": 0,
         "feature26": 0,
         "feature27": 0,
         "feature28": 0,
         "feature29": 0,
         "feature30": 0,
         "feature31": 1,
         "feature32": 0,
         "feature33": 0,
         "feature34": 0,
         "feature35": 0,
         "feature36": 0,
         "feature37": 0,
         "feature38": 0,
         "feature39": 0,
         "feature40": 0,
         "feature41": 0,
         "feature42": 0.2222222222222222,
         "feature43": 0.2222222222222222,
         "feature44": 0,
         "feature45": 1,
         "feature46": 9,
         "feature47": 0,
         "feature48": 0.2702702702702703,
         "feature49": 0,
         "feature50": 0.6551724137931035,
         "feature51": 0,
         "feature52": 0,
         "feature53": 0,
         "feature54": 1,
         "feature55": 0.1,
         "feature56": 1,
         "feature57": 0.2886597938144329,
         "feature58": 0,
         "feature59": 0,
         "feature60": 1,
         "feature61": 4,
         "feature62": 2,
         "feature63": 0,
         "feature64": 0,
         "feature65": 2,
         "feature66": 1,
         "feature67": 0,
         "feature68": 0,
         "feature69": 0,
         "feature70": 0,
         "feature71": 0,
         "label": 3,
         "_deepnote_index_column": 9
        }
       ]
      },
      "text/plain": "      feature0  feature1  feature2  feature3  feature4  feature5  feature6  \\\n0     0.302245       0.0       0.2       0.0       1.0       1.0       0.0   \n1    -0.224298       0.0       0.3       0.0       1.0       1.0       1.0   \n2     0.206510       0.0       0.7       0.0       1.0       1.0       0.0   \n3     0.206510       0.0       0.4       0.0       1.0       1.0       1.0   \n4     0.206510       0.0       0.4       0.0       1.0       1.0       1.0   \n...        ...       ...       ...       ...       ...       ...       ...   \n9552 -0.750840       0.0       0.5       0.0       1.0       1.0       0.0   \n9553 -0.750840       0.0       0.5       0.0       1.0       1.0       0.0   \n9554 -0.750840       0.0       0.5       0.0       1.0       1.0       0.0   \n9555 -0.750840       0.0       0.5       0.0       1.0       1.0       0.0   \n9556 -0.750840       0.0       0.5       0.0       1.0       1.0       0.0   \n\n      feature7  feature8  feature9  ...  feature63  feature64  feature65  \\\n0          0.0       0.0     0.125  ...          0          0          2   \n1          0.0       0.0     0.125  ...          0          0          1   \n2          0.0       0.0     0.000  ...          0          0          1   \n3          0.0       0.0     0.250  ...          0          0          1   \n4          0.0       0.0     0.250  ...          0          0          1   \n...        ...       ...       ...  ...        ...        ...        ...   \n9552       0.0       0.0     0.250  ...          5          1          2   \n9553       0.0       0.0     0.250  ...          5          1          2   \n9554       0.0       0.0     0.250  ...          5          1          2   \n9555       0.0       0.0     0.250  ...          5          1          2   \n9556       0.0       0.0     0.250  ...          5          1          2   \n\n      feature66  feature67  feature68  feature69  feature70  feature71  label  \n0             1          0          0          1          0          0      3  \n1             1          4          5          0          0          0      3  \n2             1          4          0          0          0          0      3  \n3             1          0          0          0          0          0      3  \n4             1          0          0          0          0          0      3  \n...         ...        ...        ...        ...        ...        ...    ...  \n9552          2          0          1          0          0          3      1  \n9553          2          0          1          0          0          3      1  \n9554          2          0          1          0          0          3      1  \n9555          2          0          1          0          0          3      1  \n9556          2          0          1          0          0          3      1  \n\n[9557 rows x 73 columns]",
      "text/html": "<div>\n<style scoped>\n    .dataframe tbody tr th:only-of-type {\n        vertical-align: middle;\n    }\n\n    .dataframe tbody tr th {\n        vertical-align: top;\n    }\n\n    .dataframe thead th {\n        text-align: right;\n    }\n</style>\n<table border=\"1\" class=\"dataframe\">\n  <thead>\n    <tr style=\"text-align: right;\">\n      <th></th>\n      <th>feature0</th>\n      <th>feature1</th>\n      <th>feature2</th>\n      <th>feature3</th>\n      <th>feature4</th>\n      <th>feature5</th>\n      <th>feature6</th>\n      <th>feature7</th>\n      <th>feature8</th>\n      <th>feature9</th>\n      <th>...</th>\n      <th>feature63</th>\n      <th>feature64</th>\n      <th>feature65</th>\n      <th>feature66</th>\n      <th>feature67</th>\n      <th>feature68</th>\n      <th>feature69</th>\n      <th>feature70</th>\n      <th>feature71</th>\n      <th>label</th>\n    </tr>\n  </thead>\n  <tbody>\n    <tr>\n      <th>0</th>\n      <td>0.302245</td>\n      <td>0.0</td>\n      <td>0.2</td>\n      <td>0.0</td>\n      <td>1.0</td>\n      <td>1.0</td>\n      <td>0.0</td>\n      <td>0.0</td>\n      <td>0.0</td>\n      <td>0.125</td>\n      <td>...</td>\n      <td>0</td>\n      <td>0</td>\n      <td>2</td>\n      <td>1</td>\n      <td>0</td>\n      <td>0</td>\n      <td>1</td>\n      <td>0</td>\n      <td>0</td>\n      <td>3</td>\n    </tr>\n    <tr>\n      <th>1</th>\n      <td>-0.224298</td>\n      <td>0.0</td>\n      <td>0.3</td>\n      <td>0.0</td>\n      <td>1.0</td>\n      <td>1.0</td>\n      <td>1.0</td>\n      <td>0.0</td>\n      <td>0.0</td>\n      <td>0.125</td>\n      <td>...</td>\n      <td>0</td>\n      <td>0</td>\n      <td>1</td>\n      <td>1</td>\n      <td>4</td>\n      <td>5</td>\n      <td>0</td>\n      <td>0</td>\n      <td>0</td>\n      <td>3</td>\n    </tr>\n    <tr>\n      <th>2</th>\n      <td>0.206510</td>\n      <td>0.0</td>\n      <td>0.7</td>\n      <td>0.0</td>\n      <td>1.0</td>\n      <td>1.0</td>\n      <td>0.0</td>\n      <td>0.0</td>\n      <td>0.0</td>\n      <td>0.000</td>\n      <td>...</td>\n      <td>0</td>\n      <td>0</td>\n      <td>1</td>\n      <td>1</td>\n      <td>4</td>\n      <td>0</td>\n      <td>0</td>\n      <td>0</td>\n      <td>0</td>\n      <td>3</td>\n    </tr>\n    <tr>\n      <th>3</th>\n      <td>0.206510</td>\n      <td>0.0</td>\n      <td>0.4</td>\n      <td>0.0</td>\n      <td>1.0</td>\n      <td>1.0</td>\n      <td>1.0</td>\n      <td>0.0</td>\n      <td>0.0</td>\n      <td>0.250</td>\n      <td>...</td>\n      <td>0</td>\n      <td>0</td>\n      <td>1</td>\n      <td>1</td>\n      <td>0</td>\n      <td>0</td>\n      <td>0</td>\n      <td>0</td>\n      <td>0</td>\n      <td>3</td>\n    </tr>\n    <tr>\n      <th>4</th>\n      <td>0.206510</td>\n      <td>0.0</td>\n      <td>0.4</td>\n      <td>0.0</td>\n      <td>1.0</td>\n      <td>1.0</td>\n      <td>1.0</td>\n      <td>0.0</td>\n      <td>0.0</td>\n      <td>0.250</td>\n      <td>...</td>\n      <td>0</td>\n      <td>0</td>\n      <td>1</td>\n      <td>1</td>\n      <td>0</td>\n      <td>0</td>\n      <td>0</td>\n      <td>0</td>\n      <td>0</td>\n      <td>3</td>\n    </tr>\n    <tr>\n      <th>...</th>\n      <td>...</td>\n      <td>...</td>\n      <td>...</td>\n      <td>...</td>\n      <td>...</td>\n      <td>...</td>\n      <td>...</td>\n      <td>...</td>\n      <td>...</td>\n      <td>...</td>\n      <td>...</td>\n      <td>...</td>\n      <td>...</td>\n      <td>...</td>\n      <td>...</td>\n      <td>...</td>\n      <td>...</td>\n      <td>...</td>\n      <td>...</td>\n      <td>...</td>\n      <td>...</td>\n    </tr>\n    <tr>\n      <th>9552</th>\n      <td>-0.750840</td>\n      <td>0.0</td>\n      <td>0.5</td>\n      <td>0.0</td>\n      <td>1.0</td>\n      <td>1.0</td>\n      <td>0.0</td>\n      <td>0.0</td>\n      <td>0.0</td>\n      <td>0.250</td>\n      <td>...</td>\n      <td>5</td>\n      <td>1</td>\n      <td>2</td>\n      <td>2</td>\n      <td>0</td>\n      <td>1</td>\n      <td>0</td>\n      <td>0</td>\n      <td>3</td>\n      <td>1</td>\n    </tr>\n    <tr>\n      <th>9553</th>\n      <td>-0.750840</td>\n      <td>0.0</td>\n      <td>0.5</td>\n      <td>0.0</td>\n      <td>1.0</td>\n      <td>1.0</td>\n      <td>0.0</td>\n      <td>0.0</td>\n      <td>0.0</td>\n      <td>0.250</td>\n      <td>...</td>\n      <td>5</td>\n      <td>1</td>\n      <td>2</td>\n      <td>2</td>\n      <td>0</td>\n      <td>1</td>\n      <td>0</td>\n      <td>0</td>\n      <td>3</td>\n      <td>1</td>\n    </tr>\n    <tr>\n      <th>9554</th>\n      <td>-0.750840</td>\n      <td>0.0</td>\n      <td>0.5</td>\n      <td>0.0</td>\n      <td>1.0</td>\n      <td>1.0</td>\n      <td>0.0</td>\n      <td>0.0</td>\n      <td>0.0</td>\n      <td>0.250</td>\n      <td>...</td>\n      <td>5</td>\n      <td>1</td>\n      <td>2</td>\n      <td>2</td>\n      <td>0</td>\n      <td>1</td>\n      <td>0</td>\n      <td>0</td>\n      <td>3</td>\n      <td>1</td>\n    </tr>\n    <tr>\n      <th>9555</th>\n      <td>-0.750840</td>\n      <td>0.0</td>\n      <td>0.5</td>\n      <td>0.0</td>\n      <td>1.0</td>\n      <td>1.0</td>\n      <td>0.0</td>\n      <td>0.0</td>\n      <td>0.0</td>\n      <td>0.250</td>\n      <td>...</td>\n      <td>5</td>\n      <td>1</td>\n      <td>2</td>\n      <td>2</td>\n      <td>0</td>\n      <td>1</td>\n      <td>0</td>\n      <td>0</td>\n      <td>3</td>\n      <td>1</td>\n    </tr>\n    <tr>\n      <th>9556</th>\n      <td>-0.750840</td>\n      <td>0.0</td>\n      <td>0.5</td>\n      <td>0.0</td>\n      <td>1.0</td>\n      <td>1.0</td>\n      <td>0.0</td>\n      <td>0.0</td>\n      <td>0.0</td>\n      <td>0.250</td>\n      <td>...</td>\n      <td>5</td>\n      <td>1</td>\n      <td>2</td>\n      <td>2</td>\n      <td>0</td>\n      <td>1</td>\n      <td>0</td>\n      <td>0</td>\n      <td>3</td>\n      <td>1</td>\n    </tr>\n  </tbody>\n</table>\n<p>9557 rows × 73 columns</p>\n</div>"
     },
     "metadata": {}
    }
   ]
  },
  {
   "cell_type": "code",
   "metadata": {
    "cell_id": "d6a60478-0169-40d8-ae63-2c9f42663696",
    "tags": [],
    "deepnote_to_be_reexecuted": false,
    "source_hash": "dac68dde",
    "execution_start": 1650252154315,
    "execution_millis": 189,
    "deepnote_cell_type": "code"
   },
   "source": "data_df.head()",
   "execution_count": null,
   "outputs": [
    {
     "output_type": "execute_result",
     "execution_count": 4,
     "data": {
      "application/vnd.deepnote.dataframe.v3+json": {
       "column_count": 73,
       "row_count": 5,
       "columns": [
        {
         "name": "feature0",
         "dtype": "float64",
         "stats": {
          "unique_count": 3,
          "nan_count": 0,
          "min": "-0.2242977092712486",
          "max": "0.3022447668788747",
          "histogram": [
           {
            "bin_start": -0.2242977092712486,
            "bin_end": -0.17164346165623626,
            "count": 1
           },
           {
            "bin_start": -0.17164346165623626,
            "bin_end": -0.11898921404122394,
            "count": 0
           },
           {
            "bin_start": -0.11898921404122394,
            "bin_end": -0.06633496642621162,
            "count": 0
           },
           {
            "bin_start": -0.06633496642621162,
            "bin_end": -0.013680718811199283,
            "count": 0
           },
           {
            "bin_start": -0.013680718811199283,
            "bin_end": 0.03897352880381305,
            "count": 0
           },
           {
            "bin_start": 0.03897352880381305,
            "bin_end": 0.09162777641882536,
            "count": 0
           },
           {
            "bin_start": 0.09162777641882536,
            "bin_end": 0.14428202403383772,
            "count": 0
           },
           {
            "bin_start": 0.14428202403383772,
            "bin_end": 0.19693627164885003,
            "count": 0
           },
           {
            "bin_start": 0.19693627164885003,
            "bin_end": 0.24959051926386233,
            "count": 3
           },
           {
            "bin_start": 0.24959051926386233,
            "bin_end": 0.3022447668788747,
            "count": 1
           }
          ]
         }
        },
        {
         "name": "feature1",
         "dtype": "float64",
         "stats": {
          "unique_count": 1,
          "nan_count": 0,
          "min": "0.0",
          "max": "0.0",
          "histogram": [
           {
            "bin_start": -0.5,
            "bin_end": -0.4,
            "count": 0
           },
           {
            "bin_start": -0.4,
            "bin_end": -0.3,
            "count": 0
           },
           {
            "bin_start": -0.3,
            "bin_end": -0.19999999999999996,
            "count": 0
           },
           {
            "bin_start": -0.19999999999999996,
            "bin_end": -0.09999999999999998,
            "count": 0
           },
           {
            "bin_start": -0.09999999999999998,
            "bin_end": 0,
            "count": 0
           },
           {
            "bin_start": 0,
            "bin_end": 0.10000000000000009,
            "count": 5
           },
           {
            "bin_start": 0.10000000000000009,
            "bin_end": 0.20000000000000007,
            "count": 0
           },
           {
            "bin_start": 0.20000000000000007,
            "bin_end": 0.30000000000000004,
            "count": 0
           },
           {
            "bin_start": 0.30000000000000004,
            "bin_end": 0.4,
            "count": 0
           },
           {
            "bin_start": 0.4,
            "bin_end": 0.5,
            "count": 0
           }
          ]
         }
        },
        {
         "name": "feature2",
         "dtype": "float64",
         "stats": {
          "unique_count": 4,
          "nan_count": 0,
          "min": "0.2",
          "max": "0.7000000000000001",
          "histogram": [
           {
            "bin_start": 0.2,
            "bin_end": 0.25,
            "count": 1
           },
           {
            "bin_start": 0.25,
            "bin_end": 0.30000000000000004,
            "count": 1
           },
           {
            "bin_start": 0.30000000000000004,
            "bin_end": 0.35000000000000003,
            "count": 0
           },
           {
            "bin_start": 0.35000000000000003,
            "bin_end": 0.4,
            "count": 0
           },
           {
            "bin_start": 0.4,
            "bin_end": 0.45,
            "count": 2
           },
           {
            "bin_start": 0.45,
            "bin_end": 0.5,
            "count": 0
           },
           {
            "bin_start": 0.5,
            "bin_end": 0.55,
            "count": 0
           },
           {
            "bin_start": 0.55,
            "bin_end": 0.6000000000000001,
            "count": 0
           },
           {
            "bin_start": 0.6000000000000001,
            "bin_end": 0.65,
            "count": 0
           },
           {
            "bin_start": 0.65,
            "bin_end": 0.7000000000000001,
            "count": 1
           }
          ]
         }
        },
        {
         "name": "feature3",
         "dtype": "float64",
         "stats": {
          "unique_count": 1,
          "nan_count": 0,
          "min": "0.0",
          "max": "0.0",
          "histogram": [
           {
            "bin_start": -0.5,
            "bin_end": -0.4,
            "count": 0
           },
           {
            "bin_start": -0.4,
            "bin_end": -0.3,
            "count": 0
           },
           {
            "bin_start": -0.3,
            "bin_end": -0.19999999999999996,
            "count": 0
           },
           {
            "bin_start": -0.19999999999999996,
            "bin_end": -0.09999999999999998,
            "count": 0
           },
           {
            "bin_start": -0.09999999999999998,
            "bin_end": 0,
            "count": 0
           },
           {
            "bin_start": 0,
            "bin_end": 0.10000000000000009,
            "count": 5
           },
           {
            "bin_start": 0.10000000000000009,
            "bin_end": 0.20000000000000007,
            "count": 0
           },
           {
            "bin_start": 0.20000000000000007,
            "bin_end": 0.30000000000000004,
            "count": 0
           },
           {
            "bin_start": 0.30000000000000004,
            "bin_end": 0.4,
            "count": 0
           },
           {
            "bin_start": 0.4,
            "bin_end": 0.5,
            "count": 0
           }
          ]
         }
        },
        {
         "name": "feature4",
         "dtype": "float64",
         "stats": {
          "unique_count": 1,
          "nan_count": 0,
          "min": "1.0",
          "max": "1.0",
          "histogram": [
           {
            "bin_start": 0.5,
            "bin_end": 0.6,
            "count": 0
           },
           {
            "bin_start": 0.6,
            "bin_end": 0.7,
            "count": 0
           },
           {
            "bin_start": 0.7,
            "bin_end": 0.8,
            "count": 0
           },
           {
            "bin_start": 0.8,
            "bin_end": 0.9,
            "count": 0
           },
           {
            "bin_start": 0.9,
            "bin_end": 1,
            "count": 0
           },
           {
            "bin_start": 1,
            "bin_end": 1.1,
            "count": 5
           },
           {
            "bin_start": 1.1,
            "bin_end": 1.2000000000000002,
            "count": 0
           },
           {
            "bin_start": 1.2000000000000002,
            "bin_end": 1.3,
            "count": 0
           },
           {
            "bin_start": 1.3,
            "bin_end": 1.4,
            "count": 0
           },
           {
            "bin_start": 1.4,
            "bin_end": 1.5,
            "count": 0
           }
          ]
         }
        },
        {
         "name": "feature5",
         "dtype": "float64",
         "stats": {
          "unique_count": 1,
          "nan_count": 0,
          "min": "1.0",
          "max": "1.0",
          "histogram": [
           {
            "bin_start": 0.5,
            "bin_end": 0.6,
            "count": 0
           },
           {
            "bin_start": 0.6,
            "bin_end": 0.7,
            "count": 0
           },
           {
            "bin_start": 0.7,
            "bin_end": 0.8,
            "count": 0
           },
           {
            "bin_start": 0.8,
            "bin_end": 0.9,
            "count": 0
           },
           {
            "bin_start": 0.9,
            "bin_end": 1,
            "count": 0
           },
           {
            "bin_start": 1,
            "bin_end": 1.1,
            "count": 5
           },
           {
            "bin_start": 1.1,
            "bin_end": 1.2000000000000002,
            "count": 0
           },
           {
            "bin_start": 1.2000000000000002,
            "bin_end": 1.3,
            "count": 0
           },
           {
            "bin_start": 1.3,
            "bin_end": 1.4,
            "count": 0
           },
           {
            "bin_start": 1.4,
            "bin_end": 1.5,
            "count": 0
           }
          ]
         }
        },
        {
         "name": "feature6",
         "dtype": "float64",
         "stats": {
          "unique_count": 2,
          "nan_count": 0,
          "min": "0.0",
          "max": "1.0",
          "histogram": [
           {
            "bin_start": 0,
            "bin_end": 0.1,
            "count": 2
           },
           {
            "bin_start": 0.1,
            "bin_end": 0.2,
            "count": 0
           },
           {
            "bin_start": 0.2,
            "bin_end": 0.30000000000000004,
            "count": 0
           },
           {
            "bin_start": 0.30000000000000004,
            "bin_end": 0.4,
            "count": 0
           },
           {
            "bin_start": 0.4,
            "bin_end": 0.5,
            "count": 0
           },
           {
            "bin_start": 0.5,
            "bin_end": 0.6000000000000001,
            "count": 0
           },
           {
            "bin_start": 0.6000000000000001,
            "bin_end": 0.7000000000000001,
            "count": 0
           },
           {
            "bin_start": 0.7000000000000001,
            "bin_end": 0.8,
            "count": 0
           },
           {
            "bin_start": 0.8,
            "bin_end": 0.9,
            "count": 0
           },
           {
            "bin_start": 0.9,
            "bin_end": 1,
            "count": 3
           }
          ]
         }
        },
        {
         "name": "feature7",
         "dtype": "float64",
         "stats": {
          "unique_count": 1,
          "nan_count": 0,
          "min": "0.0",
          "max": "0.0",
          "histogram": [
           {
            "bin_start": -0.5,
            "bin_end": -0.4,
            "count": 0
           },
           {
            "bin_start": -0.4,
            "bin_end": -0.3,
            "count": 0
           },
           {
            "bin_start": -0.3,
            "bin_end": -0.19999999999999996,
            "count": 0
           },
           {
            "bin_start": -0.19999999999999996,
            "bin_end": -0.09999999999999998,
            "count": 0
           },
           {
            "bin_start": -0.09999999999999998,
            "bin_end": 0,
            "count": 0
           },
           {
            "bin_start": 0,
            "bin_end": 0.10000000000000009,
            "count": 5
           },
           {
            "bin_start": 0.10000000000000009,
            "bin_end": 0.20000000000000007,
            "count": 0
           },
           {
            "bin_start": 0.20000000000000007,
            "bin_end": 0.30000000000000004,
            "count": 0
           },
           {
            "bin_start": 0.30000000000000004,
            "bin_end": 0.4,
            "count": 0
           },
           {
            "bin_start": 0.4,
            "bin_end": 0.5,
            "count": 0
           }
          ]
         }
        },
        {
         "name": "feature8",
         "dtype": "float64",
         "stats": {
          "unique_count": 1,
          "nan_count": 0,
          "min": "0.0",
          "max": "0.0",
          "histogram": [
           {
            "bin_start": -0.5,
            "bin_end": -0.4,
            "count": 0
           },
           {
            "bin_start": -0.4,
            "bin_end": -0.3,
            "count": 0
           },
           {
            "bin_start": -0.3,
            "bin_end": -0.19999999999999996,
            "count": 0
           },
           {
            "bin_start": -0.19999999999999996,
            "bin_end": -0.09999999999999998,
            "count": 0
           },
           {
            "bin_start": -0.09999999999999998,
            "bin_end": 0,
            "count": 0
           },
           {
            "bin_start": 0,
            "bin_end": 0.10000000000000009,
            "count": 5
           },
           {
            "bin_start": 0.10000000000000009,
            "bin_end": 0.20000000000000007,
            "count": 0
           },
           {
            "bin_start": 0.20000000000000007,
            "bin_end": 0.30000000000000004,
            "count": 0
           },
           {
            "bin_start": 0.30000000000000004,
            "bin_end": 0.4,
            "count": 0
           },
           {
            "bin_start": 0.4,
            "bin_end": 0.5,
            "count": 0
           }
          ]
         }
        },
        {
         "name": "feature9",
         "dtype": "float64",
         "stats": {
          "unique_count": 3,
          "nan_count": 0,
          "min": "0.0",
          "max": "0.25",
          "histogram": [
           {
            "bin_start": 0,
            "bin_end": 0.025,
            "count": 1
           },
           {
            "bin_start": 0.025,
            "bin_end": 0.05,
            "count": 0
           },
           {
            "bin_start": 0.05,
            "bin_end": 0.07500000000000001,
            "count": 0
           },
           {
            "bin_start": 0.07500000000000001,
            "bin_end": 0.1,
            "count": 0
           },
           {
            "bin_start": 0.1,
            "bin_end": 0.125,
            "count": 0
           },
           {
            "bin_start": 0.125,
            "bin_end": 0.15000000000000002,
            "count": 2
           },
           {
            "bin_start": 0.15000000000000002,
            "bin_end": 0.17500000000000002,
            "count": 0
           },
           {
            "bin_start": 0.17500000000000002,
            "bin_end": 0.2,
            "count": 0
           },
           {
            "bin_start": 0.2,
            "bin_end": 0.225,
            "count": 0
           },
           {
            "bin_start": 0.225,
            "bin_end": 0.25,
            "count": 2
           }
          ]
         }
        },
        {
         "name": "feature10",
         "dtype": "float64",
         "stats": {
          "unique_count": 3,
          "nan_count": 0,
          "min": "0.0",
          "max": "0.25",
          "histogram": [
           {
            "bin_start": 0,
            "bin_end": 0.025,
            "count": 1
           },
           {
            "bin_start": 0.025,
            "bin_end": 0.05,
            "count": 0
           },
           {
            "bin_start": 0.05,
            "bin_end": 0.07500000000000001,
            "count": 0
           },
           {
            "bin_start": 0.07500000000000001,
            "bin_end": 0.1,
            "count": 0
           },
           {
            "bin_start": 0.1,
            "bin_end": 0.125,
            "count": 0
           },
           {
            "bin_start": 0.125,
            "bin_end": 0.15000000000000002,
            "count": 2
           },
           {
            "bin_start": 0.15000000000000002,
            "bin_end": 0.17500000000000002,
            "count": 0
           },
           {
            "bin_start": 0.17500000000000002,
            "bin_end": 0.2,
            "count": 0
           },
           {
            "bin_start": 0.2,
            "bin_end": 0.225,
            "count": 0
           },
           {
            "bin_start": 0.225,
            "bin_end": 0.25,
            "count": 2
           }
          ]
         }
        },
        {
         "name": "feature11",
         "dtype": "float64",
         "stats": {
          "unique_count": 2,
          "nan_count": 0,
          "min": "0.0",
          "max": "0.1666666666666666",
          "histogram": [
           {
            "bin_start": 0,
            "bin_end": 0.01666666666666666,
            "count": 3
           },
           {
            "bin_start": 0.01666666666666666,
            "bin_end": 0.03333333333333332,
            "count": 0
           },
           {
            "bin_start": 0.03333333333333332,
            "bin_end": 0.049999999999999975,
            "count": 0
           },
           {
            "bin_start": 0.049999999999999975,
            "bin_end": 0.06666666666666664,
            "count": 0
           },
           {
            "bin_start": 0.06666666666666664,
            "bin_end": 0.0833333333333333,
            "count": 0
           },
           {
            "bin_start": 0.0833333333333333,
            "bin_end": 0.09999999999999995,
            "count": 0
           },
           {
            "bin_start": 0.09999999999999995,
            "bin_end": 0.11666666666666661,
            "count": 0
           },
           {
            "bin_start": 0.11666666666666661,
            "bin_end": 0.13333333333333328,
            "count": 0
           },
           {
            "bin_start": 0.13333333333333328,
            "bin_end": 0.14999999999999994,
            "count": 0
           },
           {
            "bin_start": 0.14999999999999994,
            "bin_end": 0.1666666666666666,
            "count": 2
           }
          ]
         }
        },
        {
         "name": "feature12",
         "dtype": "float64",
         "stats": {
          "unique_count": 2,
          "nan_count": 0,
          "min": "0.0",
          "max": "0.1666666666666666",
          "histogram": [
           {
            "bin_start": 0,
            "bin_end": 0.01666666666666666,
            "count": 2
           },
           {
            "bin_start": 0.01666666666666666,
            "bin_end": 0.03333333333333332,
            "count": 0
           },
           {
            "bin_start": 0.03333333333333332,
            "bin_end": 0.049999999999999975,
            "count": 0
           },
           {
            "bin_start": 0.049999999999999975,
            "bin_end": 0.06666666666666664,
            "count": 0
           },
           {
            "bin_start": 0.06666666666666664,
            "bin_end": 0.0833333333333333,
            "count": 0
           },
           {
            "bin_start": 0.0833333333333333,
            "bin_end": 0.09999999999999995,
            "count": 0
           },
           {
            "bin_start": 0.09999999999999995,
            "bin_end": 0.11666666666666661,
            "count": 0
           },
           {
            "bin_start": 0.11666666666666661,
            "bin_end": 0.13333333333333328,
            "count": 0
           },
           {
            "bin_start": 0.13333333333333328,
            "bin_end": 0.14999999999999994,
            "count": 0
           },
           {
            "bin_start": 0.14999999999999994,
            "bin_end": 0.1666666666666666,
            "count": 3
           }
          ]
         }
        },
        {
         "name": "feature13",
         "dtype": "float64",
         "stats": {
          "unique_count": 3,
          "nan_count": 0,
          "min": "0.0",
          "max": "0.25",
          "histogram": [
           {
            "bin_start": 0,
            "bin_end": 0.025,
            "count": 2
           },
           {
            "bin_start": 0.025,
            "bin_end": 0.05,
            "count": 0
           },
           {
            "bin_start": 0.05,
            "bin_end": 0.07500000000000001,
            "count": 0
           },
           {
            "bin_start": 0.07500000000000001,
            "bin_end": 0.1,
            "count": 0
           },
           {
            "bin_start": 0.1,
            "bin_end": 0.125,
            "count": 0
           },
           {
            "bin_start": 0.125,
            "bin_end": 0.15000000000000002,
            "count": 1
           },
           {
            "bin_start": 0.15000000000000002,
            "bin_end": 0.17500000000000002,
            "count": 0
           },
           {
            "bin_start": 0.17500000000000002,
            "bin_end": 0.2,
            "count": 0
           },
           {
            "bin_start": 0.2,
            "bin_end": 0.225,
            "count": 0
           },
           {
            "bin_start": 0.225,
            "bin_end": 0.25,
            "count": 2
           }
          ]
         }
        },
        {
         "name": "feature14",
         "dtype": "float64",
         "stats": {
          "unique_count": 2,
          "nan_count": 0,
          "min": "0.0",
          "max": "0.1428571428571428",
          "histogram": [
           {
            "bin_start": 0,
            "bin_end": 0.01428571428571428,
            "count": 3
           },
           {
            "bin_start": 0.01428571428571428,
            "bin_end": 0.02857142857142856,
            "count": 0
           },
           {
            "bin_start": 0.02857142857142856,
            "bin_end": 0.042857142857142844,
            "count": 0
           },
           {
            "bin_start": 0.042857142857142844,
            "bin_end": 0.05714285714285712,
            "count": 0
           },
           {
            "bin_start": 0.05714285714285712,
            "bin_end": 0.0714285714285714,
            "count": 0
           },
           {
            "bin_start": 0.0714285714285714,
            "bin_end": 0.08571428571428569,
            "count": 0
           },
           {
            "bin_start": 0.08571428571428569,
            "bin_end": 0.09999999999999996,
            "count": 0
           },
           {
            "bin_start": 0.09999999999999996,
            "bin_end": 0.11428571428571424,
            "count": 0
           },
           {
            "bin_start": 0.11428571428571424,
            "bin_end": 0.12857142857142853,
            "count": 0
           },
           {
            "bin_start": 0.12857142857142853,
            "bin_end": 0.1428571428571428,
            "count": 2
           }
          ]
         }
        },
        {
         "name": "feature15",
         "dtype": "float64",
         "stats": {
          "unique_count": 2,
          "nan_count": 0,
          "min": "0.0",
          "max": "0.2",
          "histogram": [
           {
            "bin_start": 0,
            "bin_end": 0.02,
            "count": 3
           },
           {
            "bin_start": 0.02,
            "bin_end": 0.04,
            "count": 0
           },
           {
            "bin_start": 0.04,
            "bin_end": 0.06,
            "count": 0
           },
           {
            "bin_start": 0.06,
            "bin_end": 0.08,
            "count": 0
           },
           {
            "bin_start": 0.08,
            "bin_end": 0.1,
            "count": 0
           },
           {
            "bin_start": 0.1,
            "bin_end": 0.12,
            "count": 0
           },
           {
            "bin_start": 0.12,
            "bin_end": 0.14,
            "count": 0
           },
           {
            "bin_start": 0.14,
            "bin_end": 0.16,
            "count": 0
           },
           {
            "bin_start": 0.16,
            "bin_end": 0.18,
            "count": 0
           },
           {
            "bin_start": 0.18,
            "bin_end": 0.2,
            "count": 2
           }
          ]
         }
        },
        {
         "name": "feature16",
         "dtype": "float64",
         "stats": {
          "unique_count": 2,
          "nan_count": 0,
          "min": "0.0",
          "max": "0.2142857142857142",
          "histogram": [
           {
            "bin_start": 0,
            "bin_end": 0.02142857142857142,
            "count": 3
           },
           {
            "bin_start": 0.02142857142857142,
            "bin_end": 0.04285714285714284,
            "count": 0
           },
           {
            "bin_start": 0.04285714285714284,
            "bin_end": 0.06428571428571425,
            "count": 0
           },
           {
            "bin_start": 0.06428571428571425,
            "bin_end": 0.08571428571428567,
            "count": 0
           },
           {
            "bin_start": 0.08571428571428567,
            "bin_end": 0.1071428571428571,
            "count": 0
           },
           {
            "bin_start": 0.1071428571428571,
            "bin_end": 0.1285714285714285,
            "count": 0
           },
           {
            "bin_start": 0.1285714285714285,
            "bin_end": 0.14999999999999994,
            "count": 0
           },
           {
            "bin_start": 0.14999999999999994,
            "bin_end": 0.17142857142857135,
            "count": 0
           },
           {
            "bin_start": 0.17142857142857135,
            "bin_end": 0.19285714285714275,
            "count": 0
           },
           {
            "bin_start": 0.19285714285714275,
            "bin_end": 0.2142857142857142,
            "count": 2
           }
          ]
         }
        },
        {
         "name": "feature17",
         "dtype": "float64",
         "stats": {
          "unique_count": 4,
          "nan_count": 0,
          "min": "0.4285714285714285",
          "max": "0.5714285714285714",
          "histogram": [
           {
            "bin_start": 0.4285714285714285,
            "bin_end": 0.4428571428571428,
            "count": 1
           },
           {
            "bin_start": 0.4428571428571428,
            "bin_end": 0.4571428571428571,
            "count": 0
           },
           {
            "bin_start": 0.4571428571428571,
            "bin_end": 0.47142857142857136,
            "count": 0
           },
           {
            "bin_start": 0.47142857142857136,
            "bin_end": 0.48571428571428565,
            "count": 1
           },
           {
            "bin_start": 0.48571428571428565,
            "bin_end": 0.49999999999999994,
            "count": 0
           },
           {
            "bin_start": 0.49999999999999994,
            "bin_end": 0.5142857142857142,
            "count": 0
           },
           {
            "bin_start": 0.5142857142857142,
            "bin_end": 0.5285714285714285,
            "count": 2
           },
           {
            "bin_start": 0.5285714285714285,
            "bin_end": 0.5428571428571428,
            "count": 0
           },
           {
            "bin_start": 0.5428571428571428,
            "bin_end": 0.5571428571428572,
            "count": 0
           },
           {
            "bin_start": 0.5571428571428572,
            "bin_end": 0.5714285714285714,
            "count": 1
           }
          ]
         }
        },
        {
         "name": "feature18",
         "dtype": "float64",
         "stats": {
          "unique_count": 3,
          "nan_count": 0,
          "min": "0.0",
          "max": "0.2",
          "histogram": [
           {
            "bin_start": 0,
            "bin_end": 0.02,
            "count": 1
           },
           {
            "bin_start": 0.02,
            "bin_end": 0.04,
            "count": 0
           },
           {
            "bin_start": 0.04,
            "bin_end": 0.06,
            "count": 0
           },
           {
            "bin_start": 0.06,
            "bin_end": 0.08,
            "count": 0
           },
           {
            "bin_start": 0.08,
            "bin_end": 0.1,
            "count": 0
           },
           {
            "bin_start": 0.1,
            "bin_end": 0.12,
            "count": 3
           },
           {
            "bin_start": 0.12,
            "bin_end": 0.14,
            "count": 0
           },
           {
            "bin_start": 0.14,
            "bin_end": 0.16,
            "count": 0
           },
           {
            "bin_start": 0.16,
            "bin_end": 0.18,
            "count": 0
           },
           {
            "bin_start": 0.18,
            "bin_end": 0.2,
            "count": 1
           }
          ]
         }
        },
        {
         "name": "feature19",
         "dtype": "float64",
         "stats": {
          "unique_count": 2,
          "nan_count": 0,
          "min": "0.0",
          "max": "0.25",
          "histogram": [
           {
            "bin_start": 0,
            "bin_end": 0.025,
            "count": 3
           },
           {
            "bin_start": 0.025,
            "bin_end": 0.05,
            "count": 0
           },
           {
            "bin_start": 0.05,
            "bin_end": 0.07500000000000001,
            "count": 0
           },
           {
            "bin_start": 0.07500000000000001,
            "bin_end": 0.1,
            "count": 0
           },
           {
            "bin_start": 0.1,
            "bin_end": 0.125,
            "count": 0
           },
           {
            "bin_start": 0.125,
            "bin_end": 0.15000000000000002,
            "count": 0
           },
           {
            "bin_start": 0.15000000000000002,
            "bin_end": 0.17500000000000002,
            "count": 0
           },
           {
            "bin_start": 0.17500000000000002,
            "bin_end": 0.2,
            "count": 0
           },
           {
            "bin_start": 0.2,
            "bin_end": 0.225,
            "count": 0
           },
           {
            "bin_start": 0.225,
            "bin_end": 0.25,
            "count": 2
           }
          ]
         }
        },
        {
         "name": "feature20",
         "dtype": "float64",
         "stats": {
          "unique_count": 2,
          "nan_count": 0,
          "min": "0.0",
          "max": "1.0",
          "histogram": [
           {
            "bin_start": 0,
            "bin_end": 0.1,
            "count": 4
           },
           {
            "bin_start": 0.1,
            "bin_end": 0.2,
            "count": 0
           },
           {
            "bin_start": 0.2,
            "bin_end": 0.30000000000000004,
            "count": 0
           },
           {
            "bin_start": 0.30000000000000004,
            "bin_end": 0.4,
            "count": 0
           },
           {
            "bin_start": 0.4,
            "bin_end": 0.5,
            "count": 0
           },
           {
            "bin_start": 0.5,
            "bin_end": 0.6000000000000001,
            "count": 0
           },
           {
            "bin_start": 0.6000000000000001,
            "bin_end": 0.7000000000000001,
            "count": 0
           },
           {
            "bin_start": 0.7000000000000001,
            "bin_end": 0.8,
            "count": 0
           },
           {
            "bin_start": 0.8,
            "bin_end": 0.9,
            "count": 0
           },
           {
            "bin_start": 0.9,
            "bin_end": 1,
            "count": 1
           }
          ]
         }
        },
        {
         "name": "feature21",
         "dtype": "float64",
         "stats": {
          "unique_count": 2,
          "nan_count": 0,
          "min": "0.0",
          "max": "1.0",
          "histogram": [
           {
            "bin_start": 0,
            "bin_end": 0.1,
            "count": 2
           },
           {
            "bin_start": 0.1,
            "bin_end": 0.2,
            "count": 0
           },
           {
            "bin_start": 0.2,
            "bin_end": 0.30000000000000004,
            "count": 0
           },
           {
            "bin_start": 0.30000000000000004,
            "bin_end": 0.4,
            "count": 0
           },
           {
            "bin_start": 0.4,
            "bin_end": 0.5,
            "count": 0
           },
           {
            "bin_start": 0.5,
            "bin_end": 0.6000000000000001,
            "count": 0
           },
           {
            "bin_start": 0.6000000000000001,
            "bin_end": 0.7000000000000001,
            "count": 0
           },
           {
            "bin_start": 0.7000000000000001,
            "bin_end": 0.8,
            "count": 0
           },
           {
            "bin_start": 0.8,
            "bin_end": 0.9,
            "count": 0
           },
           {
            "bin_start": 0.9,
            "bin_end": 1,
            "count": 3
           }
          ]
         }
        },
        {
         "name": "feature22",
         "dtype": "float64",
         "stats": {
          "unique_count": 2,
          "nan_count": 0,
          "min": "0.0",
          "max": "1.0",
          "histogram": [
           {
            "bin_start": 0,
            "bin_end": 0.1,
            "count": 3
           },
           {
            "bin_start": 0.1,
            "bin_end": 0.2,
            "count": 0
           },
           {
            "bin_start": 0.2,
            "bin_end": 0.30000000000000004,
            "count": 0
           },
           {
            "bin_start": 0.30000000000000004,
            "bin_end": 0.4,
            "count": 0
           },
           {
            "bin_start": 0.4,
            "bin_end": 0.5,
            "count": 0
           },
           {
            "bin_start": 0.5,
            "bin_end": 0.6000000000000001,
            "count": 0
           },
           {
            "bin_start": 0.6000000000000001,
            "bin_end": 0.7000000000000001,
            "count": 0
           },
           {
            "bin_start": 0.7000000000000001,
            "bin_end": 0.8,
            "count": 0
           },
           {
            "bin_start": 0.8,
            "bin_end": 0.9,
            "count": 0
           },
           {
            "bin_start": 0.9,
            "bin_end": 1,
            "count": 2
           }
          ]
         }
        },
        {
         "name": "feature23",
         "dtype": "float64",
         "stats": {
          "unique_count": 1,
          "nan_count": 0,
          "min": "0.0",
          "max": "0.0",
          "histogram": [
           {
            "bin_start": -0.5,
            "bin_end": -0.4,
            "count": 0
           },
           {
            "bin_start": -0.4,
            "bin_end": -0.3,
            "count": 0
           },
           {
            "bin_start": -0.3,
            "bin_end": -0.19999999999999996,
            "count": 0
           },
           {
            "bin_start": -0.19999999999999996,
            "bin_end": -0.09999999999999998,
            "count": 0
           },
           {
            "bin_start": -0.09999999999999998,
            "bin_end": 0,
            "count": 0
           },
           {
            "bin_start": 0,
            "bin_end": 0.10000000000000009,
            "count": 5
           },
           {
            "bin_start": 0.10000000000000009,
            "bin_end": 0.20000000000000007,
            "count": 0
           },
           {
            "bin_start": 0.20000000000000007,
            "bin_end": 0.30000000000000004,
            "count": 0
           },
           {
            "bin_start": 0.30000000000000004,
            "bin_end": 0.4,
            "count": 0
           },
           {
            "bin_start": 0.4,
            "bin_end": 0.5,
            "count": 0
           }
          ]
         }
        },
        {
         "name": "feature24",
         "dtype": "float64",
         "stats": {
          "unique_count": 2,
          "nan_count": 0,
          "min": "0.0",
          "max": "1.0",
          "histogram": [
           {
            "bin_start": 0,
            "bin_end": 0.1,
            "count": 4
           },
           {
            "bin_start": 0.1,
            "bin_end": 0.2,
            "count": 0
           },
           {
            "bin_start": 0.2,
            "bin_end": 0.30000000000000004,
            "count": 0
           },
           {
            "bin_start": 0.30000000000000004,
            "bin_end": 0.4,
            "count": 0
           },
           {
            "bin_start": 0.4,
            "bin_end": 0.5,
            "count": 0
           },
           {
            "bin_start": 0.5,
            "bin_end": 0.6000000000000001,
            "count": 0
           },
           {
            "bin_start": 0.6000000000000001,
            "bin_end": 0.7000000000000001,
            "count": 0
           },
           {
            "bin_start": 0.7000000000000001,
            "bin_end": 0.8,
            "count": 0
           },
           {
            "bin_start": 0.8,
            "bin_end": 0.9,
            "count": 0
           },
           {
            "bin_start": 0.9,
            "bin_end": 1,
            "count": 1
           }
          ]
         }
        },
        {
         "name": "feature25",
         "dtype": "float64",
         "stats": {
          "unique_count": 1,
          "nan_count": 0,
          "min": "0.0",
          "max": "0.0",
          "histogram": [
           {
            "bin_start": -0.5,
            "bin_end": -0.4,
            "count": 0
           },
           {
            "bin_start": -0.4,
            "bin_end": -0.3,
            "count": 0
           },
           {
            "bin_start": -0.3,
            "bin_end": -0.19999999999999996,
            "count": 0
           },
           {
            "bin_start": -0.19999999999999996,
            "bin_end": -0.09999999999999998,
            "count": 0
           },
           {
            "bin_start": -0.09999999999999998,
            "bin_end": 0,
            "count": 0
           },
           {
            "bin_start": 0,
            "bin_end": 0.10000000000000009,
            "count": 5
           },
           {
            "bin_start": 0.10000000000000009,
            "bin_end": 0.20000000000000007,
            "count": 0
           },
           {
            "bin_start": 0.20000000000000007,
            "bin_end": 0.30000000000000004,
            "count": 0
           },
           {
            "bin_start": 0.30000000000000004,
            "bin_end": 0.4,
            "count": 0
           },
           {
            "bin_start": 0.4,
            "bin_end": 0.5,
            "count": 0
           }
          ]
         }
        },
        {
         "name": "feature26",
         "dtype": "float64",
         "stats": {
          "unique_count": 2,
          "nan_count": 0,
          "min": "0.0",
          "max": "1.0",
          "histogram": [
           {
            "bin_start": 0,
            "bin_end": 0.1,
            "count": 3
           },
           {
            "bin_start": 0.1,
            "bin_end": 0.2,
            "count": 0
           },
           {
            "bin_start": 0.2,
            "bin_end": 0.30000000000000004,
            "count": 0
           },
           {
            "bin_start": 0.30000000000000004,
            "bin_end": 0.4,
            "count": 0
           },
           {
            "bin_start": 0.4,
            "bin_end": 0.5,
            "count": 0
           },
           {
            "bin_start": 0.5,
            "bin_end": 0.6000000000000001,
            "count": 0
           },
           {
            "bin_start": 0.6000000000000001,
            "bin_end": 0.7000000000000001,
            "count": 0
           },
           {
            "bin_start": 0.7000000000000001,
            "bin_end": 0.8,
            "count": 0
           },
           {
            "bin_start": 0.8,
            "bin_end": 0.9,
            "count": 0
           },
           {
            "bin_start": 0.9,
            "bin_end": 1,
            "count": 2
           }
          ]
         }
        },
        {
         "name": "feature27",
         "dtype": "float64",
         "stats": {
          "unique_count": 1,
          "nan_count": 0,
          "min": "0.0",
          "max": "0.0",
          "histogram": [
           {
            "bin_start": -0.5,
            "bin_end": -0.4,
            "count": 0
           },
           {
            "bin_start": -0.4,
            "bin_end": -0.3,
            "count": 0
           },
           {
            "bin_start": -0.3,
            "bin_end": -0.19999999999999996,
            "count": 0
           },
           {
            "bin_start": -0.19999999999999996,
            "bin_end": -0.09999999999999998,
            "count": 0
           },
           {
            "bin_start": -0.09999999999999998,
            "bin_end": 0,
            "count": 0
           },
           {
            "bin_start": 0,
            "bin_end": 0.10000000000000009,
            "count": 5
           },
           {
            "bin_start": 0.10000000000000009,
            "bin_end": 0.20000000000000007,
            "count": 0
           },
           {
            "bin_start": 0.20000000000000007,
            "bin_end": 0.30000000000000004,
            "count": 0
           },
           {
            "bin_start": 0.30000000000000004,
            "bin_end": 0.4,
            "count": 0
           },
           {
            "bin_start": 0.4,
            "bin_end": 0.5,
            "count": 0
           }
          ]
         }
        },
        {
         "name": "feature28",
         "dtype": "float64",
         "stats": {
          "unique_count": 2,
          "nan_count": 0,
          "min": "0.0",
          "max": "1.0",
          "histogram": [
           {
            "bin_start": 0,
            "bin_end": 0.1,
            "count": 4
           },
           {
            "bin_start": 0.1,
            "bin_end": 0.2,
            "count": 0
           },
           {
            "bin_start": 0.2,
            "bin_end": 0.30000000000000004,
            "count": 0
           },
           {
            "bin_start": 0.30000000000000004,
            "bin_end": 0.4,
            "count": 0
           },
           {
            "bin_start": 0.4,
            "bin_end": 0.5,
            "count": 0
           },
           {
            "bin_start": 0.5,
            "bin_end": 0.6000000000000001,
            "count": 0
           },
           {
            "bin_start": 0.6000000000000001,
            "bin_end": 0.7000000000000001,
            "count": 0
           },
           {
            "bin_start": 0.7000000000000001,
            "bin_end": 0.8,
            "count": 0
           },
           {
            "bin_start": 0.8,
            "bin_end": 0.9,
            "count": 0
           },
           {
            "bin_start": 0.9,
            "bin_end": 1,
            "count": 1
           }
          ]
         }
        },
        {
         "name": "feature29",
         "dtype": "float64",
         "stats": {
          "unique_count": 2,
          "nan_count": 0,
          "min": "0.0",
          "max": "1.0",
          "histogram": [
           {
            "bin_start": 0,
            "bin_end": 0.1,
            "count": 4
           },
           {
            "bin_start": 0.1,
            "bin_end": 0.2,
            "count": 0
           },
           {
            "bin_start": 0.2,
            "bin_end": 0.30000000000000004,
            "count": 0
           },
           {
            "bin_start": 0.30000000000000004,
            "bin_end": 0.4,
            "count": 0
           },
           {
            "bin_start": 0.4,
            "bin_end": 0.5,
            "count": 0
           },
           {
            "bin_start": 0.5,
            "bin_end": 0.6000000000000001,
            "count": 0
           },
           {
            "bin_start": 0.6000000000000001,
            "bin_end": 0.7000000000000001,
            "count": 0
           },
           {
            "bin_start": 0.7000000000000001,
            "bin_end": 0.8,
            "count": 0
           },
           {
            "bin_start": 0.8,
            "bin_end": 0.9,
            "count": 0
           },
           {
            "bin_start": 0.9,
            "bin_end": 1,
            "count": 1
           }
          ]
         }
        },
        {
         "name": "feature30",
         "dtype": "float64",
         "stats": {
          "unique_count": 2,
          "nan_count": 0,
          "min": "0.0",
          "max": "1.0",
          "histogram": [
           {
            "bin_start": 0,
            "bin_end": 0.1,
            "count": 2
           },
           {
            "bin_start": 0.1,
            "bin_end": 0.2,
            "count": 0
           },
           {
            "bin_start": 0.2,
            "bin_end": 0.30000000000000004,
            "count": 0
           },
           {
            "bin_start": 0.30000000000000004,
            "bin_end": 0.4,
            "count": 0
           },
           {
            "bin_start": 0.4,
            "bin_end": 0.5,
            "count": 0
           },
           {
            "bin_start": 0.5,
            "bin_end": 0.6000000000000001,
            "count": 0
           },
           {
            "bin_start": 0.6000000000000001,
            "bin_end": 0.7000000000000001,
            "count": 0
           },
           {
            "bin_start": 0.7000000000000001,
            "bin_end": 0.8,
            "count": 0
           },
           {
            "bin_start": 0.8,
            "bin_end": 0.9,
            "count": 0
           },
           {
            "bin_start": 0.9,
            "bin_end": 1,
            "count": 3
           }
          ]
         }
        },
        {
         "name": "feature31",
         "dtype": "float64",
         "stats": {
          "unique_count": 2,
          "nan_count": 0,
          "min": "0.0",
          "max": "1.0",
          "histogram": [
           {
            "bin_start": 0,
            "bin_end": 0.1,
            "count": 4
           },
           {
            "bin_start": 0.1,
            "bin_end": 0.2,
            "count": 0
           },
           {
            "bin_start": 0.2,
            "bin_end": 0.30000000000000004,
            "count": 0
           },
           {
            "bin_start": 0.30000000000000004,
            "bin_end": 0.4,
            "count": 0
           },
           {
            "bin_start": 0.4,
            "bin_end": 0.5,
            "count": 0
           },
           {
            "bin_start": 0.5,
            "bin_end": 0.6000000000000001,
            "count": 0
           },
           {
            "bin_start": 0.6000000000000001,
            "bin_end": 0.7000000000000001,
            "count": 0
           },
           {
            "bin_start": 0.7000000000000001,
            "bin_end": 0.8,
            "count": 0
           },
           {
            "bin_start": 0.8,
            "bin_end": 0.9,
            "count": 0
           },
           {
            "bin_start": 0.9,
            "bin_end": 1,
            "count": 1
           }
          ]
         }
        },
        {
         "name": "feature32",
         "dtype": "float64",
         "stats": {
          "unique_count": 2,
          "nan_count": 0,
          "min": "0.0",
          "max": "1.0",
          "histogram": [
           {
            "bin_start": 0,
            "bin_end": 0.1,
            "count": 4
           },
           {
            "bin_start": 0.1,
            "bin_end": 0.2,
            "count": 0
           },
           {
            "bin_start": 0.2,
            "bin_end": 0.30000000000000004,
            "count": 0
           },
           {
            "bin_start": 0.30000000000000004,
            "bin_end": 0.4,
            "count": 0
           },
           {
            "bin_start": 0.4,
            "bin_end": 0.5,
            "count": 0
           },
           {
            "bin_start": 0.5,
            "bin_end": 0.6000000000000001,
            "count": 0
           },
           {
            "bin_start": 0.6000000000000001,
            "bin_end": 0.7000000000000001,
            "count": 0
           },
           {
            "bin_start": 0.7000000000000001,
            "bin_end": 0.8,
            "count": 0
           },
           {
            "bin_start": 0.8,
            "bin_end": 0.9,
            "count": 0
           },
           {
            "bin_start": 0.9,
            "bin_end": 1,
            "count": 1
           }
          ]
         }
        },
        {
         "name": "feature33",
         "dtype": "float64",
         "stats": {
          "unique_count": 1,
          "nan_count": 0,
          "min": "0.0",
          "max": "0.0",
          "histogram": [
           {
            "bin_start": -0.5,
            "bin_end": -0.4,
            "count": 0
           },
           {
            "bin_start": -0.4,
            "bin_end": -0.3,
            "count": 0
           },
           {
            "bin_start": -0.3,
            "bin_end": -0.19999999999999996,
            "count": 0
           },
           {
            "bin_start": -0.19999999999999996,
            "bin_end": -0.09999999999999998,
            "count": 0
           },
           {
            "bin_start": -0.09999999999999998,
            "bin_end": 0,
            "count": 0
           },
           {
            "bin_start": 0,
            "bin_end": 0.10000000000000009,
            "count": 5
           },
           {
            "bin_start": 0.10000000000000009,
            "bin_end": 0.20000000000000007,
            "count": 0
           },
           {
            "bin_start": 0.20000000000000007,
            "bin_end": 0.30000000000000004,
            "count": 0
           },
           {
            "bin_start": 0.30000000000000004,
            "bin_end": 0.4,
            "count": 0
           },
           {
            "bin_start": 0.4,
            "bin_end": 0.5,
            "count": 0
           }
          ]
         }
        },
        {
         "name": "feature34",
         "dtype": "float64",
         "stats": {
          "unique_count": 1,
          "nan_count": 0,
          "min": "0.0",
          "max": "0.0",
          "histogram": [
           {
            "bin_start": -0.5,
            "bin_end": -0.4,
            "count": 0
           },
           {
            "bin_start": -0.4,
            "bin_end": -0.3,
            "count": 0
           },
           {
            "bin_start": -0.3,
            "bin_end": -0.19999999999999996,
            "count": 0
           },
           {
            "bin_start": -0.19999999999999996,
            "bin_end": -0.09999999999999998,
            "count": 0
           },
           {
            "bin_start": -0.09999999999999998,
            "bin_end": 0,
            "count": 0
           },
           {
            "bin_start": 0,
            "bin_end": 0.10000000000000009,
            "count": 5
           },
           {
            "bin_start": 0.10000000000000009,
            "bin_end": 0.20000000000000007,
            "count": 0
           },
           {
            "bin_start": 0.20000000000000007,
            "bin_end": 0.30000000000000004,
            "count": 0
           },
           {
            "bin_start": 0.30000000000000004,
            "bin_end": 0.4,
            "count": 0
           },
           {
            "bin_start": 0.4,
            "bin_end": 0.5,
            "count": 0
           }
          ]
         }
        },
        {
         "name": "feature35",
         "dtype": "float64",
         "stats": {
          "unique_count": 1,
          "nan_count": 0,
          "min": "0.0",
          "max": "0.0",
          "histogram": [
           {
            "bin_start": -0.5,
            "bin_end": -0.4,
            "count": 0
           },
           {
            "bin_start": -0.4,
            "bin_end": -0.3,
            "count": 0
           },
           {
            "bin_start": -0.3,
            "bin_end": -0.19999999999999996,
            "count": 0
           },
           {
            "bin_start": -0.19999999999999996,
            "bin_end": -0.09999999999999998,
            "count": 0
           },
           {
            "bin_start": -0.09999999999999998,
            "bin_end": 0,
            "count": 0
           },
           {
            "bin_start": 0,
            "bin_end": 0.10000000000000009,
            "count": 5
           },
           {
            "bin_start": 0.10000000000000009,
            "bin_end": 0.20000000000000007,
            "count": 0
           },
           {
            "bin_start": 0.20000000000000007,
            "bin_end": 0.30000000000000004,
            "count": 0
           },
           {
            "bin_start": 0.30000000000000004,
            "bin_end": 0.4,
            "count": 0
           },
           {
            "bin_start": 0.4,
            "bin_end": 0.5,
            "count": 0
           }
          ]
         }
        },
        {
         "name": "feature36",
         "dtype": "float64",
         "stats": {
          "unique_count": 1,
          "nan_count": 0,
          "min": "0.0",
          "max": "0.0",
          "histogram": [
           {
            "bin_start": -0.5,
            "bin_end": -0.4,
            "count": 0
           },
           {
            "bin_start": -0.4,
            "bin_end": -0.3,
            "count": 0
           },
           {
            "bin_start": -0.3,
            "bin_end": -0.19999999999999996,
            "count": 0
           },
           {
            "bin_start": -0.19999999999999996,
            "bin_end": -0.09999999999999998,
            "count": 0
           },
           {
            "bin_start": -0.09999999999999998,
            "bin_end": 0,
            "count": 0
           },
           {
            "bin_start": 0,
            "bin_end": 0.10000000000000009,
            "count": 5
           },
           {
            "bin_start": 0.10000000000000009,
            "bin_end": 0.20000000000000007,
            "count": 0
           },
           {
            "bin_start": 0.20000000000000007,
            "bin_end": 0.30000000000000004,
            "count": 0
           },
           {
            "bin_start": 0.30000000000000004,
            "bin_end": 0.4,
            "count": 0
           },
           {
            "bin_start": 0.4,
            "bin_end": 0.5,
            "count": 0
           }
          ]
         }
        },
        {
         "name": "feature37",
         "dtype": "float64",
         "stats": {
          "unique_count": 1,
          "nan_count": 0,
          "min": "0.0",
          "max": "0.0",
          "histogram": [
           {
            "bin_start": -0.5,
            "bin_end": -0.4,
            "count": 0
           },
           {
            "bin_start": -0.4,
            "bin_end": -0.3,
            "count": 0
           },
           {
            "bin_start": -0.3,
            "bin_end": -0.19999999999999996,
            "count": 0
           },
           {
            "bin_start": -0.19999999999999996,
            "bin_end": -0.09999999999999998,
            "count": 0
           },
           {
            "bin_start": -0.09999999999999998,
            "bin_end": 0,
            "count": 0
           },
           {
            "bin_start": 0,
            "bin_end": 0.10000000000000009,
            "count": 5
           },
           {
            "bin_start": 0.10000000000000009,
            "bin_end": 0.20000000000000007,
            "count": 0
           },
           {
            "bin_start": 0.20000000000000007,
            "bin_end": 0.30000000000000004,
            "count": 0
           },
           {
            "bin_start": 0.30000000000000004,
            "bin_end": 0.4,
            "count": 0
           },
           {
            "bin_start": 0.4,
            "bin_end": 0.5,
            "count": 0
           }
          ]
         }
        },
        {
         "name": "feature38",
         "dtype": "float64",
         "stats": {
          "unique_count": 1,
          "nan_count": 0,
          "min": "0.0",
          "max": "0.0",
          "histogram": [
           {
            "bin_start": -0.5,
            "bin_end": -0.4,
            "count": 0
           },
           {
            "bin_start": -0.4,
            "bin_end": -0.3,
            "count": 0
           },
           {
            "bin_start": -0.3,
            "bin_end": -0.19999999999999996,
            "count": 0
           },
           {
            "bin_start": -0.19999999999999996,
            "bin_end": -0.09999999999999998,
            "count": 0
           },
           {
            "bin_start": -0.09999999999999998,
            "bin_end": 0,
            "count": 0
           },
           {
            "bin_start": 0,
            "bin_end": 0.10000000000000009,
            "count": 5
           },
           {
            "bin_start": 0.10000000000000009,
            "bin_end": 0.20000000000000007,
            "count": 0
           },
           {
            "bin_start": 0.20000000000000007,
            "bin_end": 0.30000000000000004,
            "count": 0
           },
           {
            "bin_start": 0.30000000000000004,
            "bin_end": 0.4,
            "count": 0
           },
           {
            "bin_start": 0.4,
            "bin_end": 0.5,
            "count": 0
           }
          ]
         }
        },
        {
         "name": "feature39",
         "dtype": "float64",
         "stats": {
          "unique_count": 1,
          "nan_count": 0,
          "min": "0.0",
          "max": "0.0",
          "histogram": [
           {
            "bin_start": -0.5,
            "bin_end": -0.4,
            "count": 0
           },
           {
            "bin_start": -0.4,
            "bin_end": -0.3,
            "count": 0
           },
           {
            "bin_start": -0.3,
            "bin_end": -0.19999999999999996,
            "count": 0
           },
           {
            "bin_start": -0.19999999999999996,
            "bin_end": -0.09999999999999998,
            "count": 0
           },
           {
            "bin_start": -0.09999999999999998,
            "bin_end": 0,
            "count": 0
           },
           {
            "bin_start": 0,
            "bin_end": 0.10000000000000009,
            "count": 5
           },
           {
            "bin_start": 0.10000000000000009,
            "bin_end": 0.20000000000000007,
            "count": 0
           },
           {
            "bin_start": 0.20000000000000007,
            "bin_end": 0.30000000000000004,
            "count": 0
           },
           {
            "bin_start": 0.30000000000000004,
            "bin_end": 0.4,
            "count": 0
           },
           {
            "bin_start": 0.4,
            "bin_end": 0.5,
            "count": 0
           }
          ]
         }
        },
        {
         "name": "feature40",
         "dtype": "float64",
         "stats": {
          "unique_count": 1,
          "nan_count": 0,
          "min": "0.0",
          "max": "0.0",
          "histogram": [
           {
            "bin_start": -0.5,
            "bin_end": -0.4,
            "count": 0
           },
           {
            "bin_start": -0.4,
            "bin_end": -0.3,
            "count": 0
           },
           {
            "bin_start": -0.3,
            "bin_end": -0.19999999999999996,
            "count": 0
           },
           {
            "bin_start": -0.19999999999999996,
            "bin_end": -0.09999999999999998,
            "count": 0
           },
           {
            "bin_start": -0.09999999999999998,
            "bin_end": 0,
            "count": 0
           },
           {
            "bin_start": 0,
            "bin_end": 0.10000000000000009,
            "count": 5
           },
           {
            "bin_start": 0.10000000000000009,
            "bin_end": 0.20000000000000007,
            "count": 0
           },
           {
            "bin_start": 0.20000000000000007,
            "bin_end": 0.30000000000000004,
            "count": 0
           },
           {
            "bin_start": 0.30000000000000004,
            "bin_end": 0.4,
            "count": 0
           },
           {
            "bin_start": 0.4,
            "bin_end": 0.5,
            "count": 0
           }
          ]
         }
        },
        {
         "name": "feature41",
         "dtype": "float64",
         "stats": {
          "unique_count": 1,
          "nan_count": 0,
          "min": "0.0",
          "max": "0.0",
          "histogram": [
           {
            "bin_start": -0.5,
            "bin_end": -0.4,
            "count": 0
           },
           {
            "bin_start": -0.4,
            "bin_end": -0.3,
            "count": 0
           },
           {
            "bin_start": -0.3,
            "bin_end": -0.19999999999999996,
            "count": 0
           },
           {
            "bin_start": -0.19999999999999996,
            "bin_end": -0.09999999999999998,
            "count": 0
           },
           {
            "bin_start": -0.09999999999999998,
            "bin_end": 0,
            "count": 0
           },
           {
            "bin_start": 0,
            "bin_end": 0.10000000000000009,
            "count": 5
           },
           {
            "bin_start": 0.10000000000000009,
            "bin_end": 0.20000000000000007,
            "count": 0
           },
           {
            "bin_start": 0.20000000000000007,
            "bin_end": 0.30000000000000004,
            "count": 0
           },
           {
            "bin_start": 0.30000000000000004,
            "bin_end": 0.4,
            "count": 0
           },
           {
            "bin_start": 0.4,
            "bin_end": 0.5,
            "count": 0
           }
          ]
         }
        },
        {
         "name": "feature42",
         "dtype": "float64",
         "stats": {
          "unique_count": 2,
          "nan_count": 0,
          "min": "0.0",
          "max": "0.2222222222222222",
          "histogram": [
           {
            "bin_start": 0,
            "bin_end": 0.02222222222222222,
            "count": 3
           },
           {
            "bin_start": 0.02222222222222222,
            "bin_end": 0.04444444444444444,
            "count": 0
           },
           {
            "bin_start": 0.04444444444444444,
            "bin_end": 0.06666666666666665,
            "count": 0
           },
           {
            "bin_start": 0.06666666666666665,
            "bin_end": 0.08888888888888888,
            "count": 0
           },
           {
            "bin_start": 0.08888888888888888,
            "bin_end": 0.1111111111111111,
            "count": 0
           },
           {
            "bin_start": 0.1111111111111111,
            "bin_end": 0.1333333333333333,
            "count": 0
           },
           {
            "bin_start": 0.1333333333333333,
            "bin_end": 0.15555555555555553,
            "count": 0
           },
           {
            "bin_start": 0.15555555555555553,
            "bin_end": 0.17777777777777776,
            "count": 0
           },
           {
            "bin_start": 0.17777777777777776,
            "bin_end": 0.19999999999999998,
            "count": 0
           },
           {
            "bin_start": 0.19999999999999998,
            "bin_end": 0.2222222222222222,
            "count": 2
           }
          ]
         }
        },
        {
         "name": "feature43",
         "dtype": "float64",
         "stats": {
          "unique_count": 2,
          "nan_count": 0,
          "min": "0.1111111111111111",
          "max": "0.2222222222222222",
          "histogram": [
           {
            "bin_start": 0.1111111111111111,
            "bin_end": 0.12222222222222222,
            "count": 3
           },
           {
            "bin_start": 0.12222222222222222,
            "bin_end": 0.13333333333333333,
            "count": 0
           },
           {
            "bin_start": 0.13333333333333333,
            "bin_end": 0.14444444444444443,
            "count": 0
           },
           {
            "bin_start": 0.14444444444444443,
            "bin_end": 0.15555555555555556,
            "count": 0
           },
           {
            "bin_start": 0.15555555555555556,
            "bin_end": 0.16666666666666666,
            "count": 0
           },
           {
            "bin_start": 0.16666666666666666,
            "bin_end": 0.17777777777777776,
            "count": 0
           },
           {
            "bin_start": 0.17777777777777776,
            "bin_end": 0.18888888888888888,
            "count": 0
           },
           {
            "bin_start": 0.18888888888888888,
            "bin_end": 0.19999999999999998,
            "count": 0
           },
           {
            "bin_start": 0.19999999999999998,
            "bin_end": 0.21111111111111108,
            "count": 0
           },
           {
            "bin_start": 0.21111111111111108,
            "bin_end": 0.2222222222222222,
            "count": 2
           }
          ]
         }
        },
        {
         "name": "feature44",
         "dtype": "float64",
         "stats": {
          "unique_count": 2,
          "nan_count": 0,
          "min": "0.0",
          "max": "0.3333333333333333",
          "histogram": [
           {
            "bin_start": 0,
            "bin_end": 0.03333333333333333,
            "count": 3
           },
           {
            "bin_start": 0.03333333333333333,
            "bin_end": 0.06666666666666667,
            "count": 0
           },
           {
            "bin_start": 0.06666666666666667,
            "bin_end": 0.1,
            "count": 0
           },
           {
            "bin_start": 0.1,
            "bin_end": 0.13333333333333333,
            "count": 0
           },
           {
            "bin_start": 0.13333333333333333,
            "bin_end": 0.16666666666666666,
            "count": 0
           },
           {
            "bin_start": 0.16666666666666666,
            "bin_end": 0.2,
            "count": 0
           },
           {
            "bin_start": 0.2,
            "bin_end": 0.23333333333333334,
            "count": 0
           },
           {
            "bin_start": 0.23333333333333334,
            "bin_end": 0.26666666666666666,
            "count": 0
           },
           {
            "bin_start": 0.26666666666666666,
            "bin_end": 0.3,
            "count": 0
           },
           {
            "bin_start": 0.3,
            "bin_end": 0.3333333333333333,
            "count": 2
           }
          ]
         }
        },
        {
         "name": "feature45",
         "dtype": "float64",
         "stats": {
          "unique_count": 3,
          "nan_count": 0,
          "min": "0.0",
          "max": "8.0",
          "histogram": [
           {
            "bin_start": 0,
            "bin_end": 0.8,
            "count": 1
           },
           {
            "bin_start": 0.8,
            "bin_end": 1.6,
            "count": 2
           },
           {
            "bin_start": 1.6,
            "bin_end": 2.4000000000000004,
            "count": 0
           },
           {
            "bin_start": 2.4000000000000004,
            "bin_end": 3.2,
            "count": 0
           },
           {
            "bin_start": 3.2,
            "bin_end": 4,
            "count": 0
           },
           {
            "bin_start": 4,
            "bin_end": 4.800000000000001,
            "count": 0
           },
           {
            "bin_start": 4.800000000000001,
            "bin_end": 5.6000000000000005,
            "count": 0
           },
           {
            "bin_start": 5.6000000000000005,
            "bin_end": 6.4,
            "count": 0
           },
           {
            "bin_start": 6.4,
            "bin_end": 7.2,
            "count": 0
           },
           {
            "bin_start": 7.2,
            "bin_end": 8,
            "count": 2
           }
          ]
         }
        },
        {
         "name": "feature46",
         "dtype": "float64",
         "stats": {
          "unique_count": 4,
          "nan_count": 0,
          "min": "0.0",
          "max": "12.0",
          "histogram": [
           {
            "bin_start": 0,
            "bin_end": 1.2,
            "count": 1
           },
           {
            "bin_start": 1.2,
            "bin_end": 2.4,
            "count": 0
           },
           {
            "bin_start": 2.4,
            "bin_end": 3.5999999999999996,
            "count": 0
           },
           {
            "bin_start": 3.5999999999999996,
            "bin_end": 4.8,
            "count": 0
           },
           {
            "bin_start": 4.8,
            "bin_end": 6,
            "count": 0
           },
           {
            "bin_start": 6,
            "bin_end": 7.199999999999999,
            "count": 0
           },
           {
            "bin_start": 7.199999999999999,
            "bin_end": 8.4,
            "count": 0
           },
           {
            "bin_start": 8.4,
            "bin_end": 9.6,
            "count": 0
           },
           {
            "bin_start": 9.6,
            "bin_end": 10.799999999999999,
            "count": 1
           },
           {
            "bin_start": 10.799999999999999,
            "bin_end": 12,
            "count": 3
           }
          ]
         }
        },
        {
         "name": "feature47",
         "dtype": "float64",
         "stats": {
          "unique_count": 2,
          "nan_count": 0,
          "min": "0.0",
          "max": "11.0",
          "histogram": [
           {
            "bin_start": 0,
            "bin_end": 1.1,
            "count": 4
           },
           {
            "bin_start": 1.1,
            "bin_end": 2.2,
            "count": 0
           },
           {
            "bin_start": 2.2,
            "bin_end": 3.3000000000000003,
            "count": 0
           },
           {
            "bin_start": 3.3000000000000003,
            "bin_end": 4.4,
            "count": 0
           },
           {
            "bin_start": 4.4,
            "bin_end": 5.5,
            "count": 0
           },
           {
            "bin_start": 5.5,
            "bin_end": 6.6000000000000005,
            "count": 0
           },
           {
            "bin_start": 6.6000000000000005,
            "bin_end": 7.700000000000001,
            "count": 0
           },
           {
            "bin_start": 7.700000000000001,
            "bin_end": 8.8,
            "count": 0
           },
           {
            "bin_start": 8.8,
            "bin_end": 9.9,
            "count": 0
           },
           {
            "bin_start": 9.9,
            "bin_end": 11,
            "count": 1
           }
          ]
         }
        },
        {
         "name": "feature48",
         "dtype": "float64",
         "stats": {
          "unique_count": 3,
          "nan_count": 0,
          "min": "0.2702702702702703",
          "max": "0.3243243243243243",
          "histogram": [
           {
            "bin_start": 0.2702702702702703,
            "bin_end": 0.2756756756756757,
            "count": 1
           },
           {
            "bin_start": 0.2756756756756757,
            "bin_end": 0.2810810810810811,
            "count": 0
           },
           {
            "bin_start": 0.2810810810810811,
            "bin_end": 0.2864864864864865,
            "count": 0
           },
           {
            "bin_start": 0.2864864864864865,
            "bin_end": 0.2918918918918919,
            "count": 0
           },
           {
            "bin_start": 0.2918918918918919,
            "bin_end": 0.29729729729729726,
            "count": 0
           },
           {
            "bin_start": 0.29729729729729726,
            "bin_end": 0.3027027027027027,
            "count": 3
           },
           {
            "bin_start": 0.3027027027027027,
            "bin_end": 0.30810810810810807,
            "count": 0
           },
           {
            "bin_start": 0.30810810810810807,
            "bin_end": 0.3135135135135135,
            "count": 0
           },
           {
            "bin_start": 0.3135135135135135,
            "bin_end": 0.3189189189189189,
            "count": 0
           },
           {
            "bin_start": 0.3189189189189189,
            "bin_end": 0.3243243243243243,
            "count": 1
           }
          ]
         }
        },
        {
         "name": "feature49",
         "dtype": "float64",
         "stats": {
          "unique_count": 3,
          "nan_count": 0,
          "min": "0.0",
          "max": "0.2857142857142857",
          "histogram": [
           {
            "bin_start": 0,
            "bin_end": 0.02857142857142857,
            "count": 2
           },
           {
            "bin_start": 0.02857142857142857,
            "bin_end": 0.05714285714285714,
            "count": 0
           },
           {
            "bin_start": 0.05714285714285714,
            "bin_end": 0.08571428571428572,
            "count": 0
           },
           {
            "bin_start": 0.08571428571428572,
            "bin_end": 0.11428571428571428,
            "count": 0
           },
           {
            "bin_start": 0.11428571428571428,
            "bin_end": 0.14285714285714285,
            "count": 1
           },
           {
            "bin_start": 0.14285714285714285,
            "bin_end": 0.17142857142857143,
            "count": 0
           },
           {
            "bin_start": 0.17142857142857143,
            "bin_end": 0.19999999999999998,
            "count": 0
           },
           {
            "bin_start": 0.19999999999999998,
            "bin_end": 0.22857142857142856,
            "count": 0
           },
           {
            "bin_start": 0.22857142857142856,
            "bin_end": 0.2571428571428571,
            "count": 0
           },
           {
            "bin_start": 0.2571428571428571,
            "bin_end": 0.2857142857142857,
            "count": 2
           }
          ]
         }
        },
        {
         "name": "feature50",
         "dtype": "float64",
         "stats": {
          "unique_count": 3,
          "nan_count": 0,
          "min": "0.0517241379310344",
          "max": "0.1954023103448275",
          "histogram": [
           {
            "bin_start": 0.0517241379310344,
            "bin_end": 0.0660919551724137,
            "count": 1
           },
           {
            "bin_start": 0.0660919551724137,
            "bin_end": 0.08045977241379301,
            "count": 0
           },
           {
            "bin_start": 0.08045977241379301,
            "bin_end": 0.09482758965517232,
            "count": 0
           },
           {
            "bin_start": 0.09482758965517232,
            "bin_end": 0.10919540689655163,
            "count": 0
           },
           {
            "bin_start": 0.10919540689655163,
            "bin_end": 0.12356322413793094,
            "count": 0
           },
           {
            "bin_start": 0.12356322413793094,
            "bin_end": 0.13793104137931025,
            "count": 2
           },
           {
            "bin_start": 0.13793104137931025,
            "bin_end": 0.15229885862068956,
            "count": 0
           },
           {
            "bin_start": 0.15229885862068956,
            "bin_end": 0.16666667586206887,
            "count": 0
           },
           {
            "bin_start": 0.16666667586206887,
            "bin_end": 0.18103449310344819,
            "count": 0
           },
           {
            "bin_start": 0.18103449310344819,
            "bin_end": 0.1954023103448275,
            "count": 2
           }
          ]
         }
        },
        {
         "name": "feature51",
         "dtype": "float64",
         "stats": {
          "unique_count": 1,
          "nan_count": 0,
          "min": "0.0",
          "max": "0.0",
          "histogram": [
           {
            "bin_start": -0.5,
            "bin_end": -0.4,
            "count": 0
           },
           {
            "bin_start": -0.4,
            "bin_end": -0.3,
            "count": 0
           },
           {
            "bin_start": -0.3,
            "bin_end": -0.19999999999999996,
            "count": 0
           },
           {
            "bin_start": -0.19999999999999996,
            "bin_end": -0.09999999999999998,
            "count": 0
           },
           {
            "bin_start": -0.09999999999999998,
            "bin_end": 0,
            "count": 0
           },
           {
            "bin_start": 0,
            "bin_end": 0.10000000000000009,
            "count": 5
           },
           {
            "bin_start": 0.10000000000000009,
            "bin_end": 0.20000000000000007,
            "count": 0
           },
           {
            "bin_start": 0.20000000000000007,
            "bin_end": 0.30000000000000004,
            "count": 0
           },
           {
            "bin_start": 0.30000000000000004,
            "bin_end": 0.4,
            "count": 0
           },
           {
            "bin_start": 0.4,
            "bin_end": 0.5,
            "count": 0
           }
          ]
         }
        },
        {
         "name": "feature52",
         "dtype": "float64",
         "stats": {
          "unique_count": 1,
          "nan_count": 0,
          "min": "0.0",
          "max": "0.0",
          "histogram": [
           {
            "bin_start": -0.5,
            "bin_end": -0.4,
            "count": 0
           },
           {
            "bin_start": -0.4,
            "bin_end": -0.3,
            "count": 0
           },
           {
            "bin_start": -0.3,
            "bin_end": -0.19999999999999996,
            "count": 0
           },
           {
            "bin_start": -0.19999999999999996,
            "bin_end": -0.09999999999999998,
            "count": 0
           },
           {
            "bin_start": -0.09999999999999998,
            "bin_end": 0,
            "count": 0
           },
           {
            "bin_start": 0,
            "bin_end": 0.10000000000000009,
            "count": 5
           },
           {
            "bin_start": 0.10000000000000009,
            "bin_end": 0.20000000000000007,
            "count": 0
           },
           {
            "bin_start": 0.20000000000000007,
            "bin_end": 0.30000000000000004,
            "count": 0
           },
           {
            "bin_start": 0.30000000000000004,
            "bin_end": 0.4,
            "count": 0
           },
           {
            "bin_start": 0.4,
            "bin_end": 0.5,
            "count": 0
           }
          ]
         }
        },
        {
         "name": "feature53",
         "dtype": "float64",
         "stats": {
          "unique_count": 1,
          "nan_count": 0,
          "min": "0.0",
          "max": "0.0",
          "histogram": [
           {
            "bin_start": -0.5,
            "bin_end": -0.4,
            "count": 0
           },
           {
            "bin_start": -0.4,
            "bin_end": -0.3,
            "count": 0
           },
           {
            "bin_start": -0.3,
            "bin_end": -0.19999999999999996,
            "count": 0
           },
           {
            "bin_start": -0.19999999999999996,
            "bin_end": -0.09999999999999998,
            "count": 0
           },
           {
            "bin_start": -0.09999999999999998,
            "bin_end": 0,
            "count": 0
           },
           {
            "bin_start": 0,
            "bin_end": 0.10000000000000009,
            "count": 5
           },
           {
            "bin_start": 0.10000000000000009,
            "bin_end": 0.20000000000000007,
            "count": 0
           },
           {
            "bin_start": 0.20000000000000007,
            "bin_end": 0.30000000000000004,
            "count": 0
           },
           {
            "bin_start": 0.30000000000000004,
            "bin_end": 0.4,
            "count": 0
           },
           {
            "bin_start": 0.4,
            "bin_end": 0.5,
            "count": 0
           }
          ]
         }
        },
        {
         "name": "feature54",
         "dtype": "float64",
         "stats": {
          "unique_count": 2,
          "nan_count": 0,
          "min": "0.0",
          "max": "1.0",
          "histogram": [
           {
            "bin_start": 0,
            "bin_end": 0.1,
            "count": 1
           },
           {
            "bin_start": 0.1,
            "bin_end": 0.2,
            "count": 0
           },
           {
            "bin_start": 0.2,
            "bin_end": 0.30000000000000004,
            "count": 0
           },
           {
            "bin_start": 0.30000000000000004,
            "bin_end": 0.4,
            "count": 0
           },
           {
            "bin_start": 0.4,
            "bin_end": 0.5,
            "count": 0
           },
           {
            "bin_start": 0.5,
            "bin_end": 0.6000000000000001,
            "count": 0
           },
           {
            "bin_start": 0.6000000000000001,
            "bin_end": 0.7000000000000001,
            "count": 0
           },
           {
            "bin_start": 0.7000000000000001,
            "bin_end": 0.8,
            "count": 0
           },
           {
            "bin_start": 0.8,
            "bin_end": 0.9,
            "count": 0
           },
           {
            "bin_start": 0.9,
            "bin_end": 1,
            "count": 4
           }
          ]
         }
        },
        {
         "name": "feature55",
         "dtype": "float64",
         "stats": {
          "unique_count": 3,
          "nan_count": 0,
          "min": "0.0",
          "max": "0.3",
          "histogram": [
           {
            "bin_start": 0,
            "bin_end": 0.03,
            "count": 1
           },
           {
            "bin_start": 0.03,
            "bin_end": 0.06,
            "count": 0
           },
           {
            "bin_start": 0.06,
            "bin_end": 0.09,
            "count": 0
           },
           {
            "bin_start": 0.09,
            "bin_end": 0.12,
            "count": 2
           },
           {
            "bin_start": 0.12,
            "bin_end": 0.15,
            "count": 0
           },
           {
            "bin_start": 0.15,
            "bin_end": 0.18,
            "count": 0
           },
           {
            "bin_start": 0.18,
            "bin_end": 0.21,
            "count": 0
           },
           {
            "bin_start": 0.21,
            "bin_end": 0.24,
            "count": 0
           },
           {
            "bin_start": 0.24,
            "bin_end": 0.27,
            "count": 0
           },
           {
            "bin_start": 0.27,
            "bin_end": 0.3,
            "count": 2
           }
          ]
         }
        },
        {
         "name": "feature56",
         "dtype": "float64",
         "stats": {
          "unique_count": 1,
          "nan_count": 0,
          "min": "1.0",
          "max": "1.0",
          "histogram": [
           {
            "bin_start": 0.5,
            "bin_end": 0.6,
            "count": 0
           },
           {
            "bin_start": 0.6,
            "bin_end": 0.7,
            "count": 0
           },
           {
            "bin_start": 0.7,
            "bin_end": 0.8,
            "count": 0
           },
           {
            "bin_start": 0.8,
            "bin_end": 0.9,
            "count": 0
           },
           {
            "bin_start": 0.9,
            "bin_end": 1,
            "count": 0
           },
           {
            "bin_start": 1,
            "bin_end": 1.1,
            "count": 5
           },
           {
            "bin_start": 1.1,
            "bin_end": 1.2000000000000002,
            "count": 0
           },
           {
            "bin_start": 1.2000000000000002,
            "bin_end": 1.3,
            "count": 0
           },
           {
            "bin_start": 1.3,
            "bin_end": 1.4,
            "count": 0
           },
           {
            "bin_start": 1.4,
            "bin_end": 1.5,
            "count": 0
           }
          ]
         }
        },
        {
         "name": "feature57",
         "dtype": "float64",
         "stats": {
          "unique_count": 5,
          "nan_count": 0,
          "min": "0.1752577319587628",
          "max": "0.9484536082474226",
          "histogram": [
           {
            "bin_start": 0.1752577319587628,
            "bin_end": 0.25257731958762875,
            "count": 1
           },
           {
            "bin_start": 0.25257731958762875,
            "bin_end": 0.3298969072164948,
            "count": 0
           },
           {
            "bin_start": 0.3298969072164948,
            "bin_end": 0.4072164948453607,
            "count": 1
           },
           {
            "bin_start": 0.4072164948453607,
            "bin_end": 0.48453608247422675,
            "count": 1
           },
           {
            "bin_start": 0.48453608247422675,
            "bin_end": 0.5618556701030927,
            "count": 0
           },
           {
            "bin_start": 0.5618556701030927,
            "bin_end": 0.6391752577319587,
            "count": 0
           },
           {
            "bin_start": 0.6391752577319587,
            "bin_end": 0.7164948453608248,
            "count": 1
           },
           {
            "bin_start": 0.7164948453608248,
            "bin_end": 0.7938144329896907,
            "count": 0
           },
           {
            "bin_start": 0.7938144329896907,
            "bin_end": 0.8711340206185566,
            "count": 0
           },
           {
            "bin_start": 0.8711340206185566,
            "bin_end": 0.9484536082474226,
            "count": 1
           }
          ]
         }
        },
        {
         "name": "feature58",
         "dtype": "int64",
         "stats": {
          "unique_count": 2,
          "nan_count": 0,
          "min": "1",
          "max": "2",
          "histogram": [
           {
            "bin_start": 1,
            "bin_end": 1.1,
            "count": 3
           },
           {
            "bin_start": 1.1,
            "bin_end": 1.2,
            "count": 0
           },
           {
            "bin_start": 1.2,
            "bin_end": 1.3,
            "count": 0
           },
           {
            "bin_start": 1.3,
            "bin_end": 1.4,
            "count": 0
           },
           {
            "bin_start": 1.4,
            "bin_end": 1.5,
            "count": 0
           },
           {
            "bin_start": 1.5,
            "bin_end": 1.6,
            "count": 0
           },
           {
            "bin_start": 1.6,
            "bin_end": 1.7000000000000002,
            "count": 0
           },
           {
            "bin_start": 1.7000000000000002,
            "bin_end": 1.8,
            "count": 0
           },
           {
            "bin_start": 1.8,
            "bin_end": 1.9,
            "count": 0
           },
           {
            "bin_start": 1.9,
            "bin_end": 2,
            "count": 2
           }
          ]
         }
        },
        {
         "name": "feature59",
         "dtype": "int64",
         "stats": {
          "unique_count": 3,
          "nan_count": 0,
          "min": "0",
          "max": "2",
          "histogram": [
           {
            "bin_start": 0,
            "bin_end": 0.2,
            "count": 1
           },
           {
            "bin_start": 0.2,
            "bin_end": 0.4,
            "count": 0
           },
           {
            "bin_start": 0.4,
            "bin_end": 0.6000000000000001,
            "count": 0
           },
           {
            "bin_start": 0.6000000000000001,
            "bin_end": 0.8,
            "count": 0
           },
           {
            "bin_start": 0.8,
            "bin_end": 1,
            "count": 0
           },
           {
            "bin_start": 1,
            "bin_end": 1.2000000000000002,
            "count": 1
           },
           {
            "bin_start": 1.2000000000000002,
            "bin_end": 1.4000000000000001,
            "count": 0
           },
           {
            "bin_start": 1.4000000000000001,
            "bin_end": 1.6,
            "count": 0
           },
           {
            "bin_start": 1.6,
            "bin_end": 1.8,
            "count": 0
           },
           {
            "bin_start": 1.8,
            "bin_end": 2,
            "count": 3
           }
          ]
         }
        },
        {
         "name": "feature60",
         "dtype": "int64",
         "stats": {
          "unique_count": 3,
          "nan_count": 0,
          "min": "0",
          "max": "2",
          "histogram": [
           {
            "bin_start": 0,
            "bin_end": 0.2,
            "count": 1
           },
           {
            "bin_start": 0.2,
            "bin_end": 0.4,
            "count": 0
           },
           {
            "bin_start": 0.4,
            "bin_end": 0.6000000000000001,
            "count": 0
           },
           {
            "bin_start": 0.6000000000000001,
            "bin_end": 0.8,
            "count": 0
           },
           {
            "bin_start": 0.8,
            "bin_end": 1,
            "count": 0
           },
           {
            "bin_start": 1,
            "bin_end": 1.2000000000000002,
            "count": 1
           },
           {
            "bin_start": 1.2000000000000002,
            "bin_end": 1.4000000000000001,
            "count": 0
           },
           {
            "bin_start": 1.4000000000000001,
            "bin_end": 1.6,
            "count": 0
           },
           {
            "bin_start": 1.6,
            "bin_end": 1.8,
            "count": 0
           },
           {
            "bin_start": 1.8,
            "bin_end": 2,
            "count": 3
           }
          ]
         }
        },
        {
         "name": "feature61",
         "dtype": "int64",
         "stats": {
          "unique_count": 3,
          "nan_count": 0,
          "min": "3",
          "max": "7",
          "histogram": [
           {
            "bin_start": 3,
            "bin_end": 3.4,
            "count": 2
           },
           {
            "bin_start": 3.4,
            "bin_end": 3.8,
            "count": 0
           },
           {
            "bin_start": 3.8,
            "bin_end": 4.2,
            "count": 2
           },
           {
            "bin_start": 4.2,
            "bin_end": 4.6,
            "count": 0
           },
           {
            "bin_start": 4.6,
            "bin_end": 5,
            "count": 0
           },
           {
            "bin_start": 5,
            "bin_end": 5.4,
            "count": 0
           },
           {
            "bin_start": 5.4,
            "bin_end": 5.800000000000001,
            "count": 0
           },
           {
            "bin_start": 5.800000000000001,
            "bin_end": 6.2,
            "count": 0
           },
           {
            "bin_start": 6.2,
            "bin_end": 6.6,
            "count": 0
           },
           {
            "bin_start": 6.6,
            "bin_end": 7,
            "count": 1
           }
          ]
         }
        },
        {
         "name": "feature62",
         "dtype": "int64",
         "stats": {
          "unique_count": 2,
          "nan_count": 0,
          "min": "0",
          "max": "2",
          "histogram": [
           {
            "bin_start": 0,
            "bin_end": 0.2,
            "count": 1
           },
           {
            "bin_start": 0.2,
            "bin_end": 0.4,
            "count": 0
           },
           {
            "bin_start": 0.4,
            "bin_end": 0.6000000000000001,
            "count": 0
           },
           {
            "bin_start": 0.6000000000000001,
            "bin_end": 0.8,
            "count": 0
           },
           {
            "bin_start": 0.8,
            "bin_end": 1,
            "count": 0
           },
           {
            "bin_start": 1,
            "bin_end": 1.2000000000000002,
            "count": 0
           },
           {
            "bin_start": 1.2000000000000002,
            "bin_end": 1.4000000000000001,
            "count": 0
           },
           {
            "bin_start": 1.4000000000000001,
            "bin_end": 1.6,
            "count": 0
           },
           {
            "bin_start": 1.6,
            "bin_end": 1.8,
            "count": 0
           },
           {
            "bin_start": 1.8,
            "bin_end": 2,
            "count": 4
           }
          ]
         }
        },
        {
         "name": "feature63",
         "dtype": "int64",
         "stats": {
          "unique_count": 1,
          "nan_count": 0,
          "min": "0",
          "max": "0",
          "histogram": [
           {
            "bin_start": -0.5,
            "bin_end": -0.4,
            "count": 0
           },
           {
            "bin_start": -0.4,
            "bin_end": -0.3,
            "count": 0
           },
           {
            "bin_start": -0.3,
            "bin_end": -0.19999999999999996,
            "count": 0
           },
           {
            "bin_start": -0.19999999999999996,
            "bin_end": -0.09999999999999998,
            "count": 0
           },
           {
            "bin_start": -0.09999999999999998,
            "bin_end": 0,
            "count": 0
           },
           {
            "bin_start": 0,
            "bin_end": 0.10000000000000009,
            "count": 5
           },
           {
            "bin_start": 0.10000000000000009,
            "bin_end": 0.20000000000000007,
            "count": 0
           },
           {
            "bin_start": 0.20000000000000007,
            "bin_end": 0.30000000000000004,
            "count": 0
           },
           {
            "bin_start": 0.30000000000000004,
            "bin_end": 0.4,
            "count": 0
           },
           {
            "bin_start": 0.4,
            "bin_end": 0.5,
            "count": 0
           }
          ]
         }
        },
        {
         "name": "feature64",
         "dtype": "int64",
         "stats": {
          "unique_count": 1,
          "nan_count": 0,
          "min": "0",
          "max": "0",
          "histogram": [
           {
            "bin_start": -0.5,
            "bin_end": -0.4,
            "count": 0
           },
           {
            "bin_start": -0.4,
            "bin_end": -0.3,
            "count": 0
           },
           {
            "bin_start": -0.3,
            "bin_end": -0.19999999999999996,
            "count": 0
           },
           {
            "bin_start": -0.19999999999999996,
            "bin_end": -0.09999999999999998,
            "count": 0
           },
           {
            "bin_start": -0.09999999999999998,
            "bin_end": 0,
            "count": 0
           },
           {
            "bin_start": 0,
            "bin_end": 0.10000000000000009,
            "count": 5
           },
           {
            "bin_start": 0.10000000000000009,
            "bin_end": 0.20000000000000007,
            "count": 0
           },
           {
            "bin_start": 0.20000000000000007,
            "bin_end": 0.30000000000000004,
            "count": 0
           },
           {
            "bin_start": 0.30000000000000004,
            "bin_end": 0.4,
            "count": 0
           },
           {
            "bin_start": 0.4,
            "bin_end": 0.5,
            "count": 0
           }
          ]
         }
        },
        {
         "name": "feature65",
         "dtype": "int64",
         "stats": {
          "unique_count": 2,
          "nan_count": 0,
          "min": "1",
          "max": "2",
          "histogram": [
           {
            "bin_start": 1,
            "bin_end": 1.1,
            "count": 4
           },
           {
            "bin_start": 1.1,
            "bin_end": 1.2,
            "count": 0
           },
           {
            "bin_start": 1.2,
            "bin_end": 1.3,
            "count": 0
           },
           {
            "bin_start": 1.3,
            "bin_end": 1.4,
            "count": 0
           },
           {
            "bin_start": 1.4,
            "bin_end": 1.5,
            "count": 0
           },
           {
            "bin_start": 1.5,
            "bin_end": 1.6,
            "count": 0
           },
           {
            "bin_start": 1.6,
            "bin_end": 1.7000000000000002,
            "count": 0
           },
           {
            "bin_start": 1.7000000000000002,
            "bin_end": 1.8,
            "count": 0
           },
           {
            "bin_start": 1.8,
            "bin_end": 1.9,
            "count": 0
           },
           {
            "bin_start": 1.9,
            "bin_end": 2,
            "count": 1
           }
          ]
         }
        },
        {
         "name": "feature66",
         "dtype": "int64",
         "stats": {
          "unique_count": 1,
          "nan_count": 0,
          "min": "1",
          "max": "1",
          "histogram": [
           {
            "bin_start": 0.5,
            "bin_end": 0.6,
            "count": 0
           },
           {
            "bin_start": 0.6,
            "bin_end": 0.7,
            "count": 0
           },
           {
            "bin_start": 0.7,
            "bin_end": 0.8,
            "count": 0
           },
           {
            "bin_start": 0.8,
            "bin_end": 0.9,
            "count": 0
           },
           {
            "bin_start": 0.9,
            "bin_end": 1,
            "count": 0
           },
           {
            "bin_start": 1,
            "bin_end": 1.1,
            "count": 5
           },
           {
            "bin_start": 1.1,
            "bin_end": 1.2000000000000002,
            "count": 0
           },
           {
            "bin_start": 1.2000000000000002,
            "bin_end": 1.3,
            "count": 0
           },
           {
            "bin_start": 1.3,
            "bin_end": 1.4,
            "count": 0
           },
           {
            "bin_start": 1.4,
            "bin_end": 1.5,
            "count": 0
           }
          ]
         }
        },
        {
         "name": "feature67",
         "dtype": "int64",
         "stats": {
          "unique_count": 2,
          "nan_count": 0,
          "min": "0",
          "max": "4",
          "histogram": [
           {
            "bin_start": 0,
            "bin_end": 0.4,
            "count": 3
           },
           {
            "bin_start": 0.4,
            "bin_end": 0.8,
            "count": 0
           },
           {
            "bin_start": 0.8,
            "bin_end": 1.2000000000000002,
            "count": 0
           },
           {
            "bin_start": 1.2000000000000002,
            "bin_end": 1.6,
            "count": 0
           },
           {
            "bin_start": 1.6,
            "bin_end": 2,
            "count": 0
           },
           {
            "bin_start": 2,
            "bin_end": 2.4000000000000004,
            "count": 0
           },
           {
            "bin_start": 2.4000000000000004,
            "bin_end": 2.8000000000000003,
            "count": 0
           },
           {
            "bin_start": 2.8000000000000003,
            "bin_end": 3.2,
            "count": 0
           },
           {
            "bin_start": 3.2,
            "bin_end": 3.6,
            "count": 0
           },
           {
            "bin_start": 3.6,
            "bin_end": 4,
            "count": 2
           }
          ]
         }
        },
        {
         "name": "feature68",
         "dtype": "int64",
         "stats": {
          "unique_count": 2,
          "nan_count": 0,
          "min": "0",
          "max": "5",
          "histogram": [
           {
            "bin_start": 0,
            "bin_end": 0.5,
            "count": 4
           },
           {
            "bin_start": 0.5,
            "bin_end": 1,
            "count": 0
           },
           {
            "bin_start": 1,
            "bin_end": 1.5,
            "count": 0
           },
           {
            "bin_start": 1.5,
            "bin_end": 2,
            "count": 0
           },
           {
            "bin_start": 2,
            "bin_end": 2.5,
            "count": 0
           },
           {
            "bin_start": 2.5,
            "bin_end": 3,
            "count": 0
           },
           {
            "bin_start": 3,
            "bin_end": 3.5,
            "count": 0
           },
           {
            "bin_start": 3.5,
            "bin_end": 4,
            "count": 0
           },
           {
            "bin_start": 4,
            "bin_end": 4.5,
            "count": 0
           },
           {
            "bin_start": 4.5,
            "bin_end": 5,
            "count": 1
           }
          ]
         }
        },
        {
         "name": "feature69",
         "dtype": "int64",
         "stats": {
          "unique_count": 2,
          "nan_count": 0,
          "min": "0",
          "max": "1",
          "histogram": [
           {
            "bin_start": 0,
            "bin_end": 0.1,
            "count": 4
           },
           {
            "bin_start": 0.1,
            "bin_end": 0.2,
            "count": 0
           },
           {
            "bin_start": 0.2,
            "bin_end": 0.30000000000000004,
            "count": 0
           },
           {
            "bin_start": 0.30000000000000004,
            "bin_end": 0.4,
            "count": 0
           },
           {
            "bin_start": 0.4,
            "bin_end": 0.5,
            "count": 0
           },
           {
            "bin_start": 0.5,
            "bin_end": 0.6000000000000001,
            "count": 0
           },
           {
            "bin_start": 0.6000000000000001,
            "bin_end": 0.7000000000000001,
            "count": 0
           },
           {
            "bin_start": 0.7000000000000001,
            "bin_end": 0.8,
            "count": 0
           },
           {
            "bin_start": 0.8,
            "bin_end": 0.9,
            "count": 0
           },
           {
            "bin_start": 0.9,
            "bin_end": 1,
            "count": 1
           }
          ]
         }
        },
        {
         "name": "feature70",
         "dtype": "int64",
         "stats": {
          "unique_count": 1,
          "nan_count": 0,
          "min": "0",
          "max": "0",
          "histogram": [
           {
            "bin_start": -0.5,
            "bin_end": -0.4,
            "count": 0
           },
           {
            "bin_start": -0.4,
            "bin_end": -0.3,
            "count": 0
           },
           {
            "bin_start": -0.3,
            "bin_end": -0.19999999999999996,
            "count": 0
           },
           {
            "bin_start": -0.19999999999999996,
            "bin_end": -0.09999999999999998,
            "count": 0
           },
           {
            "bin_start": -0.09999999999999998,
            "bin_end": 0,
            "count": 0
           },
           {
            "bin_start": 0,
            "bin_end": 0.10000000000000009,
            "count": 5
           },
           {
            "bin_start": 0.10000000000000009,
            "bin_end": 0.20000000000000007,
            "count": 0
           },
           {
            "bin_start": 0.20000000000000007,
            "bin_end": 0.30000000000000004,
            "count": 0
           },
           {
            "bin_start": 0.30000000000000004,
            "bin_end": 0.4,
            "count": 0
           },
           {
            "bin_start": 0.4,
            "bin_end": 0.5,
            "count": 0
           }
          ]
         }
        },
        {
         "name": "feature71",
         "dtype": "int64",
         "stats": {
          "unique_count": 1,
          "nan_count": 0,
          "min": "0",
          "max": "0",
          "histogram": [
           {
            "bin_start": -0.5,
            "bin_end": -0.4,
            "count": 0
           },
           {
            "bin_start": -0.4,
            "bin_end": -0.3,
            "count": 0
           },
           {
            "bin_start": -0.3,
            "bin_end": -0.19999999999999996,
            "count": 0
           },
           {
            "bin_start": -0.19999999999999996,
            "bin_end": -0.09999999999999998,
            "count": 0
           },
           {
            "bin_start": -0.09999999999999998,
            "bin_end": 0,
            "count": 0
           },
           {
            "bin_start": 0,
            "bin_end": 0.10000000000000009,
            "count": 5
           },
           {
            "bin_start": 0.10000000000000009,
            "bin_end": 0.20000000000000007,
            "count": 0
           },
           {
            "bin_start": 0.20000000000000007,
            "bin_end": 0.30000000000000004,
            "count": 0
           },
           {
            "bin_start": 0.30000000000000004,
            "bin_end": 0.4,
            "count": 0
           },
           {
            "bin_start": 0.4,
            "bin_end": 0.5,
            "count": 0
           }
          ]
         }
        },
        {
         "name": "label",
         "dtype": "int64",
         "stats": {
          "unique_count": 1,
          "nan_count": 0,
          "min": "3",
          "max": "3",
          "histogram": [
           {
            "bin_start": 2.5,
            "bin_end": 2.6,
            "count": 0
           },
           {
            "bin_start": 2.6,
            "bin_end": 2.7,
            "count": 0
           },
           {
            "bin_start": 2.7,
            "bin_end": 2.8,
            "count": 0
           },
           {
            "bin_start": 2.8,
            "bin_end": 2.9,
            "count": 0
           },
           {
            "bin_start": 2.9,
            "bin_end": 3,
            "count": 0
           },
           {
            "bin_start": 3,
            "bin_end": 3.1,
            "count": 5
           },
           {
            "bin_start": 3.1,
            "bin_end": 3.2,
            "count": 0
           },
           {
            "bin_start": 3.2,
            "bin_end": 3.3,
            "count": 0
           },
           {
            "bin_start": 3.3,
            "bin_end": 3.4,
            "count": 0
           },
           {
            "bin_start": 3.4,
            "bin_end": 3.5,
            "count": 0
           }
          ]
         }
        },
        {
         "name": "_deepnote_index_column",
         "dtype": "int64"
        }
       ],
       "rows": [
        {
         "feature0": 0.3022447668788747,
         "feature1": 0,
         "feature2": 0.2,
         "feature3": 0,
         "feature4": 1,
         "feature5": 1,
         "feature6": 0,
         "feature7": 0,
         "feature8": 0,
         "feature9": 0.125,
         "feature10": 0.125,
         "feature11": 0,
         "feature12": 0,
         "feature13": 0,
         "feature14": 0,
         "feature15": 0,
         "feature16": 0,
         "feature17": 0.4761904761904761,
         "feature18": 0,
         "feature19": 0,
         "feature20": 0,
         "feature21": 1,
         "feature22": 0,
         "feature23": 0,
         "feature24": 0,
         "feature25": 0,
         "feature26": 1,
         "feature27": 0,
         "feature28": 0,
         "feature29": 0,
         "feature30": 1,
         "feature31": 0,
         "feature32": 0,
         "feature33": 0,
         "feature34": 0,
         "feature35": 0,
         "feature36": 0,
         "feature37": 0,
         "feature38": 0,
         "feature39": 0,
         "feature40": 0,
         "feature41": 0,
         "feature42": 0,
         "feature43": 0.1111111111111111,
         "feature44": 0,
         "feature45": 0,
         "feature46": 10,
         "feature47": 0,
         "feature48": 0.2702702702702703,
         "feature49": 0,
         "feature50": 0.1379310344827586,
         "feature51": 0,
         "feature52": 0,
         "feature53": 0,
         "feature54": 1,
         "feature55": 0.1,
         "feature56": 1,
         "feature57": 0.4432989690721649,
         "feature58": 1,
         "feature59": 0,
         "feature60": 0,
         "feature61": 3,
         "feature62": 2,
         "feature63": 0,
         "feature64": 0,
         "feature65": 2,
         "feature66": 1,
         "feature67": 0,
         "feature68": 0,
         "feature69": 1,
         "feature70": 0,
         "feature71": 0,
         "label": 3,
         "_deepnote_index_column": 0
        },
        {
         "feature0": -0.2242977092712486,
         "feature1": 0,
         "feature2": 0.3,
         "feature3": 0,
         "feature4": 1,
         "feature5": 1,
         "feature6": 1,
         "feature7": 0,
         "feature8": 0,
         "feature9": 0.125,
         "feature10": 0.125,
         "feature11": 0,
         "feature12": 0,
         "feature13": 0,
         "feature14": 0,
         "feature15": 0,
         "feature16": 0,
         "feature17": 0.5714285714285714,
         "feature18": 0.1,
         "feature19": 0,
         "feature20": 0,
         "feature21": 1,
         "feature22": 0,
         "feature23": 0,
         "feature24": 0,
         "feature25": 0,
         "feature26": 1,
         "feature27": 0,
         "feature28": 0,
         "feature29": 0,
         "feature30": 1,
         "feature31": 0,
         "feature32": 0,
         "feature33": 0,
         "feature34": 0,
         "feature35": 0,
         "feature36": 0,
         "feature37": 0,
         "feature38": 0,
         "feature39": 0,
         "feature40": 0,
         "feature41": 0,
         "feature42": 0,
         "feature43": 0.1111111111111111,
         "feature44": 0.3333333333333333,
         "feature45": 8,
         "feature46": 12,
         "feature47": 0,
         "feature48": 0.3243243243243243,
         "feature49": 0,
         "feature50": 0.1379310344827586,
         "feature51": 0,
         "feature52": 0,
         "feature53": 0,
         "feature54": 1,
         "feature55": 0.1,
         "feature56": 1,
         "feature57": 0.6907216494845361,
         "feature58": 1,
         "feature59": 1,
         "feature60": 1,
         "feature61": 7,
         "feature62": 2,
         "feature63": 0,
         "feature64": 0,
         "feature65": 1,
         "feature66": 1,
         "feature67": 4,
         "feature68": 5,
         "feature69": 0,
         "feature70": 0,
         "feature71": 0,
         "label": 3,
         "_deepnote_index_column": 1
        },
        {
         "feature0": 0.2065097712152159,
         "feature1": 0,
         "feature2": 0.7000000000000001,
         "feature3": 0,
         "feature4": 1,
         "feature5": 1,
         "feature6": 0,
         "feature7": 0,
         "feature8": 0,
         "feature9": 0,
         "feature10": 0,
         "feature11": 0,
         "feature12": 0.1666666666666666,
         "feature13": 0.125,
         "feature14": 0,
         "feature15": 0,
         "feature16": 0,
         "feature17": 0.5238095238095237,
         "feature18": 0.1,
         "feature19": 0,
         "feature20": 1,
         "feature21": 0,
         "feature22": 1,
         "feature23": 0,
         "feature24": 0,
         "feature25": 0,
         "feature26": 0,
         "feature27": 0,
         "feature28": 1,
         "feature29": 0,
         "feature30": 1,
         "feature31": 0,
         "feature32": 0,
         "feature33": 0,
         "feature34": 0,
         "feature35": 0,
         "feature36": 0,
         "feature37": 0,
         "feature38": 0,
         "feature39": 0,
         "feature40": 0,
         "feature41": 0,
         "feature42": 0,
         "feature43": 0.1111111111111111,
         "feature44": 0.3333333333333333,
         "feature45": 8,
         "feature46": 0,
         "feature47": 11,
         "feature48": 0.2972972972972973,
         "feature49": 0.1428571428571428,
         "feature50": 0.0517241379310344,
         "feature51": 0,
         "feature52": 0,
         "feature53": 0,
         "feature54": 0,
         "feature55": 0,
         "feature56": 1,
         "feature57": 0.9484536082474226,
         "feature58": 1,
         "feature59": 2,
         "feature60": 2,
         "feature61": 4,
         "feature62": 0,
         "feature63": 0,
         "feature64": 0,
         "feature65": 1,
         "feature66": 1,
         "feature67": 4,
         "feature68": 0,
         "feature69": 0,
         "feature70": 0,
         "feature71": 0,
         "label": 3,
         "_deepnote_index_column": 2
        },
        {
         "feature0": 0.2065097712152159,
         "feature1": 0,
         "feature2": 0.4,
         "feature3": 0,
         "feature4": 1,
         "feature5": 1,
         "feature6": 1,
         "feature7": 0,
         "feature8": 0,
         "feature9": 0.25,
         "feature10": 0.25,
         "feature11": 0.1666666666666666,
         "feature12": 0.1666666666666666,
         "feature13": 0.25,
         "feature14": 0.1428571428571428,
         "feature15": 0.2,
         "feature16": 0.2142857142857142,
         "feature17": 0.4285714285714285,
         "feature18": 0.2,
         "feature19": 0.25,
         "feature20": 0,
         "feature21": 1,
         "feature22": 0,
         "feature23": 0,
         "feature24": 0,
         "feature25": 0,
         "feature26": 0,
         "feature27": 0,
         "feature28": 0,
         "feature29": 1,
         "feature30": 0,
         "feature31": 0,
         "feature32": 1,
         "feature33": 0,
         "feature34": 0,
         "feature35": 0,
         "feature36": 0,
         "feature37": 0,
         "feature38": 0,
         "feature39": 0,
         "feature40": 0,
         "feature41": 0,
         "feature42": 0.2222222222222222,
         "feature43": 0.2222222222222222,
         "feature44": 0,
         "feature45": 1,
         "feature46": 11,
         "feature47": 0,
         "feature48": 0.2972972972972973,
         "feature49": 0.2857142857142857,
         "feature50": 0.1954023103448275,
         "feature51": 0,
         "feature52": 0,
         "feature53": 0,
         "feature54": 1,
         "feature55": 0.3,
         "feature56": 1,
         "feature57": 0.1752577319587628,
         "feature58": 2,
         "feature59": 2,
         "feature60": 2,
         "feature61": 3,
         "feature62": 2,
         "feature63": 0,
         "feature64": 0,
         "feature65": 1,
         "feature66": 1,
         "feature67": 0,
         "feature68": 0,
         "feature69": 0,
         "feature70": 0,
         "feature71": 0,
         "label": 3,
         "_deepnote_index_column": 3
        },
        {
         "feature0": 0.2065097712152159,
         "feature1": 0,
         "feature2": 0.4,
         "feature3": 0,
         "feature4": 1,
         "feature5": 1,
         "feature6": 1,
         "feature7": 0,
         "feature8": 0,
         "feature9": 0.25,
         "feature10": 0.25,
         "feature11": 0.1666666666666666,
         "feature12": 0.1666666666666666,
         "feature13": 0.25,
         "feature14": 0.1428571428571428,
         "feature15": 0.2,
         "feature16": 0.2142857142857142,
         "feature17": 0.5238095238095237,
         "feature18": 0.1,
         "feature19": 0.25,
         "feature20": 0,
         "feature21": 0,
         "feature22": 1,
         "feature23": 0,
         "feature24": 1,
         "feature25": 0,
         "feature26": 0,
         "feature27": 0,
         "feature28": 0,
         "feature29": 0,
         "feature30": 0,
         "feature31": 1,
         "feature32": 0,
         "feature33": 0,
         "feature34": 0,
         "feature35": 0,
         "feature36": 0,
         "feature37": 0,
         "feature38": 0,
         "feature39": 0,
         "feature40": 0,
         "feature41": 0,
         "feature42": 0.2222222222222222,
         "feature43": 0.2222222222222222,
         "feature44": 0,
         "feature45": 1,
         "feature46": 11,
         "feature47": 0,
         "feature48": 0.2972972972972973,
         "feature49": 0.2857142857142857,
         "feature50": 0.1954023103448275,
         "feature51": 0,
         "feature52": 0,
         "feature53": 0,
         "feature54": 1,
         "feature55": 0.3,
         "feature56": 1,
         "feature57": 0.3814432989690721,
         "feature58": 2,
         "feature59": 2,
         "feature60": 2,
         "feature61": 4,
         "feature62": 2,
         "feature63": 0,
         "feature64": 0,
         "feature65": 1,
         "feature66": 1,
         "feature67": 0,
         "feature68": 0,
         "feature69": 0,
         "feature70": 0,
         "feature71": 0,
         "label": 3,
         "_deepnote_index_column": 4
        }
       ]
      },
      "text/plain": "   feature0  feature1  feature2  feature3  feature4  feature5  feature6  \\\n0  0.302245       0.0       0.2       0.0       1.0       1.0       0.0   \n1 -0.224298       0.0       0.3       0.0       1.0       1.0       1.0   \n2  0.206510       0.0       0.7       0.0       1.0       1.0       0.0   \n3  0.206510       0.0       0.4       0.0       1.0       1.0       1.0   \n4  0.206510       0.0       0.4       0.0       1.0       1.0       1.0   \n\n   feature7  feature8  feature9  ...  feature63  feature64  feature65  \\\n0       0.0       0.0     0.125  ...          0          0          2   \n1       0.0       0.0     0.125  ...          0          0          1   \n2       0.0       0.0     0.000  ...          0          0          1   \n3       0.0       0.0     0.250  ...          0          0          1   \n4       0.0       0.0     0.250  ...          0          0          1   \n\n   feature66  feature67  feature68  feature69  feature70  feature71  label  \n0          1          0          0          1          0          0      3  \n1          1          4          5          0          0          0      3  \n2          1          4          0          0          0          0      3  \n3          1          0          0          0          0          0      3  \n4          1          0          0          0          0          0      3  \n\n[5 rows x 73 columns]",
      "text/html": "<div>\n<style scoped>\n    .dataframe tbody tr th:only-of-type {\n        vertical-align: middle;\n    }\n\n    .dataframe tbody tr th {\n        vertical-align: top;\n    }\n\n    .dataframe thead th {\n        text-align: right;\n    }\n</style>\n<table border=\"1\" class=\"dataframe\">\n  <thead>\n    <tr style=\"text-align: right;\">\n      <th></th>\n      <th>feature0</th>\n      <th>feature1</th>\n      <th>feature2</th>\n      <th>feature3</th>\n      <th>feature4</th>\n      <th>feature5</th>\n      <th>feature6</th>\n      <th>feature7</th>\n      <th>feature8</th>\n      <th>feature9</th>\n      <th>...</th>\n      <th>feature63</th>\n      <th>feature64</th>\n      <th>feature65</th>\n      <th>feature66</th>\n      <th>feature67</th>\n      <th>feature68</th>\n      <th>feature69</th>\n      <th>feature70</th>\n      <th>feature71</th>\n      <th>label</th>\n    </tr>\n  </thead>\n  <tbody>\n    <tr>\n      <th>0</th>\n      <td>0.302245</td>\n      <td>0.0</td>\n      <td>0.2</td>\n      <td>0.0</td>\n      <td>1.0</td>\n      <td>1.0</td>\n      <td>0.0</td>\n      <td>0.0</td>\n      <td>0.0</td>\n      <td>0.125</td>\n      <td>...</td>\n      <td>0</td>\n      <td>0</td>\n      <td>2</td>\n      <td>1</td>\n      <td>0</td>\n      <td>0</td>\n      <td>1</td>\n      <td>0</td>\n      <td>0</td>\n      <td>3</td>\n    </tr>\n    <tr>\n      <th>1</th>\n      <td>-0.224298</td>\n      <td>0.0</td>\n      <td>0.3</td>\n      <td>0.0</td>\n      <td>1.0</td>\n      <td>1.0</td>\n      <td>1.0</td>\n      <td>0.0</td>\n      <td>0.0</td>\n      <td>0.125</td>\n      <td>...</td>\n      <td>0</td>\n      <td>0</td>\n      <td>1</td>\n      <td>1</td>\n      <td>4</td>\n      <td>5</td>\n      <td>0</td>\n      <td>0</td>\n      <td>0</td>\n      <td>3</td>\n    </tr>\n    <tr>\n      <th>2</th>\n      <td>0.206510</td>\n      <td>0.0</td>\n      <td>0.7</td>\n      <td>0.0</td>\n      <td>1.0</td>\n      <td>1.0</td>\n      <td>0.0</td>\n      <td>0.0</td>\n      <td>0.0</td>\n      <td>0.000</td>\n      <td>...</td>\n      <td>0</td>\n      <td>0</td>\n      <td>1</td>\n      <td>1</td>\n      <td>4</td>\n      <td>0</td>\n      <td>0</td>\n      <td>0</td>\n      <td>0</td>\n      <td>3</td>\n    </tr>\n    <tr>\n      <th>3</th>\n      <td>0.206510</td>\n      <td>0.0</td>\n      <td>0.4</td>\n      <td>0.0</td>\n      <td>1.0</td>\n      <td>1.0</td>\n      <td>1.0</td>\n      <td>0.0</td>\n      <td>0.0</td>\n      <td>0.250</td>\n      <td>...</td>\n      <td>0</td>\n      <td>0</td>\n      <td>1</td>\n      <td>1</td>\n      <td>0</td>\n      <td>0</td>\n      <td>0</td>\n      <td>0</td>\n      <td>0</td>\n      <td>3</td>\n    </tr>\n    <tr>\n      <th>4</th>\n      <td>0.206510</td>\n      <td>0.0</td>\n      <td>0.4</td>\n      <td>0.0</td>\n      <td>1.0</td>\n      <td>1.0</td>\n      <td>1.0</td>\n      <td>0.0</td>\n      <td>0.0</td>\n      <td>0.250</td>\n      <td>...</td>\n      <td>0</td>\n      <td>0</td>\n      <td>1</td>\n      <td>1</td>\n      <td>0</td>\n      <td>0</td>\n      <td>0</td>\n      <td>0</td>\n      <td>0</td>\n      <td>3</td>\n    </tr>\n  </tbody>\n</table>\n<p>5 rows × 73 columns</p>\n</div>"
     },
     "metadata": {}
    }
   ]
  },
  {
   "cell_type": "markdown",
   "source": "# Define KFolder and light_bgm Function",
   "metadata": {
    "cell_id": "90eb8ed9-1332-4c34-b263-620c5998fc1a",
    "tags": [],
    "is_collapsed": false,
    "deepnote_cell_type": "text-cell-h1"
   }
  },
  {
   "cell_type": "code",
   "metadata": {
    "cell_id": "901a42c3-2226-4716-a533-ee82d3539a54",
    "tags": [],
    "deepnote_to_be_reexecuted": false,
    "source_hash": "ecb88640",
    "execution_start": 1650252154505,
    "execution_millis": 1,
    "owner_user_id": "99240854-b19c-4c04-abb9-6aa83c19c4b7",
    "deepnote_cell_type": "code"
   },
   "source": "def xgboost_train(X_train,y_train,X_test,y_test,params=None):\n    train_data = xgb.DMatrix(X_train, y_train)\n    validation_data = xgb.DMatrix(X_test, y_test)\n    if params is None:\n#         params = {\n# 'boosting_type': 'dart',\n# 'objective':'multi:softmax',\n# 'num_class':9,\n# 'max_depth':7, #Max_depth: The maximum depth of a tree.\n# 'min_child_weight':20, #Min_child_weight: The minimum sum of instance weight needed in a child. Keeping it high prevents the child from being too specific and thus helps to avoid overfitting.\n# 'gamma':1,#Minimum loss reduction required to make a further partition on a leaf node of the tree. Again, the larger the game, the less likely the model will overfit.\n# 'subsample':0.8,#The ratio of rows that are randomly selected prior to growing trees. Subsample can also be used to avoid overfitting\n# 'colsample_bytree':0.7,\n# 'tree_method':'hist',\n# 'eval_metric':'mlogloss',\n# 'eta':0.04,#The learning rate. Keeping it high makes the model learn fast but increases the chance of overfitting at the same time\n# 'alpha': 1,#L1 regularization term\n# 'verbose': 2\n# }\n        params = {'max_depth':35, 'eta':0.15, 'silent':0, 'objective':'multi:softmax', 'min_child_weight': 2, 'num_class': 4, 'gamma': 2.5, 'colsample_bylevel': 1, 'subsample': 0.95, 'colsample_bytree': 0.85, 'reg_lambda': 0.35 }\n    clf = xgb.train(params, train_data , 50, evals=[(train_data,'eval'),(validation_data, 'eval')], verbose_eval=True)\n    return clf\n\ndef k_fold(k,X,Y,shuffle=False,random_state=None,params=None):\n    X,Y=np.array(X),np.array(Y)\n    kf = KFold(n_splits=k,random_state=random_state, shuffle=shuffle)\n    for train_index, test_index in kf.split(X):\n        X_train = X[train_index]\n        y_train = Y[train_index]\n        X_test = X[test_index]\n        y_test = Y[test_index]\n        model = xgboost_train(X_train,y_train,X_test,y_test,params)\n        yield (model,test_index)\n# X = data_df.iloc[:, :-1]\n# Y = data_df[\"label\"]\n# k_fold(3,X,Y)",
   "execution_count": null,
   "outputs": []
  },
  {
   "cell_type": "markdown",
   "source": "# Model Evaluation ",
   "metadata": {
    "cell_id": "00006-57eb552d-769d-41ac-9e5b-fc7ec3da1b68",
    "tags": [],
    "is_collapsed": false,
    "deepnote_cell_type": "text-cell-h1"
   }
  },
  {
   "cell_type": "code",
   "metadata": {
    "cell_id": "0978f2ba-3f2f-41db-93ba-dc5b6d2d9417",
    "tags": [],
    "deepnote_to_be_reexecuted": false,
    "source_hash": "b995af9a",
    "execution_start": 1650252154509,
    "execution_millis": 14,
    "deepnote_cell_type": "code"
   },
   "source": "X = data_df.iloc[:, :-1]\nY = data_df[\"label\"]\nprint(\"original distribution:\",Counter(Y))",
   "execution_count": null,
   "outputs": [
    {
     "name": "stdout",
     "text": "original distribution: Counter({3: 5996, 1: 1597, 2: 1209, 0: 755})\n",
     "output_type": "stream"
    }
   ]
  },
  {
   "cell_type": "code",
   "metadata": {
    "cell_id": "aabc9768-b000-4bd5-8515-5d2cd0ccaa36",
    "tags": [],
    "deepnote_to_be_reexecuted": false,
    "source_hash": "72ae4929",
    "execution_start": 1650252154584,
    "execution_millis": 272,
    "deepnote_cell_type": "code"
   },
   "source": "#upsamlping \nsmo = SMOTE(random_state=42)\nX_smo, Y_smo = smo.fit_resample(X, Y)\nprint(\"smote distribution:\",Counter(Y_smo))\nX,Y=X_smo, Y_smo#using smote dataset",
   "execution_count": null,
   "outputs": [
    {
     "name": "stdout",
     "text": "smote distribution: Counter({3: 5996, 1: 5996, 2: 5996, 0: 5996})\n",
     "output_type": "stream"
    }
   ]
  },
  {
   "cell_type": "code",
   "metadata": {
    "cell_id": "498fde37-e6ca-403f-9df8-d185450b88e0",
    "tags": [],
    "deepnote_to_be_reexecuted": false,
    "source_hash": "d2319688",
    "execution_start": 1650252154859,
    "execution_millis": 179466,
    "deepnote_cell_type": "code"
   },
   "source": "#wandb.login(key=\"2e9513866272d50377f6a772b6b310ea16f8bb8f\")\n#wandb.init(project=\"my-test-project\", entity=\"kero0000\")\n# for depth in range(2,15):\n# params={ 'boosting_type': 'dart',\n# 'objective':'multi:softmax',\n# 'num_class':9,\n# 'max_depth':14, #Max_depth: The maximum depth of a tree.\n# 'min_child_weight':20, #Min_child_weight: The minimum sum of instance weight needed in a child. Keeping it high prevents the child from being too specific and thus helps to avoid overfitting.\n# 'gamma':1,#Minimum loss reduction required to make a further partition on a leaf node of the tree. Again, the larger the game, the less likely the model will overfit.\n# 'subsample':0.8,#The ratio of rows that are randomly selected prior to growing trees. Subsample can also be used to avoid overfitting\n# 'colsample_bytree':0.7,\n# 'tree_method':'hist',\n# 'eval_metric':'mlogloss',\n# 'eta':0.04,#The learning rate. Keeping it high makes the model learn fast but increases the chance of overfitting at the same time\n# 'alpha': 1,#L1 regularization term\n# 'verbose': 2}\n# # wandb.config.update(params)\nparams = {'max_depth':35, 'eta':0.1, 'silent':0, 'objective':'multi:softmax', 'min_child_weight': 1, 'num_class': 4, 'gamma': 2.0, 'colsample_bylevel': 0.9, 'subsample': 0.84, 'colsample_bytree': 0.88, 'reg_lambda': 0.75 }\nparams = {'max_depth':35, 'eta':0.15, 'silent':0, 'objective':'multi:softmax', 'min_child_weight': 2, 'num_class': 4, 'gamma': 2.5, 'colsample_bylevel': 1, 'subsample': 0.95, 'colsample_bytree': 0.85, 'reg_lambda': 0.35 }\nmacro_F1_metric=[]\nfor model,test_index in k_fold(10,X,Y,shuffle=True,random_state=1,params=params):#k_fold(k,X,Y,shuffle=False,random_state=None)\n\n    # X_train, X_test, y_train, y_test = train_test_split(X, Y,shuffle = \"True\", test_size =0.999)\n    # y_test_pred = model.predict(X_test).argmax(axis=1)\n    X_test = np.array(X)[test_index]\n    y_test = np.array(Y)[test_index]\n    X_test_Dmax = xgb.DMatrix(X_test)\n    y_test_pred=model.predict(X_test_Dmax)\n\n    score = accuracy_score(y_test, y_test_pred)\n    print(\"Accuracy score is \" + str(score))\n    report=classification_report(y_test, y_test_pred)\n    macro_F1_metric.append(eval(report.split(\"\\n\")[8].split()[4]))\n    with open('XGBoost_data/xgb_model_{}.pkl'.format(macro_F1_metric[-1]), 'wb') as f:\n        pickle.dump(model, f)#store as pickle\n    print('model saved to XGBoost_data/xgb_model_{}.pkl'.format(macro_F1_metric[-1]))\n    print(report)\n\n    # Build the plot\n#         cm = confusion_matrix(y_test, y_test_pred)\n#         plt.figure(figsize=(16,7))\n#         sb.set(font_scale=1.4)\n#         sb.heatmap(cm, annot=True, annot_kws={'size':18},cmap=plt.cm.Greens, fmt=\".0f\")\n\n#         plt.xlabel('Predicted label')\n#         plt.ylabel('True label')\n#         plt.title('Confusion Matrix for Random Forest Model')\n#         plt.show()\n#    wandb.log({\"avg macro_F1_metric\": sum(macro_F1_metric)/len(macro_F1_metric)})\n# print(\"avg macro_F1_metric:\",sum(macro_F1_metric)/len(macro_F1_metric),depth)",
   "execution_count": null,
   "outputs": [
    {
     "name": "stdout",
     "text": "[03:22:34] WARNING: ../src/learner.cc:627: \nParameters: { \"silent\" } might not be used.\n\n  This could be a false alarm, with some parameters getting used by language bindings but\n  then being mistakenly passed down to XGBoost core, or some parameter actually being used\n  but getting flagged wrongly here. Please open an issue if you find any such cases.\n\n\n[0]\teval-mlogloss:1.17100\n[1]\teval-mlogloss:1.00897\n[2]\teval-mlogloss:0.87894\n[3]\teval-mlogloss:0.77813\n[4]\teval-mlogloss:0.69094\n[5]\teval-mlogloss:0.61761\n[6]\teval-mlogloss:0.55800\n[7]\teval-mlogloss:0.50567\n[8]\teval-mlogloss:0.46273\n[9]\teval-mlogloss:0.42614\n[10]\teval-mlogloss:0.39383\n[11]\teval-mlogloss:0.36555\n[12]\teval-mlogloss:0.34223\n[13]\teval-mlogloss:0.32226\n[14]\teval-mlogloss:0.30440\n[15]\teval-mlogloss:0.29164\n[16]\teval-mlogloss:0.27939\n[17]\teval-mlogloss:0.26715\n[18]\teval-mlogloss:0.25626\n[19]\teval-mlogloss:0.24895\n[20]\teval-mlogloss:0.24195\n[21]\teval-mlogloss:0.23535\n[22]\teval-mlogloss:0.22771\n[23]\teval-mlogloss:0.22077\n[24]\teval-mlogloss:0.21656\n[25]\teval-mlogloss:0.21265\n[26]\teval-mlogloss:0.20872\n[27]\teval-mlogloss:0.20585\n[28]\teval-mlogloss:0.20251\n[29]\teval-mlogloss:0.19940\n[30]\teval-mlogloss:0.19682\n[31]\teval-mlogloss:0.19343\n[32]\teval-mlogloss:0.19074\n[33]\teval-mlogloss:0.18855\n[34]\teval-mlogloss:0.18656\n[35]\teval-mlogloss:0.18527\n[36]\teval-mlogloss:0.18412\n[37]\teval-mlogloss:0.18202\n[38]\teval-mlogloss:0.17982\n[39]\teval-mlogloss:0.17814\n[40]\teval-mlogloss:0.17672\n[41]\teval-mlogloss:0.17520\n[42]\teval-mlogloss:0.17438\n[43]\teval-mlogloss:0.17264\n[44]\teval-mlogloss:0.17121\n[45]\teval-mlogloss:0.17029\n[46]\teval-mlogloss:0.16936\n[47]\teval-mlogloss:0.16783\n[48]\teval-mlogloss:0.16660\n[49]\teval-mlogloss:0.16544\nAccuracy score is 0.9716548561900792\nmodel saved to XGBoost_data/xgb_model_0.97.pkl\n              precision    recall  f1-score   support\n\n           0       0.98      0.98      0.98       600\n           1       0.97      0.96      0.97       587\n           2       0.97      0.96      0.96       605\n           3       0.96      0.99      0.97       607\n\n    accuracy                           0.97      2399\n   macro avg       0.97      0.97      0.97      2399\nweighted avg       0.97      0.97      0.97      2399\n\n[03:23:56] WARNING: ../src/learner.cc:627: \nParameters: { \"silent\" } might not be used.\n\n  This could be a false alarm, with some parameters getting used by language bindings but\n  then being mistakenly passed down to XGBoost core, or some parameter actually being used\n  but getting flagged wrongly here. Please open an issue if you find any such cases.\n\n\n[0]\teval-mlogloss:1.17367\n[1]\teval-mlogloss:1.01226\n[2]\teval-mlogloss:0.88284\n[3]\teval-mlogloss:0.78491\n[4]\teval-mlogloss:0.69915\n[5]\teval-mlogloss:0.62498\n[6]\teval-mlogloss:0.56259\n[7]\teval-mlogloss:0.50987\n[8]\teval-mlogloss:0.46738\n[9]\teval-mlogloss:0.42852\n[10]\teval-mlogloss:0.39555\n[11]\teval-mlogloss:0.36738\n[12]\teval-mlogloss:0.34477\n[13]\teval-mlogloss:0.32523\n[14]\teval-mlogloss:0.30726\n[15]\teval-mlogloss:0.29400\n[16]\teval-mlogloss:0.28007\n[17]\teval-mlogloss:0.26933\n[18]\teval-mlogloss:0.26008\n[19]\teval-mlogloss:0.25133\n[20]\teval-mlogloss:0.24425\n[21]\teval-mlogloss:0.23906\n[22]\teval-mlogloss:0.23228\n[23]\teval-mlogloss:0.22639\n[24]\teval-mlogloss:0.22219\n[25]\teval-mlogloss:0.21694\n[26]\teval-mlogloss:0.21309\n[27]\teval-mlogloss:0.21007\n[28]\teval-mlogloss:0.20639\n[29]\teval-mlogloss:0.20369\n[30]\teval-mlogloss:0.20133\n[31]\teval-mlogloss:0.19922\n[32]\teval-mlogloss:0.19612\n[33]\teval-mlogloss:0.19379\n[34]\teval-mlogloss:0.19181\n[35]\teval-mlogloss:0.18935\n[36]\teval-mlogloss:0.18741\n[37]\teval-mlogloss:0.18579\n[38]\teval-mlogloss:0.18468\n[39]\teval-mlogloss:0.18254\n[40]\teval-mlogloss:0.18108\n[41]\teval-mlogloss:0.17989\n[42]\teval-mlogloss:0.17881\n[43]\teval-mlogloss:0.17792\n[44]\teval-mlogloss:0.17679\n[45]\teval-mlogloss:0.17584\n[46]\teval-mlogloss:0.17426\n[47]\teval-mlogloss:0.17361\n[48]\teval-mlogloss:0.17304\n[49]\teval-mlogloss:0.17243\nAccuracy score is 0.968736973739058\nmodel saved to XGBoost_data/xgb_model_0.97.pkl\n              precision    recall  f1-score   support\n\n           0       0.98      0.98      0.98       593\n           1       0.97      0.94      0.96       588\n           2       0.96      0.98      0.97       602\n           3       0.96      0.98      0.97       616\n\n    accuracy                           0.97      2399\n   macro avg       0.97      0.97      0.97      2399\nweighted avg       0.97      0.97      0.97      2399\n\n[03:25:13] WARNING: ../src/learner.cc:627: \nParameters: { \"silent\" } might not be used.\n\n  This could be a false alarm, with some parameters getting used by language bindings but\n  then being mistakenly passed down to XGBoost core, or some parameter actually being used\n  but getting flagged wrongly here. Please open an issue if you find any such cases.\n\n\n[0]\teval-mlogloss:1.17217\n[1]\teval-mlogloss:1.01041\n[2]\teval-mlogloss:0.88375\n[3]\teval-mlogloss:0.78316\n[4]\teval-mlogloss:0.69699\n[5]\teval-mlogloss:0.62643\n[6]\teval-mlogloss:0.56393\n[7]\teval-mlogloss:0.51256\n[8]\teval-mlogloss:0.46821\n[9]\teval-mlogloss:0.43032\n[10]\teval-mlogloss:0.39705\n[11]\teval-mlogloss:0.37129\n[12]\teval-mlogloss:0.34791\n[13]\teval-mlogloss:0.32766\n[14]\teval-mlogloss:0.30858\n[15]\teval-mlogloss:0.29539\n[16]\teval-mlogloss:0.28259\n[17]\teval-mlogloss:0.27122\n[18]\teval-mlogloss:0.26246\n[19]\teval-mlogloss:0.25457\n[20]\teval-mlogloss:0.24591\n[21]\teval-mlogloss:0.23972\n[22]\teval-mlogloss:0.23249\n[23]\teval-mlogloss:0.22662\n[24]\teval-mlogloss:0.22154\n[25]\teval-mlogloss:0.21797\n[26]\teval-mlogloss:0.21454\n[27]\teval-mlogloss:0.21158\n[28]\teval-mlogloss:0.20760\n[29]\teval-mlogloss:0.20385\n[30]\teval-mlogloss:0.20091\n[31]\teval-mlogloss:0.19871\n[32]\teval-mlogloss:0.19638\n[33]\teval-mlogloss:0.19397\n[34]\teval-mlogloss:0.19205\n[35]\teval-mlogloss:0.18955\n[36]\teval-mlogloss:0.18733\n[37]\teval-mlogloss:0.18583\n[38]\teval-mlogloss:0.18395\n[39]\teval-mlogloss:0.18268\n[40]\teval-mlogloss:0.18130\n[41]\teval-mlogloss:0.17964\n[42]\teval-mlogloss:0.17796\n[43]\teval-mlogloss:0.17693\n[44]\teval-mlogloss:0.17569\n[45]\teval-mlogloss:0.17474\n[46]\teval-mlogloss:0.17399\n[47]\teval-mlogloss:0.17321\n[48]\teval-mlogloss:0.17257\n[49]\teval-mlogloss:0.17152\nAccuracy score is 0.9666527719883284\nmodel saved to XGBoost_data/xgb_model_0.97.pkl\n              precision    recall  f1-score   support\n\n           0       0.98      0.97      0.97       593\n           1       0.96      0.96      0.96       624\n           2       0.99      0.96      0.97       599\n           3       0.94      0.98      0.96       583\n\n    accuracy                           0.97      2399\n   macro avg       0.97      0.97      0.97      2399\nweighted avg       0.97      0.97      0.97      2399\n\n[03:26:34] WARNING: ../src/learner.cc:627: \nParameters: { \"silent\" } might not be used.\n\n  This could be a false alarm, with some parameters getting used by language bindings but\n  then being mistakenly passed down to XGBoost core, or some parameter actually being used\n  but getting flagged wrongly here. Please open an issue if you find any such cases.\n\n\n[0]\teval-mlogloss:1.16873\n[1]\teval-mlogloss:1.00648\n[2]\teval-mlogloss:0.87665\n[3]\teval-mlogloss:0.77634\n[4]\teval-mlogloss:0.69183\n[5]\teval-mlogloss:0.61943\n[6]\teval-mlogloss:0.56033\n[7]\teval-mlogloss:0.50771\n[8]\teval-mlogloss:0.46286\n[9]\teval-mlogloss:0.42369\n[10]\teval-mlogloss:0.39018\n[11]\teval-mlogloss:0.36292\n[12]\teval-mlogloss:0.34056\n[13]\teval-mlogloss:0.32004\n[14]\teval-mlogloss:0.30177\n[15]\teval-mlogloss:0.28842\n[16]\teval-mlogloss:0.27586\n[17]\teval-mlogloss:0.26358\n[18]\teval-mlogloss:0.25317\n[19]\teval-mlogloss:0.24610\n[20]\teval-mlogloss:0.23901\n[21]\teval-mlogloss:0.23193\n",
     "output_type": "stream"
    },
    {
     "output_type": "error",
     "ename": "KernelInterrupted",
     "evalue": "Execution interrupted by the Jupyter kernel.",
     "traceback": [
      "\u001b[0;31m---------------------------------------------------------------------------\u001b[0m",
      "\u001b[0;31mKernelInterrupted\u001b[0m: Execution interrupted by the Jupyter kernel."
     ]
    }
   ]
  },
  {
   "cell_type": "markdown",
   "source": "# Generate a csv model",
   "metadata": {
    "cell_id": "00008-ffb63a03-d425-4530-8503-153e642be292",
    "tags": [],
    "is_collapsed": false,
    "deepnote_cell_type": "text-cell-h1"
   }
  },
  {
   "cell_type": "code",
   "metadata": {
    "cell_id": "cf3acafc78594e9b9a89385b9fb36c58",
    "tags": [],
    "deepnote_to_be_reexecuted": false,
    "source_hash": "405cca27",
    "execution_start": 1650259566935,
    "execution_millis": 74,
    "deepnote_cell_type": "code"
   },
   "source": "result=[]\nfor i in range(1,5):\n    hybrid_df=pd.read_csv(f'/work/{i}.csv')\n    result.append(hybrid_df['Target'])",
   "execution_count": null,
   "outputs": []
  },
  {
   "cell_type": "code",
   "metadata": {
    "cell_id": "a01f1658-58a0-4cf9-9b28-c69c8324cf3c",
    "tags": [],
    "deepnote_to_be_reexecuted": false,
    "source_hash": "10024c04",
    "execution_start": 1650259567392,
    "execution_millis": 14,
    "deepnote_cell_type": "code"
   },
   "source": "def generate_sumbit_csv_XGBoost(model,text=\"\"):\n    '''auto tranform label 0-3 to 1-4'''\n    test_processed_df=load_processed_csv(train=False)\n    X = test_processed_df\n    X_DM = xgb.DMatrix(X)\n    y_test_pred=model.predict(X_DM)\n    y_test_pred +=1\n    test_df=pd.read_csv('data/test.csv')\n    test_df.insert(len(test_df.columns),'Target',y_test_pred)\n    submit_df=pd.concat([test_df['Id'],test_df['Target']],axis=1)\n    submit_df.to_csv(f'data/test_submit_{text}_{str(datetime.datetime.now())}.csv')\n    print('save to '+f'data/test_submit_{text}_{str(datetime.datetime.now())}.csv')\n    print('distribution:')\n    for i in range(1,5):\n        print(i,len(y_test_pred[y_test_pred==i]))\n    return True\n\ndef generate_sumbit_csv_combine(model_xgb,model_lgbm,model_rf,text=\"\",method='discrete'):\n    '''auto tranform label 0-3 to 1-4'''\n    test_processed_df=load_processed_csv(train=False)\n    X = test_processed_df\n    X_DM = xgb.DMatrix(X)\n    y_test_pred_1=model_xgb.predict(X_DM)\n    y_test_pred_2=model_lgbm.predict(X)\n    y_test_pred_3=model_rf.predict(X)\n    y_test_pred=[]\n    for i in range(len(y_test_pred_1)):\n        if method=='discrete':\n            # xgb_result,lgbm_result,rf_result=int(y_test_pred_1[i]+1),int(np.argmax(y_test_pred_2[i])+1),int(y_test_pred_3[i]+1)\n            xgb_result,lgbm_result,rf_result=result[0][i],result[1][i],result[2][i]\n            if lgbm_result==rf_result:#two voters\n                y_test_pred.append(lgbm_result)\n            else:\n                y_test_pred.append(xgb_result)\n        else:\n            # y_test_pred.append((y_test_pred_1[i]+np.argmax(y_test_pred_2[i])+int(y_test_pred_3[i])+(hybrid_df.iloc[i][0]-1))//3+1)\n            # y_test_pred.append((result[2][i]+result[3][i])//2)\n            y_test_pred.append((result[2][i])//1)\n        # print(xgb_result,lgbm_result,rf_result)\n\n    y_test_pred=np.array(y_test_pred)\n    test_df=pd.read_csv('data/test.csv')\n    test_df.insert(len(test_df.columns),'Target',y_test_pred)\n    submit_df=pd.concat([test_df['Id'],test_df['Target']],axis=1)\n    submit_df.to_csv(f'data/test_submit_{text}_{str(datetime.datetime.now())}.csv')\n    print('save to '+f'data/test_submit_{text}_{str(datetime.datetime.now())}.csv')\n    print('distribution:')\n    for i in range(1,5):\n        print(i,len(y_test_pred[y_test_pred==i]))\n    return True",
   "execution_count": null,
   "outputs": []
  },
  {
   "cell_type": "code",
   "metadata": {
    "cell_id": "118f0133a6344d44be07a646b1b317c6",
    "tags": [],
    "deepnote_to_be_reexecuted": false,
    "source_hash": "4fd7392a",
    "execution_start": 1650259567869,
    "execution_millis": 3358,
    "deepnote_cell_type": "code"
   },
   "source": "with open(('XGBoost_data/xgb_model_0.87.pkl'), 'rb+') as f:\n    model_xgb = pickle.load(f)#load model\nwith open(('/work/RF_data/RF_model_0.98.pkl'), 'rb+') as f:\n    model_rf = pickle.load(f)#load modelx\nwith open(('/work/LightGBM_data/LightGBM_model_0.98.pkl'), 'rb+') as f:\n    model_lgbm = pickle.load(f)#load model\ngenerate_sumbit_csv_combine(model_xgb,model_lgbm,model_rf,text=\"combine\",method='average')",
   "execution_count": null,
   "outputs": [
    {
     "name": "stdout",
     "text": "[05:26:07] WARNING: ../src/learner.cc:1040: \n  If you are loading a serialized model (like pickle in Python, RDS in R) generated by\n  older XGBoost, please export the model by calling `Booster.save_model` from that version\n  first, then load it back in current version. See:\n\n    https://xgboost.readthedocs.io/en/latest/tutorials/saving_model.html\n\n  for more details about differences between saving model and serializing.\n\n[05:26:07] WARNING: ../src/learner.cc:749: Found JSON model saved before XGBoost 1.6, please save the model using current version again. The support for old JSON model will be discontinued in XGBoost 2.3.\n[05:26:07] WARNING: ../src/learner.cc:438: \n  If you are loading a serialized model (like pickle in Python, RDS in R) generated by\n  older XGBoost, please export the model by calling `Booster.save_model` from that version\n  first, then load it back in current version. See:\n\n    https://xgboost.readthedocs.io/en/latest/tutorials/saving_model.html\n\n  for more details about differences between saving model and serializing.\n\n/shared-libs/python3.7/py/lib/python3.7/site-packages/sklearn/base.py:493: FutureWarning: The feature names should match those that were passed during fit. Starting version 1.2, an error will be raised.\nFeature names unseen at fit time:\n-  number of all rooms in the house\n- # of individuals 65+ in the household\n- # of mobile phones\n- # persons per room\n- =1 Overcrowding by bedrooms\n- ...\nFeature names seen at fit time, yet now missing:\n- feature0\n- feature1\n- feature10\n- feature11\n- feature12\n- ...\n\n  warnings.warn(message, FutureWarning)\nsave to data/test_submit_combine_2022-04-18 05:26:11.046064.csv\ndistribution:\n1 1700\n2 5082\n3 2502\n4 14572\n",
     "output_type": "stream"
    },
    {
     "output_type": "execute_result",
     "execution_count": 10,
     "data": {
      "text/plain": "True"
     },
     "metadata": {}
    }
   ]
  },
  {
   "cell_type": "code",
   "metadata": {
    "cell_id": "77da5ce8-5113-4c3e-b896-299d8dd784f5",
    "tags": [],
    "deepnote_to_be_reexecuted": false,
    "source_hash": "a3d845a2",
    "execution_start": 1650253728252,
    "execution_millis": 1432,
    "owner_user_id": "b5b89f4c-bc16-482e-95c0-17e3550ab959",
    "deepnote_cell_type": "code"
   },
   "source": "with open(('XGBoost_data/xgb_model_0.87.pkl'), 'rb+') as f:\n    model = pickle.load(f)#load model\n    \ngenerate_sumbit_csv_XGBoost(model,'XGBoost')",
   "execution_count": null,
   "outputs": [
    {
     "name": "stdout",
     "text": "[03:48:48] WARNING: ../src/learner.cc:1040: \n  If you are loading a serialized model (like pickle in Python, RDS in R) generated by\n  older XGBoost, please export the model by calling `Booster.save_model` from that version\n  first, then load it back in current version. See:\n\n    https://xgboost.readthedocs.io/en/latest/tutorials/saving_model.html\n\n  for more details about differences between saving model and serializing.\n\n[03:48:48] WARNING: ../src/learner.cc:749: Found JSON model saved before XGBoost 1.6, please save the model using current version again. The support for old JSON model will be discontinued in XGBoost 2.3.\n[03:48:48] WARNING: ../src/learner.cc:438: \n  If you are loading a serialized model (like pickle in Python, RDS in R) generated by\n  older XGBoost, please export the model by calling `Booster.save_model` from that version\n  first, then load it back in current version. See:\n\n    https://xgboost.readthedocs.io/en/latest/tutorials/saving_model.html\n\n  for more details about differences between saving model and serializing.\n\nsave to data/test_submit_XGBoost_2022-04-18 03:48:49.660493.csv\ndistribution:\n1 1710\n2 4301\n3 2430\n4 15415\n",
     "output_type": "stream"
    },
    {
     "output_type": "execute_result",
     "execution_count": 21,
     "data": {
      "text/plain": "True"
     },
     "metadata": {}
    }
   ]
  },
  {
   "cell_type": "code",
   "metadata": {
    "cell_id": "d4588a3e5480459b965190a103adb411",
    "tags": [],
    "deepnote_to_be_reexecuted": true,
    "source_hash": "b623e53d",
    "deepnote_cell_type": "code"
   },
   "source": "",
   "execution_count": null,
   "outputs": []
  },
  {
   "cell_type": "markdown",
   "source": "<a style='text-decoration:none;line-height:16px;display:flex;color:#5B5B62;padding:10px;justify-content:end;' href='https://deepnote.com?utm_source=created-in-deepnote-cell&projectId=f92fbbcf-fa92-4caa-ad57-5cd0b8c2766a' target=\"_blank\">\n<img alt='Created in deepnote.com' style='display:inline;max-height:16px;margin:0px;margin-right:7.5px;' src='data:image/svg+xml;base64,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' > </img>\nCreated in <span style='font-weight:600;margin-left:4px;'>Deepnote</span></a>",
   "metadata": {
    "tags": [],
    "created_in_deepnote_cell": true,
    "deepnote_cell_type": "markdown"
   }
  }
 ],
 "nbformat": 4,
 "nbformat_minor": 2,
 "metadata": {
  "orig_nbformat": 2,
  "deepnote": {
   "is_reactive": false
  },
  "deepnote_notebook_id": "d371ec21-44f9-4d60-a320-367646daa668",
  "deepnote_execution_queue": []
 }
}