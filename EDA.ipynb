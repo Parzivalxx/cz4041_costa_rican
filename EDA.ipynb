{
 "cells": [
  {
   "cell_type": "code",
   "metadata": {
    "tags": [],
    "cell_id": "6c63425b-5bec-4f02-b7e8-7ca72eacfc1b",
    "deepnote_to_be_reexecuted": false,
    "source_hash": "3a78864e",
    "execution_start": 1650418267098,
    "execution_millis": 4,
    "deepnote_cell_type": "code",
    "deepnote_cell_height": 225
   },
   "source": "import pandas as pd\n# import torch\n# from torch import nn\n\nimport numpy as np\nimport seaborn as sb\nimport matplotlib.pyplot as plt\n\nfrom utils import *",
   "outputs": [],
   "execution_count": null
  },
  {
   "cell_type": "code",
   "source": "data_df=pd.read_csv(\"data/train.csv\")\ndata_df",
   "metadata": {
    "cell_id": "08ceb45a439748f0a5421ba820c30594",
    "tags": [],
    "deepnote_to_be_reexecuted": false,
    "source_hash": "a37e6081",
    "execution_start": 1650418345375,
    "execution_millis": 294,
    "deepnote_cell_type": "code",
    "deepnote_cell_height": 631.59375
   },
   "outputs": [
    {
     "output_type": "execute_result",
     "execution_count": 6,
     "data": {
      "application/vnd.deepnote.dataframe.v3+json": {
       "column_count": 143,
       "row_count": 9557,
       "columns": [
        {
         "name": "Id",
         "dtype": "object",
         "stats": {
          "unique_count": 9557,
          "nan_count": 0,
          "categories": [
           {
            "name": "ID_279628684",
            "count": 1
           },
           {
            "name": "ID_f29eb3ddd",
            "count": 1
           },
           {
            "name": "9555 others",
            "count": 9555
           }
          ]
         }
        },
        {
         "name": "v2a1",
         "dtype": "float64",
         "stats": {
          "unique_count": 157,
          "nan_count": 6860,
          "min": "0.0",
          "max": "2353477.0",
          "histogram": [
           {
            "bin_start": 0,
            "bin_end": 235347.7,
            "count": 2189
           },
           {
            "bin_start": 235347.7,
            "bin_end": 470695.4,
            "count": 390
           },
           {
            "bin_start": 470695.4,
            "bin_end": 706043.1000000001,
            "count": 91
           },
           {
            "bin_start": 706043.1000000001,
            "bin_end": 941390.8,
            "count": 18
           },
           {
            "bin_start": 941390.8,
            "bin_end": 1176738.5,
            "count": 7
           },
           {
            "bin_start": 1176738.5,
            "bin_end": 1412086.2000000002,
            "count": 0
           },
           {
            "bin_start": 1412086.2000000002,
            "bin_end": 1647433.9000000001,
            "count": 0
           },
           {
            "bin_start": 1647433.9000000001,
            "bin_end": 1882781.6,
            "count": 0
           },
           {
            "bin_start": 1882781.6,
            "bin_end": 2118129.3000000003,
            "count": 0
           },
           {
            "bin_start": 2118129.3000000003,
            "bin_end": 2353477,
            "count": 2
           }
          ]
         }
        },
        {
         "name": "hacdor",
         "dtype": "int64",
         "stats": {
          "unique_count": 2,
          "nan_count": 0,
          "min": "0",
          "max": "1",
          "histogram": [
           {
            "bin_start": 0,
            "bin_end": 0.1,
            "count": 9193
           },
           {
            "bin_start": 0.1,
            "bin_end": 0.2,
            "count": 0
           },
           {
            "bin_start": 0.2,
            "bin_end": 0.30000000000000004,
            "count": 0
           },
           {
            "bin_start": 0.30000000000000004,
            "bin_end": 0.4,
            "count": 0
           },
           {
            "bin_start": 0.4,
            "bin_end": 0.5,
            "count": 0
           },
           {
            "bin_start": 0.5,
            "bin_end": 0.6000000000000001,
            "count": 0
           },
           {
            "bin_start": 0.6000000000000001,
            "bin_end": 0.7000000000000001,
            "count": 0
           },
           {
            "bin_start": 0.7000000000000001,
            "bin_end": 0.8,
            "count": 0
           },
           {
            "bin_start": 0.8,
            "bin_end": 0.9,
            "count": 0
           },
           {
            "bin_start": 0.9,
            "bin_end": 1,
            "count": 364
           }
          ]
         }
        },
        {
         "name": "rooms",
         "dtype": "int64",
         "stats": {
          "unique_count": 11,
          "nan_count": 0,
          "min": "1",
          "max": "11",
          "histogram": [
           {
            "bin_start": 1,
            "bin_end": 2,
            "count": 97
           },
           {
            "bin_start": 2,
            "bin_end": 3,
            "count": 188
           },
           {
            "bin_start": 3,
            "bin_end": 4,
            "count": 890
           },
           {
            "bin_start": 4,
            "bin_end": 5,
            "count": 2587
           },
           {
            "bin_start": 5,
            "bin_end": 6,
            "count": 2940
           },
           {
            "bin_start": 6,
            "bin_end": 7,
            "count": 1607
           },
           {
            "bin_start": 7,
            "bin_end": 8,
            "count": 732
           },
           {
            "bin_start": 8,
            "bin_end": 9,
            "count": 298
           },
           {
            "bin_start": 9,
            "bin_end": 10,
            "count": 168
           },
           {
            "bin_start": 10,
            "bin_end": 11,
            "count": 50
           }
          ]
         }
        },
        {
         "name": "hacapo",
         "dtype": "int64",
         "stats": {
          "unique_count": 2,
          "nan_count": 0,
          "min": "0",
          "max": "1",
          "histogram": [
           {
            "bin_start": 0,
            "bin_end": 0.1,
            "count": 9331
           },
           {
            "bin_start": 0.1,
            "bin_end": 0.2,
            "count": 0
           },
           {
            "bin_start": 0.2,
            "bin_end": 0.30000000000000004,
            "count": 0
           },
           {
            "bin_start": 0.30000000000000004,
            "bin_end": 0.4,
            "count": 0
           },
           {
            "bin_start": 0.4,
            "bin_end": 0.5,
            "count": 0
           },
           {
            "bin_start": 0.5,
            "bin_end": 0.6000000000000001,
            "count": 0
           },
           {
            "bin_start": 0.6000000000000001,
            "bin_end": 0.7000000000000001,
            "count": 0
           },
           {
            "bin_start": 0.7000000000000001,
            "bin_end": 0.8,
            "count": 0
           },
           {
            "bin_start": 0.8,
            "bin_end": 0.9,
            "count": 0
           },
           {
            "bin_start": 0.9,
            "bin_end": 1,
            "count": 226
           }
          ]
         }
        },
        {
         "name": "v14a",
         "dtype": "int64",
         "stats": {
          "unique_count": 2,
          "nan_count": 0,
          "min": "0",
          "max": "1",
          "histogram": [
           {
            "bin_start": 0,
            "bin_end": 0.1,
            "count": 50
           },
           {
            "bin_start": 0.1,
            "bin_end": 0.2,
            "count": 0
           },
           {
            "bin_start": 0.2,
            "bin_end": 0.30000000000000004,
            "count": 0
           },
           {
            "bin_start": 0.30000000000000004,
            "bin_end": 0.4,
            "count": 0
           },
           {
            "bin_start": 0.4,
            "bin_end": 0.5,
            "count": 0
           },
           {
            "bin_start": 0.5,
            "bin_end": 0.6000000000000001,
            "count": 0
           },
           {
            "bin_start": 0.6000000000000001,
            "bin_end": 0.7000000000000001,
            "count": 0
           },
           {
            "bin_start": 0.7000000000000001,
            "bin_end": 0.8,
            "count": 0
           },
           {
            "bin_start": 0.8,
            "bin_end": 0.9,
            "count": 0
           },
           {
            "bin_start": 0.9,
            "bin_end": 1,
            "count": 9507
           }
          ]
         }
        },
        {
         "name": "refrig",
         "dtype": "int64",
         "stats": {
          "unique_count": 2,
          "nan_count": 0,
          "min": "0",
          "max": "1",
          "histogram": [
           {
            "bin_start": 0,
            "bin_end": 0.1,
            "count": 405
           },
           {
            "bin_start": 0.1,
            "bin_end": 0.2,
            "count": 0
           },
           {
            "bin_start": 0.2,
            "bin_end": 0.30000000000000004,
            "count": 0
           },
           {
            "bin_start": 0.30000000000000004,
            "bin_end": 0.4,
            "count": 0
           },
           {
            "bin_start": 0.4,
            "bin_end": 0.5,
            "count": 0
           },
           {
            "bin_start": 0.5,
            "bin_end": 0.6000000000000001,
            "count": 0
           },
           {
            "bin_start": 0.6000000000000001,
            "bin_end": 0.7000000000000001,
            "count": 0
           },
           {
            "bin_start": 0.7000000000000001,
            "bin_end": 0.8,
            "count": 0
           },
           {
            "bin_start": 0.8,
            "bin_end": 0.9,
            "count": 0
           },
           {
            "bin_start": 0.9,
            "bin_end": 1,
            "count": 9152
           }
          ]
         }
        },
        {
         "name": "v18q",
         "dtype": "int64",
         "stats": {
          "unique_count": 2,
          "nan_count": 0,
          "min": "0",
          "max": "1",
          "histogram": [
           {
            "bin_start": 0,
            "bin_end": 0.1,
            "count": 7342
           },
           {
            "bin_start": 0.1,
            "bin_end": 0.2,
            "count": 0
           },
           {
            "bin_start": 0.2,
            "bin_end": 0.30000000000000004,
            "count": 0
           },
           {
            "bin_start": 0.30000000000000004,
            "bin_end": 0.4,
            "count": 0
           },
           {
            "bin_start": 0.4,
            "bin_end": 0.5,
            "count": 0
           },
           {
            "bin_start": 0.5,
            "bin_end": 0.6000000000000001,
            "count": 0
           },
           {
            "bin_start": 0.6000000000000001,
            "bin_end": 0.7000000000000001,
            "count": 0
           },
           {
            "bin_start": 0.7000000000000001,
            "bin_end": 0.8,
            "count": 0
           },
           {
            "bin_start": 0.8,
            "bin_end": 0.9,
            "count": 0
           },
           {
            "bin_start": 0.9,
            "bin_end": 1,
            "count": 2215
           }
          ]
         }
        },
        {
         "name": "v18q1",
         "dtype": "float64",
         "stats": {
          "unique_count": 6,
          "nan_count": 7342,
          "min": "1.0",
          "max": "6.0",
          "histogram": [
           {
            "bin_start": 1,
            "bin_end": 1.5,
            "count": 1586
           },
           {
            "bin_start": 1.5,
            "bin_end": 2,
            "count": 0
           },
           {
            "bin_start": 2,
            "bin_end": 2.5,
            "count": 444
           },
           {
            "bin_start": 2.5,
            "bin_end": 3,
            "count": 0
           },
           {
            "bin_start": 3,
            "bin_end": 3.5,
            "count": 129
           },
           {
            "bin_start": 3.5,
            "bin_end": 4,
            "count": 0
           },
           {
            "bin_start": 4,
            "bin_end": 4.5,
            "count": 37
           },
           {
            "bin_start": 4.5,
            "bin_end": 5,
            "count": 0
           },
           {
            "bin_start": 5,
            "bin_end": 5.5,
            "count": 13
           },
           {
            "bin_start": 5.5,
            "bin_end": 6,
            "count": 6
           }
          ]
         }
        },
        {
         "name": "r4h1",
         "dtype": "int64",
         "stats": {
          "unique_count": 6,
          "nan_count": 0,
          "min": "0",
          "max": "5",
          "histogram": [
           {
            "bin_start": 0,
            "bin_end": 0.5,
            "count": 6718
           },
           {
            "bin_start": 0.5,
            "bin_end": 1,
            "count": 0
           },
           {
            "bin_start": 1,
            "bin_end": 1.5,
            "count": 2141
           },
           {
            "bin_start": 1.5,
            "bin_end": 2,
            "count": 0
           },
           {
            "bin_start": 2,
            "bin_end": 2.5,
            "count": 607
           },
           {
            "bin_start": 2.5,
            "bin_end": 3,
            "count": 0
           },
           {
            "bin_start": 3,
            "bin_end": 3.5,
            "count": 53
           },
           {
            "bin_start": 3.5,
            "bin_end": 4,
            "count": 0
           },
           {
            "bin_start": 4,
            "bin_end": 4.5,
            "count": 16
           },
           {
            "bin_start": 4.5,
            "bin_end": 5,
            "count": 22
           }
          ]
         }
        },
        {
         "name": "r4h2",
         "dtype": "int64"
        },
        {
         "name": "r4h3",
         "dtype": "int64"
        },
        {
         "name": "r4m1",
         "dtype": "int64"
        },
        {
         "name": "r4m2",
         "dtype": "int64"
        },
        {
         "name": "r4m3",
         "dtype": "int64"
        },
        {
         "name": "r4t1",
         "dtype": "int64"
        },
        {
         "name": "r4t2",
         "dtype": "int64"
        },
        {
         "name": "r4t3",
         "dtype": "int64"
        },
        {
         "name": "tamhog",
         "dtype": "int64"
        },
        {
         "name": "tamviv",
         "dtype": "int64"
        },
        {
         "name": "escolari",
         "dtype": "int64"
        },
        {
         "name": "rez_esc",
         "dtype": "float64"
        },
        {
         "name": "hhsize",
         "dtype": "int64"
        },
        {
         "name": "paredblolad",
         "dtype": "int64"
        },
        {
         "name": "paredzocalo",
         "dtype": "int64"
        },
        {
         "name": "paredpreb",
         "dtype": "int64"
        },
        {
         "name": "pareddes",
         "dtype": "int64"
        },
        {
         "name": "paredmad",
         "dtype": "int64"
        },
        {
         "name": "paredzinc",
         "dtype": "int64"
        },
        {
         "name": "paredfibras",
         "dtype": "int64"
        },
        {
         "name": "paredother",
         "dtype": "int64"
        },
        {
         "name": "pisomoscer",
         "dtype": "int64"
        },
        {
         "name": "pisocemento",
         "dtype": "int64"
        },
        {
         "name": "pisoother",
         "dtype": "int64"
        },
        {
         "name": "pisonatur",
         "dtype": "int64"
        },
        {
         "name": "pisonotiene",
         "dtype": "int64"
        },
        {
         "name": "pisomadera",
         "dtype": "int64"
        },
        {
         "name": "techozinc",
         "dtype": "int64"
        },
        {
         "name": "techoentrepiso",
         "dtype": "int64"
        },
        {
         "name": "techocane",
         "dtype": "int64"
        },
        {
         "name": "techootro",
         "dtype": "int64"
        },
        {
         "name": "cielorazo",
         "dtype": "int64"
        },
        {
         "name": "abastaguadentro",
         "dtype": "int64"
        },
        {
         "name": "abastaguafuera",
         "dtype": "int64"
        },
        {
         "name": "abastaguano",
         "dtype": "int64"
        },
        {
         "name": "public",
         "dtype": "int64"
        },
        {
         "name": "planpri",
         "dtype": "int64"
        },
        {
         "name": "noelec",
         "dtype": "int64"
        },
        {
         "name": "coopele",
         "dtype": "int64"
        },
        {
         "name": "sanitario1",
         "dtype": "int64"
        },
        {
         "name": "sanitario2",
         "dtype": "int64"
        },
        {
         "name": "sanitario3",
         "dtype": "int64"
        },
        {
         "name": "sanitario5",
         "dtype": "int64"
        },
        {
         "name": "sanitario6",
         "dtype": "int64"
        },
        {
         "name": "energcocinar1",
         "dtype": "int64"
        },
        {
         "name": "energcocinar2",
         "dtype": "int64"
        },
        {
         "name": "energcocinar3",
         "dtype": "int64"
        },
        {
         "name": "energcocinar4",
         "dtype": "int64"
        },
        {
         "name": "elimbasu1",
         "dtype": "int64"
        },
        {
         "name": "elimbasu2",
         "dtype": "int64"
        },
        {
         "name": "elimbasu3",
         "dtype": "int64"
        },
        {
         "name": "elimbasu4",
         "dtype": "int64"
        },
        {
         "name": "elimbasu5",
         "dtype": "int64"
        },
        {
         "name": "elimbasu6",
         "dtype": "int64"
        },
        {
         "name": "epared1",
         "dtype": "int64"
        },
        {
         "name": "epared2",
         "dtype": "int64"
        },
        {
         "name": "epared3",
         "dtype": "int64"
        },
        {
         "name": "etecho1",
         "dtype": "int64"
        },
        {
         "name": "etecho2",
         "dtype": "int64"
        },
        {
         "name": "etecho3",
         "dtype": "int64"
        },
        {
         "name": "eviv1",
         "dtype": "int64"
        },
        {
         "name": "eviv2",
         "dtype": "int64"
        },
        {
         "name": "eviv3",
         "dtype": "int64"
        },
        {
         "name": "dis",
         "dtype": "int64"
        },
        {
         "name": "male",
         "dtype": "int64"
        },
        {
         "name": "female",
         "dtype": "int64"
        },
        {
         "name": "estadocivil1",
         "dtype": "int64"
        },
        {
         "name": "estadocivil2",
         "dtype": "int64"
        },
        {
         "name": "estadocivil3",
         "dtype": "int64"
        },
        {
         "name": "estadocivil4",
         "dtype": "int64"
        },
        {
         "name": "estadocivil5",
         "dtype": "int64"
        },
        {
         "name": "estadocivil6",
         "dtype": "int64"
        },
        {
         "name": "estadocivil7",
         "dtype": "int64"
        },
        {
         "name": "parentesco1",
         "dtype": "int64"
        },
        {
         "name": "parentesco2",
         "dtype": "int64"
        },
        {
         "name": "parentesco3",
         "dtype": "int64"
        },
        {
         "name": "parentesco4",
         "dtype": "int64"
        },
        {
         "name": "parentesco5",
         "dtype": "int64"
        },
        {
         "name": "parentesco6",
         "dtype": "int64"
        },
        {
         "name": "parentesco7",
         "dtype": "int64"
        },
        {
         "name": "parentesco8",
         "dtype": "int64"
        },
        {
         "name": "parentesco9",
         "dtype": "int64"
        },
        {
         "name": "parentesco10",
         "dtype": "int64"
        },
        {
         "name": "parentesco11",
         "dtype": "int64"
        },
        {
         "name": "parentesco12",
         "dtype": "int64"
        },
        {
         "name": "idhogar",
         "dtype": "object"
        },
        {
         "name": "hogar_nin",
         "dtype": "int64"
        },
        {
         "name": "hogar_adul",
         "dtype": "int64"
        },
        {
         "name": "hogar_mayor",
         "dtype": "int64"
        },
        {
         "name": "hogar_total",
         "dtype": "int64"
        },
        {
         "name": "dependency",
         "dtype": "object"
        },
        {
         "name": "edjefe",
         "dtype": "object"
        },
        {
         "name": "edjefa",
         "dtype": "object"
        },
        {
         "name": "meaneduc",
         "dtype": "float64"
        },
        {
         "name": "instlevel1",
         "dtype": "int64"
        },
        {
         "name": "instlevel2",
         "dtype": "int64"
        },
        {
         "name": "instlevel3",
         "dtype": "int64"
        },
        {
         "name": "instlevel4",
         "dtype": "int64"
        },
        {
         "name": "instlevel5",
         "dtype": "int64"
        },
        {
         "name": "instlevel6",
         "dtype": "int64"
        },
        {
         "name": "instlevel7",
         "dtype": "int64"
        },
        {
         "name": "instlevel8",
         "dtype": "int64"
        },
        {
         "name": "instlevel9",
         "dtype": "int64"
        },
        {
         "name": "bedrooms",
         "dtype": "int64"
        },
        {
         "name": "overcrowding",
         "dtype": "float64"
        },
        {
         "name": "tipovivi1",
         "dtype": "int64"
        },
        {
         "name": "tipovivi2",
         "dtype": "int64"
        },
        {
         "name": "tipovivi3",
         "dtype": "int64"
        },
        {
         "name": "tipovivi4",
         "dtype": "int64"
        },
        {
         "name": "tipovivi5",
         "dtype": "int64"
        },
        {
         "name": "computer",
         "dtype": "int64"
        },
        {
         "name": "television",
         "dtype": "int64"
        },
        {
         "name": "mobilephone",
         "dtype": "int64"
        },
        {
         "name": "qmobilephone",
         "dtype": "int64"
        },
        {
         "name": "lugar1",
         "dtype": "int64"
        },
        {
         "name": "lugar2",
         "dtype": "int64"
        },
        {
         "name": "lugar3",
         "dtype": "int64"
        },
        {
         "name": "lugar4",
         "dtype": "int64"
        },
        {
         "name": "lugar5",
         "dtype": "int64"
        },
        {
         "name": "lugar6",
         "dtype": "int64"
        },
        {
         "name": "area1",
         "dtype": "int64"
        },
        {
         "name": "area2",
         "dtype": "int64"
        },
        {
         "name": "age",
         "dtype": "int64"
        },
        {
         "name": "SQBescolari",
         "dtype": "int64"
        },
        {
         "name": "SQBage",
         "dtype": "int64"
        },
        {
         "name": "SQBhogar_total",
         "dtype": "int64"
        },
        {
         "name": "SQBedjefe",
         "dtype": "int64"
        },
        {
         "name": "SQBhogar_nin",
         "dtype": "int64"
        },
        {
         "name": "SQBovercrowding",
         "dtype": "float64"
        },
        {
         "name": "SQBdependency",
         "dtype": "float64"
        },
        {
         "name": "SQBmeaned",
         "dtype": "float64"
        },
        {
         "name": "agesq",
         "dtype": "int64"
        },
        {
         "name": "Target",
         "dtype": "int64"
        },
        {
         "name": "_deepnote_index_column",
         "dtype": "int64"
        }
       ],
       "rows": [
        {
         "Id": "ID_279628684",
         "v2a1": 190000,
         "hacdor": 0,
         "rooms": 3,
         "hacapo": 0,
         "v14a": 1,
         "refrig": 1,
         "v18q": 0,
         "v18q1": "nan",
         "r4h1": 0,
         "r4h2": 1,
         "r4h3": 1,
         "r4m1": 0,
         "r4m2": 0,
         "r4m3": 0,
         "r4t1": 0,
         "r4t2": 1,
         "r4t3": 1,
         "tamhog": 1,
         "tamviv": 1,
         "escolari": 10,
         "rez_esc": "nan",
         "hhsize": 1,
         "paredblolad": 1,
         "paredzocalo": 0,
         "paredpreb": 0,
         "pareddes": 0,
         "paredmad": 0,
         "paredzinc": 0,
         "paredfibras": 0,
         "paredother": 0,
         "pisomoscer": 1,
         "pisocemento": 0,
         "pisoother": 0,
         "pisonatur": 0,
         "pisonotiene": 0,
         "pisomadera": 0,
         "techozinc": 0,
         "techoentrepiso": 1,
         "techocane": 0,
         "techootro": 0,
         "cielorazo": 1,
         "abastaguadentro": 1,
         "abastaguafuera": 0,
         "abastaguano": 0,
         "public": 1,
         "planpri": 0,
         "noelec": 0,
         "coopele": 0,
         "sanitario1": 0,
         "sanitario2": 1,
         "sanitario3": 0,
         "sanitario5": 0,
         "sanitario6": 0,
         "energcocinar1": 0,
         "energcocinar2": 0,
         "energcocinar3": 1,
         "energcocinar4": 0,
         "elimbasu1": 1,
         "elimbasu2": 0,
         "elimbasu3": 0,
         "elimbasu4": 0,
         "elimbasu5": 0,
         "elimbasu6": 0,
         "epared1": 0,
         "epared2": 1,
         "epared3": 0,
         "etecho1": 1,
         "etecho2": 0,
         "etecho3": 0,
         "eviv1": 1,
         "eviv2": 0,
         "eviv3": 0,
         "dis": 0,
         "male": 1,
         "female": 0,
         "estadocivil1": 0,
         "estadocivil2": 0,
         "estadocivil3": 0,
         "estadocivil4": 1,
         "estadocivil5": 0,
         "estadocivil6": 0,
         "estadocivil7": 0,
         "parentesco1": 1,
         "parentesco2": 0,
         "parentesco3": 0,
         "parentesco4": 0,
         "parentesco5": 0,
         "parentesco6": 0,
         "parentesco7": 0,
         "parentesco8": 0,
         "parentesco9": 0,
         "parentesco10": 0,
         "parentesco11": 0,
         "parentesco12": 0,
         "idhogar": "21eb7fcc1",
         "hogar_nin": 0,
         "hogar_adul": 1,
         "hogar_mayor": 0,
         "hogar_total": 1,
         "dependency": "no",
         "edjefe": "10",
         "edjefa": "no",
         "meaneduc": 10,
         "instlevel1": 0,
         "instlevel2": 0,
         "instlevel3": 0,
         "instlevel4": 1,
         "instlevel5": 0,
         "instlevel6": 0,
         "instlevel7": 0,
         "instlevel8": 0,
         "instlevel9": 0,
         "bedrooms": 1,
         "overcrowding": 1,
         "tipovivi1": 0,
         "tipovivi2": 0,
         "tipovivi3": 1,
         "tipovivi4": 0,
         "tipovivi5": 0,
         "computer": 0,
         "television": 0,
         "mobilephone": 1,
         "qmobilephone": 1,
         "lugar1": 1,
         "lugar2": 0,
         "lugar3": 0,
         "lugar4": 0,
         "lugar5": 0,
         "lugar6": 0,
         "area1": 1,
         "area2": 0,
         "age": 43,
         "SQBescolari": 100,
         "SQBage": 1849,
         "SQBhogar_total": 1,
         "SQBedjefe": 100,
         "SQBhogar_nin": 0,
         "SQBovercrowding": 1,
         "SQBdependency": 0,
         "SQBmeaned": 100,
         "agesq": 1849,
         "Target": 4,
         "_deepnote_index_column": 0
        },
        {
         "Id": "ID_f29eb3ddd",
         "v2a1": 135000,
         "hacdor": 0,
         "rooms": 4,
         "hacapo": 0,
         "v14a": 1,
         "refrig": 1,
         "v18q": 1,
         "v18q1": 1,
         "r4h1": 0,
         "r4h2": 1,
         "r4h3": 1,
         "r4m1": 0,
         "r4m2": 0,
         "r4m3": 0,
         "r4t1": 0,
         "r4t2": 1,
         "r4t3": 1,
         "tamhog": 1,
         "tamviv": 1,
         "escolari": 12,
         "rez_esc": "nan",
         "hhsize": 1,
         "paredblolad": 0,
         "paredzocalo": 0,
         "paredpreb": 0,
         "pareddes": 0,
         "paredmad": 1,
         "paredzinc": 0,
         "paredfibras": 0,
         "paredother": 0,
         "pisomoscer": 0,
         "pisocemento": 0,
         "pisoother": 0,
         "pisonatur": 0,
         "pisonotiene": 0,
         "pisomadera": 1,
         "techozinc": 1,
         "techoentrepiso": 0,
         "techocane": 0,
         "techootro": 0,
         "cielorazo": 1,
         "abastaguadentro": 1,
         "abastaguafuera": 0,
         "abastaguano": 0,
         "public": 1,
         "planpri": 0,
         "noelec": 0,
         "coopele": 0,
         "sanitario1": 0,
         "sanitario2": 1,
         "sanitario3": 0,
         "sanitario5": 0,
         "sanitario6": 0,
         "energcocinar1": 0,
         "energcocinar2": 1,
         "energcocinar3": 0,
         "energcocinar4": 0,
         "elimbasu1": 1,
         "elimbasu2": 0,
         "elimbasu3": 0,
         "elimbasu4": 0,
         "elimbasu5": 0,
         "elimbasu6": 0,
         "epared1": 0,
         "epared2": 1,
         "epared3": 0,
         "etecho1": 0,
         "etecho2": 1,
         "etecho3": 0,
         "eviv1": 0,
         "eviv2": 1,
         "eviv3": 0,
         "dis": 0,
         "male": 1,
         "female": 0,
         "estadocivil1": 0,
         "estadocivil2": 0,
         "estadocivil3": 0,
         "estadocivil4": 1,
         "estadocivil5": 0,
         "estadocivil6": 0,
         "estadocivil7": 0,
         "parentesco1": 1,
         "parentesco2": 0,
         "parentesco3": 0,
         "parentesco4": 0,
         "parentesco5": 0,
         "parentesco6": 0,
         "parentesco7": 0,
         "parentesco8": 0,
         "parentesco9": 0,
         "parentesco10": 0,
         "parentesco11": 0,
         "parentesco12": 0,
         "idhogar": "0e5d7a658",
         "hogar_nin": 0,
         "hogar_adul": 1,
         "hogar_mayor": 1,
         "hogar_total": 1,
         "dependency": "8",
         "edjefe": "12",
         "edjefa": "no",
         "meaneduc": 12,
         "instlevel1": 0,
         "instlevel2": 0,
         "instlevel3": 0,
         "instlevel4": 0,
         "instlevel5": 0,
         "instlevel6": 0,
         "instlevel7": 0,
         "instlevel8": 1,
         "instlevel9": 0,
         "bedrooms": 1,
         "overcrowding": 1,
         "tipovivi1": 0,
         "tipovivi2": 0,
         "tipovivi3": 1,
         "tipovivi4": 0,
         "tipovivi5": 0,
         "computer": 0,
         "television": 0,
         "mobilephone": 1,
         "qmobilephone": 1,
         "lugar1": 1,
         "lugar2": 0,
         "lugar3": 0,
         "lugar4": 0,
         "lugar5": 0,
         "lugar6": 0,
         "area1": 1,
         "area2": 0,
         "age": 67,
         "SQBescolari": 144,
         "SQBage": 4489,
         "SQBhogar_total": 1,
         "SQBedjefe": 144,
         "SQBhogar_nin": 0,
         "SQBovercrowding": 1,
         "SQBdependency": 64,
         "SQBmeaned": 144,
         "agesq": 4489,
         "Target": 4,
         "_deepnote_index_column": 1
        },
        {
         "Id": "ID_68de51c94",
         "v2a1": "nan",
         "hacdor": 0,
         "rooms": 8,
         "hacapo": 0,
         "v14a": 1,
         "refrig": 1,
         "v18q": 0,
         "v18q1": "nan",
         "r4h1": 0,
         "r4h2": 0,
         "r4h3": 0,
         "r4m1": 0,
         "r4m2": 1,
         "r4m3": 1,
         "r4t1": 0,
         "r4t2": 1,
         "r4t3": 1,
         "tamhog": 1,
         "tamviv": 1,
         "escolari": 11,
         "rez_esc": "nan",
         "hhsize": 1,
         "paredblolad": 0,
         "paredzocalo": 0,
         "paredpreb": 0,
         "pareddes": 0,
         "paredmad": 1,
         "paredzinc": 0,
         "paredfibras": 0,
         "paredother": 0,
         "pisomoscer": 1,
         "pisocemento": 0,
         "pisoother": 0,
         "pisonatur": 0,
         "pisonotiene": 0,
         "pisomadera": 0,
         "techozinc": 1,
         "techoentrepiso": 0,
         "techocane": 0,
         "techootro": 0,
         "cielorazo": 1,
         "abastaguadentro": 1,
         "abastaguafuera": 0,
         "abastaguano": 0,
         "public": 1,
         "planpri": 0,
         "noelec": 0,
         "coopele": 0,
         "sanitario1": 0,
         "sanitario2": 1,
         "sanitario3": 0,
         "sanitario5": 0,
         "sanitario6": 0,
         "energcocinar1": 0,
         "energcocinar2": 1,
         "energcocinar3": 0,
         "energcocinar4": 0,
         "elimbasu1": 1,
         "elimbasu2": 0,
         "elimbasu3": 0,
         "elimbasu4": 0,
         "elimbasu5": 0,
         "elimbasu6": 0,
         "epared1": 0,
         "epared2": 1,
         "epared3": 0,
         "etecho1": 0,
         "etecho2": 0,
         "etecho3": 1,
         "eviv1": 0,
         "eviv2": 0,
         "eviv3": 1,
         "dis": 1,
         "male": 0,
         "female": 1,
         "estadocivil1": 0,
         "estadocivil2": 0,
         "estadocivil3": 0,
         "estadocivil4": 0,
         "estadocivil5": 0,
         "estadocivil6": 1,
         "estadocivil7": 0,
         "parentesco1": 1,
         "parentesco2": 0,
         "parentesco3": 0,
         "parentesco4": 0,
         "parentesco5": 0,
         "parentesco6": 0,
         "parentesco7": 0,
         "parentesco8": 0,
         "parentesco9": 0,
         "parentesco10": 0,
         "parentesco11": 0,
         "parentesco12": 0,
         "idhogar": "2c7317ea8",
         "hogar_nin": 0,
         "hogar_adul": 1,
         "hogar_mayor": 1,
         "hogar_total": 1,
         "dependency": "8",
         "edjefe": "no",
         "edjefa": "11",
         "meaneduc": 11,
         "instlevel1": 0,
         "instlevel2": 0,
         "instlevel3": 0,
         "instlevel4": 0,
         "instlevel5": 1,
         "instlevel6": 0,
         "instlevel7": 0,
         "instlevel8": 0,
         "instlevel9": 0,
         "bedrooms": 2,
         "overcrowding": 0.5,
         "tipovivi1": 1,
         "tipovivi2": 0,
         "tipovivi3": 0,
         "tipovivi4": 0,
         "tipovivi5": 0,
         "computer": 0,
         "television": 0,
         "mobilephone": 0,
         "qmobilephone": 0,
         "lugar1": 1,
         "lugar2": 0,
         "lugar3": 0,
         "lugar4": 0,
         "lugar5": 0,
         "lugar6": 0,
         "area1": 1,
         "area2": 0,
         "age": 92,
         "SQBescolari": 121,
         "SQBage": 8464,
         "SQBhogar_total": 1,
         "SQBedjefe": 0,
         "SQBhogar_nin": 0,
         "SQBovercrowding": 0.25,
         "SQBdependency": 64,
         "SQBmeaned": 121,
         "agesq": 8464,
         "Target": 4,
         "_deepnote_index_column": 2
        },
        {
         "Id": "ID_d671db89c",
         "v2a1": 180000,
         "hacdor": 0,
         "rooms": 5,
         "hacapo": 0,
         "v14a": 1,
         "refrig": 1,
         "v18q": 1,
         "v18q1": 1,
         "r4h1": 0,
         "r4h2": 2,
         "r4h3": 2,
         "r4m1": 1,
         "r4m2": 1,
         "r4m3": 2,
         "r4t1": 1,
         "r4t2": 3,
         "r4t3": 4,
         "tamhog": 4,
         "tamviv": 4,
         "escolari": 9,
         "rez_esc": 1,
         "hhsize": 4,
         "paredblolad": 1,
         "paredzocalo": 0,
         "paredpreb": 0,
         "pareddes": 0,
         "paredmad": 0,
         "paredzinc": 0,
         "paredfibras": 0,
         "paredother": 0,
         "pisomoscer": 1,
         "pisocemento": 0,
         "pisoother": 0,
         "pisonatur": 0,
         "pisonotiene": 0,
         "pisomadera": 0,
         "techozinc": 1,
         "techoentrepiso": 0,
         "techocane": 0,
         "techootro": 0,
         "cielorazo": 1,
         "abastaguadentro": 1,
         "abastaguafuera": 0,
         "abastaguano": 0,
         "public": 1,
         "planpri": 0,
         "noelec": 0,
         "coopele": 0,
         "sanitario1": 0,
         "sanitario2": 1,
         "sanitario3": 0,
         "sanitario5": 0,
         "sanitario6": 0,
         "energcocinar1": 0,
         "energcocinar2": 1,
         "energcocinar3": 0,
         "energcocinar4": 0,
         "elimbasu1": 1,
         "elimbasu2": 0,
         "elimbasu3": 0,
         "elimbasu4": 0,
         "elimbasu5": 0,
         "elimbasu6": 0,
         "epared1": 0,
         "epared2": 0,
         "epared3": 1,
         "etecho1": 0,
         "etecho2": 0,
         "etecho3": 1,
         "eviv1": 0,
         "eviv2": 0,
         "eviv3": 1,
         "dis": 0,
         "male": 1,
         "female": 0,
         "estadocivil1": 0,
         "estadocivil2": 0,
         "estadocivil3": 0,
         "estadocivil4": 0,
         "estadocivil5": 0,
         "estadocivil6": 0,
         "estadocivil7": 1,
         "parentesco1": 0,
         "parentesco2": 0,
         "parentesco3": 1,
         "parentesco4": 0,
         "parentesco5": 0,
         "parentesco6": 0,
         "parentesco7": 0,
         "parentesco8": 0,
         "parentesco9": 0,
         "parentesco10": 0,
         "parentesco11": 0,
         "parentesco12": 0,
         "idhogar": "2b58d945f",
         "hogar_nin": 2,
         "hogar_adul": 2,
         "hogar_mayor": 0,
         "hogar_total": 4,
         "dependency": "yes",
         "edjefe": "11",
         "edjefa": "no",
         "meaneduc": 11,
         "instlevel1": 0,
         "instlevel2": 0,
         "instlevel3": 0,
         "instlevel4": 1,
         "instlevel5": 0,
         "instlevel6": 0,
         "instlevel7": 0,
         "instlevel8": 0,
         "instlevel9": 0,
         "bedrooms": 3,
         "overcrowding": 1.3333334,
         "tipovivi1": 0,
         "tipovivi2": 0,
         "tipovivi3": 1,
         "tipovivi4": 0,
         "tipovivi5": 0,
         "computer": 0,
         "television": 0,
         "mobilephone": 1,
         "qmobilephone": 3,
         "lugar1": 1,
         "lugar2": 0,
         "lugar3": 0,
         "lugar4": 0,
         "lugar5": 0,
         "lugar6": 0,
         "area1": 1,
         "area2": 0,
         "age": 17,
         "SQBescolari": 81,
         "SQBage": 289,
         "SQBhogar_total": 16,
         "SQBedjefe": 121,
         "SQBhogar_nin": 4,
         "SQBovercrowding": 1.7777778999999998,
         "SQBdependency": 1,
         "SQBmeaned": 121,
         "agesq": 289,
         "Target": 4,
         "_deepnote_index_column": 3
        },
        {
         "Id": "ID_d56d6f5f5",
         "v2a1": 180000,
         "hacdor": 0,
         "rooms": 5,
         "hacapo": 0,
         "v14a": 1,
         "refrig": 1,
         "v18q": 1,
         "v18q1": 1,
         "r4h1": 0,
         "r4h2": 2,
         "r4h3": 2,
         "r4m1": 1,
         "r4m2": 1,
         "r4m3": 2,
         "r4t1": 1,
         "r4t2": 3,
         "r4t3": 4,
         "tamhog": 4,
         "tamviv": 4,
         "escolari": 11,
         "rez_esc": "nan",
         "hhsize": 4,
         "paredblolad": 1,
         "paredzocalo": 0,
         "paredpreb": 0,
         "pareddes": 0,
         "paredmad": 0,
         "paredzinc": 0,
         "paredfibras": 0,
         "paredother": 0,
         "pisomoscer": 1,
         "pisocemento": 0,
         "pisoother": 0,
         "pisonatur": 0,
         "pisonotiene": 0,
         "pisomadera": 0,
         "techozinc": 1,
         "techoentrepiso": 0,
         "techocane": 0,
         "techootro": 0,
         "cielorazo": 1,
         "abastaguadentro": 1,
         "abastaguafuera": 0,
         "abastaguano": 0,
         "public": 1,
         "planpri": 0,
         "noelec": 0,
         "coopele": 0,
         "sanitario1": 0,
         "sanitario2": 1,
         "sanitario3": 0,
         "sanitario5": 0,
         "sanitario6": 0,
         "energcocinar1": 0,
         "energcocinar2": 1,
         "energcocinar3": 0,
         "energcocinar4": 0,
         "elimbasu1": 1,
         "elimbasu2": 0,
         "elimbasu3": 0,
         "elimbasu4": 0,
         "elimbasu5": 0,
         "elimbasu6": 0,
         "epared1": 0,
         "epared2": 0,
         "epared3": 1,
         "etecho1": 0,
         "etecho2": 0,
         "etecho3": 1,
         "eviv1": 0,
         "eviv2": 0,
         "eviv3": 1,
         "dis": 0,
         "male": 0,
         "female": 1,
         "estadocivil1": 0,
         "estadocivil2": 1,
         "estadocivil3": 0,
         "estadocivil4": 0,
         "estadocivil5": 0,
         "estadocivil6": 0,
         "estadocivil7": 0,
         "parentesco1": 0,
         "parentesco2": 1,
         "parentesco3": 0,
         "parentesco4": 0,
         "parentesco5": 0,
         "parentesco6": 0,
         "parentesco7": 0,
         "parentesco8": 0,
         "parentesco9": 0,
         "parentesco10": 0,
         "parentesco11": 0,
         "parentesco12": 0,
         "idhogar": "2b58d945f",
         "hogar_nin": 2,
         "hogar_adul": 2,
         "hogar_mayor": 0,
         "hogar_total": 4,
         "dependency": "yes",
         "edjefe": "11",
         "edjefa": "no",
         "meaneduc": 11,
         "instlevel1": 0,
         "instlevel2": 0,
         "instlevel3": 0,
         "instlevel4": 0,
         "instlevel5": 1,
         "instlevel6": 0,
         "instlevel7": 0,
         "instlevel8": 0,
         "instlevel9": 0,
         "bedrooms": 3,
         "overcrowding": 1.3333334,
         "tipovivi1": 0,
         "tipovivi2": 0,
         "tipovivi3": 1,
         "tipovivi4": 0,
         "tipovivi5": 0,
         "computer": 0,
         "television": 0,
         "mobilephone": 1,
         "qmobilephone": 3,
         "lugar1": 1,
         "lugar2": 0,
         "lugar3": 0,
         "lugar4": 0,
         "lugar5": 0,
         "lugar6": 0,
         "area1": 1,
         "area2": 0,
         "age": 37,
         "SQBescolari": 121,
         "SQBage": 1369,
         "SQBhogar_total": 16,
         "SQBedjefe": 121,
         "SQBhogar_nin": 4,
         "SQBovercrowding": 1.7777778999999998,
         "SQBdependency": 1,
         "SQBmeaned": 121,
         "agesq": 1369,
         "Target": 4,
         "_deepnote_index_column": 4
        },
        {
         "Id": "ID_ec05b1a7b",
         "v2a1": 180000,
         "hacdor": 0,
         "rooms": 5,
         "hacapo": 0,
         "v14a": 1,
         "refrig": 1,
         "v18q": 1,
         "v18q1": 1,
         "r4h1": 0,
         "r4h2": 2,
         "r4h3": 2,
         "r4m1": 1,
         "r4m2": 1,
         "r4m3": 2,
         "r4t1": 1,
         "r4t2": 3,
         "r4t3": 4,
         "tamhog": 4,
         "tamviv": 4,
         "escolari": 11,
         "rez_esc": "nan",
         "hhsize": 4,
         "paredblolad": 1,
         "paredzocalo": 0,
         "paredpreb": 0,
         "pareddes": 0,
         "paredmad": 0,
         "paredzinc": 0,
         "paredfibras": 0,
         "paredother": 0,
         "pisomoscer": 1,
         "pisocemento": 0,
         "pisoother": 0,
         "pisonatur": 0,
         "pisonotiene": 0,
         "pisomadera": 0,
         "techozinc": 1,
         "techoentrepiso": 0,
         "techocane": 0,
         "techootro": 0,
         "cielorazo": 1,
         "abastaguadentro": 1,
         "abastaguafuera": 0,
         "abastaguano": 0,
         "public": 1,
         "planpri": 0,
         "noelec": 0,
         "coopele": 0,
         "sanitario1": 0,
         "sanitario2": 1,
         "sanitario3": 0,
         "sanitario5": 0,
         "sanitario6": 0,
         "energcocinar1": 0,
         "energcocinar2": 1,
         "energcocinar3": 0,
         "energcocinar4": 0,
         "elimbasu1": 1,
         "elimbasu2": 0,
         "elimbasu3": 0,
         "elimbasu4": 0,
         "elimbasu5": 0,
         "elimbasu6": 0,
         "epared1": 0,
         "epared2": 0,
         "epared3": 1,
         "etecho1": 0,
         "etecho2": 0,
         "etecho3": 1,
         "eviv1": 0,
         "eviv2": 0,
         "eviv3": 1,
         "dis": 0,
         "male": 1,
         "female": 0,
         "estadocivil1": 0,
         "estadocivil2": 1,
         "estadocivil3": 0,
         "estadocivil4": 0,
         "estadocivil5": 0,
         "estadocivil6": 0,
         "estadocivil7": 0,
         "parentesco1": 1,
         "parentesco2": 0,
         "parentesco3": 0,
         "parentesco4": 0,
         "parentesco5": 0,
         "parentesco6": 0,
         "parentesco7": 0,
         "parentesco8": 0,
         "parentesco9": 0,
         "parentesco10": 0,
         "parentesco11": 0,
         "parentesco12": 0,
         "idhogar": "2b58d945f",
         "hogar_nin": 2,
         "hogar_adul": 2,
         "hogar_mayor": 0,
         "hogar_total": 4,
         "dependency": "yes",
         "edjefe": "11",
         "edjefa": "no",
         "meaneduc": 11,
         "instlevel1": 0,
         "instlevel2": 0,
         "instlevel3": 0,
         "instlevel4": 0,
         "instlevel5": 1,
         "instlevel6": 0,
         "instlevel7": 0,
         "instlevel8": 0,
         "instlevel9": 0,
         "bedrooms": 3,
         "overcrowding": 1.3333334,
         "tipovivi1": 0,
         "tipovivi2": 0,
         "tipovivi3": 1,
         "tipovivi4": 0,
         "tipovivi5": 0,
         "computer": 0,
         "television": 0,
         "mobilephone": 1,
         "qmobilephone": 3,
         "lugar1": 1,
         "lugar2": 0,
         "lugar3": 0,
         "lugar4": 0,
         "lugar5": 0,
         "lugar6": 0,
         "area1": 1,
         "area2": 0,
         "age": 38,
         "SQBescolari": 121,
         "SQBage": 1444,
         "SQBhogar_total": 16,
         "SQBedjefe": 121,
         "SQBhogar_nin": 4,
         "SQBovercrowding": 1.7777778999999998,
         "SQBdependency": 1,
         "SQBmeaned": 121,
         "agesq": 1444,
         "Target": 4,
         "_deepnote_index_column": 5
        },
        {
         "Id": "ID_e9e0c1100",
         "v2a1": 180000,
         "hacdor": 0,
         "rooms": 5,
         "hacapo": 0,
         "v14a": 1,
         "refrig": 1,
         "v18q": 1,
         "v18q1": 1,
         "r4h1": 0,
         "r4h2": 2,
         "r4h3": 2,
         "r4m1": 1,
         "r4m2": 1,
         "r4m3": 2,
         "r4t1": 1,
         "r4t2": 3,
         "r4t3": 4,
         "tamhog": 4,
         "tamviv": 4,
         "escolari": 2,
         "rez_esc": 0,
         "hhsize": 4,
         "paredblolad": 1,
         "paredzocalo": 0,
         "paredpreb": 0,
         "pareddes": 0,
         "paredmad": 0,
         "paredzinc": 0,
         "paredfibras": 0,
         "paredother": 0,
         "pisomoscer": 1,
         "pisocemento": 0,
         "pisoother": 0,
         "pisonatur": 0,
         "pisonotiene": 0,
         "pisomadera": 0,
         "techozinc": 1,
         "techoentrepiso": 0,
         "techocane": 0,
         "techootro": 0,
         "cielorazo": 1,
         "abastaguadentro": 1,
         "abastaguafuera": 0,
         "abastaguano": 0,
         "public": 1,
         "planpri": 0,
         "noelec": 0,
         "coopele": 0,
         "sanitario1": 0,
         "sanitario2": 1,
         "sanitario3": 0,
         "sanitario5": 0,
         "sanitario6": 0,
         "energcocinar1": 0,
         "energcocinar2": 1,
         "energcocinar3": 0,
         "energcocinar4": 0,
         "elimbasu1": 1,
         "elimbasu2": 0,
         "elimbasu3": 0,
         "elimbasu4": 0,
         "elimbasu5": 0,
         "elimbasu6": 0,
         "epared1": 0,
         "epared2": 0,
         "epared3": 1,
         "etecho1": 0,
         "etecho2": 0,
         "etecho3": 1,
         "eviv1": 0,
         "eviv2": 0,
         "eviv3": 1,
         "dis": 0,
         "male": 0,
         "female": 1,
         "estadocivil1": 1,
         "estadocivil2": 0,
         "estadocivil3": 0,
         "estadocivil4": 0,
         "estadocivil5": 0,
         "estadocivil6": 0,
         "estadocivil7": 0,
         "parentesco1": 0,
         "parentesco2": 0,
         "parentesco3": 1,
         "parentesco4": 0,
         "parentesco5": 0,
         "parentesco6": 0,
         "parentesco7": 0,
         "parentesco8": 0,
         "parentesco9": 0,
         "parentesco10": 0,
         "parentesco11": 0,
         "parentesco12": 0,
         "idhogar": "2b58d945f",
         "hogar_nin": 2,
         "hogar_adul": 2,
         "hogar_mayor": 0,
         "hogar_total": 4,
         "dependency": "yes",
         "edjefe": "11",
         "edjefa": "no",
         "meaneduc": 11,
         "instlevel1": 0,
         "instlevel2": 1,
         "instlevel3": 0,
         "instlevel4": 0,
         "instlevel5": 0,
         "instlevel6": 0,
         "instlevel7": 0,
         "instlevel8": 0,
         "instlevel9": 0,
         "bedrooms": 3,
         "overcrowding": 1.3333334,
         "tipovivi1": 0,
         "tipovivi2": 0,
         "tipovivi3": 1,
         "tipovivi4": 0,
         "tipovivi5": 0,
         "computer": 0,
         "television": 0,
         "mobilephone": 1,
         "qmobilephone": 3,
         "lugar1": 1,
         "lugar2": 0,
         "lugar3": 0,
         "lugar4": 0,
         "lugar5": 0,
         "lugar6": 0,
         "area1": 1,
         "area2": 0,
         "age": 8,
         "SQBescolari": 4,
         "SQBage": 64,
         "SQBhogar_total": 16,
         "SQBedjefe": 121,
         "SQBhogar_nin": 4,
         "SQBovercrowding": 1.7777778999999998,
         "SQBdependency": 1,
         "SQBmeaned": 121,
         "agesq": 64,
         "Target": 4,
         "_deepnote_index_column": 6
        },
        {
         "Id": "ID_3e04e571e",
         "v2a1": 130000,
         "hacdor": 1,
         "rooms": 2,
         "hacapo": 0,
         "v14a": 1,
         "refrig": 1,
         "v18q": 0,
         "v18q1": "nan",
         "r4h1": 0,
         "r4h2": 1,
         "r4h3": 1,
         "r4m1": 2,
         "r4m2": 1,
         "r4m3": 3,
         "r4t1": 2,
         "r4t2": 2,
         "r4t3": 4,
         "tamhog": 4,
         "tamviv": 4,
         "escolari": 0,
         "rez_esc": 0,
         "hhsize": 4,
         "paredblolad": 1,
         "paredzocalo": 0,
         "paredpreb": 0,
         "pareddes": 0,
         "paredmad": 0,
         "paredzinc": 0,
         "paredfibras": 0,
         "paredother": 0,
         "pisomoscer": 1,
         "pisocemento": 0,
         "pisoother": 0,
         "pisonatur": 0,
         "pisonotiene": 0,
         "pisomadera": 0,
         "techozinc": 1,
         "techoentrepiso": 0,
         "techocane": 0,
         "techootro": 0,
         "cielorazo": 1,
         "abastaguadentro": 1,
         "abastaguafuera": 0,
         "abastaguano": 0,
         "public": 1,
         "planpri": 0,
         "noelec": 0,
         "coopele": 0,
         "sanitario1": 0,
         "sanitario2": 1,
         "sanitario3": 0,
         "sanitario5": 0,
         "sanitario6": 0,
         "energcocinar1": 0,
         "energcocinar2": 0,
         "energcocinar3": 1,
         "energcocinar4": 0,
         "elimbasu1": 1,
         "elimbasu2": 0,
         "elimbasu3": 0,
         "elimbasu4": 0,
         "elimbasu5": 0,
         "elimbasu6": 0,
         "epared1": 1,
         "epared2": 0,
         "epared3": 0,
         "etecho1": 1,
         "etecho2": 0,
         "etecho3": 0,
         "eviv1": 0,
         "eviv2": 1,
         "eviv3": 0,
         "dis": 0,
         "male": 0,
         "female": 1,
         "estadocivil1": 1,
         "estadocivil2": 0,
         "estadocivil3": 0,
         "estadocivil4": 0,
         "estadocivil5": 0,
         "estadocivil6": 0,
         "estadocivil7": 0,
         "parentesco1": 0,
         "parentesco2": 0,
         "parentesco3": 1,
         "parentesco4": 0,
         "parentesco5": 0,
         "parentesco6": 0,
         "parentesco7": 0,
         "parentesco8": 0,
         "parentesco9": 0,
         "parentesco10": 0,
         "parentesco11": 0,
         "parentesco12": 0,
         "idhogar": "d6dae86b7",
         "hogar_nin": 2,
         "hogar_adul": 2,
         "hogar_mayor": 0,
         "hogar_total": 4,
         "dependency": "yes",
         "edjefe": "9",
         "edjefa": "no",
         "meaneduc": 10,
         "instlevel1": 1,
         "instlevel2": 0,
         "instlevel3": 0,
         "instlevel4": 0,
         "instlevel5": 0,
         "instlevel6": 0,
         "instlevel7": 0,
         "instlevel8": 0,
         "instlevel9": 0,
         "bedrooms": 1,
         "overcrowding": 4,
         "tipovivi1": 0,
         "tipovivi2": 0,
         "tipovivi3": 1,
         "tipovivi4": 0,
         "tipovivi5": 0,
         "computer": 0,
         "television": 0,
         "mobilephone": 1,
         "qmobilephone": 1,
         "lugar1": 1,
         "lugar2": 0,
         "lugar3": 0,
         "lugar4": 0,
         "lugar5": 0,
         "lugar6": 0,
         "area1": 1,
         "area2": 0,
         "age": 7,
         "SQBescolari": 0,
         "SQBage": 49,
         "SQBhogar_total": 16,
         "SQBedjefe": 81,
         "SQBhogar_nin": 4,
         "SQBovercrowding": 16,
         "SQBdependency": 1,
         "SQBmeaned": 100,
         "agesq": 49,
         "Target": 4,
         "_deepnote_index_column": 7
        },
        {
         "Id": "ID_1284f8aad",
         "v2a1": 130000,
         "hacdor": 1,
         "rooms": 2,
         "hacapo": 0,
         "v14a": 1,
         "refrig": 1,
         "v18q": 0,
         "v18q1": "nan",
         "r4h1": 0,
         "r4h2": 1,
         "r4h3": 1,
         "r4m1": 2,
         "r4m2": 1,
         "r4m3": 3,
         "r4t1": 2,
         "r4t2": 2,
         "r4t3": 4,
         "tamhog": 4,
         "tamviv": 4,
         "escolari": 9,
         "rez_esc": "nan",
         "hhsize": 4,
         "paredblolad": 1,
         "paredzocalo": 0,
         "paredpreb": 0,
         "pareddes": 0,
         "paredmad": 0,
         "paredzinc": 0,
         "paredfibras": 0,
         "paredother": 0,
         "pisomoscer": 1,
         "pisocemento": 0,
         "pisoother": 0,
         "pisonatur": 0,
         "pisonotiene": 0,
         "pisomadera": 0,
         "techozinc": 1,
         "techoentrepiso": 0,
         "techocane": 0,
         "techootro": 0,
         "cielorazo": 1,
         "abastaguadentro": 1,
         "abastaguafuera": 0,
         "abastaguano": 0,
         "public": 1,
         "planpri": 0,
         "noelec": 0,
         "coopele": 0,
         "sanitario1": 0,
         "sanitario2": 1,
         "sanitario3": 0,
         "sanitario5": 0,
         "sanitario6": 0,
         "energcocinar1": 0,
         "energcocinar2": 0,
         "energcocinar3": 1,
         "energcocinar4": 0,
         "elimbasu1": 1,
         "elimbasu2": 0,
         "elimbasu3": 0,
         "elimbasu4": 0,
         "elimbasu5": 0,
         "elimbasu6": 0,
         "epared1": 1,
         "epared2": 0,
         "epared3": 0,
         "etecho1": 1,
         "etecho2": 0,
         "etecho3": 0,
         "eviv1": 0,
         "eviv2": 1,
         "eviv3": 0,
         "dis": 0,
         "male": 1,
         "female": 0,
         "estadocivil1": 0,
         "estadocivil2": 1,
         "estadocivil3": 0,
         "estadocivil4": 0,
         "estadocivil5": 0,
         "estadocivil6": 0,
         "estadocivil7": 0,
         "parentesco1": 1,
         "parentesco2": 0,
         "parentesco3": 0,
         "parentesco4": 0,
         "parentesco5": 0,
         "parentesco6": 0,
         "parentesco7": 0,
         "parentesco8": 0,
         "parentesco9": 0,
         "parentesco10": 0,
         "parentesco11": 0,
         "parentesco12": 0,
         "idhogar": "d6dae86b7",
         "hogar_nin": 2,
         "hogar_adul": 2,
         "hogar_mayor": 0,
         "hogar_total": 4,
         "dependency": "yes",
         "edjefe": "9",
         "edjefa": "no",
         "meaneduc": 10,
         "instlevel1": 0,
         "instlevel2": 0,
         "instlevel3": 0,
         "instlevel4": 1,
         "instlevel5": 0,
         "instlevel6": 0,
         "instlevel7": 0,
         "instlevel8": 0,
         "instlevel9": 0,
         "bedrooms": 1,
         "overcrowding": 4,
         "tipovivi1": 0,
         "tipovivi2": 0,
         "tipovivi3": 1,
         "tipovivi4": 0,
         "tipovivi5": 0,
         "computer": 0,
         "television": 0,
         "mobilephone": 1,
         "qmobilephone": 1,
         "lugar1": 1,
         "lugar2": 0,
         "lugar3": 0,
         "lugar4": 0,
         "lugar5": 0,
         "lugar6": 0,
         "area1": 1,
         "area2": 0,
         "age": 30,
         "SQBescolari": 81,
         "SQBage": 900,
         "SQBhogar_total": 16,
         "SQBedjefe": 81,
         "SQBhogar_nin": 4,
         "SQBovercrowding": 16,
         "SQBdependency": 1,
         "SQBmeaned": 100,
         "agesq": 900,
         "Target": 4,
         "_deepnote_index_column": 8
        },
        {
         "Id": "ID_51f52fdd2",
         "v2a1": 130000,
         "hacdor": 1,
         "rooms": 2,
         "hacapo": 0,
         "v14a": 1,
         "refrig": 1,
         "v18q": 0,
         "v18q1": "nan",
         "r4h1": 0,
         "r4h2": 1,
         "r4h3": 1,
         "r4m1": 2,
         "r4m2": 1,
         "r4m3": 3,
         "r4t1": 2,
         "r4t2": 2,
         "r4t3": 4,
         "tamhog": 4,
         "tamviv": 4,
         "escolari": 11,
         "rez_esc": "nan",
         "hhsize": 4,
         "paredblolad": 1,
         "paredzocalo": 0,
         "paredpreb": 0,
         "pareddes": 0,
         "paredmad": 0,
         "paredzinc": 0,
         "paredfibras": 0,
         "paredother": 0,
         "pisomoscer": 1,
         "pisocemento": 0,
         "pisoother": 0,
         "pisonatur": 0,
         "pisonotiene": 0,
         "pisomadera": 0,
         "techozinc": 1,
         "techoentrepiso": 0,
         "techocane": 0,
         "techootro": 0,
         "cielorazo": 1,
         "abastaguadentro": 1,
         "abastaguafuera": 0,
         "abastaguano": 0,
         "public": 1,
         "planpri": 0,
         "noelec": 0,
         "coopele": 0,
         "sanitario1": 0,
         "sanitario2": 1,
         "sanitario3": 0,
         "sanitario5": 0,
         "sanitario6": 0,
         "energcocinar1": 0,
         "energcocinar2": 0,
         "energcocinar3": 1,
         "energcocinar4": 0,
         "elimbasu1": 1,
         "elimbasu2": 0,
         "elimbasu3": 0,
         "elimbasu4": 0,
         "elimbasu5": 0,
         "elimbasu6": 0,
         "epared1": 1,
         "epared2": 0,
         "epared3": 0,
         "etecho1": 1,
         "etecho2": 0,
         "etecho3": 0,
         "eviv1": 0,
         "eviv2": 1,
         "eviv3": 0,
         "dis": 0,
         "male": 0,
         "female": 1,
         "estadocivil1": 0,
         "estadocivil2": 1,
         "estadocivil3": 0,
         "estadocivil4": 0,
         "estadocivil5": 0,
         "estadocivil6": 0,
         "estadocivil7": 0,
         "parentesco1": 0,
         "parentesco2": 1,
         "parentesco3": 0,
         "parentesco4": 0,
         "parentesco5": 0,
         "parentesco6": 0,
         "parentesco7": 0,
         "parentesco8": 0,
         "parentesco9": 0,
         "parentesco10": 0,
         "parentesco11": 0,
         "parentesco12": 0,
         "idhogar": "d6dae86b7",
         "hogar_nin": 2,
         "hogar_adul": 2,
         "hogar_mayor": 0,
         "hogar_total": 4,
         "dependency": "yes",
         "edjefe": "9",
         "edjefa": "no",
         "meaneduc": 10,
         "instlevel1": 0,
         "instlevel2": 0,
         "instlevel3": 0,
         "instlevel4": 0,
         "instlevel5": 1,
         "instlevel6": 0,
         "instlevel7": 0,
         "instlevel8": 0,
         "instlevel9": 0,
         "bedrooms": 1,
         "overcrowding": 4,
         "tipovivi1": 0,
         "tipovivi2": 0,
         "tipovivi3": 1,
         "tipovivi4": 0,
         "tipovivi5": 0,
         "computer": 0,
         "television": 0,
         "mobilephone": 1,
         "qmobilephone": 1,
         "lugar1": 1,
         "lugar2": 0,
         "lugar3": 0,
         "lugar4": 0,
         "lugar5": 0,
         "lugar6": 0,
         "area1": 1,
         "area2": 0,
         "age": 28,
         "SQBescolari": 121,
         "SQBage": 784,
         "SQBhogar_total": 16,
         "SQBedjefe": 81,
         "SQBhogar_nin": 4,
         "SQBovercrowding": 16,
         "SQBdependency": 1,
         "SQBmeaned": 100,
         "agesq": 784,
         "Target": 4,
         "_deepnote_index_column": 9
        }
       ]
      },
      "text/plain": "                Id      v2a1  hacdor  rooms  hacapo  v14a  refrig  v18q  \\\n0     ID_279628684  190000.0       0      3       0     1       1     0   \n1     ID_f29eb3ddd  135000.0       0      4       0     1       1     1   \n2     ID_68de51c94       NaN       0      8       0     1       1     0   \n3     ID_d671db89c  180000.0       0      5       0     1       1     1   \n4     ID_d56d6f5f5  180000.0       0      5       0     1       1     1   \n...            ...       ...     ...    ...     ...   ...     ...   ...   \n9552  ID_d45ae367d   80000.0       0      6       0     1       1     0   \n9553  ID_c94744e07   80000.0       0      6       0     1       1     0   \n9554  ID_85fc658f8   80000.0       0      6       0     1       1     0   \n9555  ID_ced540c61   80000.0       0      6       0     1       1     0   \n9556  ID_a38c64491   80000.0       0      6       0     1       1     0   \n\n      v18q1  r4h1  ...  SQBescolari  SQBage  SQBhogar_total  SQBedjefe  \\\n0       NaN     0  ...          100    1849               1        100   \n1       1.0     0  ...          144    4489               1        144   \n2       NaN     0  ...          121    8464               1          0   \n3       1.0     0  ...           81     289              16        121   \n4       1.0     0  ...          121    1369              16        121   \n...     ...   ...  ...          ...     ...             ...        ...   \n9552    NaN     0  ...           81    2116              25         81   \n9553    NaN     0  ...            0       4              25         81   \n9554    NaN     0  ...           25    2500              25         81   \n9555    NaN     0  ...          121     676              25         81   \n9556    NaN     0  ...           64     441              25         81   \n\n      SQBhogar_nin  SQBovercrowding  SQBdependency  SQBmeaned  agesq  Target  \n0                0         1.000000         0.0000   100.0000   1849       4  \n1                0         1.000000        64.0000   144.0000   4489       4  \n2                0         0.250000        64.0000   121.0000   8464       4  \n3                4         1.777778         1.0000   121.0000    289       4  \n4                4         1.777778         1.0000   121.0000   1369       4  \n...            ...              ...            ...        ...    ...     ...  \n9552             1         1.562500         0.0625    68.0625   2116       2  \n9553             1         1.562500         0.0625    68.0625      4       2  \n9554             1         1.562500         0.0625    68.0625   2500       2  \n9555             1         1.562500         0.0625    68.0625    676       2  \n9556             1         1.562500         0.0625    68.0625    441       2  \n\n[9557 rows x 143 columns]",
      "text/html": "<div>\n<style scoped>\n    .dataframe tbody tr th:only-of-type {\n        vertical-align: middle;\n    }\n\n    .dataframe tbody tr th {\n        vertical-align: top;\n    }\n\n    .dataframe thead th {\n        text-align: right;\n    }\n</style>\n<table border=\"1\" class=\"dataframe\">\n  <thead>\n    <tr style=\"text-align: right;\">\n      <th></th>\n      <th>Id</th>\n      <th>v2a1</th>\n      <th>hacdor</th>\n      <th>rooms</th>\n      <th>hacapo</th>\n      <th>v14a</th>\n      <th>refrig</th>\n      <th>v18q</th>\n      <th>v18q1</th>\n      <th>r4h1</th>\n      <th>...</th>\n      <th>SQBescolari</th>\n      <th>SQBage</th>\n      <th>SQBhogar_total</th>\n      <th>SQBedjefe</th>\n      <th>SQBhogar_nin</th>\n      <th>SQBovercrowding</th>\n      <th>SQBdependency</th>\n      <th>SQBmeaned</th>\n      <th>agesq</th>\n      <th>Target</th>\n    </tr>\n  </thead>\n  <tbody>\n    <tr>\n      <th>0</th>\n      <td>ID_279628684</td>\n      <td>190000.0</td>\n      <td>0</td>\n      <td>3</td>\n      <td>0</td>\n      <td>1</td>\n      <td>1</td>\n      <td>0</td>\n      <td>NaN</td>\n      <td>0</td>\n      <td>...</td>\n      <td>100</td>\n      <td>1849</td>\n      <td>1</td>\n      <td>100</td>\n      <td>0</td>\n      <td>1.000000</td>\n      <td>0.0000</td>\n      <td>100.0000</td>\n      <td>1849</td>\n      <td>4</td>\n    </tr>\n    <tr>\n      <th>1</th>\n      <td>ID_f29eb3ddd</td>\n      <td>135000.0</td>\n      <td>0</td>\n      <td>4</td>\n      <td>0</td>\n      <td>1</td>\n      <td>1</td>\n      <td>1</td>\n      <td>1.0</td>\n      <td>0</td>\n      <td>...</td>\n      <td>144</td>\n      <td>4489</td>\n      <td>1</td>\n      <td>144</td>\n      <td>0</td>\n      <td>1.000000</td>\n      <td>64.0000</td>\n      <td>144.0000</td>\n      <td>4489</td>\n      <td>4</td>\n    </tr>\n    <tr>\n      <th>2</th>\n      <td>ID_68de51c94</td>\n      <td>NaN</td>\n      <td>0</td>\n      <td>8</td>\n      <td>0</td>\n      <td>1</td>\n      <td>1</td>\n      <td>0</td>\n      <td>NaN</td>\n      <td>0</td>\n      <td>...</td>\n      <td>121</td>\n      <td>8464</td>\n      <td>1</td>\n      <td>0</td>\n      <td>0</td>\n      <td>0.250000</td>\n      <td>64.0000</td>\n      <td>121.0000</td>\n      <td>8464</td>\n      <td>4</td>\n    </tr>\n    <tr>\n      <th>3</th>\n      <td>ID_d671db89c</td>\n      <td>180000.0</td>\n      <td>0</td>\n      <td>5</td>\n      <td>0</td>\n      <td>1</td>\n      <td>1</td>\n      <td>1</td>\n      <td>1.0</td>\n      <td>0</td>\n      <td>...</td>\n      <td>81</td>\n      <td>289</td>\n      <td>16</td>\n      <td>121</td>\n      <td>4</td>\n      <td>1.777778</td>\n      <td>1.0000</td>\n      <td>121.0000</td>\n      <td>289</td>\n      <td>4</td>\n    </tr>\n    <tr>\n      <th>4</th>\n      <td>ID_d56d6f5f5</td>\n      <td>180000.0</td>\n      <td>0</td>\n      <td>5</td>\n      <td>0</td>\n      <td>1</td>\n      <td>1</td>\n      <td>1</td>\n      <td>1.0</td>\n      <td>0</td>\n      <td>...</td>\n      <td>121</td>\n      <td>1369</td>\n      <td>16</td>\n      <td>121</td>\n      <td>4</td>\n      <td>1.777778</td>\n      <td>1.0000</td>\n      <td>121.0000</td>\n      <td>1369</td>\n      <td>4</td>\n    </tr>\n    <tr>\n      <th>...</th>\n      <td>...</td>\n      <td>...</td>\n      <td>...</td>\n      <td>...</td>\n      <td>...</td>\n      <td>...</td>\n      <td>...</td>\n      <td>...</td>\n      <td>...</td>\n      <td>...</td>\n      <td>...</td>\n      <td>...</td>\n      <td>...</td>\n      <td>...</td>\n      <td>...</td>\n      <td>...</td>\n      <td>...</td>\n      <td>...</td>\n      <td>...</td>\n      <td>...</td>\n      <td>...</td>\n    </tr>\n    <tr>\n      <th>9552</th>\n      <td>ID_d45ae367d</td>\n      <td>80000.0</td>\n      <td>0</td>\n      <td>6</td>\n      <td>0</td>\n      <td>1</td>\n      <td>1</td>\n      <td>0</td>\n      <td>NaN</td>\n      <td>0</td>\n      <td>...</td>\n      <td>81</td>\n      <td>2116</td>\n      <td>25</td>\n      <td>81</td>\n      <td>1</td>\n      <td>1.562500</td>\n      <td>0.0625</td>\n      <td>68.0625</td>\n      <td>2116</td>\n      <td>2</td>\n    </tr>\n    <tr>\n      <th>9553</th>\n      <td>ID_c94744e07</td>\n      <td>80000.0</td>\n      <td>0</td>\n      <td>6</td>\n      <td>0</td>\n      <td>1</td>\n      <td>1</td>\n      <td>0</td>\n      <td>NaN</td>\n      <td>0</td>\n      <td>...</td>\n      <td>0</td>\n      <td>4</td>\n      <td>25</td>\n      <td>81</td>\n      <td>1</td>\n      <td>1.562500</td>\n      <td>0.0625</td>\n      <td>68.0625</td>\n      <td>4</td>\n      <td>2</td>\n    </tr>\n    <tr>\n      <th>9554</th>\n      <td>ID_85fc658f8</td>\n      <td>80000.0</td>\n      <td>0</td>\n      <td>6</td>\n      <td>0</td>\n      <td>1</td>\n      <td>1</td>\n      <td>0</td>\n      <td>NaN</td>\n      <td>0</td>\n      <td>...</td>\n      <td>25</td>\n      <td>2500</td>\n      <td>25</td>\n      <td>81</td>\n      <td>1</td>\n      <td>1.562500</td>\n      <td>0.0625</td>\n      <td>68.0625</td>\n      <td>2500</td>\n      <td>2</td>\n    </tr>\n    <tr>\n      <th>9555</th>\n      <td>ID_ced540c61</td>\n      <td>80000.0</td>\n      <td>0</td>\n      <td>6</td>\n      <td>0</td>\n      <td>1</td>\n      <td>1</td>\n      <td>0</td>\n      <td>NaN</td>\n      <td>0</td>\n      <td>...</td>\n      <td>121</td>\n      <td>676</td>\n      <td>25</td>\n      <td>81</td>\n      <td>1</td>\n      <td>1.562500</td>\n      <td>0.0625</td>\n      <td>68.0625</td>\n      <td>676</td>\n      <td>2</td>\n    </tr>\n    <tr>\n      <th>9556</th>\n      <td>ID_a38c64491</td>\n      <td>80000.0</td>\n      <td>0</td>\n      <td>6</td>\n      <td>0</td>\n      <td>1</td>\n      <td>1</td>\n      <td>0</td>\n      <td>NaN</td>\n      <td>0</td>\n      <td>...</td>\n      <td>64</td>\n      <td>441</td>\n      <td>25</td>\n      <td>81</td>\n      <td>1</td>\n      <td>1.562500</td>\n      <td>0.0625</td>\n      <td>68.0625</td>\n      <td>441</td>\n      <td>2</td>\n    </tr>\n  </tbody>\n</table>\n<p>9557 rows × 143 columns</p>\n</div>"
     },
     "metadata": {}
    }
   ],
   "execution_count": null
  },
  {
   "cell_type": "code",
   "source": "X = data_df[[\"refrig\",'rooms', 'Target']]\ng = sb.catplot(x=\"Target\", y=\"v2a1\",kind = \"bar\" ,data=data_df)",
   "metadata": {
    "cell_id": "623b72ff8d214355b9c088853cadcf3a",
    "tags": [],
    "deepnote_to_be_reexecuted": false,
    "source_hash": "7c2ef658",
    "execution_start": 1650419819221,
    "execution_millis": 1080,
    "deepnote_table_state": {
     "pageSize": 100,
     "pageIndex": 0,
     "filters": [],
     "sortBy": []
    },
    "deepnote_table_loading": false,
    "deepnote_cell_type": "code",
    "deepnote_cell_height": 469,
    "deepnote_output_heights": [
     354
    ]
   },
   "outputs": [
    {
     "data": {
      "text/plain": "<Figure size 360x360 with 1 Axes>",
      "image/png": "[encoded data removed]"
     },
     "metadata": {
      "needs_background": "light",
      "image/png": {
       "width": 352,
       "height": 352
      }
     },
     "output_type": "display_data"
    }
   ],
   "execution_count": null
  },
  {
   "cell_type": "code",
   "source": "",
   "metadata": {
    "cell_id": "9ffce035473640eeac808b8e488eb657",
    "tags": [],
    "deepnote_to_be_reexecuted": false,
    "source_hash": "39a62a77",
    "execution_start": 1650418537290,
    "execution_millis": 2605,
    "owner_user_id": "1e899dee-29f9-4275-a6ea-e33c24f3b20c",
    "deepnote_cell_type": "code",
    "deepnote_cell_height": 1407.375,
    "deepnote_output_heights": [
     606.1875,
     611
    ]
   },
   "outputs": [
    {
     "output_type": "error",
     "ename": "ValueError",
     "evalue": "could not convert string to float: 'ID_279628684'",
     "traceback": [
      "\u001b[0;31m---------------------------------------------------------------------------\u001b[0m",
      "\u001b[0;31mValueError\u001b[0m                                Traceback (most recent call last)",
      "\u001b[0;32m<ipython-input-10-cbdf57234d71>\u001b[0m in \u001b[0;36m<module>\u001b[0;34m\u001b[0m\n\u001b[1;32m      4\u001b[0m \u001b[0mcount\u001b[0m \u001b[0;34m=\u001b[0m \u001b[0;36m0\u001b[0m\u001b[0;34m\u001b[0m\u001b[0;34m\u001b[0m\u001b[0m\n\u001b[1;32m      5\u001b[0m \u001b[0;32mfor\u001b[0m \u001b[0mvar\u001b[0m \u001b[0;32min\u001b[0m \u001b[0mX\u001b[0m\u001b[0;34m:\u001b[0m\u001b[0;34m\u001b[0m\u001b[0;34m\u001b[0m\u001b[0m\n\u001b[0;32m----> 6\u001b[0;31m     \u001b[0msb\u001b[0m\u001b[0;34m.\u001b[0m\u001b[0mboxplot\u001b[0m\u001b[0;34m(\u001b[0m\u001b[0mdata\u001b[0m \u001b[0;34m=\u001b[0m \u001b[0mX\u001b[0m\u001b[0;34m[\u001b[0m\u001b[0mvar\u001b[0m\u001b[0;34m]\u001b[0m\u001b[0;34m,\u001b[0m \u001b[0morient\u001b[0m \u001b[0;34m=\u001b[0m \u001b[0;34m\"h\"\u001b[0m\u001b[0;34m,\u001b[0m \u001b[0mcolor\u001b[0m \u001b[0;34m=\u001b[0m \u001b[0mcolours\u001b[0m\u001b[0;34m[\u001b[0m\u001b[0mcount\u001b[0m\u001b[0;34m]\u001b[0m\u001b[0;34m,\u001b[0m \u001b[0max\u001b[0m \u001b[0;34m=\u001b[0m \u001b[0maxes\u001b[0m\u001b[0;34m[\u001b[0m\u001b[0mcount\u001b[0m\u001b[0;34m,\u001b[0m\u001b[0;36m0\u001b[0m\u001b[0;34m]\u001b[0m\u001b[0;34m)\u001b[0m\u001b[0;34m\u001b[0m\u001b[0;34m\u001b[0m\u001b[0m\n\u001b[0m\u001b[1;32m      7\u001b[0m     \u001b[0msb\u001b[0m\u001b[0;34m.\u001b[0m\u001b[0mdistplot\u001b[0m\u001b[0;34m(\u001b[0m\u001b[0mX\u001b[0m\u001b[0;34m[\u001b[0m\u001b[0mvar\u001b[0m\u001b[0;34m]\u001b[0m\u001b[0;34m,\u001b[0m  \u001b[0mcolor\u001b[0m \u001b[0;34m=\u001b[0m \u001b[0mcolours\u001b[0m\u001b[0;34m[\u001b[0m\u001b[0mcount\u001b[0m\u001b[0;34m]\u001b[0m\u001b[0;34m,\u001b[0m\u001b[0max\u001b[0m \u001b[0;34m=\u001b[0m \u001b[0maxes\u001b[0m\u001b[0;34m[\u001b[0m\u001b[0mcount\u001b[0m\u001b[0;34m,\u001b[0m\u001b[0;36m1\u001b[0m\u001b[0;34m]\u001b[0m\u001b[0;34m)\u001b[0m\u001b[0;34m\u001b[0m\u001b[0;34m\u001b[0m\u001b[0m\n\u001b[1;32m      8\u001b[0m     \u001b[0msb\u001b[0m\u001b[0;34m.\u001b[0m\u001b[0mviolinplot\u001b[0m\u001b[0;34m(\u001b[0m\u001b[0mdata\u001b[0m \u001b[0;34m=\u001b[0m \u001b[0mX\u001b[0m\u001b[0;34m[\u001b[0m\u001b[0mvar\u001b[0m\u001b[0;34m]\u001b[0m\u001b[0;34m,\u001b[0m \u001b[0morient\u001b[0m \u001b[0;34m=\u001b[0m \u001b[0;34m\"h\"\u001b[0m\u001b[0;34m,\u001b[0m \u001b[0mcolor\u001b[0m \u001b[0;34m=\u001b[0m \u001b[0mcolours\u001b[0m\u001b[0;34m[\u001b[0m\u001b[0mcount\u001b[0m\u001b[0;34m]\u001b[0m\u001b[0;34m,\u001b[0m \u001b[0max\u001b[0m \u001b[0;34m=\u001b[0m \u001b[0maxes\u001b[0m\u001b[0;34m[\u001b[0m\u001b[0mcount\u001b[0m\u001b[0;34m,\u001b[0m\u001b[0;36m2\u001b[0m\u001b[0;34m]\u001b[0m\u001b[0;34m)\u001b[0m\u001b[0;34m\u001b[0m\u001b[0;34m\u001b[0m\u001b[0m\n",
      "\u001b[0;32m/shared-libs/python3.7/py/lib/python3.7/site-packages/seaborn/_decorators.py\u001b[0m in \u001b[0;36minner_f\u001b[0;34m(*args, **kwargs)\u001b[0m\n\u001b[1;32m     44\u001b[0m             )\n\u001b[1;32m     45\u001b[0m         \u001b[0mkwargs\u001b[0m\u001b[0;34m.\u001b[0m\u001b[0mupdate\u001b[0m\u001b[0;34m(\u001b[0m\u001b[0;34m{\u001b[0m\u001b[0mk\u001b[0m\u001b[0;34m:\u001b[0m \u001b[0marg\u001b[0m \u001b[0;32mfor\u001b[0m \u001b[0mk\u001b[0m\u001b[0;34m,\u001b[0m \u001b[0marg\u001b[0m \u001b[0;32min\u001b[0m \u001b[0mzip\u001b[0m\u001b[0;34m(\u001b[0m\u001b[0msig\u001b[0m\u001b[0;34m.\u001b[0m\u001b[0mparameters\u001b[0m\u001b[0;34m,\u001b[0m \u001b[0margs\u001b[0m\u001b[0;34m)\u001b[0m\u001b[0;34m}\u001b[0m\u001b[0;34m)\u001b[0m\u001b[0;34m\u001b[0m\u001b[0;34m\u001b[0m\u001b[0m\n\u001b[0;32m---> 46\u001b[0;31m         \u001b[0;32mreturn\u001b[0m \u001b[0mf\u001b[0m\u001b[0;34m(\u001b[0m\u001b[0;34m**\u001b[0m\u001b[0mkwargs\u001b[0m\u001b[0;34m)\u001b[0m\u001b[0;34m\u001b[0m\u001b[0;34m\u001b[0m\u001b[0m\n\u001b[0m\u001b[1;32m     47\u001b[0m     \u001b[0;32mreturn\u001b[0m \u001b[0minner_f\u001b[0m\u001b[0;34m\u001b[0m\u001b[0;34m\u001b[0m\u001b[0m\n\u001b[1;32m     48\u001b[0m \u001b[0;34m\u001b[0m\u001b[0m\n",
      "\u001b[0;32m/shared-libs/python3.7/py/lib/python3.7/site-packages/seaborn/categorical.py\u001b[0m in \u001b[0;36mboxplot\u001b[0;34m(x, y, hue, data, order, hue_order, orient, color, palette, saturation, width, dodge, fliersize, linewidth, whis, ax, **kwargs)\u001b[0m\n\u001b[1;32m   2243\u001b[0m     plotter = _BoxPlotter(x, y, hue, data, order, hue_order,\n\u001b[1;32m   2244\u001b[0m                           \u001b[0morient\u001b[0m\u001b[0;34m,\u001b[0m \u001b[0mcolor\u001b[0m\u001b[0;34m,\u001b[0m \u001b[0mpalette\u001b[0m\u001b[0;34m,\u001b[0m \u001b[0msaturation\u001b[0m\u001b[0;34m,\u001b[0m\u001b[0;34m\u001b[0m\u001b[0;34m\u001b[0m\u001b[0m\n\u001b[0;32m-> 2245\u001b[0;31m                           width, dodge, fliersize, linewidth)\n\u001b[0m\u001b[1;32m   2246\u001b[0m \u001b[0;34m\u001b[0m\u001b[0m\n\u001b[1;32m   2247\u001b[0m     \u001b[0;32mif\u001b[0m \u001b[0max\u001b[0m \u001b[0;32mis\u001b[0m \u001b[0;32mNone\u001b[0m\u001b[0;34m:\u001b[0m\u001b[0;34m\u001b[0m\u001b[0;34m\u001b[0m\u001b[0m\n",
      "\u001b[0;32m/shared-libs/python3.7/py/lib/python3.7/site-packages/seaborn/categorical.py\u001b[0m in \u001b[0;36m__init__\u001b[0;34m(self, x, y, hue, data, order, hue_order, orient, color, palette, saturation, width, dodge, fliersize, linewidth)\u001b[0m\n\u001b[1;32m    404\u001b[0m                  width, dodge, fliersize, linewidth):\n\u001b[1;32m    405\u001b[0m \u001b[0;34m\u001b[0m\u001b[0m\n\u001b[0;32m--> 406\u001b[0;31m         \u001b[0mself\u001b[0m\u001b[0;34m.\u001b[0m\u001b[0mestablish_variables\u001b[0m\u001b[0;34m(\u001b[0m\u001b[0mx\u001b[0m\u001b[0;34m,\u001b[0m \u001b[0my\u001b[0m\u001b[0;34m,\u001b[0m \u001b[0mhue\u001b[0m\u001b[0;34m,\u001b[0m \u001b[0mdata\u001b[0m\u001b[0;34m,\u001b[0m \u001b[0morient\u001b[0m\u001b[0;34m,\u001b[0m \u001b[0morder\u001b[0m\u001b[0;34m,\u001b[0m \u001b[0mhue_order\u001b[0m\u001b[0;34m)\u001b[0m\u001b[0;34m\u001b[0m\u001b[0;34m\u001b[0m\u001b[0m\n\u001b[0m\u001b[1;32m    407\u001b[0m         \u001b[0mself\u001b[0m\u001b[0;34m.\u001b[0m\u001b[0mestablish_colors\u001b[0m\u001b[0;34m(\u001b[0m\u001b[0mcolor\u001b[0m\u001b[0;34m,\u001b[0m \u001b[0mpalette\u001b[0m\u001b[0;34m,\u001b[0m \u001b[0msaturation\u001b[0m\u001b[0;34m)\u001b[0m\u001b[0;34m\u001b[0m\u001b[0;34m\u001b[0m\u001b[0m\n\u001b[1;32m    408\u001b[0m \u001b[0;34m\u001b[0m\u001b[0m\n",
      "\u001b[0;32m/shared-libs/python3.7/py/lib/python3.7/site-packages/seaborn/categorical.py\u001b[0m in \u001b[0;36mestablish_variables\u001b[0;34m(self, x, y, hue, data, orient, order, hue_order, units)\u001b[0m\n\u001b[1;32m    126\u001b[0m \u001b[0;34m\u001b[0m\u001b[0m\n\u001b[1;32m    127\u001b[0m                 \u001b[0;31m# Convert to a list of arrays, the common representation\u001b[0m\u001b[0;34m\u001b[0m\u001b[0;34m\u001b[0m\u001b[0;34m\u001b[0m\u001b[0m\n\u001b[0;32m--> 128\u001b[0;31m                 \u001b[0mplot_data\u001b[0m \u001b[0;34m=\u001b[0m \u001b[0;34m[\u001b[0m\u001b[0mnp\u001b[0m\u001b[0;34m.\u001b[0m\u001b[0masarray\u001b[0m\u001b[0;34m(\u001b[0m\u001b[0md\u001b[0m\u001b[0;34m,\u001b[0m \u001b[0mfloat\u001b[0m\u001b[0;34m)\u001b[0m \u001b[0;32mfor\u001b[0m \u001b[0md\u001b[0m \u001b[0;32min\u001b[0m \u001b[0mplot_data\u001b[0m\u001b[0;34m]\u001b[0m\u001b[0;34m\u001b[0m\u001b[0;34m\u001b[0m\u001b[0m\n\u001b[0m\u001b[1;32m    129\u001b[0m \u001b[0;34m\u001b[0m\u001b[0m\n\u001b[1;32m    130\u001b[0m                 \u001b[0;31m# The group names will just be numeric indices\u001b[0m\u001b[0;34m\u001b[0m\u001b[0;34m\u001b[0m\u001b[0;34m\u001b[0m\u001b[0m\n",
      "\u001b[0;32m/shared-libs/python3.7/py/lib/python3.7/site-packages/seaborn/categorical.py\u001b[0m in \u001b[0;36m<listcomp>\u001b[0;34m(.0)\u001b[0m\n\u001b[1;32m    126\u001b[0m \u001b[0;34m\u001b[0m\u001b[0m\n\u001b[1;32m    127\u001b[0m                 \u001b[0;31m# Convert to a list of arrays, the common representation\u001b[0m\u001b[0;34m\u001b[0m\u001b[0;34m\u001b[0m\u001b[0;34m\u001b[0m\u001b[0m\n\u001b[0;32m--> 128\u001b[0;31m                 \u001b[0mplot_data\u001b[0m \u001b[0;34m=\u001b[0m \u001b[0;34m[\u001b[0m\u001b[0mnp\u001b[0m\u001b[0;34m.\u001b[0m\u001b[0masarray\u001b[0m\u001b[0;34m(\u001b[0m\u001b[0md\u001b[0m\u001b[0;34m,\u001b[0m \u001b[0mfloat\u001b[0m\u001b[0;34m)\u001b[0m \u001b[0;32mfor\u001b[0m \u001b[0md\u001b[0m \u001b[0;32min\u001b[0m \u001b[0mplot_data\u001b[0m\u001b[0;34m]\u001b[0m\u001b[0;34m\u001b[0m\u001b[0;34m\u001b[0m\u001b[0m\n\u001b[0m\u001b[1;32m    129\u001b[0m \u001b[0;34m\u001b[0m\u001b[0m\n\u001b[1;32m    130\u001b[0m                 \u001b[0;31m# The group names will just be numeric indices\u001b[0m\u001b[0;34m\u001b[0m\u001b[0;34m\u001b[0m\u001b[0;34m\u001b[0m\u001b[0m\n",
      "\u001b[0;32m/shared-libs/python3.7/py/lib/python3.7/site-packages/pandas/core/series.py\u001b[0m in \u001b[0;36m__array__\u001b[0;34m(self, dtype)\u001b[0m\n\u001b[1;32m    766\u001b[0m               dtype='datetime64[ns]')\n\u001b[1;32m    767\u001b[0m         \"\"\"\n\u001b[0;32m--> 768\u001b[0;31m         \u001b[0;32mreturn\u001b[0m \u001b[0mnp\u001b[0m\u001b[0;34m.\u001b[0m\u001b[0masarray\u001b[0m\u001b[0;34m(\u001b[0m\u001b[0mself\u001b[0m\u001b[0;34m.\u001b[0m\u001b[0marray\u001b[0m\u001b[0;34m,\u001b[0m \u001b[0mdtype\u001b[0m\u001b[0;34m)\u001b[0m\u001b[0;34m\u001b[0m\u001b[0;34m\u001b[0m\u001b[0m\n\u001b[0m\u001b[1;32m    769\u001b[0m \u001b[0;34m\u001b[0m\u001b[0m\n\u001b[1;32m    770\u001b[0m     \u001b[0;31m# ----------------------------------------------------------------------\u001b[0m\u001b[0;34m\u001b[0m\u001b[0;34m\u001b[0m\u001b[0;34m\u001b[0m\u001b[0m\n",
      "\u001b[0;32m/shared-libs/python3.7/py/lib/python3.7/site-packages/pandas/core/arrays/numpy_.py\u001b[0m in \u001b[0;36m__array__\u001b[0;34m(self, dtype)\u001b[0m\n\u001b[1;32m    201\u001b[0m \u001b[0;34m\u001b[0m\u001b[0m\n\u001b[1;32m    202\u001b[0m     \u001b[0;32mdef\u001b[0m \u001b[0m__array__\u001b[0m\u001b[0;34m(\u001b[0m\u001b[0mself\u001b[0m\u001b[0;34m,\u001b[0m \u001b[0mdtype\u001b[0m\u001b[0;34m=\u001b[0m\u001b[0;32mNone\u001b[0m\u001b[0;34m)\u001b[0m \u001b[0;34m->\u001b[0m \u001b[0mnp\u001b[0m\u001b[0;34m.\u001b[0m\u001b[0mndarray\u001b[0m\u001b[0;34m:\u001b[0m\u001b[0;34m\u001b[0m\u001b[0;34m\u001b[0m\u001b[0m\n\u001b[0;32m--> 203\u001b[0;31m         \u001b[0;32mreturn\u001b[0m \u001b[0mnp\u001b[0m\u001b[0;34m.\u001b[0m\u001b[0masarray\u001b[0m\u001b[0;34m(\u001b[0m\u001b[0mself\u001b[0m\u001b[0;34m.\u001b[0m\u001b[0m_ndarray\u001b[0m\u001b[0;34m,\u001b[0m \u001b[0mdtype\u001b[0m\u001b[0;34m=\u001b[0m\u001b[0mdtype\u001b[0m\u001b[0;34m)\u001b[0m\u001b[0;34m\u001b[0m\u001b[0;34m\u001b[0m\u001b[0m\n\u001b[0m\u001b[1;32m    204\u001b[0m \u001b[0;34m\u001b[0m\u001b[0m\n\u001b[1;32m    205\u001b[0m     \u001b[0m_HANDLED_TYPES\u001b[0m \u001b[0;34m=\u001b[0m \u001b[0;34m(\u001b[0m\u001b[0mnp\u001b[0m\u001b[0;34m.\u001b[0m\u001b[0mndarray\u001b[0m\u001b[0;34m,\u001b[0m \u001b[0mnumbers\u001b[0m\u001b[0;34m.\u001b[0m\u001b[0mNumber\u001b[0m\u001b[0;34m)\u001b[0m\u001b[0;34m\u001b[0m\u001b[0;34m\u001b[0m\u001b[0m\n",
      "\u001b[0;31mValueError\u001b[0m: could not convert string to float: 'ID_279628684'"
     ]
    },
    {
     "data": {
      "text/plain": "<Figure size 2520x2016 with 15 Axes>",
      "image/png": "[encoded data removed]"
     },
     "metadata": {
      "needs_background": "light",
      "image/png": {
       "width": 1998,
       "height": 1557
      }
     },
     "output_type": "display_data"
    }
   ],
   "execution_count": null
  },
  {
   "cell_type": "markdown",
   "source": "<a style='text-decoration:none;line-height:16px;display:flex;color:#5B5B62;padding:10px;justify-content:end;' href='https://deepnote.com?utm_source=created-in-deepnote-cell&projectId=f92fbbcf-fa92-4caa-ad57-5cd0b8c2766a' target=\"_blank\">\n<img alt='Created in deepnote.com' style='display:inline;max-height:16px;margin:0px;margin-right:7.5px;' src='data:image/svg+xml;base64,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' > </img>\nCreated in <span style='font-weight:600;margin-left:4px;'>Deepnote</span></a>",
   "metadata": {
    "tags": [],
    "created_in_deepnote_cell": true,
    "deepnote_cell_type": "markdown"
   }
  }
 ],
 "nbformat": 4,
 "nbformat_minor": 2,
 "metadata": {
  "orig_nbformat": 2,
  "deepnote": {},
  "deepnote_notebook_id": "7d71a5c1-d6d8-40a7-b72f-cf0485fa1c79",
  "deepnote_execution_queue": []
 }
}