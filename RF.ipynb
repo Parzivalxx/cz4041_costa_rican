{
 "cells": [
  {
   "cell_type": "markdown",
   "source": "# Exploratory Data Analysis (I never add the graphs lol)",
   "metadata": {
    "cell_id": "00002-17a6261e-8251-4832-a409-b46241a30fdc",
    "tags": [],
    "is_collapsed": false,
    "deepnote_cell_type": "text-cell-h1"
   }
  },
  {
   "cell_type": "code",
   "metadata": {
    "tags": [],
    "cell_id": "8be8fe3c-b023-47dd-bcf4-022531030077",
    "deepnote_to_be_reexecuted": false,
    "source_hash": "d17ba889",
    "execution_start": 1650258701152,
    "execution_millis": 8568,
    "deepnote_cell_type": "code",
    "deepnote_cell_height": 878.796875
   },
   "source": "!pip install SMOTE\n!pip install imblearn\nimport numpy as np\nimport pandas as pd\nimport matplotlib.pyplot as plt\nimport pickle\nimport seaborn as sb\nimport matplotlib.pyplot as plt\n\nfrom collections import Counter\nfrom sklearn.impute import KNNImputer\nfrom imblearn.over_sampling import SMOTE\nfrom utils_v2 import *\nfrom sklearn.metrics import make_scorer, accuracy_score, precision_score, recall_score, f1_score, classification_report\nfrom sklearn.ensemble import RandomForestClassifier\nfrom sklearn.metrics import confusion_matrix\nfrom sklearn.model_selection import train_test_split\nfrom sklearn import metrics\nfrom sklearn.model_selection import RepeatedStratifiedKFold\nfrom sklearn.model_selection import cross_val_score, cross_validate",
   "execution_count": null,
   "outputs": [
    {
     "name": "stdout",
     "text": "Requirement already satisfied: SMOTE in /root/venv/lib/python3.7/site-packages (0.1)\nRequirement already satisfied: numpy>=1.14.3 in /shared-libs/python3.7/py/lib/python3.7/site-packages (from SMOTE) (1.21.5)\nRequirement already satisfied: scikit-learn>=0.19.1 in /shared-libs/python3.7/py/lib/python3.7/site-packages (from SMOTE) (1.0.2)\nRequirement already satisfied: joblib>=0.11 in /shared-libs/python3.7/py/lib/python3.7/site-packages (from scikit-learn>=0.19.1->SMOTE) (1.1.0)\nRequirement already satisfied: threadpoolctl>=2.0.0 in /shared-libs/python3.7/py/lib/python3.7/site-packages (from scikit-learn>=0.19.1->SMOTE) (3.1.0)\nRequirement already satisfied: scipy>=1.1.0 in /shared-libs/python3.7/py/lib/python3.7/site-packages (from scikit-learn>=0.19.1->SMOTE) (1.7.3)\n\u001b[33mWARNING: You are using pip version 20.1.1; however, version 22.0.4 is available.\nYou should consider upgrading via the '/root/venv/bin/python -m pip install --upgrade pip' command.\u001b[0m\nCollecting imblearn\n  Downloading imblearn-0.0-py2.py3-none-any.whl (1.9 kB)\nCollecting imbalanced-learn\n  Downloading imbalanced_learn-0.9.0-py3-none-any.whl (199 kB)\n\u001b[K     |████████████████████████████████| 199 kB 32.4 MB/s \n\u001b[?25hRequirement already satisfied: scikit-learn>=1.0.1 in /shared-libs/python3.7/py/lib/python3.7/site-packages (from imbalanced-learn->imblearn) (1.0.2)\nRequirement already satisfied: threadpoolctl>=2.0.0 in /shared-libs/python3.7/py/lib/python3.7/site-packages (from imbalanced-learn->imblearn) (3.1.0)\nRequirement already satisfied: numpy>=1.14.6 in /shared-libs/python3.7/py/lib/python3.7/site-packages (from imbalanced-learn->imblearn) (1.21.5)\nRequirement already satisfied: scipy>=1.1.0 in /shared-libs/python3.7/py/lib/python3.7/site-packages (from imbalanced-learn->imblearn) (1.7.3)\nRequirement already satisfied: joblib>=0.11 in /shared-libs/python3.7/py/lib/python3.7/site-packages (from imbalanced-learn->imblearn) (1.1.0)\nInstalling collected packages: imbalanced-learn, imblearn\nSuccessfully installed imbalanced-learn-0.9.0 imblearn-0.0\n\u001b[33mWARNING: You are using pip version 20.1.1; however, version 22.0.4 is available.\nYou should consider upgrading via the '/root/venv/bin/python -m pip install --upgrade pip' command.\u001b[0m\n",
     "output_type": "stream"
    }
   ]
  },
  {
   "cell_type": "code",
   "metadata": {
    "cell_id": "747a4935-bb99-4c4f-b864-73d00454c1c2",
    "tags": [],
    "deepnote_to_be_reexecuted": false,
    "source_hash": "12574ffc",
    "execution_start": 1650258709724,
    "execution_millis": 389,
    "deepnote_cell_type": "code",
    "deepnote_cell_height": 426.59375
   },
   "source": "df = load_processed_csv(train = True)\ndf.head()",
   "execution_count": null,
   "outputs": [
    {
     "output_type": "execute_result",
     "execution_count": 2,
     "data": {
      "application/vnd.deepnote.dataframe.v3+json": {
       "column_count": 73,
       "row_count": 5,
       "columns": [
        {
         "name": "feature0",
         "dtype": "float64",
         "stats": {
          "unique_count": 3,
          "nan_count": 0,
          "min": "-0.2242977092712486",
          "max": "0.3022447668788747",
          "histogram": [
           {
            "bin_start": -0.2242977092712486,
            "bin_end": -0.17164346165623626,
            "count": 1
           },
           {
            "bin_start": -0.17164346165623626,
            "bin_end": -0.11898921404122394,
            "count": 0
           },
           {
            "bin_start": -0.11898921404122394,
            "bin_end": -0.06633496642621162,
            "count": 0
           },
           {
            "bin_start": -0.06633496642621162,
            "bin_end": -0.013680718811199283,
            "count": 0
           },
           {
            "bin_start": -0.013680718811199283,
            "bin_end": 0.03897352880381305,
            "count": 0
           },
           {
            "bin_start": 0.03897352880381305,
            "bin_end": 0.09162777641882536,
            "count": 0
           },
           {
            "bin_start": 0.09162777641882536,
            "bin_end": 0.14428202403383772,
            "count": 0
           },
           {
            "bin_start": 0.14428202403383772,
            "bin_end": 0.19693627164885003,
            "count": 0
           },
           {
            "bin_start": 0.19693627164885003,
            "bin_end": 0.24959051926386233,
            "count": 3
           },
           {
            "bin_start": 0.24959051926386233,
            "bin_end": 0.3022447668788747,
            "count": 1
           }
          ]
         }
        },
        {
         "name": "feature1",
         "dtype": "float64",
         "stats": {
          "unique_count": 1,
          "nan_count": 0,
          "min": "0.0",
          "max": "0.0",
          "histogram": [
           {
            "bin_start": -0.5,
            "bin_end": -0.4,
            "count": 0
           },
           {
            "bin_start": -0.4,
            "bin_end": -0.3,
            "count": 0
           },
           {
            "bin_start": -0.3,
            "bin_end": -0.19999999999999996,
            "count": 0
           },
           {
            "bin_start": -0.19999999999999996,
            "bin_end": -0.09999999999999998,
            "count": 0
           },
           {
            "bin_start": -0.09999999999999998,
            "bin_end": 0,
            "count": 0
           },
           {
            "bin_start": 0,
            "bin_end": 0.10000000000000009,
            "count": 5
           },
           {
            "bin_start": 0.10000000000000009,
            "bin_end": 0.20000000000000007,
            "count": 0
           },
           {
            "bin_start": 0.20000000000000007,
            "bin_end": 0.30000000000000004,
            "count": 0
           },
           {
            "bin_start": 0.30000000000000004,
            "bin_end": 0.4,
            "count": 0
           },
           {
            "bin_start": 0.4,
            "bin_end": 0.5,
            "count": 0
           }
          ]
         }
        },
        {
         "name": "feature2",
         "dtype": "float64",
         "stats": {
          "unique_count": 4,
          "nan_count": 0,
          "min": "0.2",
          "max": "0.7000000000000001",
          "histogram": [
           {
            "bin_start": 0.2,
            "bin_end": 0.25,
            "count": 1
           },
           {
            "bin_start": 0.25,
            "bin_end": 0.30000000000000004,
            "count": 1
           },
           {
            "bin_start": 0.30000000000000004,
            "bin_end": 0.35000000000000003,
            "count": 0
           },
           {
            "bin_start": 0.35000000000000003,
            "bin_end": 0.4,
            "count": 0
           },
           {
            "bin_start": 0.4,
            "bin_end": 0.45,
            "count": 2
           },
           {
            "bin_start": 0.45,
            "bin_end": 0.5,
            "count": 0
           },
           {
            "bin_start": 0.5,
            "bin_end": 0.55,
            "count": 0
           },
           {
            "bin_start": 0.55,
            "bin_end": 0.6000000000000001,
            "count": 0
           },
           {
            "bin_start": 0.6000000000000001,
            "bin_end": 0.65,
            "count": 0
           },
           {
            "bin_start": 0.65,
            "bin_end": 0.7000000000000001,
            "count": 1
           }
          ]
         }
        },
        {
         "name": "feature3",
         "dtype": "float64",
         "stats": {
          "unique_count": 1,
          "nan_count": 0,
          "min": "0.0",
          "max": "0.0",
          "histogram": [
           {
            "bin_start": -0.5,
            "bin_end": -0.4,
            "count": 0
           },
           {
            "bin_start": -0.4,
            "bin_end": -0.3,
            "count": 0
           },
           {
            "bin_start": -0.3,
            "bin_end": -0.19999999999999996,
            "count": 0
           },
           {
            "bin_start": -0.19999999999999996,
            "bin_end": -0.09999999999999998,
            "count": 0
           },
           {
            "bin_start": -0.09999999999999998,
            "bin_end": 0,
            "count": 0
           },
           {
            "bin_start": 0,
            "bin_end": 0.10000000000000009,
            "count": 5
           },
           {
            "bin_start": 0.10000000000000009,
            "bin_end": 0.20000000000000007,
            "count": 0
           },
           {
            "bin_start": 0.20000000000000007,
            "bin_end": 0.30000000000000004,
            "count": 0
           },
           {
            "bin_start": 0.30000000000000004,
            "bin_end": 0.4,
            "count": 0
           },
           {
            "bin_start": 0.4,
            "bin_end": 0.5,
            "count": 0
           }
          ]
         }
        },
        {
         "name": "feature4",
         "dtype": "float64",
         "stats": {
          "unique_count": 1,
          "nan_count": 0,
          "min": "1.0",
          "max": "1.0",
          "histogram": [
           {
            "bin_start": 0.5,
            "bin_end": 0.6,
            "count": 0
           },
           {
            "bin_start": 0.6,
            "bin_end": 0.7,
            "count": 0
           },
           {
            "bin_start": 0.7,
            "bin_end": 0.8,
            "count": 0
           },
           {
            "bin_start": 0.8,
            "bin_end": 0.9,
            "count": 0
           },
           {
            "bin_start": 0.9,
            "bin_end": 1,
            "count": 0
           },
           {
            "bin_start": 1,
            "bin_end": 1.1,
            "count": 5
           },
           {
            "bin_start": 1.1,
            "bin_end": 1.2000000000000002,
            "count": 0
           },
           {
            "bin_start": 1.2000000000000002,
            "bin_end": 1.3,
            "count": 0
           },
           {
            "bin_start": 1.3,
            "bin_end": 1.4,
            "count": 0
           },
           {
            "bin_start": 1.4,
            "bin_end": 1.5,
            "count": 0
           }
          ]
         }
        },
        {
         "name": "feature5",
         "dtype": "float64",
         "stats": {
          "unique_count": 1,
          "nan_count": 0,
          "min": "1.0",
          "max": "1.0",
          "histogram": [
           {
            "bin_start": 0.5,
            "bin_end": 0.6,
            "count": 0
           },
           {
            "bin_start": 0.6,
            "bin_end": 0.7,
            "count": 0
           },
           {
            "bin_start": 0.7,
            "bin_end": 0.8,
            "count": 0
           },
           {
            "bin_start": 0.8,
            "bin_end": 0.9,
            "count": 0
           },
           {
            "bin_start": 0.9,
            "bin_end": 1,
            "count": 0
           },
           {
            "bin_start": 1,
            "bin_end": 1.1,
            "count": 5
           },
           {
            "bin_start": 1.1,
            "bin_end": 1.2000000000000002,
            "count": 0
           },
           {
            "bin_start": 1.2000000000000002,
            "bin_end": 1.3,
            "count": 0
           },
           {
            "bin_start": 1.3,
            "bin_end": 1.4,
            "count": 0
           },
           {
            "bin_start": 1.4,
            "bin_end": 1.5,
            "count": 0
           }
          ]
         }
        },
        {
         "name": "feature6",
         "dtype": "float64",
         "stats": {
          "unique_count": 2,
          "nan_count": 0,
          "min": "0.0",
          "max": "1.0",
          "histogram": [
           {
            "bin_start": 0,
            "bin_end": 0.1,
            "count": 2
           },
           {
            "bin_start": 0.1,
            "bin_end": 0.2,
            "count": 0
           },
           {
            "bin_start": 0.2,
            "bin_end": 0.30000000000000004,
            "count": 0
           },
           {
            "bin_start": 0.30000000000000004,
            "bin_end": 0.4,
            "count": 0
           },
           {
            "bin_start": 0.4,
            "bin_end": 0.5,
            "count": 0
           },
           {
            "bin_start": 0.5,
            "bin_end": 0.6000000000000001,
            "count": 0
           },
           {
            "bin_start": 0.6000000000000001,
            "bin_end": 0.7000000000000001,
            "count": 0
           },
           {
            "bin_start": 0.7000000000000001,
            "bin_end": 0.8,
            "count": 0
           },
           {
            "bin_start": 0.8,
            "bin_end": 0.9,
            "count": 0
           },
           {
            "bin_start": 0.9,
            "bin_end": 1,
            "count": 3
           }
          ]
         }
        },
        {
         "name": "feature7",
         "dtype": "float64",
         "stats": {
          "unique_count": 1,
          "nan_count": 0,
          "min": "0.0",
          "max": "0.0",
          "histogram": [
           {
            "bin_start": -0.5,
            "bin_end": -0.4,
            "count": 0
           },
           {
            "bin_start": -0.4,
            "bin_end": -0.3,
            "count": 0
           },
           {
            "bin_start": -0.3,
            "bin_end": -0.19999999999999996,
            "count": 0
           },
           {
            "bin_start": -0.19999999999999996,
            "bin_end": -0.09999999999999998,
            "count": 0
           },
           {
            "bin_start": -0.09999999999999998,
            "bin_end": 0,
            "count": 0
           },
           {
            "bin_start": 0,
            "bin_end": 0.10000000000000009,
            "count": 5
           },
           {
            "bin_start": 0.10000000000000009,
            "bin_end": 0.20000000000000007,
            "count": 0
           },
           {
            "bin_start": 0.20000000000000007,
            "bin_end": 0.30000000000000004,
            "count": 0
           },
           {
            "bin_start": 0.30000000000000004,
            "bin_end": 0.4,
            "count": 0
           },
           {
            "bin_start": 0.4,
            "bin_end": 0.5,
            "count": 0
           }
          ]
         }
        },
        {
         "name": "feature8",
         "dtype": "float64",
         "stats": {
          "unique_count": 1,
          "nan_count": 0,
          "min": "0.0",
          "max": "0.0",
          "histogram": [
           {
            "bin_start": -0.5,
            "bin_end": -0.4,
            "count": 0
           },
           {
            "bin_start": -0.4,
            "bin_end": -0.3,
            "count": 0
           },
           {
            "bin_start": -0.3,
            "bin_end": -0.19999999999999996,
            "count": 0
           },
           {
            "bin_start": -0.19999999999999996,
            "bin_end": -0.09999999999999998,
            "count": 0
           },
           {
            "bin_start": -0.09999999999999998,
            "bin_end": 0,
            "count": 0
           },
           {
            "bin_start": 0,
            "bin_end": 0.10000000000000009,
            "count": 5
           },
           {
            "bin_start": 0.10000000000000009,
            "bin_end": 0.20000000000000007,
            "count": 0
           },
           {
            "bin_start": 0.20000000000000007,
            "bin_end": 0.30000000000000004,
            "count": 0
           },
           {
            "bin_start": 0.30000000000000004,
            "bin_end": 0.4,
            "count": 0
           },
           {
            "bin_start": 0.4,
            "bin_end": 0.5,
            "count": 0
           }
          ]
         }
        },
        {
         "name": "feature9",
         "dtype": "float64",
         "stats": {
          "unique_count": 3,
          "nan_count": 0,
          "min": "0.0",
          "max": "0.25",
          "histogram": [
           {
            "bin_start": 0,
            "bin_end": 0.025,
            "count": 1
           },
           {
            "bin_start": 0.025,
            "bin_end": 0.05,
            "count": 0
           },
           {
            "bin_start": 0.05,
            "bin_end": 0.07500000000000001,
            "count": 0
           },
           {
            "bin_start": 0.07500000000000001,
            "bin_end": 0.1,
            "count": 0
           },
           {
            "bin_start": 0.1,
            "bin_end": 0.125,
            "count": 0
           },
           {
            "bin_start": 0.125,
            "bin_end": 0.15000000000000002,
            "count": 2
           },
           {
            "bin_start": 0.15000000000000002,
            "bin_end": 0.17500000000000002,
            "count": 0
           },
           {
            "bin_start": 0.17500000000000002,
            "bin_end": 0.2,
            "count": 0
           },
           {
            "bin_start": 0.2,
            "bin_end": 0.225,
            "count": 0
           },
           {
            "bin_start": 0.225,
            "bin_end": 0.25,
            "count": 2
           }
          ]
         }
        },
        {
         "name": "feature10",
         "dtype": "float64",
         "stats": {
          "unique_count": 3,
          "nan_count": 0,
          "min": "0.0",
          "max": "0.25",
          "histogram": [
           {
            "bin_start": 0,
            "bin_end": 0.025,
            "count": 1
           },
           {
            "bin_start": 0.025,
            "bin_end": 0.05,
            "count": 0
           },
           {
            "bin_start": 0.05,
            "bin_end": 0.07500000000000001,
            "count": 0
           },
           {
            "bin_start": 0.07500000000000001,
            "bin_end": 0.1,
            "count": 0
           },
           {
            "bin_start": 0.1,
            "bin_end": 0.125,
            "count": 0
           },
           {
            "bin_start": 0.125,
            "bin_end": 0.15000000000000002,
            "count": 2
           },
           {
            "bin_start": 0.15000000000000002,
            "bin_end": 0.17500000000000002,
            "count": 0
           },
           {
            "bin_start": 0.17500000000000002,
            "bin_end": 0.2,
            "count": 0
           },
           {
            "bin_start": 0.2,
            "bin_end": 0.225,
            "count": 0
           },
           {
            "bin_start": 0.225,
            "bin_end": 0.25,
            "count": 2
           }
          ]
         }
        },
        {
         "name": "feature11",
         "dtype": "float64",
         "stats": {
          "unique_count": 2,
          "nan_count": 0,
          "min": "0.0",
          "max": "0.1666666666666666",
          "histogram": [
           {
            "bin_start": 0,
            "bin_end": 0.01666666666666666,
            "count": 3
           },
           {
            "bin_start": 0.01666666666666666,
            "bin_end": 0.03333333333333332,
            "count": 0
           },
           {
            "bin_start": 0.03333333333333332,
            "bin_end": 0.049999999999999975,
            "count": 0
           },
           {
            "bin_start": 0.049999999999999975,
            "bin_end": 0.06666666666666664,
            "count": 0
           },
           {
            "bin_start": 0.06666666666666664,
            "bin_end": 0.0833333333333333,
            "count": 0
           },
           {
            "bin_start": 0.0833333333333333,
            "bin_end": 0.09999999999999995,
            "count": 0
           },
           {
            "bin_start": 0.09999999999999995,
            "bin_end": 0.11666666666666661,
            "count": 0
           },
           {
            "bin_start": 0.11666666666666661,
            "bin_end": 0.13333333333333328,
            "count": 0
           },
           {
            "bin_start": 0.13333333333333328,
            "bin_end": 0.14999999999999994,
            "count": 0
           },
           {
            "bin_start": 0.14999999999999994,
            "bin_end": 0.1666666666666666,
            "count": 2
           }
          ]
         }
        },
        {
         "name": "feature12",
         "dtype": "float64",
         "stats": {
          "unique_count": 2,
          "nan_count": 0,
          "min": "0.0",
          "max": "0.1666666666666666",
          "histogram": [
           {
            "bin_start": 0,
            "bin_end": 0.01666666666666666,
            "count": 2
           },
           {
            "bin_start": 0.01666666666666666,
            "bin_end": 0.03333333333333332,
            "count": 0
           },
           {
            "bin_start": 0.03333333333333332,
            "bin_end": 0.049999999999999975,
            "count": 0
           },
           {
            "bin_start": 0.049999999999999975,
            "bin_end": 0.06666666666666664,
            "count": 0
           },
           {
            "bin_start": 0.06666666666666664,
            "bin_end": 0.0833333333333333,
            "count": 0
           },
           {
            "bin_start": 0.0833333333333333,
            "bin_end": 0.09999999999999995,
            "count": 0
           },
           {
            "bin_start": 0.09999999999999995,
            "bin_end": 0.11666666666666661,
            "count": 0
           },
           {
            "bin_start": 0.11666666666666661,
            "bin_end": 0.13333333333333328,
            "count": 0
           },
           {
            "bin_start": 0.13333333333333328,
            "bin_end": 0.14999999999999994,
            "count": 0
           },
           {
            "bin_start": 0.14999999999999994,
            "bin_end": 0.1666666666666666,
            "count": 3
           }
          ]
         }
        },
        {
         "name": "feature13",
         "dtype": "float64",
         "stats": {
          "unique_count": 3,
          "nan_count": 0,
          "min": "0.0",
          "max": "0.25",
          "histogram": [
           {
            "bin_start": 0,
            "bin_end": 0.025,
            "count": 2
           },
           {
            "bin_start": 0.025,
            "bin_end": 0.05,
            "count": 0
           },
           {
            "bin_start": 0.05,
            "bin_end": 0.07500000000000001,
            "count": 0
           },
           {
            "bin_start": 0.07500000000000001,
            "bin_end": 0.1,
            "count": 0
           },
           {
            "bin_start": 0.1,
            "bin_end": 0.125,
            "count": 0
           },
           {
            "bin_start": 0.125,
            "bin_end": 0.15000000000000002,
            "count": 1
           },
           {
            "bin_start": 0.15000000000000002,
            "bin_end": 0.17500000000000002,
            "count": 0
           },
           {
            "bin_start": 0.17500000000000002,
            "bin_end": 0.2,
            "count": 0
           },
           {
            "bin_start": 0.2,
            "bin_end": 0.225,
            "count": 0
           },
           {
            "bin_start": 0.225,
            "bin_end": 0.25,
            "count": 2
           }
          ]
         }
        },
        {
         "name": "feature14",
         "dtype": "float64",
         "stats": {
          "unique_count": 2,
          "nan_count": 0,
          "min": "0.0",
          "max": "0.1428571428571428",
          "histogram": [
           {
            "bin_start": 0,
            "bin_end": 0.01428571428571428,
            "count": 3
           },
           {
            "bin_start": 0.01428571428571428,
            "bin_end": 0.02857142857142856,
            "count": 0
           },
           {
            "bin_start": 0.02857142857142856,
            "bin_end": 0.042857142857142844,
            "count": 0
           },
           {
            "bin_start": 0.042857142857142844,
            "bin_end": 0.05714285714285712,
            "count": 0
           },
           {
            "bin_start": 0.05714285714285712,
            "bin_end": 0.0714285714285714,
            "count": 0
           },
           {
            "bin_start": 0.0714285714285714,
            "bin_end": 0.08571428571428569,
            "count": 0
           },
           {
            "bin_start": 0.08571428571428569,
            "bin_end": 0.09999999999999996,
            "count": 0
           },
           {
            "bin_start": 0.09999999999999996,
            "bin_end": 0.11428571428571424,
            "count": 0
           },
           {
            "bin_start": 0.11428571428571424,
            "bin_end": 0.12857142857142853,
            "count": 0
           },
           {
            "bin_start": 0.12857142857142853,
            "bin_end": 0.1428571428571428,
            "count": 2
           }
          ]
         }
        },
        {
         "name": "feature15",
         "dtype": "float64",
         "stats": {
          "unique_count": 2,
          "nan_count": 0,
          "min": "0.0",
          "max": "0.2",
          "histogram": [
           {
            "bin_start": 0,
            "bin_end": 0.02,
            "count": 3
           },
           {
            "bin_start": 0.02,
            "bin_end": 0.04,
            "count": 0
           },
           {
            "bin_start": 0.04,
            "bin_end": 0.06,
            "count": 0
           },
           {
            "bin_start": 0.06,
            "bin_end": 0.08,
            "count": 0
           },
           {
            "bin_start": 0.08,
            "bin_end": 0.1,
            "count": 0
           },
           {
            "bin_start": 0.1,
            "bin_end": 0.12,
            "count": 0
           },
           {
            "bin_start": 0.12,
            "bin_end": 0.14,
            "count": 0
           },
           {
            "bin_start": 0.14,
            "bin_end": 0.16,
            "count": 0
           },
           {
            "bin_start": 0.16,
            "bin_end": 0.18,
            "count": 0
           },
           {
            "bin_start": 0.18,
            "bin_end": 0.2,
            "count": 2
           }
          ]
         }
        },
        {
         "name": "feature16",
         "dtype": "float64",
         "stats": {
          "unique_count": 2,
          "nan_count": 0,
          "min": "0.0",
          "max": "0.2142857142857142",
          "histogram": [
           {
            "bin_start": 0,
            "bin_end": 0.02142857142857142,
            "count": 3
           },
           {
            "bin_start": 0.02142857142857142,
            "bin_end": 0.04285714285714284,
            "count": 0
           },
           {
            "bin_start": 0.04285714285714284,
            "bin_end": 0.06428571428571425,
            "count": 0
           },
           {
            "bin_start": 0.06428571428571425,
            "bin_end": 0.08571428571428567,
            "count": 0
           },
           {
            "bin_start": 0.08571428571428567,
            "bin_end": 0.1071428571428571,
            "count": 0
           },
           {
            "bin_start": 0.1071428571428571,
            "bin_end": 0.1285714285714285,
            "count": 0
           },
           {
            "bin_start": 0.1285714285714285,
            "bin_end": 0.14999999999999994,
            "count": 0
           },
           {
            "bin_start": 0.14999999999999994,
            "bin_end": 0.17142857142857135,
            "count": 0
           },
           {
            "bin_start": 0.17142857142857135,
            "bin_end": 0.19285714285714275,
            "count": 0
           },
           {
            "bin_start": 0.19285714285714275,
            "bin_end": 0.2142857142857142,
            "count": 2
           }
          ]
         }
        },
        {
         "name": "feature17",
         "dtype": "float64",
         "stats": {
          "unique_count": 4,
          "nan_count": 0,
          "min": "0.4285714285714285",
          "max": "0.5714285714285714",
          "histogram": [
           {
            "bin_start": 0.4285714285714285,
            "bin_end": 0.4428571428571428,
            "count": 1
           },
           {
            "bin_start": 0.4428571428571428,
            "bin_end": 0.4571428571428571,
            "count": 0
           },
           {
            "bin_start": 0.4571428571428571,
            "bin_end": 0.47142857142857136,
            "count": 0
           },
           {
            "bin_start": 0.47142857142857136,
            "bin_end": 0.48571428571428565,
            "count": 1
           },
           {
            "bin_start": 0.48571428571428565,
            "bin_end": 0.49999999999999994,
            "count": 0
           },
           {
            "bin_start": 0.49999999999999994,
            "bin_end": 0.5142857142857142,
            "count": 0
           },
           {
            "bin_start": 0.5142857142857142,
            "bin_end": 0.5285714285714285,
            "count": 2
           },
           {
            "bin_start": 0.5285714285714285,
            "bin_end": 0.5428571428571428,
            "count": 0
           },
           {
            "bin_start": 0.5428571428571428,
            "bin_end": 0.5571428571428572,
            "count": 0
           },
           {
            "bin_start": 0.5571428571428572,
            "bin_end": 0.5714285714285714,
            "count": 1
           }
          ]
         }
        },
        {
         "name": "feature18",
         "dtype": "float64",
         "stats": {
          "unique_count": 3,
          "nan_count": 0,
          "min": "0.0",
          "max": "0.2",
          "histogram": [
           {
            "bin_start": 0,
            "bin_end": 0.02,
            "count": 1
           },
           {
            "bin_start": 0.02,
            "bin_end": 0.04,
            "count": 0
           },
           {
            "bin_start": 0.04,
            "bin_end": 0.06,
            "count": 0
           },
           {
            "bin_start": 0.06,
            "bin_end": 0.08,
            "count": 0
           },
           {
            "bin_start": 0.08,
            "bin_end": 0.1,
            "count": 0
           },
           {
            "bin_start": 0.1,
            "bin_end": 0.12,
            "count": 3
           },
           {
            "bin_start": 0.12,
            "bin_end": 0.14,
            "count": 0
           },
           {
            "bin_start": 0.14,
            "bin_end": 0.16,
            "count": 0
           },
           {
            "bin_start": 0.16,
            "bin_end": 0.18,
            "count": 0
           },
           {
            "bin_start": 0.18,
            "bin_end": 0.2,
            "count": 1
           }
          ]
         }
        },
        {
         "name": "feature19",
         "dtype": "float64",
         "stats": {
          "unique_count": 2,
          "nan_count": 0,
          "min": "0.0",
          "max": "0.25",
          "histogram": [
           {
            "bin_start": 0,
            "bin_end": 0.025,
            "count": 3
           },
           {
            "bin_start": 0.025,
            "bin_end": 0.05,
            "count": 0
           },
           {
            "bin_start": 0.05,
            "bin_end": 0.07500000000000001,
            "count": 0
           },
           {
            "bin_start": 0.07500000000000001,
            "bin_end": 0.1,
            "count": 0
           },
           {
            "bin_start": 0.1,
            "bin_end": 0.125,
            "count": 0
           },
           {
            "bin_start": 0.125,
            "bin_end": 0.15000000000000002,
            "count": 0
           },
           {
            "bin_start": 0.15000000000000002,
            "bin_end": 0.17500000000000002,
            "count": 0
           },
           {
            "bin_start": 0.17500000000000002,
            "bin_end": 0.2,
            "count": 0
           },
           {
            "bin_start": 0.2,
            "bin_end": 0.225,
            "count": 0
           },
           {
            "bin_start": 0.225,
            "bin_end": 0.25,
            "count": 2
           }
          ]
         }
        },
        {
         "name": "feature20",
         "dtype": "float64",
         "stats": {
          "unique_count": 2,
          "nan_count": 0,
          "min": "0.0",
          "max": "1.0",
          "histogram": [
           {
            "bin_start": 0,
            "bin_end": 0.1,
            "count": 4
           },
           {
            "bin_start": 0.1,
            "bin_end": 0.2,
            "count": 0
           },
           {
            "bin_start": 0.2,
            "bin_end": 0.30000000000000004,
            "count": 0
           },
           {
            "bin_start": 0.30000000000000004,
            "bin_end": 0.4,
            "count": 0
           },
           {
            "bin_start": 0.4,
            "bin_end": 0.5,
            "count": 0
           },
           {
            "bin_start": 0.5,
            "bin_end": 0.6000000000000001,
            "count": 0
           },
           {
            "bin_start": 0.6000000000000001,
            "bin_end": 0.7000000000000001,
            "count": 0
           },
           {
            "bin_start": 0.7000000000000001,
            "bin_end": 0.8,
            "count": 0
           },
           {
            "bin_start": 0.8,
            "bin_end": 0.9,
            "count": 0
           },
           {
            "bin_start": 0.9,
            "bin_end": 1,
            "count": 1
           }
          ]
         }
        },
        {
         "name": "feature21",
         "dtype": "float64",
         "stats": {
          "unique_count": 2,
          "nan_count": 0,
          "min": "0.0",
          "max": "1.0",
          "histogram": [
           {
            "bin_start": 0,
            "bin_end": 0.1,
            "count": 2
           },
           {
            "bin_start": 0.1,
            "bin_end": 0.2,
            "count": 0
           },
           {
            "bin_start": 0.2,
            "bin_end": 0.30000000000000004,
            "count": 0
           },
           {
            "bin_start": 0.30000000000000004,
            "bin_end": 0.4,
            "count": 0
           },
           {
            "bin_start": 0.4,
            "bin_end": 0.5,
            "count": 0
           },
           {
            "bin_start": 0.5,
            "bin_end": 0.6000000000000001,
            "count": 0
           },
           {
            "bin_start": 0.6000000000000001,
            "bin_end": 0.7000000000000001,
            "count": 0
           },
           {
            "bin_start": 0.7000000000000001,
            "bin_end": 0.8,
            "count": 0
           },
           {
            "bin_start": 0.8,
            "bin_end": 0.9,
            "count": 0
           },
           {
            "bin_start": 0.9,
            "bin_end": 1,
            "count": 3
           }
          ]
         }
        },
        {
         "name": "feature22",
         "dtype": "float64",
         "stats": {
          "unique_count": 2,
          "nan_count": 0,
          "min": "0.0",
          "max": "1.0",
          "histogram": [
           {
            "bin_start": 0,
            "bin_end": 0.1,
            "count": 3
           },
           {
            "bin_start": 0.1,
            "bin_end": 0.2,
            "count": 0
           },
           {
            "bin_start": 0.2,
            "bin_end": 0.30000000000000004,
            "count": 0
           },
           {
            "bin_start": 0.30000000000000004,
            "bin_end": 0.4,
            "count": 0
           },
           {
            "bin_start": 0.4,
            "bin_end": 0.5,
            "count": 0
           },
           {
            "bin_start": 0.5,
            "bin_end": 0.6000000000000001,
            "count": 0
           },
           {
            "bin_start": 0.6000000000000001,
            "bin_end": 0.7000000000000001,
            "count": 0
           },
           {
            "bin_start": 0.7000000000000001,
            "bin_end": 0.8,
            "count": 0
           },
           {
            "bin_start": 0.8,
            "bin_end": 0.9,
            "count": 0
           },
           {
            "bin_start": 0.9,
            "bin_end": 1,
            "count": 2
           }
          ]
         }
        },
        {
         "name": "feature23",
         "dtype": "float64",
         "stats": {
          "unique_count": 1,
          "nan_count": 0,
          "min": "0.0",
          "max": "0.0",
          "histogram": [
           {
            "bin_start": -0.5,
            "bin_end": -0.4,
            "count": 0
           },
           {
            "bin_start": -0.4,
            "bin_end": -0.3,
            "count": 0
           },
           {
            "bin_start": -0.3,
            "bin_end": -0.19999999999999996,
            "count": 0
           },
           {
            "bin_start": -0.19999999999999996,
            "bin_end": -0.09999999999999998,
            "count": 0
           },
           {
            "bin_start": -0.09999999999999998,
            "bin_end": 0,
            "count": 0
           },
           {
            "bin_start": 0,
            "bin_end": 0.10000000000000009,
            "count": 5
           },
           {
            "bin_start": 0.10000000000000009,
            "bin_end": 0.20000000000000007,
            "count": 0
           },
           {
            "bin_start": 0.20000000000000007,
            "bin_end": 0.30000000000000004,
            "count": 0
           },
           {
            "bin_start": 0.30000000000000004,
            "bin_end": 0.4,
            "count": 0
           },
           {
            "bin_start": 0.4,
            "bin_end": 0.5,
            "count": 0
           }
          ]
         }
        },
        {
         "name": "feature24",
         "dtype": "float64",
         "stats": {
          "unique_count": 2,
          "nan_count": 0,
          "min": "0.0",
          "max": "1.0",
          "histogram": [
           {
            "bin_start": 0,
            "bin_end": 0.1,
            "count": 4
           },
           {
            "bin_start": 0.1,
            "bin_end": 0.2,
            "count": 0
           },
           {
            "bin_start": 0.2,
            "bin_end": 0.30000000000000004,
            "count": 0
           },
           {
            "bin_start": 0.30000000000000004,
            "bin_end": 0.4,
            "count": 0
           },
           {
            "bin_start": 0.4,
            "bin_end": 0.5,
            "count": 0
           },
           {
            "bin_start": 0.5,
            "bin_end": 0.6000000000000001,
            "count": 0
           },
           {
            "bin_start": 0.6000000000000001,
            "bin_end": 0.7000000000000001,
            "count": 0
           },
           {
            "bin_start": 0.7000000000000001,
            "bin_end": 0.8,
            "count": 0
           },
           {
            "bin_start": 0.8,
            "bin_end": 0.9,
            "count": 0
           },
           {
            "bin_start": 0.9,
            "bin_end": 1,
            "count": 1
           }
          ]
         }
        },
        {
         "name": "feature25",
         "dtype": "float64",
         "stats": {
          "unique_count": 1,
          "nan_count": 0,
          "min": "0.0",
          "max": "0.0",
          "histogram": [
           {
            "bin_start": -0.5,
            "bin_end": -0.4,
            "count": 0
           },
           {
            "bin_start": -0.4,
            "bin_end": -0.3,
            "count": 0
           },
           {
            "bin_start": -0.3,
            "bin_end": -0.19999999999999996,
            "count": 0
           },
           {
            "bin_start": -0.19999999999999996,
            "bin_end": -0.09999999999999998,
            "count": 0
           },
           {
            "bin_start": -0.09999999999999998,
            "bin_end": 0,
            "count": 0
           },
           {
            "bin_start": 0,
            "bin_end": 0.10000000000000009,
            "count": 5
           },
           {
            "bin_start": 0.10000000000000009,
            "bin_end": 0.20000000000000007,
            "count": 0
           },
           {
            "bin_start": 0.20000000000000007,
            "bin_end": 0.30000000000000004,
            "count": 0
           },
           {
            "bin_start": 0.30000000000000004,
            "bin_end": 0.4,
            "count": 0
           },
           {
            "bin_start": 0.4,
            "bin_end": 0.5,
            "count": 0
           }
          ]
         }
        },
        {
         "name": "feature26",
         "dtype": "float64",
         "stats": {
          "unique_count": 2,
          "nan_count": 0,
          "min": "0.0",
          "max": "1.0",
          "histogram": [
           {
            "bin_start": 0,
            "bin_end": 0.1,
            "count": 3
           },
           {
            "bin_start": 0.1,
            "bin_end": 0.2,
            "count": 0
           },
           {
            "bin_start": 0.2,
            "bin_end": 0.30000000000000004,
            "count": 0
           },
           {
            "bin_start": 0.30000000000000004,
            "bin_end": 0.4,
            "count": 0
           },
           {
            "bin_start": 0.4,
            "bin_end": 0.5,
            "count": 0
           },
           {
            "bin_start": 0.5,
            "bin_end": 0.6000000000000001,
            "count": 0
           },
           {
            "bin_start": 0.6000000000000001,
            "bin_end": 0.7000000000000001,
            "count": 0
           },
           {
            "bin_start": 0.7000000000000001,
            "bin_end": 0.8,
            "count": 0
           },
           {
            "bin_start": 0.8,
            "bin_end": 0.9,
            "count": 0
           },
           {
            "bin_start": 0.9,
            "bin_end": 1,
            "count": 2
           }
          ]
         }
        },
        {
         "name": "feature27",
         "dtype": "float64",
         "stats": {
          "unique_count": 1,
          "nan_count": 0,
          "min": "0.0",
          "max": "0.0",
          "histogram": [
           {
            "bin_start": -0.5,
            "bin_end": -0.4,
            "count": 0
           },
           {
            "bin_start": -0.4,
            "bin_end": -0.3,
            "count": 0
           },
           {
            "bin_start": -0.3,
            "bin_end": -0.19999999999999996,
            "count": 0
           },
           {
            "bin_start": -0.19999999999999996,
            "bin_end": -0.09999999999999998,
            "count": 0
           },
           {
            "bin_start": -0.09999999999999998,
            "bin_end": 0,
            "count": 0
           },
           {
            "bin_start": 0,
            "bin_end": 0.10000000000000009,
            "count": 5
           },
           {
            "bin_start": 0.10000000000000009,
            "bin_end": 0.20000000000000007,
            "count": 0
           },
           {
            "bin_start": 0.20000000000000007,
            "bin_end": 0.30000000000000004,
            "count": 0
           },
           {
            "bin_start": 0.30000000000000004,
            "bin_end": 0.4,
            "count": 0
           },
           {
            "bin_start": 0.4,
            "bin_end": 0.5,
            "count": 0
           }
          ]
         }
        },
        {
         "name": "feature28",
         "dtype": "float64",
         "stats": {
          "unique_count": 2,
          "nan_count": 0,
          "min": "0.0",
          "max": "1.0",
          "histogram": [
           {
            "bin_start": 0,
            "bin_end": 0.1,
            "count": 4
           },
           {
            "bin_start": 0.1,
            "bin_end": 0.2,
            "count": 0
           },
           {
            "bin_start": 0.2,
            "bin_end": 0.30000000000000004,
            "count": 0
           },
           {
            "bin_start": 0.30000000000000004,
            "bin_end": 0.4,
            "count": 0
           },
           {
            "bin_start": 0.4,
            "bin_end": 0.5,
            "count": 0
           },
           {
            "bin_start": 0.5,
            "bin_end": 0.6000000000000001,
            "count": 0
           },
           {
            "bin_start": 0.6000000000000001,
            "bin_end": 0.7000000000000001,
            "count": 0
           },
           {
            "bin_start": 0.7000000000000001,
            "bin_end": 0.8,
            "count": 0
           },
           {
            "bin_start": 0.8,
            "bin_end": 0.9,
            "count": 0
           },
           {
            "bin_start": 0.9,
            "bin_end": 1,
            "count": 1
           }
          ]
         }
        },
        {
         "name": "feature29",
         "dtype": "float64",
         "stats": {
          "unique_count": 2,
          "nan_count": 0,
          "min": "0.0",
          "max": "1.0",
          "histogram": [
           {
            "bin_start": 0,
            "bin_end": 0.1,
            "count": 4
           },
           {
            "bin_start": 0.1,
            "bin_end": 0.2,
            "count": 0
           },
           {
            "bin_start": 0.2,
            "bin_end": 0.30000000000000004,
            "count": 0
           },
           {
            "bin_start": 0.30000000000000004,
            "bin_end": 0.4,
            "count": 0
           },
           {
            "bin_start": 0.4,
            "bin_end": 0.5,
            "count": 0
           },
           {
            "bin_start": 0.5,
            "bin_end": 0.6000000000000001,
            "count": 0
           },
           {
            "bin_start": 0.6000000000000001,
            "bin_end": 0.7000000000000001,
            "count": 0
           },
           {
            "bin_start": 0.7000000000000001,
            "bin_end": 0.8,
            "count": 0
           },
           {
            "bin_start": 0.8,
            "bin_end": 0.9,
            "count": 0
           },
           {
            "bin_start": 0.9,
            "bin_end": 1,
            "count": 1
           }
          ]
         }
        },
        {
         "name": "feature30",
         "dtype": "float64",
         "stats": {
          "unique_count": 2,
          "nan_count": 0,
          "min": "0.0",
          "max": "1.0",
          "histogram": [
           {
            "bin_start": 0,
            "bin_end": 0.1,
            "count": 2
           },
           {
            "bin_start": 0.1,
            "bin_end": 0.2,
            "count": 0
           },
           {
            "bin_start": 0.2,
            "bin_end": 0.30000000000000004,
            "count": 0
           },
           {
            "bin_start": 0.30000000000000004,
            "bin_end": 0.4,
            "count": 0
           },
           {
            "bin_start": 0.4,
            "bin_end": 0.5,
            "count": 0
           },
           {
            "bin_start": 0.5,
            "bin_end": 0.6000000000000001,
            "count": 0
           },
           {
            "bin_start": 0.6000000000000001,
            "bin_end": 0.7000000000000001,
            "count": 0
           },
           {
            "bin_start": 0.7000000000000001,
            "bin_end": 0.8,
            "count": 0
           },
           {
            "bin_start": 0.8,
            "bin_end": 0.9,
            "count": 0
           },
           {
            "bin_start": 0.9,
            "bin_end": 1,
            "count": 3
           }
          ]
         }
        },
        {
         "name": "feature31",
         "dtype": "float64",
         "stats": {
          "unique_count": 2,
          "nan_count": 0,
          "min": "0.0",
          "max": "1.0",
          "histogram": [
           {
            "bin_start": 0,
            "bin_end": 0.1,
            "count": 4
           },
           {
            "bin_start": 0.1,
            "bin_end": 0.2,
            "count": 0
           },
           {
            "bin_start": 0.2,
            "bin_end": 0.30000000000000004,
            "count": 0
           },
           {
            "bin_start": 0.30000000000000004,
            "bin_end": 0.4,
            "count": 0
           },
           {
            "bin_start": 0.4,
            "bin_end": 0.5,
            "count": 0
           },
           {
            "bin_start": 0.5,
            "bin_end": 0.6000000000000001,
            "count": 0
           },
           {
            "bin_start": 0.6000000000000001,
            "bin_end": 0.7000000000000001,
            "count": 0
           },
           {
            "bin_start": 0.7000000000000001,
            "bin_end": 0.8,
            "count": 0
           },
           {
            "bin_start": 0.8,
            "bin_end": 0.9,
            "count": 0
           },
           {
            "bin_start": 0.9,
            "bin_end": 1,
            "count": 1
           }
          ]
         }
        },
        {
         "name": "feature32",
         "dtype": "float64",
         "stats": {
          "unique_count": 2,
          "nan_count": 0,
          "min": "0.0",
          "max": "1.0",
          "histogram": [
           {
            "bin_start": 0,
            "bin_end": 0.1,
            "count": 4
           },
           {
            "bin_start": 0.1,
            "bin_end": 0.2,
            "count": 0
           },
           {
            "bin_start": 0.2,
            "bin_end": 0.30000000000000004,
            "count": 0
           },
           {
            "bin_start": 0.30000000000000004,
            "bin_end": 0.4,
            "count": 0
           },
           {
            "bin_start": 0.4,
            "bin_end": 0.5,
            "count": 0
           },
           {
            "bin_start": 0.5,
            "bin_end": 0.6000000000000001,
            "count": 0
           },
           {
            "bin_start": 0.6000000000000001,
            "bin_end": 0.7000000000000001,
            "count": 0
           },
           {
            "bin_start": 0.7000000000000001,
            "bin_end": 0.8,
            "count": 0
           },
           {
            "bin_start": 0.8,
            "bin_end": 0.9,
            "count": 0
           },
           {
            "bin_start": 0.9,
            "bin_end": 1,
            "count": 1
           }
          ]
         }
        },
        {
         "name": "feature33",
         "dtype": "float64",
         "stats": {
          "unique_count": 1,
          "nan_count": 0,
          "min": "0.0",
          "max": "0.0",
          "histogram": [
           {
            "bin_start": -0.5,
            "bin_end": -0.4,
            "count": 0
           },
           {
            "bin_start": -0.4,
            "bin_end": -0.3,
            "count": 0
           },
           {
            "bin_start": -0.3,
            "bin_end": -0.19999999999999996,
            "count": 0
           },
           {
            "bin_start": -0.19999999999999996,
            "bin_end": -0.09999999999999998,
            "count": 0
           },
           {
            "bin_start": -0.09999999999999998,
            "bin_end": 0,
            "count": 0
           },
           {
            "bin_start": 0,
            "bin_end": 0.10000000000000009,
            "count": 5
           },
           {
            "bin_start": 0.10000000000000009,
            "bin_end": 0.20000000000000007,
            "count": 0
           },
           {
            "bin_start": 0.20000000000000007,
            "bin_end": 0.30000000000000004,
            "count": 0
           },
           {
            "bin_start": 0.30000000000000004,
            "bin_end": 0.4,
            "count": 0
           },
           {
            "bin_start": 0.4,
            "bin_end": 0.5,
            "count": 0
           }
          ]
         }
        },
        {
         "name": "feature34",
         "dtype": "float64",
         "stats": {
          "unique_count": 1,
          "nan_count": 0,
          "min": "0.0",
          "max": "0.0",
          "histogram": [
           {
            "bin_start": -0.5,
            "bin_end": -0.4,
            "count": 0
           },
           {
            "bin_start": -0.4,
            "bin_end": -0.3,
            "count": 0
           },
           {
            "bin_start": -0.3,
            "bin_end": -0.19999999999999996,
            "count": 0
           },
           {
            "bin_start": -0.19999999999999996,
            "bin_end": -0.09999999999999998,
            "count": 0
           },
           {
            "bin_start": -0.09999999999999998,
            "bin_end": 0,
            "count": 0
           },
           {
            "bin_start": 0,
            "bin_end": 0.10000000000000009,
            "count": 5
           },
           {
            "bin_start": 0.10000000000000009,
            "bin_end": 0.20000000000000007,
            "count": 0
           },
           {
            "bin_start": 0.20000000000000007,
            "bin_end": 0.30000000000000004,
            "count": 0
           },
           {
            "bin_start": 0.30000000000000004,
            "bin_end": 0.4,
            "count": 0
           },
           {
            "bin_start": 0.4,
            "bin_end": 0.5,
            "count": 0
           }
          ]
         }
        },
        {
         "name": "feature35",
         "dtype": "float64",
         "stats": {
          "unique_count": 1,
          "nan_count": 0,
          "min": "0.0",
          "max": "0.0",
          "histogram": [
           {
            "bin_start": -0.5,
            "bin_end": -0.4,
            "count": 0
           },
           {
            "bin_start": -0.4,
            "bin_end": -0.3,
            "count": 0
           },
           {
            "bin_start": -0.3,
            "bin_end": -0.19999999999999996,
            "count": 0
           },
           {
            "bin_start": -0.19999999999999996,
            "bin_end": -0.09999999999999998,
            "count": 0
           },
           {
            "bin_start": -0.09999999999999998,
            "bin_end": 0,
            "count": 0
           },
           {
            "bin_start": 0,
            "bin_end": 0.10000000000000009,
            "count": 5
           },
           {
            "bin_start": 0.10000000000000009,
            "bin_end": 0.20000000000000007,
            "count": 0
           },
           {
            "bin_start": 0.20000000000000007,
            "bin_end": 0.30000000000000004,
            "count": 0
           },
           {
            "bin_start": 0.30000000000000004,
            "bin_end": 0.4,
            "count": 0
           },
           {
            "bin_start": 0.4,
            "bin_end": 0.5,
            "count": 0
           }
          ]
         }
        },
        {
         "name": "feature36",
         "dtype": "float64",
         "stats": {
          "unique_count": 1,
          "nan_count": 0,
          "min": "0.0",
          "max": "0.0",
          "histogram": [
           {
            "bin_start": -0.5,
            "bin_end": -0.4,
            "count": 0
           },
           {
            "bin_start": -0.4,
            "bin_end": -0.3,
            "count": 0
           },
           {
            "bin_start": -0.3,
            "bin_end": -0.19999999999999996,
            "count": 0
           },
           {
            "bin_start": -0.19999999999999996,
            "bin_end": -0.09999999999999998,
            "count": 0
           },
           {
            "bin_start": -0.09999999999999998,
            "bin_end": 0,
            "count": 0
           },
           {
            "bin_start": 0,
            "bin_end": 0.10000000000000009,
            "count": 5
           },
           {
            "bin_start": 0.10000000000000009,
            "bin_end": 0.20000000000000007,
            "count": 0
           },
           {
            "bin_start": 0.20000000000000007,
            "bin_end": 0.30000000000000004,
            "count": 0
           },
           {
            "bin_start": 0.30000000000000004,
            "bin_end": 0.4,
            "count": 0
           },
           {
            "bin_start": 0.4,
            "bin_end": 0.5,
            "count": 0
           }
          ]
         }
        },
        {
         "name": "feature37",
         "dtype": "float64",
         "stats": {
          "unique_count": 1,
          "nan_count": 0,
          "min": "0.0",
          "max": "0.0",
          "histogram": [
           {
            "bin_start": -0.5,
            "bin_end": -0.4,
            "count": 0
           },
           {
            "bin_start": -0.4,
            "bin_end": -0.3,
            "count": 0
           },
           {
            "bin_start": -0.3,
            "bin_end": -0.19999999999999996,
            "count": 0
           },
           {
            "bin_start": -0.19999999999999996,
            "bin_end": -0.09999999999999998,
            "count": 0
           },
           {
            "bin_start": -0.09999999999999998,
            "bin_end": 0,
            "count": 0
           },
           {
            "bin_start": 0,
            "bin_end": 0.10000000000000009,
            "count": 5
           },
           {
            "bin_start": 0.10000000000000009,
            "bin_end": 0.20000000000000007,
            "count": 0
           },
           {
            "bin_start": 0.20000000000000007,
            "bin_end": 0.30000000000000004,
            "count": 0
           },
           {
            "bin_start": 0.30000000000000004,
            "bin_end": 0.4,
            "count": 0
           },
           {
            "bin_start": 0.4,
            "bin_end": 0.5,
            "count": 0
           }
          ]
         }
        },
        {
         "name": "feature38",
         "dtype": "float64",
         "stats": {
          "unique_count": 1,
          "nan_count": 0,
          "min": "0.0",
          "max": "0.0",
          "histogram": [
           {
            "bin_start": -0.5,
            "bin_end": -0.4,
            "count": 0
           },
           {
            "bin_start": -0.4,
            "bin_end": -0.3,
            "count": 0
           },
           {
            "bin_start": -0.3,
            "bin_end": -0.19999999999999996,
            "count": 0
           },
           {
            "bin_start": -0.19999999999999996,
            "bin_end": -0.09999999999999998,
            "count": 0
           },
           {
            "bin_start": -0.09999999999999998,
            "bin_end": 0,
            "count": 0
           },
           {
            "bin_start": 0,
            "bin_end": 0.10000000000000009,
            "count": 5
           },
           {
            "bin_start": 0.10000000000000009,
            "bin_end": 0.20000000000000007,
            "count": 0
           },
           {
            "bin_start": 0.20000000000000007,
            "bin_end": 0.30000000000000004,
            "count": 0
           },
           {
            "bin_start": 0.30000000000000004,
            "bin_end": 0.4,
            "count": 0
           },
           {
            "bin_start": 0.4,
            "bin_end": 0.5,
            "count": 0
           }
          ]
         }
        },
        {
         "name": "feature39",
         "dtype": "float64",
         "stats": {
          "unique_count": 1,
          "nan_count": 0,
          "min": "0.0",
          "max": "0.0",
          "histogram": [
           {
            "bin_start": -0.5,
            "bin_end": -0.4,
            "count": 0
           },
           {
            "bin_start": -0.4,
            "bin_end": -0.3,
            "count": 0
           },
           {
            "bin_start": -0.3,
            "bin_end": -0.19999999999999996,
            "count": 0
           },
           {
            "bin_start": -0.19999999999999996,
            "bin_end": -0.09999999999999998,
            "count": 0
           },
           {
            "bin_start": -0.09999999999999998,
            "bin_end": 0,
            "count": 0
           },
           {
            "bin_start": 0,
            "bin_end": 0.10000000000000009,
            "count": 5
           },
           {
            "bin_start": 0.10000000000000009,
            "bin_end": 0.20000000000000007,
            "count": 0
           },
           {
            "bin_start": 0.20000000000000007,
            "bin_end": 0.30000000000000004,
            "count": 0
           },
           {
            "bin_start": 0.30000000000000004,
            "bin_end": 0.4,
            "count": 0
           },
           {
            "bin_start": 0.4,
            "bin_end": 0.5,
            "count": 0
           }
          ]
         }
        },
        {
         "name": "feature40",
         "dtype": "float64",
         "stats": {
          "unique_count": 1,
          "nan_count": 0,
          "min": "0.0",
          "max": "0.0",
          "histogram": [
           {
            "bin_start": -0.5,
            "bin_end": -0.4,
            "count": 0
           },
           {
            "bin_start": -0.4,
            "bin_end": -0.3,
            "count": 0
           },
           {
            "bin_start": -0.3,
            "bin_end": -0.19999999999999996,
            "count": 0
           },
           {
            "bin_start": -0.19999999999999996,
            "bin_end": -0.09999999999999998,
            "count": 0
           },
           {
            "bin_start": -0.09999999999999998,
            "bin_end": 0,
            "count": 0
           },
           {
            "bin_start": 0,
            "bin_end": 0.10000000000000009,
            "count": 5
           },
           {
            "bin_start": 0.10000000000000009,
            "bin_end": 0.20000000000000007,
            "count": 0
           },
           {
            "bin_start": 0.20000000000000007,
            "bin_end": 0.30000000000000004,
            "count": 0
           },
           {
            "bin_start": 0.30000000000000004,
            "bin_end": 0.4,
            "count": 0
           },
           {
            "bin_start": 0.4,
            "bin_end": 0.5,
            "count": 0
           }
          ]
         }
        },
        {
         "name": "feature41",
         "dtype": "float64",
         "stats": {
          "unique_count": 1,
          "nan_count": 0,
          "min": "0.0",
          "max": "0.0",
          "histogram": [
           {
            "bin_start": -0.5,
            "bin_end": -0.4,
            "count": 0
           },
           {
            "bin_start": -0.4,
            "bin_end": -0.3,
            "count": 0
           },
           {
            "bin_start": -0.3,
            "bin_end": -0.19999999999999996,
            "count": 0
           },
           {
            "bin_start": -0.19999999999999996,
            "bin_end": -0.09999999999999998,
            "count": 0
           },
           {
            "bin_start": -0.09999999999999998,
            "bin_end": 0,
            "count": 0
           },
           {
            "bin_start": 0,
            "bin_end": 0.10000000000000009,
            "count": 5
           },
           {
            "bin_start": 0.10000000000000009,
            "bin_end": 0.20000000000000007,
            "count": 0
           },
           {
            "bin_start": 0.20000000000000007,
            "bin_end": 0.30000000000000004,
            "count": 0
           },
           {
            "bin_start": 0.30000000000000004,
            "bin_end": 0.4,
            "count": 0
           },
           {
            "bin_start": 0.4,
            "bin_end": 0.5,
            "count": 0
           }
          ]
         }
        },
        {
         "name": "feature42",
         "dtype": "float64",
         "stats": {
          "unique_count": 2,
          "nan_count": 0,
          "min": "0.0",
          "max": "0.2222222222222222",
          "histogram": [
           {
            "bin_start": 0,
            "bin_end": 0.02222222222222222,
            "count": 3
           },
           {
            "bin_start": 0.02222222222222222,
            "bin_end": 0.04444444444444444,
            "count": 0
           },
           {
            "bin_start": 0.04444444444444444,
            "bin_end": 0.06666666666666665,
            "count": 0
           },
           {
            "bin_start": 0.06666666666666665,
            "bin_end": 0.08888888888888888,
            "count": 0
           },
           {
            "bin_start": 0.08888888888888888,
            "bin_end": 0.1111111111111111,
            "count": 0
           },
           {
            "bin_start": 0.1111111111111111,
            "bin_end": 0.1333333333333333,
            "count": 0
           },
           {
            "bin_start": 0.1333333333333333,
            "bin_end": 0.15555555555555553,
            "count": 0
           },
           {
            "bin_start": 0.15555555555555553,
            "bin_end": 0.17777777777777776,
            "count": 0
           },
           {
            "bin_start": 0.17777777777777776,
            "bin_end": 0.19999999999999998,
            "count": 0
           },
           {
            "bin_start": 0.19999999999999998,
            "bin_end": 0.2222222222222222,
            "count": 2
           }
          ]
         }
        },
        {
         "name": "feature43",
         "dtype": "float64",
         "stats": {
          "unique_count": 2,
          "nan_count": 0,
          "min": "0.1111111111111111",
          "max": "0.2222222222222222",
          "histogram": [
           {
            "bin_start": 0.1111111111111111,
            "bin_end": 0.12222222222222222,
            "count": 3
           },
           {
            "bin_start": 0.12222222222222222,
            "bin_end": 0.13333333333333333,
            "count": 0
           },
           {
            "bin_start": 0.13333333333333333,
            "bin_end": 0.14444444444444443,
            "count": 0
           },
           {
            "bin_start": 0.14444444444444443,
            "bin_end": 0.15555555555555556,
            "count": 0
           },
           {
            "bin_start": 0.15555555555555556,
            "bin_end": 0.16666666666666666,
            "count": 0
           },
           {
            "bin_start": 0.16666666666666666,
            "bin_end": 0.17777777777777776,
            "count": 0
           },
           {
            "bin_start": 0.17777777777777776,
            "bin_end": 0.18888888888888888,
            "count": 0
           },
           {
            "bin_start": 0.18888888888888888,
            "bin_end": 0.19999999999999998,
            "count": 0
           },
           {
            "bin_start": 0.19999999999999998,
            "bin_end": 0.21111111111111108,
            "count": 0
           },
           {
            "bin_start": 0.21111111111111108,
            "bin_end": 0.2222222222222222,
            "count": 2
           }
          ]
         }
        },
        {
         "name": "feature44",
         "dtype": "float64",
         "stats": {
          "unique_count": 2,
          "nan_count": 0,
          "min": "0.0",
          "max": "0.3333333333333333",
          "histogram": [
           {
            "bin_start": 0,
            "bin_end": 0.03333333333333333,
            "count": 3
           },
           {
            "bin_start": 0.03333333333333333,
            "bin_end": 0.06666666666666667,
            "count": 0
           },
           {
            "bin_start": 0.06666666666666667,
            "bin_end": 0.1,
            "count": 0
           },
           {
            "bin_start": 0.1,
            "bin_end": 0.13333333333333333,
            "count": 0
           },
           {
            "bin_start": 0.13333333333333333,
            "bin_end": 0.16666666666666666,
            "count": 0
           },
           {
            "bin_start": 0.16666666666666666,
            "bin_end": 0.2,
            "count": 0
           },
           {
            "bin_start": 0.2,
            "bin_end": 0.23333333333333334,
            "count": 0
           },
           {
            "bin_start": 0.23333333333333334,
            "bin_end": 0.26666666666666666,
            "count": 0
           },
           {
            "bin_start": 0.26666666666666666,
            "bin_end": 0.3,
            "count": 0
           },
           {
            "bin_start": 0.3,
            "bin_end": 0.3333333333333333,
            "count": 2
           }
          ]
         }
        },
        {
         "name": "feature45",
         "dtype": "float64",
         "stats": {
          "unique_count": 3,
          "nan_count": 0,
          "min": "0.0",
          "max": "8.0",
          "histogram": [
           {
            "bin_start": 0,
            "bin_end": 0.8,
            "count": 1
           },
           {
            "bin_start": 0.8,
            "bin_end": 1.6,
            "count": 2
           },
           {
            "bin_start": 1.6,
            "bin_end": 2.4000000000000004,
            "count": 0
           },
           {
            "bin_start": 2.4000000000000004,
            "bin_end": 3.2,
            "count": 0
           },
           {
            "bin_start": 3.2,
            "bin_end": 4,
            "count": 0
           },
           {
            "bin_start": 4,
            "bin_end": 4.800000000000001,
            "count": 0
           },
           {
            "bin_start": 4.800000000000001,
            "bin_end": 5.6000000000000005,
            "count": 0
           },
           {
            "bin_start": 5.6000000000000005,
            "bin_end": 6.4,
            "count": 0
           },
           {
            "bin_start": 6.4,
            "bin_end": 7.2,
            "count": 0
           },
           {
            "bin_start": 7.2,
            "bin_end": 8,
            "count": 2
           }
          ]
         }
        },
        {
         "name": "feature46",
         "dtype": "float64",
         "stats": {
          "unique_count": 4,
          "nan_count": 0,
          "min": "0.0",
          "max": "12.0",
          "histogram": [
           {
            "bin_start": 0,
            "bin_end": 1.2,
            "count": 1
           },
           {
            "bin_start": 1.2,
            "bin_end": 2.4,
            "count": 0
           },
           {
            "bin_start": 2.4,
            "bin_end": 3.5999999999999996,
            "count": 0
           },
           {
            "bin_start": 3.5999999999999996,
            "bin_end": 4.8,
            "count": 0
           },
           {
            "bin_start": 4.8,
            "bin_end": 6,
            "count": 0
           },
           {
            "bin_start": 6,
            "bin_end": 7.199999999999999,
            "count": 0
           },
           {
            "bin_start": 7.199999999999999,
            "bin_end": 8.4,
            "count": 0
           },
           {
            "bin_start": 8.4,
            "bin_end": 9.6,
            "count": 0
           },
           {
            "bin_start": 9.6,
            "bin_end": 10.799999999999999,
            "count": 1
           },
           {
            "bin_start": 10.799999999999999,
            "bin_end": 12,
            "count": 3
           }
          ]
         }
        },
        {
         "name": "feature47",
         "dtype": "float64",
         "stats": {
          "unique_count": 2,
          "nan_count": 0,
          "min": "0.0",
          "max": "11.0",
          "histogram": [
           {
            "bin_start": 0,
            "bin_end": 1.1,
            "count": 4
           },
           {
            "bin_start": 1.1,
            "bin_end": 2.2,
            "count": 0
           },
           {
            "bin_start": 2.2,
            "bin_end": 3.3000000000000003,
            "count": 0
           },
           {
            "bin_start": 3.3000000000000003,
            "bin_end": 4.4,
            "count": 0
           },
           {
            "bin_start": 4.4,
            "bin_end": 5.5,
            "count": 0
           },
           {
            "bin_start": 5.5,
            "bin_end": 6.6000000000000005,
            "count": 0
           },
           {
            "bin_start": 6.6000000000000005,
            "bin_end": 7.700000000000001,
            "count": 0
           },
           {
            "bin_start": 7.700000000000001,
            "bin_end": 8.8,
            "count": 0
           },
           {
            "bin_start": 8.8,
            "bin_end": 9.9,
            "count": 0
           },
           {
            "bin_start": 9.9,
            "bin_end": 11,
            "count": 1
           }
          ]
         }
        },
        {
         "name": "feature48",
         "dtype": "float64",
         "stats": {
          "unique_count": 3,
          "nan_count": 0,
          "min": "0.2702702702702703",
          "max": "0.3243243243243243",
          "histogram": [
           {
            "bin_start": 0.2702702702702703,
            "bin_end": 0.2756756756756757,
            "count": 1
           },
           {
            "bin_start": 0.2756756756756757,
            "bin_end": 0.2810810810810811,
            "count": 0
           },
           {
            "bin_start": 0.2810810810810811,
            "bin_end": 0.2864864864864865,
            "count": 0
           },
           {
            "bin_start": 0.2864864864864865,
            "bin_end": 0.2918918918918919,
            "count": 0
           },
           {
            "bin_start": 0.2918918918918919,
            "bin_end": 0.29729729729729726,
            "count": 0
           },
           {
            "bin_start": 0.29729729729729726,
            "bin_end": 0.3027027027027027,
            "count": 3
           },
           {
            "bin_start": 0.3027027027027027,
            "bin_end": 0.30810810810810807,
            "count": 0
           },
           {
            "bin_start": 0.30810810810810807,
            "bin_end": 0.3135135135135135,
            "count": 0
           },
           {
            "bin_start": 0.3135135135135135,
            "bin_end": 0.3189189189189189,
            "count": 0
           },
           {
            "bin_start": 0.3189189189189189,
            "bin_end": 0.3243243243243243,
            "count": 1
           }
          ]
         }
        },
        {
         "name": "feature49",
         "dtype": "float64",
         "stats": {
          "unique_count": 3,
          "nan_count": 0,
          "min": "0.0",
          "max": "0.2857142857142857",
          "histogram": [
           {
            "bin_start": 0,
            "bin_end": 0.02857142857142857,
            "count": 2
           },
           {
            "bin_start": 0.02857142857142857,
            "bin_end": 0.05714285714285714,
            "count": 0
           },
           {
            "bin_start": 0.05714285714285714,
            "bin_end": 0.08571428571428572,
            "count": 0
           },
           {
            "bin_start": 0.08571428571428572,
            "bin_end": 0.11428571428571428,
            "count": 0
           },
           {
            "bin_start": 0.11428571428571428,
            "bin_end": 0.14285714285714285,
            "count": 1
           },
           {
            "bin_start": 0.14285714285714285,
            "bin_end": 0.17142857142857143,
            "count": 0
           },
           {
            "bin_start": 0.17142857142857143,
            "bin_end": 0.19999999999999998,
            "count": 0
           },
           {
            "bin_start": 0.19999999999999998,
            "bin_end": 0.22857142857142856,
            "count": 0
           },
           {
            "bin_start": 0.22857142857142856,
            "bin_end": 0.2571428571428571,
            "count": 0
           },
           {
            "bin_start": 0.2571428571428571,
            "bin_end": 0.2857142857142857,
            "count": 2
           }
          ]
         }
        },
        {
         "name": "feature50",
         "dtype": "float64",
         "stats": {
          "unique_count": 3,
          "nan_count": 0,
          "min": "0.0517241379310344",
          "max": "0.1954023103448275",
          "histogram": [
           {
            "bin_start": 0.0517241379310344,
            "bin_end": 0.0660919551724137,
            "count": 1
           },
           {
            "bin_start": 0.0660919551724137,
            "bin_end": 0.08045977241379301,
            "count": 0
           },
           {
            "bin_start": 0.08045977241379301,
            "bin_end": 0.09482758965517232,
            "count": 0
           },
           {
            "bin_start": 0.09482758965517232,
            "bin_end": 0.10919540689655163,
            "count": 0
           },
           {
            "bin_start": 0.10919540689655163,
            "bin_end": 0.12356322413793094,
            "count": 0
           },
           {
            "bin_start": 0.12356322413793094,
            "bin_end": 0.13793104137931025,
            "count": 2
           },
           {
            "bin_start": 0.13793104137931025,
            "bin_end": 0.15229885862068956,
            "count": 0
           },
           {
            "bin_start": 0.15229885862068956,
            "bin_end": 0.16666667586206887,
            "count": 0
           },
           {
            "bin_start": 0.16666667586206887,
            "bin_end": 0.18103449310344819,
            "count": 0
           },
           {
            "bin_start": 0.18103449310344819,
            "bin_end": 0.1954023103448275,
            "count": 2
           }
          ]
         }
        },
        {
         "name": "feature51",
         "dtype": "float64",
         "stats": {
          "unique_count": 1,
          "nan_count": 0,
          "min": "0.0",
          "max": "0.0",
          "histogram": [
           {
            "bin_start": -0.5,
            "bin_end": -0.4,
            "count": 0
           },
           {
            "bin_start": -0.4,
            "bin_end": -0.3,
            "count": 0
           },
           {
            "bin_start": -0.3,
            "bin_end": -0.19999999999999996,
            "count": 0
           },
           {
            "bin_start": -0.19999999999999996,
            "bin_end": -0.09999999999999998,
            "count": 0
           },
           {
            "bin_start": -0.09999999999999998,
            "bin_end": 0,
            "count": 0
           },
           {
            "bin_start": 0,
            "bin_end": 0.10000000000000009,
            "count": 5
           },
           {
            "bin_start": 0.10000000000000009,
            "bin_end": 0.20000000000000007,
            "count": 0
           },
           {
            "bin_start": 0.20000000000000007,
            "bin_end": 0.30000000000000004,
            "count": 0
           },
           {
            "bin_start": 0.30000000000000004,
            "bin_end": 0.4,
            "count": 0
           },
           {
            "bin_start": 0.4,
            "bin_end": 0.5,
            "count": 0
           }
          ]
         }
        },
        {
         "name": "feature52",
         "dtype": "float64",
         "stats": {
          "unique_count": 1,
          "nan_count": 0,
          "min": "0.0",
          "max": "0.0",
          "histogram": [
           {
            "bin_start": -0.5,
            "bin_end": -0.4,
            "count": 0
           },
           {
            "bin_start": -0.4,
            "bin_end": -0.3,
            "count": 0
           },
           {
            "bin_start": -0.3,
            "bin_end": -0.19999999999999996,
            "count": 0
           },
           {
            "bin_start": -0.19999999999999996,
            "bin_end": -0.09999999999999998,
            "count": 0
           },
           {
            "bin_start": -0.09999999999999998,
            "bin_end": 0,
            "count": 0
           },
           {
            "bin_start": 0,
            "bin_end": 0.10000000000000009,
            "count": 5
           },
           {
            "bin_start": 0.10000000000000009,
            "bin_end": 0.20000000000000007,
            "count": 0
           },
           {
            "bin_start": 0.20000000000000007,
            "bin_end": 0.30000000000000004,
            "count": 0
           },
           {
            "bin_start": 0.30000000000000004,
            "bin_end": 0.4,
            "count": 0
           },
           {
            "bin_start": 0.4,
            "bin_end": 0.5,
            "count": 0
           }
          ]
         }
        },
        {
         "name": "feature53",
         "dtype": "float64",
         "stats": {
          "unique_count": 1,
          "nan_count": 0,
          "min": "0.0",
          "max": "0.0",
          "histogram": [
           {
            "bin_start": -0.5,
            "bin_end": -0.4,
            "count": 0
           },
           {
            "bin_start": -0.4,
            "bin_end": -0.3,
            "count": 0
           },
           {
            "bin_start": -0.3,
            "bin_end": -0.19999999999999996,
            "count": 0
           },
           {
            "bin_start": -0.19999999999999996,
            "bin_end": -0.09999999999999998,
            "count": 0
           },
           {
            "bin_start": -0.09999999999999998,
            "bin_end": 0,
            "count": 0
           },
           {
            "bin_start": 0,
            "bin_end": 0.10000000000000009,
            "count": 5
           },
           {
            "bin_start": 0.10000000000000009,
            "bin_end": 0.20000000000000007,
            "count": 0
           },
           {
            "bin_start": 0.20000000000000007,
            "bin_end": 0.30000000000000004,
            "count": 0
           },
           {
            "bin_start": 0.30000000000000004,
            "bin_end": 0.4,
            "count": 0
           },
           {
            "bin_start": 0.4,
            "bin_end": 0.5,
            "count": 0
           }
          ]
         }
        },
        {
         "name": "feature54",
         "dtype": "float64",
         "stats": {
          "unique_count": 2,
          "nan_count": 0,
          "min": "0.0",
          "max": "1.0",
          "histogram": [
           {
            "bin_start": 0,
            "bin_end": 0.1,
            "count": 1
           },
           {
            "bin_start": 0.1,
            "bin_end": 0.2,
            "count": 0
           },
           {
            "bin_start": 0.2,
            "bin_end": 0.30000000000000004,
            "count": 0
           },
           {
            "bin_start": 0.30000000000000004,
            "bin_end": 0.4,
            "count": 0
           },
           {
            "bin_start": 0.4,
            "bin_end": 0.5,
            "count": 0
           },
           {
            "bin_start": 0.5,
            "bin_end": 0.6000000000000001,
            "count": 0
           },
           {
            "bin_start": 0.6000000000000001,
            "bin_end": 0.7000000000000001,
            "count": 0
           },
           {
            "bin_start": 0.7000000000000001,
            "bin_end": 0.8,
            "count": 0
           },
           {
            "bin_start": 0.8,
            "bin_end": 0.9,
            "count": 0
           },
           {
            "bin_start": 0.9,
            "bin_end": 1,
            "count": 4
           }
          ]
         }
        },
        {
         "name": "feature55",
         "dtype": "float64",
         "stats": {
          "unique_count": 3,
          "nan_count": 0,
          "min": "0.0",
          "max": "0.3",
          "histogram": [
           {
            "bin_start": 0,
            "bin_end": 0.03,
            "count": 1
           },
           {
            "bin_start": 0.03,
            "bin_end": 0.06,
            "count": 0
           },
           {
            "bin_start": 0.06,
            "bin_end": 0.09,
            "count": 0
           },
           {
            "bin_start": 0.09,
            "bin_end": 0.12,
            "count": 2
           },
           {
            "bin_start": 0.12,
            "bin_end": 0.15,
            "count": 0
           },
           {
            "bin_start": 0.15,
            "bin_end": 0.18,
            "count": 0
           },
           {
            "bin_start": 0.18,
            "bin_end": 0.21,
            "count": 0
           },
           {
            "bin_start": 0.21,
            "bin_end": 0.24,
            "count": 0
           },
           {
            "bin_start": 0.24,
            "bin_end": 0.27,
            "count": 0
           },
           {
            "bin_start": 0.27,
            "bin_end": 0.3,
            "count": 2
           }
          ]
         }
        },
        {
         "name": "feature56",
         "dtype": "float64",
         "stats": {
          "unique_count": 1,
          "nan_count": 0,
          "min": "1.0",
          "max": "1.0",
          "histogram": [
           {
            "bin_start": 0.5,
            "bin_end": 0.6,
            "count": 0
           },
           {
            "bin_start": 0.6,
            "bin_end": 0.7,
            "count": 0
           },
           {
            "bin_start": 0.7,
            "bin_end": 0.8,
            "count": 0
           },
           {
            "bin_start": 0.8,
            "bin_end": 0.9,
            "count": 0
           },
           {
            "bin_start": 0.9,
            "bin_end": 1,
            "count": 0
           },
           {
            "bin_start": 1,
            "bin_end": 1.1,
            "count": 5
           },
           {
            "bin_start": 1.1,
            "bin_end": 1.2000000000000002,
            "count": 0
           },
           {
            "bin_start": 1.2000000000000002,
            "bin_end": 1.3,
            "count": 0
           },
           {
            "bin_start": 1.3,
            "bin_end": 1.4,
            "count": 0
           },
           {
            "bin_start": 1.4,
            "bin_end": 1.5,
            "count": 0
           }
          ]
         }
        },
        {
         "name": "feature57",
         "dtype": "float64",
         "stats": {
          "unique_count": 5,
          "nan_count": 0,
          "min": "0.1752577319587628",
          "max": "0.9484536082474226",
          "histogram": [
           {
            "bin_start": 0.1752577319587628,
            "bin_end": 0.25257731958762875,
            "count": 1
           },
           {
            "bin_start": 0.25257731958762875,
            "bin_end": 0.3298969072164948,
            "count": 0
           },
           {
            "bin_start": 0.3298969072164948,
            "bin_end": 0.4072164948453607,
            "count": 1
           },
           {
            "bin_start": 0.4072164948453607,
            "bin_end": 0.48453608247422675,
            "count": 1
           },
           {
            "bin_start": 0.48453608247422675,
            "bin_end": 0.5618556701030927,
            "count": 0
           },
           {
            "bin_start": 0.5618556701030927,
            "bin_end": 0.6391752577319587,
            "count": 0
           },
           {
            "bin_start": 0.6391752577319587,
            "bin_end": 0.7164948453608248,
            "count": 1
           },
           {
            "bin_start": 0.7164948453608248,
            "bin_end": 0.7938144329896907,
            "count": 0
           },
           {
            "bin_start": 0.7938144329896907,
            "bin_end": 0.8711340206185566,
            "count": 0
           },
           {
            "bin_start": 0.8711340206185566,
            "bin_end": 0.9484536082474226,
            "count": 1
           }
          ]
         }
        },
        {
         "name": "feature58",
         "dtype": "int64",
         "stats": {
          "unique_count": 2,
          "nan_count": 0,
          "min": "1",
          "max": "2",
          "histogram": [
           {
            "bin_start": 1,
            "bin_end": 1.1,
            "count": 3
           },
           {
            "bin_start": 1.1,
            "bin_end": 1.2,
            "count": 0
           },
           {
            "bin_start": 1.2,
            "bin_end": 1.3,
            "count": 0
           },
           {
            "bin_start": 1.3,
            "bin_end": 1.4,
            "count": 0
           },
           {
            "bin_start": 1.4,
            "bin_end": 1.5,
            "count": 0
           },
           {
            "bin_start": 1.5,
            "bin_end": 1.6,
            "count": 0
           },
           {
            "bin_start": 1.6,
            "bin_end": 1.7000000000000002,
            "count": 0
           },
           {
            "bin_start": 1.7000000000000002,
            "bin_end": 1.8,
            "count": 0
           },
           {
            "bin_start": 1.8,
            "bin_end": 1.9,
            "count": 0
           },
           {
            "bin_start": 1.9,
            "bin_end": 2,
            "count": 2
           }
          ]
         }
        },
        {
         "name": "feature59",
         "dtype": "int64",
         "stats": {
          "unique_count": 3,
          "nan_count": 0,
          "min": "0",
          "max": "2",
          "histogram": [
           {
            "bin_start": 0,
            "bin_end": 0.2,
            "count": 1
           },
           {
            "bin_start": 0.2,
            "bin_end": 0.4,
            "count": 0
           },
           {
            "bin_start": 0.4,
            "bin_end": 0.6000000000000001,
            "count": 0
           },
           {
            "bin_start": 0.6000000000000001,
            "bin_end": 0.8,
            "count": 0
           },
           {
            "bin_start": 0.8,
            "bin_end": 1,
            "count": 0
           },
           {
            "bin_start": 1,
            "bin_end": 1.2000000000000002,
            "count": 1
           },
           {
            "bin_start": 1.2000000000000002,
            "bin_end": 1.4000000000000001,
            "count": 0
           },
           {
            "bin_start": 1.4000000000000001,
            "bin_end": 1.6,
            "count": 0
           },
           {
            "bin_start": 1.6,
            "bin_end": 1.8,
            "count": 0
           },
           {
            "bin_start": 1.8,
            "bin_end": 2,
            "count": 3
           }
          ]
         }
        },
        {
         "name": "feature60",
         "dtype": "int64",
         "stats": {
          "unique_count": 3,
          "nan_count": 0,
          "min": "0",
          "max": "2",
          "histogram": [
           {
            "bin_start": 0,
            "bin_end": 0.2,
            "count": 1
           },
           {
            "bin_start": 0.2,
            "bin_end": 0.4,
            "count": 0
           },
           {
            "bin_start": 0.4,
            "bin_end": 0.6000000000000001,
            "count": 0
           },
           {
            "bin_start": 0.6000000000000001,
            "bin_end": 0.8,
            "count": 0
           },
           {
            "bin_start": 0.8,
            "bin_end": 1,
            "count": 0
           },
           {
            "bin_start": 1,
            "bin_end": 1.2000000000000002,
            "count": 1
           },
           {
            "bin_start": 1.2000000000000002,
            "bin_end": 1.4000000000000001,
            "count": 0
           },
           {
            "bin_start": 1.4000000000000001,
            "bin_end": 1.6,
            "count": 0
           },
           {
            "bin_start": 1.6,
            "bin_end": 1.8,
            "count": 0
           },
           {
            "bin_start": 1.8,
            "bin_end": 2,
            "count": 3
           }
          ]
         }
        },
        {
         "name": "feature61",
         "dtype": "int64",
         "stats": {
          "unique_count": 3,
          "nan_count": 0,
          "min": "3",
          "max": "7",
          "histogram": [
           {
            "bin_start": 3,
            "bin_end": 3.4,
            "count": 2
           },
           {
            "bin_start": 3.4,
            "bin_end": 3.8,
            "count": 0
           },
           {
            "bin_start": 3.8,
            "bin_end": 4.2,
            "count": 2
           },
           {
            "bin_start": 4.2,
            "bin_end": 4.6,
            "count": 0
           },
           {
            "bin_start": 4.6,
            "bin_end": 5,
            "count": 0
           },
           {
            "bin_start": 5,
            "bin_end": 5.4,
            "count": 0
           },
           {
            "bin_start": 5.4,
            "bin_end": 5.800000000000001,
            "count": 0
           },
           {
            "bin_start": 5.800000000000001,
            "bin_end": 6.2,
            "count": 0
           },
           {
            "bin_start": 6.2,
            "bin_end": 6.6,
            "count": 0
           },
           {
            "bin_start": 6.6,
            "bin_end": 7,
            "count": 1
           }
          ]
         }
        },
        {
         "name": "feature62",
         "dtype": "int64",
         "stats": {
          "unique_count": 2,
          "nan_count": 0,
          "min": "0",
          "max": "2",
          "histogram": [
           {
            "bin_start": 0,
            "bin_end": 0.2,
            "count": 1
           },
           {
            "bin_start": 0.2,
            "bin_end": 0.4,
            "count": 0
           },
           {
            "bin_start": 0.4,
            "bin_end": 0.6000000000000001,
            "count": 0
           },
           {
            "bin_start": 0.6000000000000001,
            "bin_end": 0.8,
            "count": 0
           },
           {
            "bin_start": 0.8,
            "bin_end": 1,
            "count": 0
           },
           {
            "bin_start": 1,
            "bin_end": 1.2000000000000002,
            "count": 0
           },
           {
            "bin_start": 1.2000000000000002,
            "bin_end": 1.4000000000000001,
            "count": 0
           },
           {
            "bin_start": 1.4000000000000001,
            "bin_end": 1.6,
            "count": 0
           },
           {
            "bin_start": 1.6,
            "bin_end": 1.8,
            "count": 0
           },
           {
            "bin_start": 1.8,
            "bin_end": 2,
            "count": 4
           }
          ]
         }
        },
        {
         "name": "feature63",
         "dtype": "int64",
         "stats": {
          "unique_count": 1,
          "nan_count": 0,
          "min": "0",
          "max": "0",
          "histogram": [
           {
            "bin_start": -0.5,
            "bin_end": -0.4,
            "count": 0
           },
           {
            "bin_start": -0.4,
            "bin_end": -0.3,
            "count": 0
           },
           {
            "bin_start": -0.3,
            "bin_end": -0.19999999999999996,
            "count": 0
           },
           {
            "bin_start": -0.19999999999999996,
            "bin_end": -0.09999999999999998,
            "count": 0
           },
           {
            "bin_start": -0.09999999999999998,
            "bin_end": 0,
            "count": 0
           },
           {
            "bin_start": 0,
            "bin_end": 0.10000000000000009,
            "count": 5
           },
           {
            "bin_start": 0.10000000000000009,
            "bin_end": 0.20000000000000007,
            "count": 0
           },
           {
            "bin_start": 0.20000000000000007,
            "bin_end": 0.30000000000000004,
            "count": 0
           },
           {
            "bin_start": 0.30000000000000004,
            "bin_end": 0.4,
            "count": 0
           },
           {
            "bin_start": 0.4,
            "bin_end": 0.5,
            "count": 0
           }
          ]
         }
        },
        {
         "name": "feature64",
         "dtype": "int64",
         "stats": {
          "unique_count": 1,
          "nan_count": 0,
          "min": "0",
          "max": "0",
          "histogram": [
           {
            "bin_start": -0.5,
            "bin_end": -0.4,
            "count": 0
           },
           {
            "bin_start": -0.4,
            "bin_end": -0.3,
            "count": 0
           },
           {
            "bin_start": -0.3,
            "bin_end": -0.19999999999999996,
            "count": 0
           },
           {
            "bin_start": -0.19999999999999996,
            "bin_end": -0.09999999999999998,
            "count": 0
           },
           {
            "bin_start": -0.09999999999999998,
            "bin_end": 0,
            "count": 0
           },
           {
            "bin_start": 0,
            "bin_end": 0.10000000000000009,
            "count": 5
           },
           {
            "bin_start": 0.10000000000000009,
            "bin_end": 0.20000000000000007,
            "count": 0
           },
           {
            "bin_start": 0.20000000000000007,
            "bin_end": 0.30000000000000004,
            "count": 0
           },
           {
            "bin_start": 0.30000000000000004,
            "bin_end": 0.4,
            "count": 0
           },
           {
            "bin_start": 0.4,
            "bin_end": 0.5,
            "count": 0
           }
          ]
         }
        },
        {
         "name": "feature65",
         "dtype": "int64",
         "stats": {
          "unique_count": 2,
          "nan_count": 0,
          "min": "1",
          "max": "2",
          "histogram": [
           {
            "bin_start": 1,
            "bin_end": 1.1,
            "count": 4
           },
           {
            "bin_start": 1.1,
            "bin_end": 1.2,
            "count": 0
           },
           {
            "bin_start": 1.2,
            "bin_end": 1.3,
            "count": 0
           },
           {
            "bin_start": 1.3,
            "bin_end": 1.4,
            "count": 0
           },
           {
            "bin_start": 1.4,
            "bin_end": 1.5,
            "count": 0
           },
           {
            "bin_start": 1.5,
            "bin_end": 1.6,
            "count": 0
           },
           {
            "bin_start": 1.6,
            "bin_end": 1.7000000000000002,
            "count": 0
           },
           {
            "bin_start": 1.7000000000000002,
            "bin_end": 1.8,
            "count": 0
           },
           {
            "bin_start": 1.8,
            "bin_end": 1.9,
            "count": 0
           },
           {
            "bin_start": 1.9,
            "bin_end": 2,
            "count": 1
           }
          ]
         }
        },
        {
         "name": "feature66",
         "dtype": "int64",
         "stats": {
          "unique_count": 1,
          "nan_count": 0,
          "min": "1",
          "max": "1",
          "histogram": [
           {
            "bin_start": 0.5,
            "bin_end": 0.6,
            "count": 0
           },
           {
            "bin_start": 0.6,
            "bin_end": 0.7,
            "count": 0
           },
           {
            "bin_start": 0.7,
            "bin_end": 0.8,
            "count": 0
           },
           {
            "bin_start": 0.8,
            "bin_end": 0.9,
            "count": 0
           },
           {
            "bin_start": 0.9,
            "bin_end": 1,
            "count": 0
           },
           {
            "bin_start": 1,
            "bin_end": 1.1,
            "count": 5
           },
           {
            "bin_start": 1.1,
            "bin_end": 1.2000000000000002,
            "count": 0
           },
           {
            "bin_start": 1.2000000000000002,
            "bin_end": 1.3,
            "count": 0
           },
           {
            "bin_start": 1.3,
            "bin_end": 1.4,
            "count": 0
           },
           {
            "bin_start": 1.4,
            "bin_end": 1.5,
            "count": 0
           }
          ]
         }
        },
        {
         "name": "feature67",
         "dtype": "int64",
         "stats": {
          "unique_count": 2,
          "nan_count": 0,
          "min": "0",
          "max": "4",
          "histogram": [
           {
            "bin_start": 0,
            "bin_end": 0.4,
            "count": 3
           },
           {
            "bin_start": 0.4,
            "bin_end": 0.8,
            "count": 0
           },
           {
            "bin_start": 0.8,
            "bin_end": 1.2000000000000002,
            "count": 0
           },
           {
            "bin_start": 1.2000000000000002,
            "bin_end": 1.6,
            "count": 0
           },
           {
            "bin_start": 1.6,
            "bin_end": 2,
            "count": 0
           },
           {
            "bin_start": 2,
            "bin_end": 2.4000000000000004,
            "count": 0
           },
           {
            "bin_start": 2.4000000000000004,
            "bin_end": 2.8000000000000003,
            "count": 0
           },
           {
            "bin_start": 2.8000000000000003,
            "bin_end": 3.2,
            "count": 0
           },
           {
            "bin_start": 3.2,
            "bin_end": 3.6,
            "count": 0
           },
           {
            "bin_start": 3.6,
            "bin_end": 4,
            "count": 2
           }
          ]
         }
        },
        {
         "name": "feature68",
         "dtype": "int64",
         "stats": {
          "unique_count": 2,
          "nan_count": 0,
          "min": "0",
          "max": "5",
          "histogram": [
           {
            "bin_start": 0,
            "bin_end": 0.5,
            "count": 4
           },
           {
            "bin_start": 0.5,
            "bin_end": 1,
            "count": 0
           },
           {
            "bin_start": 1,
            "bin_end": 1.5,
            "count": 0
           },
           {
            "bin_start": 1.5,
            "bin_end": 2,
            "count": 0
           },
           {
            "bin_start": 2,
            "bin_end": 2.5,
            "count": 0
           },
           {
            "bin_start": 2.5,
            "bin_end": 3,
            "count": 0
           },
           {
            "bin_start": 3,
            "bin_end": 3.5,
            "count": 0
           },
           {
            "bin_start": 3.5,
            "bin_end": 4,
            "count": 0
           },
           {
            "bin_start": 4,
            "bin_end": 4.5,
            "count": 0
           },
           {
            "bin_start": 4.5,
            "bin_end": 5,
            "count": 1
           }
          ]
         }
        },
        {
         "name": "feature69",
         "dtype": "int64",
         "stats": {
          "unique_count": 2,
          "nan_count": 0,
          "min": "0",
          "max": "1",
          "histogram": [
           {
            "bin_start": 0,
            "bin_end": 0.1,
            "count": 4
           },
           {
            "bin_start": 0.1,
            "bin_end": 0.2,
            "count": 0
           },
           {
            "bin_start": 0.2,
            "bin_end": 0.30000000000000004,
            "count": 0
           },
           {
            "bin_start": 0.30000000000000004,
            "bin_end": 0.4,
            "count": 0
           },
           {
            "bin_start": 0.4,
            "bin_end": 0.5,
            "count": 0
           },
           {
            "bin_start": 0.5,
            "bin_end": 0.6000000000000001,
            "count": 0
           },
           {
            "bin_start": 0.6000000000000001,
            "bin_end": 0.7000000000000001,
            "count": 0
           },
           {
            "bin_start": 0.7000000000000001,
            "bin_end": 0.8,
            "count": 0
           },
           {
            "bin_start": 0.8,
            "bin_end": 0.9,
            "count": 0
           },
           {
            "bin_start": 0.9,
            "bin_end": 1,
            "count": 1
           }
          ]
         }
        },
        {
         "name": "feature70",
         "dtype": "int64",
         "stats": {
          "unique_count": 1,
          "nan_count": 0,
          "min": "0",
          "max": "0",
          "histogram": [
           {
            "bin_start": -0.5,
            "bin_end": -0.4,
            "count": 0
           },
           {
            "bin_start": -0.4,
            "bin_end": -0.3,
            "count": 0
           },
           {
            "bin_start": -0.3,
            "bin_end": -0.19999999999999996,
            "count": 0
           },
           {
            "bin_start": -0.19999999999999996,
            "bin_end": -0.09999999999999998,
            "count": 0
           },
           {
            "bin_start": -0.09999999999999998,
            "bin_end": 0,
            "count": 0
           },
           {
            "bin_start": 0,
            "bin_end": 0.10000000000000009,
            "count": 5
           },
           {
            "bin_start": 0.10000000000000009,
            "bin_end": 0.20000000000000007,
            "count": 0
           },
           {
            "bin_start": 0.20000000000000007,
            "bin_end": 0.30000000000000004,
            "count": 0
           },
           {
            "bin_start": 0.30000000000000004,
            "bin_end": 0.4,
            "count": 0
           },
           {
            "bin_start": 0.4,
            "bin_end": 0.5,
            "count": 0
           }
          ]
         }
        },
        {
         "name": "feature71",
         "dtype": "int64",
         "stats": {
          "unique_count": 1,
          "nan_count": 0,
          "min": "0",
          "max": "0",
          "histogram": [
           {
            "bin_start": -0.5,
            "bin_end": -0.4,
            "count": 0
           },
           {
            "bin_start": -0.4,
            "bin_end": -0.3,
            "count": 0
           },
           {
            "bin_start": -0.3,
            "bin_end": -0.19999999999999996,
            "count": 0
           },
           {
            "bin_start": -0.19999999999999996,
            "bin_end": -0.09999999999999998,
            "count": 0
           },
           {
            "bin_start": -0.09999999999999998,
            "bin_end": 0,
            "count": 0
           },
           {
            "bin_start": 0,
            "bin_end": 0.10000000000000009,
            "count": 5
           },
           {
            "bin_start": 0.10000000000000009,
            "bin_end": 0.20000000000000007,
            "count": 0
           },
           {
            "bin_start": 0.20000000000000007,
            "bin_end": 0.30000000000000004,
            "count": 0
           },
           {
            "bin_start": 0.30000000000000004,
            "bin_end": 0.4,
            "count": 0
           },
           {
            "bin_start": 0.4,
            "bin_end": 0.5,
            "count": 0
           }
          ]
         }
        },
        {
         "name": "label",
         "dtype": "int64",
         "stats": {
          "unique_count": 1,
          "nan_count": 0,
          "min": "3",
          "max": "3",
          "histogram": [
           {
            "bin_start": 2.5,
            "bin_end": 2.6,
            "count": 0
           },
           {
            "bin_start": 2.6,
            "bin_end": 2.7,
            "count": 0
           },
           {
            "bin_start": 2.7,
            "bin_end": 2.8,
            "count": 0
           },
           {
            "bin_start": 2.8,
            "bin_end": 2.9,
            "count": 0
           },
           {
            "bin_start": 2.9,
            "bin_end": 3,
            "count": 0
           },
           {
            "bin_start": 3,
            "bin_end": 3.1,
            "count": 5
           },
           {
            "bin_start": 3.1,
            "bin_end": 3.2,
            "count": 0
           },
           {
            "bin_start": 3.2,
            "bin_end": 3.3,
            "count": 0
           },
           {
            "bin_start": 3.3,
            "bin_end": 3.4,
            "count": 0
           },
           {
            "bin_start": 3.4,
            "bin_end": 3.5,
            "count": 0
           }
          ]
         }
        },
        {
         "name": "_deepnote_index_column",
         "dtype": "int64"
        }
       ],
       "rows": [
        {
         "feature0": 0.3022447668788747,
         "feature1": 0,
         "feature2": 0.2,
         "feature3": 0,
         "feature4": 1,
         "feature5": 1,
         "feature6": 0,
         "feature7": 0,
         "feature8": 0,
         "feature9": 0.125,
         "feature10": 0.125,
         "feature11": 0,
         "feature12": 0,
         "feature13": 0,
         "feature14": 0,
         "feature15": 0,
         "feature16": 0,
         "feature17": 0.4761904761904761,
         "feature18": 0,
         "feature19": 0,
         "feature20": 0,
         "feature21": 1,
         "feature22": 0,
         "feature23": 0,
         "feature24": 0,
         "feature25": 0,
         "feature26": 1,
         "feature27": 0,
         "feature28": 0,
         "feature29": 0,
         "feature30": 1,
         "feature31": 0,
         "feature32": 0,
         "feature33": 0,
         "feature34": 0,
         "feature35": 0,
         "feature36": 0,
         "feature37": 0,
         "feature38": 0,
         "feature39": 0,
         "feature40": 0,
         "feature41": 0,
         "feature42": 0,
         "feature43": 0.1111111111111111,
         "feature44": 0,
         "feature45": 0,
         "feature46": 10,
         "feature47": 0,
         "feature48": 0.2702702702702703,
         "feature49": 0,
         "feature50": 0.1379310344827586,
         "feature51": 0,
         "feature52": 0,
         "feature53": 0,
         "feature54": 1,
         "feature55": 0.1,
         "feature56": 1,
         "feature57": 0.4432989690721649,
         "feature58": 1,
         "feature59": 0,
         "feature60": 0,
         "feature61": 3,
         "feature62": 2,
         "feature63": 0,
         "feature64": 0,
         "feature65": 2,
         "feature66": 1,
         "feature67": 0,
         "feature68": 0,
         "feature69": 1,
         "feature70": 0,
         "feature71": 0,
         "label": 3,
         "_deepnote_index_column": 0
        },
        {
         "feature0": -0.2242977092712486,
         "feature1": 0,
         "feature2": 0.3,
         "feature3": 0,
         "feature4": 1,
         "feature5": 1,
         "feature6": 1,
         "feature7": 0,
         "feature8": 0,
         "feature9": 0.125,
         "feature10": 0.125,
         "feature11": 0,
         "feature12": 0,
         "feature13": 0,
         "feature14": 0,
         "feature15": 0,
         "feature16": 0,
         "feature17": 0.5714285714285714,
         "feature18": 0.1,
         "feature19": 0,
         "feature20": 0,
         "feature21": 1,
         "feature22": 0,
         "feature23": 0,
         "feature24": 0,
         "feature25": 0,
         "feature26": 1,
         "feature27": 0,
         "feature28": 0,
         "feature29": 0,
         "feature30": 1,
         "feature31": 0,
         "feature32": 0,
         "feature33": 0,
         "feature34": 0,
         "feature35": 0,
         "feature36": 0,
         "feature37": 0,
         "feature38": 0,
         "feature39": 0,
         "feature40": 0,
         "feature41": 0,
         "feature42": 0,
         "feature43": 0.1111111111111111,
         "feature44": 0.3333333333333333,
         "feature45": 8,
         "feature46": 12,
         "feature47": 0,
         "feature48": 0.3243243243243243,
         "feature49": 0,
         "feature50": 0.1379310344827586,
         "feature51": 0,
         "feature52": 0,
         "feature53": 0,
         "feature54": 1,
         "feature55": 0.1,
         "feature56": 1,
         "feature57": 0.6907216494845361,
         "feature58": 1,
         "feature59": 1,
         "feature60": 1,
         "feature61": 7,
         "feature62": 2,
         "feature63": 0,
         "feature64": 0,
         "feature65": 1,
         "feature66": 1,
         "feature67": 4,
         "feature68": 5,
         "feature69": 0,
         "feature70": 0,
         "feature71": 0,
         "label": 3,
         "_deepnote_index_column": 1
        },
        {
         "feature0": 0.2065097712152159,
         "feature1": 0,
         "feature2": 0.7000000000000001,
         "feature3": 0,
         "feature4": 1,
         "feature5": 1,
         "feature6": 0,
         "feature7": 0,
         "feature8": 0,
         "feature9": 0,
         "feature10": 0,
         "feature11": 0,
         "feature12": 0.1666666666666666,
         "feature13": 0.125,
         "feature14": 0,
         "feature15": 0,
         "feature16": 0,
         "feature17": 0.5238095238095237,
         "feature18": 0.1,
         "feature19": 0,
         "feature20": 1,
         "feature21": 0,
         "feature22": 1,
         "feature23": 0,
         "feature24": 0,
         "feature25": 0,
         "feature26": 0,
         "feature27": 0,
         "feature28": 1,
         "feature29": 0,
         "feature30": 1,
         "feature31": 0,
         "feature32": 0,
         "feature33": 0,
         "feature34": 0,
         "feature35": 0,
         "feature36": 0,
         "feature37": 0,
         "feature38": 0,
         "feature39": 0,
         "feature40": 0,
         "feature41": 0,
         "feature42": 0,
         "feature43": 0.1111111111111111,
         "feature44": 0.3333333333333333,
         "feature45": 8,
         "feature46": 0,
         "feature47": 11,
         "feature48": 0.2972972972972973,
         "feature49": 0.1428571428571428,
         "feature50": 0.0517241379310344,
         "feature51": 0,
         "feature52": 0,
         "feature53": 0,
         "feature54": 0,
         "feature55": 0,
         "feature56": 1,
         "feature57": 0.9484536082474226,
         "feature58": 1,
         "feature59": 2,
         "feature60": 2,
         "feature61": 4,
         "feature62": 0,
         "feature63": 0,
         "feature64": 0,
         "feature65": 1,
         "feature66": 1,
         "feature67": 4,
         "feature68": 0,
         "feature69": 0,
         "feature70": 0,
         "feature71": 0,
         "label": 3,
         "_deepnote_index_column": 2
        },
        {
         "feature0": 0.2065097712152159,
         "feature1": 0,
         "feature2": 0.4,
         "feature3": 0,
         "feature4": 1,
         "feature5": 1,
         "feature6": 1,
         "feature7": 0,
         "feature8": 0,
         "feature9": 0.25,
         "feature10": 0.25,
         "feature11": 0.1666666666666666,
         "feature12": 0.1666666666666666,
         "feature13": 0.25,
         "feature14": 0.1428571428571428,
         "feature15": 0.2,
         "feature16": 0.2142857142857142,
         "feature17": 0.4285714285714285,
         "feature18": 0.2,
         "feature19": 0.25,
         "feature20": 0,
         "feature21": 1,
         "feature22": 0,
         "feature23": 0,
         "feature24": 0,
         "feature25": 0,
         "feature26": 0,
         "feature27": 0,
         "feature28": 0,
         "feature29": 1,
         "feature30": 0,
         "feature31": 0,
         "feature32": 1,
         "feature33": 0,
         "feature34": 0,
         "feature35": 0,
         "feature36": 0,
         "feature37": 0,
         "feature38": 0,
         "feature39": 0,
         "feature40": 0,
         "feature41": 0,
         "feature42": 0.2222222222222222,
         "feature43": 0.2222222222222222,
         "feature44": 0,
         "feature45": 1,
         "feature46": 11,
         "feature47": 0,
         "feature48": 0.2972972972972973,
         "feature49": 0.2857142857142857,
         "feature50": 0.1954023103448275,
         "feature51": 0,
         "feature52": 0,
         "feature53": 0,
         "feature54": 1,
         "feature55": 0.3,
         "feature56": 1,
         "feature57": 0.1752577319587628,
         "feature58": 2,
         "feature59": 2,
         "feature60": 2,
         "feature61": 3,
         "feature62": 2,
         "feature63": 0,
         "feature64": 0,
         "feature65": 1,
         "feature66": 1,
         "feature67": 0,
         "feature68": 0,
         "feature69": 0,
         "feature70": 0,
         "feature71": 0,
         "label": 3,
         "_deepnote_index_column": 3
        },
        {
         "feature0": 0.2065097712152159,
         "feature1": 0,
         "feature2": 0.4,
         "feature3": 0,
         "feature4": 1,
         "feature5": 1,
         "feature6": 1,
         "feature7": 0,
         "feature8": 0,
         "feature9": 0.25,
         "feature10": 0.25,
         "feature11": 0.1666666666666666,
         "feature12": 0.1666666666666666,
         "feature13": 0.25,
         "feature14": 0.1428571428571428,
         "feature15": 0.2,
         "feature16": 0.2142857142857142,
         "feature17": 0.5238095238095237,
         "feature18": 0.1,
         "feature19": 0.25,
         "feature20": 0,
         "feature21": 0,
         "feature22": 1,
         "feature23": 0,
         "feature24": 1,
         "feature25": 0,
         "feature26": 0,
         "feature27": 0,
         "feature28": 0,
         "feature29": 0,
         "feature30": 0,
         "feature31": 1,
         "feature32": 0,
         "feature33": 0,
         "feature34": 0,
         "feature35": 0,
         "feature36": 0,
         "feature37": 0,
         "feature38": 0,
         "feature39": 0,
         "feature40": 0,
         "feature41": 0,
         "feature42": 0.2222222222222222,
         "feature43": 0.2222222222222222,
         "feature44": 0,
         "feature45": 1,
         "feature46": 11,
         "feature47": 0,
         "feature48": 0.2972972972972973,
         "feature49": 0.2857142857142857,
         "feature50": 0.1954023103448275,
         "feature51": 0,
         "feature52": 0,
         "feature53": 0,
         "feature54": 1,
         "feature55": 0.3,
         "feature56": 1,
         "feature57": 0.3814432989690721,
         "feature58": 2,
         "feature59": 2,
         "feature60": 2,
         "feature61": 4,
         "feature62": 2,
         "feature63": 0,
         "feature64": 0,
         "feature65": 1,
         "feature66": 1,
         "feature67": 0,
         "feature68": 0,
         "feature69": 0,
         "feature70": 0,
         "feature71": 0,
         "label": 3,
         "_deepnote_index_column": 4
        }
       ]
      },
      "text/plain": "   feature0  feature1  feature2  feature3  feature4  feature5  feature6  \\\n0  0.302245       0.0       0.2       0.0       1.0       1.0       0.0   \n1 -0.224298       0.0       0.3       0.0       1.0       1.0       1.0   \n2  0.206510       0.0       0.7       0.0       1.0       1.0       0.0   \n3  0.206510       0.0       0.4       0.0       1.0       1.0       1.0   \n4  0.206510       0.0       0.4       0.0       1.0       1.0       1.0   \n\n   feature7  feature8  feature9  ...  feature63  feature64  feature65  \\\n0       0.0       0.0     0.125  ...          0          0          2   \n1       0.0       0.0     0.125  ...          0          0          1   \n2       0.0       0.0     0.000  ...          0          0          1   \n3       0.0       0.0     0.250  ...          0          0          1   \n4       0.0       0.0     0.250  ...          0          0          1   \n\n   feature66  feature67  feature68  feature69  feature70  feature71  label  \n0          1          0          0          1          0          0      3  \n1          1          4          5          0          0          0      3  \n2          1          4          0          0          0          0      3  \n3          1          0          0          0          0          0      3  \n4          1          0          0          0          0          0      3  \n\n[5 rows x 73 columns]",
      "text/html": "<div>\n<style scoped>\n    .dataframe tbody tr th:only-of-type {\n        vertical-align: middle;\n    }\n\n    .dataframe tbody tr th {\n        vertical-align: top;\n    }\n\n    .dataframe thead th {\n        text-align: right;\n    }\n</style>\n<table border=\"1\" class=\"dataframe\">\n  <thead>\n    <tr style=\"text-align: right;\">\n      <th></th>\n      <th>feature0</th>\n      <th>feature1</th>\n      <th>feature2</th>\n      <th>feature3</th>\n      <th>feature4</th>\n      <th>feature5</th>\n      <th>feature6</th>\n      <th>feature7</th>\n      <th>feature8</th>\n      <th>feature9</th>\n      <th>...</th>\n      <th>feature63</th>\n      <th>feature64</th>\n      <th>feature65</th>\n      <th>feature66</th>\n      <th>feature67</th>\n      <th>feature68</th>\n      <th>feature69</th>\n      <th>feature70</th>\n      <th>feature71</th>\n      <th>label</th>\n    </tr>\n  </thead>\n  <tbody>\n    <tr>\n      <th>0</th>\n      <td>0.302245</td>\n      <td>0.0</td>\n      <td>0.2</td>\n      <td>0.0</td>\n      <td>1.0</td>\n      <td>1.0</td>\n      <td>0.0</td>\n      <td>0.0</td>\n      <td>0.0</td>\n      <td>0.125</td>\n      <td>...</td>\n      <td>0</td>\n      <td>0</td>\n      <td>2</td>\n      <td>1</td>\n      <td>0</td>\n      <td>0</td>\n      <td>1</td>\n      <td>0</td>\n      <td>0</td>\n      <td>3</td>\n    </tr>\n    <tr>\n      <th>1</th>\n      <td>-0.224298</td>\n      <td>0.0</td>\n      <td>0.3</td>\n      <td>0.0</td>\n      <td>1.0</td>\n      <td>1.0</td>\n      <td>1.0</td>\n      <td>0.0</td>\n      <td>0.0</td>\n      <td>0.125</td>\n      <td>...</td>\n      <td>0</td>\n      <td>0</td>\n      <td>1</td>\n      <td>1</td>\n      <td>4</td>\n      <td>5</td>\n      <td>0</td>\n      <td>0</td>\n      <td>0</td>\n      <td>3</td>\n    </tr>\n    <tr>\n      <th>2</th>\n      <td>0.206510</td>\n      <td>0.0</td>\n      <td>0.7</td>\n      <td>0.0</td>\n      <td>1.0</td>\n      <td>1.0</td>\n      <td>0.0</td>\n      <td>0.0</td>\n      <td>0.0</td>\n      <td>0.000</td>\n      <td>...</td>\n      <td>0</td>\n      <td>0</td>\n      <td>1</td>\n      <td>1</td>\n      <td>4</td>\n      <td>0</td>\n      <td>0</td>\n      <td>0</td>\n      <td>0</td>\n      <td>3</td>\n    </tr>\n    <tr>\n      <th>3</th>\n      <td>0.206510</td>\n      <td>0.0</td>\n      <td>0.4</td>\n      <td>0.0</td>\n      <td>1.0</td>\n      <td>1.0</td>\n      <td>1.0</td>\n      <td>0.0</td>\n      <td>0.0</td>\n      <td>0.250</td>\n      <td>...</td>\n      <td>0</td>\n      <td>0</td>\n      <td>1</td>\n      <td>1</td>\n      <td>0</td>\n      <td>0</td>\n      <td>0</td>\n      <td>0</td>\n      <td>0</td>\n      <td>3</td>\n    </tr>\n    <tr>\n      <th>4</th>\n      <td>0.206510</td>\n      <td>0.0</td>\n      <td>0.4</td>\n      <td>0.0</td>\n      <td>1.0</td>\n      <td>1.0</td>\n      <td>1.0</td>\n      <td>0.0</td>\n      <td>0.0</td>\n      <td>0.250</td>\n      <td>...</td>\n      <td>0</td>\n      <td>0</td>\n      <td>1</td>\n      <td>1</td>\n      <td>0</td>\n      <td>0</td>\n      <td>0</td>\n      <td>0</td>\n      <td>0</td>\n      <td>3</td>\n    </tr>\n  </tbody>\n</table>\n<p>5 rows × 73 columns</p>\n</div>"
     },
     "metadata": {}
    }
   ]
  },
  {
   "cell_type": "markdown",
   "source": "# Feature Engineering and Data Processing",
   "metadata": {
    "cell_id": "298e5ab4-275b-415d-ac9d-383f38df4205",
    "tags": [],
    "is_collapsed": false,
    "deepnote_cell_type": "text-cell-h1"
   }
  },
  {
   "cell_type": "markdown",
   "source": "# Modelling",
   "metadata": {
    "cell_id": "0966c75e-a50e-4c3b-87a3-45aadec6e30a",
    "tags": [],
    "is_collapsed": false,
    "deepnote_cell_type": "text-cell-h1"
   }
  },
  {
   "cell_type": "code",
   "metadata": {
    "cell_id": "bbc41a46-d96d-4225-83fd-8977c24761ad",
    "tags": [],
    "deepnote_to_be_reexecuted": false,
    "source_hash": "cf30178",
    "execution_start": 1650258710114,
    "execution_millis": 4,
    "deepnote_cell_type": "code",
    "deepnote_cell_height": 148
   },
   "source": "X = df.iloc[:, :-1]\nY = df[\"label\"]\nprint(\"original distribution:\",Counter(Y))",
   "execution_count": null,
   "outputs": [
    {
     "name": "stdout",
     "text": "original distribution: Counter({3: 5996, 1: 1597, 2: 1209, 0: 755})\n",
     "output_type": "stream"
    }
   ]
  },
  {
   "cell_type": "code",
   "source": "",
   "metadata": {
    "cell_id": "321ba42c-d9e7-4dc4-a5e7-9f9f3b0decc0",
    "deepnote_to_be_reexecuted": false,
    "source_hash": "b623e53d",
    "execution_start": 1650258710116,
    "execution_millis": 1,
    "deepnote_cell_type": "visualization"
   },
   "execution_count": null,
   "outputs": []
  },
  {
   "cell_type": "code",
   "metadata": {
    "cell_id": "ff621e7d-1e3c-4802-a27f-ffc1f1fb98e2",
    "tags": [],
    "deepnote_to_be_reexecuted": false,
    "source_hash": "72ae4929",
    "execution_start": 1650258710119,
    "execution_millis": 331,
    "deepnote_cell_type": "code",
    "deepnote_cell_height": 184
   },
   "source": "#upsamlping \nsmo = SMOTE(random_state=42)\nX_smo, Y_smo = smo.fit_resample(X, Y)\nprint(\"smote distribution:\",Counter(Y_smo))\nX,Y=X_smo, Y_smo#using smote dataset",
   "execution_count": null,
   "outputs": [
    {
     "name": "stdout",
     "text": "smote distribution: Counter({3: 5996, 1: 5996, 2: 5996, 0: 5996})\n",
     "output_type": "stream"
    }
   ]
  },
  {
   "cell_type": "code",
   "metadata": {
    "cell_id": "bea6d287-dbec-42b9-b083-a2599ac7c910",
    "tags": [],
    "deepnote_to_be_reexecuted": false,
    "source_hash": "35991c15",
    "execution_start": 1650258710454,
    "execution_millis": 4506,
    "owner_user_id": "1e899dee-29f9-4275-a6ea-e33c24f3b20c",
    "deepnote_cell_type": "code",
    "deepnote_cell_height": 586
   },
   "source": "model = RandomForestClassifier(class_weight = \"balanced\", random_state=10)\nX_train, X_test, y_train, y_test = train_test_split(X, Y,shuffle = \"True\", test_size =0.20, stratify = Y)\nmodel.fit(X_train, y_train)\ny_test_pred = model.predict(X_test)\n\nmacro_F1_metric=[]\nscore = accuracy_score(y_test, y_test_pred)\nprint(\"Accuracy score is \" + str(score))\nreport=classification_report(y_test, y_test_pred)\nmacro_F1_metric.append(eval(report.split(\"\\n\")[8].split()[4]))\nwith open('RF_data/RF_model_{}.pkl'.format(macro_F1_metric[-1]), 'wb') as f:\n    pickle.dump(model, f)#store as pickle\nprint('model saved to RF_data/RF_model_{}.pkl'.format(macro_F1_metric[-1]))\nprint(report)",
   "execution_count": null,
   "outputs": [
    {
     "name": "stdout",
     "text": "Accuracy score is 0.9768605378361476\nmodel saved to RF_data/RF_model_0.98.pkl\n              precision    recall  f1-score   support\n\n           0       0.98      0.99      0.98      1200\n           1       0.98      0.96      0.97      1199\n           2       0.98      0.97      0.98      1199\n           3       0.96      0.99      0.97      1199\n\n    accuracy                           0.98      4797\n   macro avg       0.98      0.98      0.98      4797\nweighted avg       0.98      0.98      0.98      4797\n\n",
     "output_type": "stream"
    }
   ]
  },
  {
   "cell_type": "code",
   "metadata": {
    "cell_id": "d91b9699-3f84-4c25-840b-3a6d6cde31b7",
    "tags": [],
    "deepnote_to_be_reexecuted": false,
    "source_hash": "90114173",
    "execution_start": 1650258714677,
    "execution_millis": 1291,
    "deepnote_cell_type": "code",
    "deepnote_cell_height": 464.984375,
    "deepnote_output_heights": [
     null,
     21.1875
    ]
   },
   "source": "with open(('RF_data/RF_model_0.89.pkl'), 'rb+') as f:\n    model = pickle.load(f)#load model\ngenerate_sumbit_csv(model,'RF')",
   "execution_count": null,
   "outputs": [
    {
     "name": "stderr",
     "text": "/shared-libs/python3.7/py/lib/python3.7/site-packages/sklearn/base.py:338: UserWarning: Trying to unpickle estimator DecisionTreeClassifier from version 1.0.1 when using version 1.0.2. This might lead to breaking code or invalid results. Use at your own risk. For more info please refer to:\nhttps://scikit-learn.org/stable/modules/model_persistence.html#security-maintainability-limitations\n  UserWarning,\n/shared-libs/python3.7/py/lib/python3.7/site-packages/sklearn/base.py:338: UserWarning: Trying to unpickle estimator RandomForestClassifier from version 1.0.1 when using version 1.0.2. This might lead to breaking code or invalid results. Use at your own risk. For more info please refer to:\nhttps://scikit-learn.org/stable/modules/model_persistence.html#security-maintainability-limitations\n  UserWarning,\n/shared-libs/python3.7/py/lib/python3.7/site-packages/sklearn/base.py:451: UserWarning: X does not have valid feature names, but RandomForestClassifier was fitted with feature names\n  \"X does not have valid feature names, but\"\nsave to data/test_submit_RF_2022-04-18 05:11:55.957175.csv\ndistribution:\n1 637\n2 2649\n3 354\n4 20216\n",
     "output_type": "stream"
    },
    {
     "output_type": "execute_result",
     "execution_count": 6,
     "data": {
      "text/plain": "True"
     },
     "metadata": {}
    }
   ]
  },
  {
   "cell_type": "markdown",
   "source": "Feature importances",
   "metadata": {
    "cell_id": "d6f1b3ee-e473-4244-8f1d-c77d2734ff99",
    "tags": [],
    "deepnote_cell_type": "markdown",
    "deepnote_cell_height": 52.390625
   }
  },
  {
   "cell_type": "code",
   "metadata": {
    "cell_id": "5b43ae8d-1316-418d-98bc-4ab1917a6185",
    "tags": [],
    "deepnote_to_be_reexecuted": false,
    "source_hash": "5d065072",
    "execution_start": 1650258715974,
    "execution_millis": 405,
    "deepnote_table_state": {
     "pageSize": 50,
     "pageIndex": 0,
     "filters": [],
     "sortBy": []
    },
    "deepnote_table_loading": false,
    "deepnote_table_invalid": false,
    "deepnote_cell_type": "code",
    "deepnote_cell_height": 1382,
    "deepnote_output_heights": [
     null,
     463
    ]
   },
   "source": "score = accuracy_score(y_test, y_test_pred)\nprint(\"Accuracy score is \" + str(score))\n\n# Build the plot\ncm = confusion_matrix(y_test, y_test_pred)\nplt.figure(figsize=(16,7))\nsb.set(font_scale=1.4)\nsb.heatmap(cm, annot=True, annot_kws={'size':18},cmap=plt.cm.Greens, fmt=\".0f\")\n\nplt.xlabel('Predicted label')\nplt.ylabel('True label')\nplt.title('Confusion Matrix for Random Forest Model')\nplt.show()\n\nprint(classification_report(y_test, y_test_pred))\n\nc0 = cm[0][0]/(cm[0][0]+cm[0][1]+cm[0][2]+cm[0][3])\nc1 = cm[1][1]/(cm[1][0]+cm[1][1]+cm[1][2]+cm[1][3])\nc2 = cm[2][2]/(cm[2][0]+cm[2][1]+cm[2][2]+cm[2][3])\nc3 = cm[3][3]/(cm[3][0]+cm[3][1]+cm[3][2]+cm[3][3])\n\n\nprint(\"Accuracy of class 0 is \", c0)\nprint(\"Accuracy of class 1 is \", c1)\nprint(\"Accuracy of class 2 is \", c2)\nprint(\"Accuracy of class 3 is \", c3)",
   "execution_count": null,
   "outputs": [
    {
     "name": "stdout",
     "text": "Accuracy score is 0.9768605378361476\n",
     "output_type": "stream"
    },
    {
     "data": {
      "text/plain": "<Figure size 1152x504 with 2 Axes>",
      "image/png": "[encoded data removed]"
     },
     "metadata": {
      "needs_background": "light",
      "image/png": {
       "width": 887,
       "height": 461
      }
     },
     "output_type": "display_data"
    },
    {
     "name": "stdout",
     "text": "              precision    recall  f1-score   support\n\n           0       0.98      0.99      0.98      1200\n           1       0.98      0.96      0.97      1199\n           2       0.98      0.97      0.98      1199\n           3       0.96      0.99      0.97      1199\n\n    accuracy                           0.98      4797\n   macro avg       0.98      0.98      0.98      4797\nweighted avg       0.98      0.98      0.98      4797\n\nAccuracy of class 0 is  0.9875\nAccuracy of class 1 is  0.9649708090075062\nAccuracy of class 2 is  0.969140950792327\nAccuracy of class 3 is  0.9858215179316097\n",
     "output_type": "stream"
    }
   ]
  },
  {
   "cell_type": "code",
   "metadata": {
    "cell_id": "8d08d500-758e-4994-9396-f4c6e0ec504c",
    "tags": [],
    "deepnote_to_be_reexecuted": false,
    "source_hash": "b623e53d",
    "execution_start": 1650258716376,
    "execution_millis": 2,
    "deepnote_cell_type": "code",
    "deepnote_cell_height": 81
   },
   "source": "",
   "execution_count": null,
   "outputs": []
  },
  {
   "cell_type": "markdown",
   "source": "<a style='text-decoration:none;line-height:16px;display:flex;color:#5B5B62;padding:10px;justify-content:end;' href='https://deepnote.com?utm_source=created-in-deepnote-cell&projectId=f92fbbcf-fa92-4caa-ad57-5cd0b8c2766a' target=\"_blank\">\n<img alt='Created in deepnote.com' style='display:inline;max-height:16px;margin:0px;margin-right:7.5px;' src='data:image/svg+xml;base64,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' > </img>\nCreated in <span style='font-weight:600;margin-left:4px;'>Deepnote</span></a>",
   "metadata": {
    "tags": [],
    "created_in_deepnote_cell": true,
    "deepnote_cell_type": "markdown"
   }
  }
 ],
 "nbformat": 4,
 "nbformat_minor": 2,
 "metadata": {
  "orig_nbformat": 2,
  "deepnote": {
   "is_reactive": false
  },
  "deepnote_notebook_id": "e63a63d5-7c87-45e8-bd10-9ea2c6e4ce05",
  "deepnote_execution_queue": []
 }
}